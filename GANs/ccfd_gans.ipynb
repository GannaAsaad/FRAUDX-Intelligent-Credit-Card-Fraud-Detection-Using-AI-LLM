{
 "cells": [
  {
   "cell_type": "code",
   "execution_count": 1,
   "metadata": {},
   "outputs": [],
   "source": [
    "import warnings\n",
    "warnings.filterwarnings(\"ignore\")"
   ]
  },
  {
   "cell_type": "code",
   "execution_count": 2,
   "metadata": {},
   "outputs": [],
   "source": [
    "from sdv.single_table import CTGANSynthesizer\n",
    "from sdv.metadata import SingleTableMetadata"
   ]
  },
  {
   "cell_type": "code",
   "execution_count": 3,
   "metadata": {},
   "outputs": [],
   "source": [
    "import numpy as np\n",
    "import pandas as pd"
   ]
  },
  {
   "cell_type": "code",
   "execution_count": 4,
   "metadata": {},
   "outputs": [
    {
     "name": "stdout",
     "output_type": "stream",
     "text": [
      "First 5 records:   trans_date_trans_time            cc_num                      merchant  \\\n",
      "0   2019-01-01 00:00:18  2703186189652095          Rippin, Kub and Mann   \n",
      "1   2019-01-01 00:00:44      630423337322     Heller, Gutmann and Zieme   \n",
      "2   2019-01-01 00:00:51    38859492057661                Lind-Buckridge   \n",
      "3   2019-01-01 00:01:16  3534093764340240  Kutch, Hermiston and Farrell   \n",
      "4   2019-01-01 00:03:06   375534208663984                 Keeling-Crist   \n",
      "\n",
      "        category     amt  gender            city state  city_pop  is_fraud  \\\n",
      "0       misc_net    4.97       1  Moravian Falls    NC      3495         0   \n",
      "1    grocery_pos  107.25       1          Orient    WA       149         0   \n",
      "2  entertainment  220.10       0      Malad City    ID      4154         0   \n",
      "3  gas_transport   45.00       0         Boulder    MT      1939         0   \n",
      "4       misc_pos   41.97       0        Doe Hill    VA        99         0   \n",
      "\n",
      "   age           Region              job_category  \n",
      "0   31            South                Healthcare  \n",
      "1   41         Far West                 Education  \n",
      "2   57  Rocky Mountains  Environment/Conservation  \n",
      "3   52  Rocky Mountains                     Legal  \n",
      "4   33            South                Healthcare  \n"
     ]
    }
   ],
   "source": [
    "import kagglehub\n",
    "from kagglehub import KaggleDatasetAdapter\n",
    "\n",
    "file_path = \"behavioral_data.csv\"\n",
    "\n",
    "# Load the latest version\n",
    "df = kagglehub.load_dataset(\n",
    "  KaggleDatasetAdapter.PANDAS,\n",
    "  \"abdelrahmanmahmoud22/behavioral-data\",\n",
    "  file_path,\n",
    ")\n",
    "\n",
    "print(\"First 5 records:\", df.head())"
   ]
  },
  {
   "cell_type": "code",
   "execution_count": null,
   "metadata": {},
   "outputs": [
    {
     "name": "stdout",
     "output_type": "stream",
     "text": [
      "Number of fraud transactions in df: 9591\n",
      "Number of non-fraud transactions in df: 1823081\n"
     ]
    }
   ],
   "source": [
    "df_fraud = df[df['is_fraud'] == 1].copy()\n",
    "df_non_fraud = df[df['is_fraud'] == 0].copy()\n",
    "\n",
    "print(f\"Number of fraud transactions in df: {len(df_fraud)}\")\n",
    "print(f\"Number of non-fraud transactions in df: {len(df_non_fraud)}\")"
   ]
  },
  {
   "cell_type": "code",
   "execution_count": 11,
   "metadata": {},
   "outputs": [
    {
     "name": "stdout",
     "output_type": "stream",
     "text": [
      "Total operations to run: 931\n",
      "\n",
      "[1/931] Generating data for cc_num: 4613314721966\n"
     ]
    },
    {
     "name": "stderr",
     "output_type": "stream",
     "text": [
      "Gen. (0.52) | Discrim. (0.04):   6%|▌         | 6/100 [00:00<00:01, 51.29it/s]"
     ]
    },
    {
     "name": "stderr",
     "output_type": "stream",
     "text": [
      "Gen. (1.59) | Discrim. (0.53): 100%|██████████| 100/100 [00:02<00:00, 39.25it/s]\n"
     ]
    },
    {
     "name": "stdout",
     "output_type": "stream",
     "text": [
      "> Generated 1530 records for cc_num: 4613314721966\n",
      "\n",
      "[2/931] Generating data for cc_num: 340187018810220\n"
     ]
    },
    {
     "name": "stderr",
     "output_type": "stream",
     "text": [
      "Gen. (0.62) | Discrim. (-0.09): 100%|██████████| 100/100 [00:02<00:00, 43.69it/s]\n"
     ]
    },
    {
     "name": "stdout",
     "output_type": "stream",
     "text": [
      "> Generated 0 records for cc_num: 340187018810220\n",
      "\n",
      "[3/931] Generating data for cc_num: 4922710831011201\n"
     ]
    },
    {
     "name": "stderr",
     "output_type": "stream",
     "text": [
      "Gen. (0.62) | Discrim. (-0.13): 100%|██████████| 100/100 [00:02<00:00, 47.34it/s]\n"
     ]
    },
    {
     "name": "stdout",
     "output_type": "stream",
     "text": [
      "> Generated 1020 records for cc_num: 4922710831011201\n",
      "\n",
      "[4/931] Generating data for cc_num: 341546199006537\n"
     ]
    },
    {
     "name": "stderr",
     "output_type": "stream",
     "text": [
      "Gen. (0.78) | Discrim. (-0.09): 100%|██████████| 100/100 [00:02<00:00, 43.30it/s]\n"
     ]
    },
    {
     "name": "stdout",
     "output_type": "stream",
     "text": [
      "> Generated 1531 records for cc_num: 341546199006537\n",
      "\n",
      "[5/931] Generating data for cc_num: 30328384440870\n"
     ]
    },
    {
     "name": "stderr",
     "output_type": "stream",
     "text": [
      "Gen. (-0.12) | Discrim. (-0.39): 100%|██████████| 100/100 [00:02<00:00, 48.15it/s]\n"
     ]
    },
    {
     "name": "stdout",
     "output_type": "stream",
     "text": [
      "> Generated 1530 records for cc_num: 30328384440870\n",
      "\n",
      "[6/931] Generating data for cc_num: 3597980945245815\n"
     ]
    },
    {
     "name": "stderr",
     "output_type": "stream",
     "text": [
      "Gen. (-0.41) | Discrim. (-0.02): 100%|██████████| 100/100 [00:02<00:00, 40.86it/s]\n"
     ]
    },
    {
     "name": "stdout",
     "output_type": "stream",
     "text": [
      "> Generated 510 records for cc_num: 3597980945245815\n",
      "\n",
      "[7/931] Generating data for cc_num: 4806443445305\n"
     ]
    },
    {
     "name": "stderr",
     "output_type": "stream",
     "text": [
      "Gen. (0.46) | Discrim. (-0.16): 100%|██████████| 100/100 [00:02<00:00, 44.70it/s]\n"
     ]
    },
    {
     "name": "stdout",
     "output_type": "stream",
     "text": [
      "> Generated 510 records for cc_num: 4806443445305\n",
      "\n",
      "[8/931] Generating data for cc_num: 342035762534413\n"
     ]
    },
    {
     "name": "stderr",
     "output_type": "stream",
     "text": [
      "Gen. (-0.47) | Discrim. (-0.08): 100%|██████████| 100/100 [00:02<00:00, 46.89it/s]\n"
     ]
    },
    {
     "name": "stdout",
     "output_type": "stream",
     "text": [
      "> Generated 510 records for cc_num: 342035762534413\n",
      "\n",
      "[9/931] Generating data for cc_num: 4859525594182537\n"
     ]
    },
    {
     "name": "stderr",
     "output_type": "stream",
     "text": [
      "Gen. (0.99) | Discrim. (-0.06): 100%|██████████| 100/100 [00:02<00:00, 48.57it/s]\n"
     ]
    },
    {
     "name": "stdout",
     "output_type": "stream",
     "text": [
      "> Generated 1018 records for cc_num: 4859525594182537\n",
      "\n",
      "[10/931] Generating data for cc_num: 6526955903501879\n"
     ]
    },
    {
     "name": "stderr",
     "output_type": "stream",
     "text": [
      "Gen. (-0.50) | Discrim. (-0.09): 100%|██████████| 100/100 [00:02<00:00, 42.61it/s]\n"
     ]
    },
    {
     "name": "stdout",
     "output_type": "stream",
     "text": [
      "> Generated 510 records for cc_num: 6526955903501879\n",
      "\n",
      "[11/931] Generating data for cc_num: 4587577161160601\n"
     ]
    },
    {
     "name": "stderr",
     "output_type": "stream",
     "text": [
      "Gen. (0.29) | Discrim. (0.03): 100%|██████████| 100/100 [00:02<00:00, 41.57it/s]\n"
     ]
    },
    {
     "name": "stdout",
     "output_type": "stream",
     "text": [
      "> Generated 2041 records for cc_num: 4587577161160601\n",
      "\n",
      "[12/931] Generating data for cc_num: 2348245054386329\n"
     ]
    },
    {
     "name": "stderr",
     "output_type": "stream",
     "text": [
      "Gen. (0.73) | Discrim. (-0.28): 100%|██████████| 100/100 [00:01<00:00, 50.14it/s]\n"
     ]
    },
    {
     "name": "stdout",
     "output_type": "stream",
     "text": [
      "> Generated 1530 records for cc_num: 2348245054386329\n",
      "\n",
      "[13/931] Generating data for cc_num: 581686439828\n"
     ]
    },
    {
     "name": "stderr",
     "output_type": "stream",
     "text": [
      "Gen. (-0.05) | Discrim. (0.04): 100%|██████████| 100/100 [00:02<00:00, 49.15it/s]\n"
     ]
    },
    {
     "name": "stdout",
     "output_type": "stream",
     "text": [
      "> Generated 2550 records for cc_num: 581686439828\n",
      "\n",
      "[14/931] Generating data for cc_num: 4666314527820883145\n"
     ]
    },
    {
     "name": "stderr",
     "output_type": "stream",
     "text": [
      "Gen. (0.03) | Discrim. (0.21): 100%|██████████| 100/100 [00:02<00:00, 46.82it/s] \n"
     ]
    },
    {
     "name": "stdout",
     "output_type": "stream",
     "text": [
      "> Generated 510 records for cc_num: 4666314527820883145\n",
      "\n",
      "[15/931] Generating data for cc_num: 38797410705641\n"
     ]
    },
    {
     "name": "stderr",
     "output_type": "stream",
     "text": [
      "Gen. (0.10) | Discrim. (0.05): 100%|██████████| 100/100 [00:02<00:00, 40.40it/s] \n"
     ]
    },
    {
     "name": "stdout",
     "output_type": "stream",
     "text": [
      "> Generated 1531 records for cc_num: 38797410705641\n",
      "\n",
      "[16/931] Generating data for cc_num: 180031190491743\n"
     ]
    },
    {
     "name": "stderr",
     "output_type": "stream",
     "text": [
      "Gen. (0.58) | Discrim. (0.13): 100%|██████████| 100/100 [00:02<00:00, 38.79it/s]\n"
     ]
    },
    {
     "name": "stdout",
     "output_type": "stream",
     "text": [
      "> Generated 2548 records for cc_num: 180031190491743\n",
      "\n",
      "[17/931] Generating data for cc_num: 3536918668124647\n"
     ]
    },
    {
     "name": "stderr",
     "output_type": "stream",
     "text": [
      "Gen. (0.59) | Discrim. (-0.07): 100%|██████████| 100/100 [00:02<00:00, 47.00it/s]\n"
     ]
    },
    {
     "name": "stdout",
     "output_type": "stream",
     "text": [
      "> Generated 510 records for cc_num: 3536918668124647\n",
      "\n",
      "[18/931] Generating data for cc_num: 4789911625179723\n"
     ]
    },
    {
     "name": "stderr",
     "output_type": "stream",
     "text": [
      "Gen. (-0.29) | Discrim. (0.04): 100%|██████████| 100/100 [00:02<00:00, 43.18it/s]\n"
     ]
    },
    {
     "name": "stdout",
     "output_type": "stream",
     "text": [
      "> Generated 508 records for cc_num: 4789911625179723\n",
      "\n",
      "[19/931] Generating data for cc_num: 4979422371139333\n"
     ]
    },
    {
     "name": "stderr",
     "output_type": "stream",
     "text": [
      "Gen. (0.02) | Discrim. (-0.04): 100%|██████████| 100/100 [00:02<00:00, 40.57it/s]\n"
     ]
    },
    {
     "name": "stdout",
     "output_type": "stream",
     "text": [
      "> Generated 2039 records for cc_num: 4979422371139333\n",
      "\n",
      "[20/931] Generating data for cc_num: 4377338765909719\n"
     ]
    },
    {
     "name": "stderr",
     "output_type": "stream",
     "text": [
      "Gen. (0.64) | Discrim. (-0.01): 100%|██████████| 100/100 [00:02<00:00, 41.76it/s]\n"
     ]
    },
    {
     "name": "stdout",
     "output_type": "stream",
     "text": [
      "> Generated 2041 records for cc_num: 4377338765909719\n",
      "\n",
      "[21/931] Generating data for cc_num: 3595192916105588\n"
     ]
    },
    {
     "name": "stderr",
     "output_type": "stream",
     "text": [
      "Gen. (0.67) | Discrim. (-0.30): 100%|██████████| 100/100 [00:02<00:00, 41.46it/s]\n"
     ]
    },
    {
     "name": "stdout",
     "output_type": "stream",
     "text": [
      "> Generated 2549 records for cc_num: 3595192916105588\n",
      "\n",
      "[22/931] Generating data for cc_num: 3511058278399773\n"
     ]
    },
    {
     "name": "stderr",
     "output_type": "stream",
     "text": [
      "Gen. (-0.94) | Discrim. (-0.20): 100%|██████████| 100/100 [00:02<00:00, 49.74it/s]\n"
     ]
    },
    {
     "name": "stdout",
     "output_type": "stream",
     "text": [
      "> Generated 510 records for cc_num: 3511058278399773\n",
      "\n",
      "[23/931] Generating data for cc_num: 2383461948823908\n"
     ]
    },
    {
     "name": "stderr",
     "output_type": "stream",
     "text": [
      "Gen. (0.22) | Discrim. (-0.11): 100%|██████████| 100/100 [00:02<00:00, 42.15it/s]\n"
     ]
    },
    {
     "name": "stdout",
     "output_type": "stream",
     "text": [
      "> Generated 2041 records for cc_num: 2383461948823908\n",
      "\n",
      "[24/931] Generating data for cc_num: 6011366578560244\n"
     ]
    },
    {
     "name": "stderr",
     "output_type": "stream",
     "text": [
      "Gen. (0.44) | Discrim. (0.13): 100%|██████████| 100/100 [00:02<00:00, 39.90it/s]\n"
     ]
    },
    {
     "name": "stdout",
     "output_type": "stream",
     "text": [
      "> Generated 2042 records for cc_num: 6011366578560244\n",
      "\n",
      "[25/931] Generating data for cc_num: 4642255475285942\n"
     ]
    },
    {
     "name": "stderr",
     "output_type": "stream",
     "text": [
      "Gen. (-0.09) | Discrim. (0.02): 100%|██████████| 100/100 [00:02<00:00, 39.42it/s]\n"
     ]
    },
    {
     "name": "stdout",
     "output_type": "stream",
     "text": [
      "> Generated 3061 records for cc_num: 4642255475285942\n",
      "\n",
      "[26/931] Generating data for cc_num: 372246459334925\n"
     ]
    },
    {
     "name": "stderr",
     "output_type": "stream",
     "text": [
      "Gen. (0.08) | Discrim. (0.11): 100%|██████████| 100/100 [00:02<00:00, 47.12it/s] \n"
     ]
    },
    {
     "name": "stdout",
     "output_type": "stream",
     "text": [
      "> Generated 1531 records for cc_num: 372246459334925\n",
      "\n",
      "[27/931] Generating data for cc_num: 4586810168620942\n"
     ]
    },
    {
     "name": "stderr",
     "output_type": "stream",
     "text": [
      "Gen. (0.79) | Discrim. (0.03): 100%|██████████| 100/100 [00:02<00:00, 48.44it/s]\n"
     ]
    },
    {
     "name": "stdout",
     "output_type": "stream",
     "text": [
      "> Generated 3061 records for cc_num: 4586810168620942\n",
      "\n",
      "[28/931] Generating data for cc_num: 4220345354880\n"
     ]
    },
    {
     "name": "stderr",
     "output_type": "stream",
     "text": [
      "Gen. (-0.50) | Discrim. (-0.13): 100%|██████████| 100/100 [00:02<00:00, 39.89it/s]\n"
     ]
    },
    {
     "name": "stdout",
     "output_type": "stream",
     "text": [
      "> Generated 1531 records for cc_num: 4220345354880\n",
      "\n",
      "[29/931] Generating data for cc_num: 3541554378551366\n"
     ]
    },
    {
     "name": "stderr",
     "output_type": "stream",
     "text": [
      "Gen. (0.40) | Discrim. (-0.13): 100%|██████████| 100/100 [00:02<00:00, 42.69it/s]\n"
     ]
    },
    {
     "name": "stdout",
     "output_type": "stream",
     "text": [
      "> Generated 510 records for cc_num: 3541554378551366\n",
      "\n",
      "[30/931] Generating data for cc_num: 340951438290556\n"
     ]
    },
    {
     "name": "stderr",
     "output_type": "stream",
     "text": [
      "Gen. (0.73) | Discrim. (0.10): 100%|██████████| 100/100 [00:02<00:00, 42.12it/s]\n"
     ]
    },
    {
     "name": "stdout",
     "output_type": "stream",
     "text": [
      "> Generated 1531 records for cc_num: 340951438290556\n",
      "\n",
      "[31/931] Generating data for cc_num: 4277232699798846\n"
     ]
    },
    {
     "name": "stderr",
     "output_type": "stream",
     "text": [
      "Gen. (0.84) | Discrim. (-0.07): 100%|██████████| 100/100 [00:02<00:00, 44.64it/s]\n"
     ]
    },
    {
     "name": "stdout",
     "output_type": "stream",
     "text": [
      "> Generated 1530 records for cc_num: 4277232699798846\n",
      "\n",
      "[32/931] Generating data for cc_num: 3518669219150142\n"
     ]
    },
    {
     "name": "stderr",
     "output_type": "stream",
     "text": [
      "Gen. (0.59) | Discrim. (0.03): 100%|██████████| 100/100 [00:02<00:00, 44.00it/s]\n"
     ]
    },
    {
     "name": "stdout",
     "output_type": "stream",
     "text": [
      "> Generated 2546 records for cc_num: 3518669219150142\n",
      "\n",
      "[33/931] Generating data for cc_num: 180064817343047\n"
     ]
    },
    {
     "name": "stderr",
     "output_type": "stream",
     "text": [
      "Gen. (0.28) | Discrim. (-0.12): 100%|██████████| 100/100 [00:02<00:00, 41.83it/s]\n"
     ]
    },
    {
     "name": "stdout",
     "output_type": "stream",
     "text": [
      "> Generated 1529 records for cc_num: 180064817343047\n",
      "\n",
      "[34/931] Generating data for cc_num: 344709867813900\n"
     ]
    },
    {
     "name": "stderr",
     "output_type": "stream",
     "text": [
      "Gen. (0.01) | Discrim. (0.23): 100%|██████████| 100/100 [00:02<00:00, 42.31it/s] \n"
     ]
    },
    {
     "name": "stdout",
     "output_type": "stream",
     "text": [
      "> Generated 3059 records for cc_num: 344709867813900\n",
      "\n",
      "[35/931] Generating data for cc_num: 4257110907449569602\n"
     ]
    },
    {
     "name": "stderr",
     "output_type": "stream",
     "text": [
      "Gen. (0.73) | Discrim. (-0.23): 100%|██████████| 100/100 [00:02<00:00, 45.09it/s]\n"
     ]
    },
    {
     "name": "stdout",
     "output_type": "stream",
     "text": [
      "> Generated 0 records for cc_num: 4257110907449569602\n",
      "\n",
      "[36/931] Generating data for cc_num: 676234256292\n"
     ]
    },
    {
     "name": "stderr",
     "output_type": "stream",
     "text": [
      "Gen. (-0.15) | Discrim. (-0.18): 100%|██████████| 100/100 [00:02<00:00, 39.86it/s]\n"
     ]
    },
    {
     "name": "stdout",
     "output_type": "stream",
     "text": [
      "> Generated 508 records for cc_num: 676234256292\n",
      "\n",
      "[37/931] Generating data for cc_num: 4209696857872688515\n"
     ]
    },
    {
     "name": "stderr",
     "output_type": "stream",
     "text": [
      "Gen. (0.46) | Discrim. (0.01): 100%|██████████| 100/100 [00:02<00:00, 42.42it/s] \n"
     ]
    },
    {
     "name": "stdout",
     "output_type": "stream",
     "text": [
      "> Generated 510 records for cc_num: 4209696857872688515\n",
      "\n",
      "[38/931] Generating data for cc_num: 4247921790666\n"
     ]
    },
    {
     "name": "stderr",
     "output_type": "stream",
     "text": [
      "Gen. (0.02) | Discrim. (0.01): 100%|██████████| 100/100 [00:02<00:00, 47.68it/s] \n"
     ]
    },
    {
     "name": "stdout",
     "output_type": "stream",
     "text": [
      "> Generated 1526 records for cc_num: 4247921790666\n",
      "\n",
      "[39/931] Generating data for cc_num: 373213026644490\n"
     ]
    },
    {
     "name": "stderr",
     "output_type": "stream",
     "text": [
      "Gen. (0.79) | Discrim. (-0.08): 100%|██████████| 100/100 [00:02<00:00, 45.18it/s]\n"
     ]
    },
    {
     "name": "stdout",
     "output_type": "stream",
     "text": [
      "> Generated 508 records for cc_num: 373213026644490\n",
      "\n",
      "[40/931] Generating data for cc_num: 4155021259183870\n"
     ]
    },
    {
     "name": "stderr",
     "output_type": "stream",
     "text": [
      "Gen. (0.27) | Discrim. (-0.21): 100%|██████████| 100/100 [00:02<00:00, 49.03it/s]\n"
     ]
    },
    {
     "name": "stdout",
     "output_type": "stream",
     "text": [
      "> Generated 2040 records for cc_num: 4155021259183870\n",
      "\n",
      "[41/931] Generating data for cc_num: 3545578418030657\n"
     ]
    },
    {
     "name": "stderr",
     "output_type": "stream",
     "text": [
      "Gen. (0.21) | Discrim. (0.01): 100%|██████████| 100/100 [00:02<00:00, 43.54it/s]\n"
     ]
    },
    {
     "name": "stdout",
     "output_type": "stream",
     "text": [
      "> Generated 0 records for cc_num: 3545578418030657\n",
      "\n",
      "[42/931] Generating data for cc_num: 38817501916673\n"
     ]
    },
    {
     "name": "stderr",
     "output_type": "stream",
     "text": [
      "Gen. (0.09) | Discrim. (-0.14): 100%|██████████| 100/100 [00:02<00:00, 42.69it/s]\n"
     ]
    },
    {
     "name": "stdout",
     "output_type": "stream",
     "text": [
      "> Generated 0 records for cc_num: 38817501916673\n",
      "\n",
      "[43/931] Generating data for cc_num: 3575789281659026\n"
     ]
    },
    {
     "name": "stderr",
     "output_type": "stream",
     "text": [
      "Gen. (-0.15) | Discrim. (-0.16): 100%|██████████| 100/100 [00:02<00:00, 45.66it/s]\n"
     ]
    },
    {
     "name": "stdout",
     "output_type": "stream",
     "text": [
      "> Generated 3058 records for cc_num: 3575789281659026\n",
      "\n",
      "[44/931] Generating data for cc_num: 561942763351\n"
     ]
    },
    {
     "name": "stderr",
     "output_type": "stream",
     "text": [
      "Gen. (0.54) | Discrim. (0.19): 100%|██████████| 100/100 [00:02<00:00, 46.41it/s]\n"
     ]
    },
    {
     "name": "stdout",
     "output_type": "stream",
     "text": [
      "> Generated 1532 records for cc_num: 561942763351\n",
      "\n",
      "[45/931] Generating data for cc_num: 3543591270174051\n"
     ]
    },
    {
     "name": "stderr",
     "output_type": "stream",
     "text": [
      "Gen. (0.17) | Discrim. (0.03): 100%|██████████| 100/100 [00:02<00:00, 44.53it/s] \n"
     ]
    },
    {
     "name": "stdout",
     "output_type": "stream",
     "text": [
      "> Generated 2546 records for cc_num: 3543591270174051\n",
      "\n",
      "[46/931] Generating data for cc_num: 3550554389581384\n"
     ]
    },
    {
     "name": "stderr",
     "output_type": "stream",
     "text": [
      "Gen. (0.14) | Discrim. (-0.12): 100%|██████████| 100/100 [00:02<00:00, 49.54it/s]\n"
     ]
    },
    {
     "name": "stdout",
     "output_type": "stream",
     "text": [
      "> Generated 510 records for cc_num: 3550554389581384\n",
      "\n",
      "[47/931] Generating data for cc_num: 4734310647841293\n"
     ]
    },
    {
     "name": "stderr",
     "output_type": "stream",
     "text": [
      "Gen. (0.34) | Discrim. (0.12): 100%|██████████| 100/100 [00:02<00:00, 45.52it/s]\n"
     ]
    },
    {
     "name": "stdout",
     "output_type": "stream",
     "text": [
      "> Generated 0 records for cc_num: 4734310647841293\n",
      "\n",
      "[48/931] Generating data for cc_num: 4952583804639909\n"
     ]
    },
    {
     "name": "stderr",
     "output_type": "stream",
     "text": [
      "Gen. (0.54) | Discrim. (-0.16): 100%|██████████| 100/100 [00:02<00:00, 41.47it/s]\n"
     ]
    },
    {
     "name": "stdout",
     "output_type": "stream",
     "text": [
      "> Generated 1021 records for cc_num: 4952583804639909\n",
      "\n",
      "[49/931] Generating data for cc_num: 4687263141103\n"
     ]
    },
    {
     "name": "stderr",
     "output_type": "stream",
     "text": [
      "Gen. (0.60) | Discrim. (-0.24): 100%|██████████| 100/100 [00:02<00:00, 39.69it/s]\n"
     ]
    },
    {
     "name": "stdout",
     "output_type": "stream",
     "text": [
      "> Generated 509 records for cc_num: 4687263141103\n",
      "\n",
      "[50/931] Generating data for cc_num: 5580563567307107\n"
     ]
    },
    {
     "name": "stderr",
     "output_type": "stream",
     "text": [
      "Gen. (-0.52) | Discrim. (0.28): 100%|██████████| 100/100 [00:02<00:00, 39.91it/s]\n"
     ]
    },
    {
     "name": "stdout",
     "output_type": "stream",
     "text": [
      "> Generated 1019 records for cc_num: 5580563567307107\n",
      "\n",
      "[51/931] Generating data for cc_num: 3560797065840735\n"
     ]
    },
    {
     "name": "stderr",
     "output_type": "stream",
     "text": [
      "Gen. (-0.35) | Discrim. (0.02): 100%|██████████| 100/100 [00:02<00:00, 45.72it/s]\n"
     ]
    },
    {
     "name": "stdout",
     "output_type": "stream",
     "text": [
      "> Generated 3059 records for cc_num: 3560797065840735\n",
      "\n",
      "[52/931] Generating data for cc_num: 378262805520186\n"
     ]
    },
    {
     "name": "stderr",
     "output_type": "stream",
     "text": [
      "Gen. (0.48) | Discrim. (0.18): 100%|██████████| 100/100 [00:02<00:00, 40.02it/s]\n"
     ]
    },
    {
     "name": "stdout",
     "output_type": "stream",
     "text": [
      "> Generated 0 records for cc_num: 378262805520186\n",
      "\n",
      "[53/931] Generating data for cc_num: 213126662687660\n"
     ]
    },
    {
     "name": "stderr",
     "output_type": "stream",
     "text": [
      "Gen. (0.30) | Discrim. (0.04): 100%|██████████| 100/100 [00:02<00:00, 45.64it/s] \n"
     ]
    },
    {
     "name": "stdout",
     "output_type": "stream",
     "text": [
      "> Generated 1527 records for cc_num: 213126662687660\n",
      "\n",
      "[54/931] Generating data for cc_num: 4451952084362894\n"
     ]
    },
    {
     "name": "stderr",
     "output_type": "stream",
     "text": [
      "Gen. (0.05) | Discrim. (-0.22): 100%|██████████| 100/100 [00:02<00:00, 43.92it/s]\n"
     ]
    },
    {
     "name": "stdout",
     "output_type": "stream",
     "text": [
      "> Generated 2036 records for cc_num: 4451952084362894\n",
      "\n",
      "[55/931] Generating data for cc_num: 2269768987945882\n"
     ]
    },
    {
     "name": "stderr",
     "output_type": "stream",
     "text": [
      "Gen. (0.11) | Discrim. (0.12): 100%|██████████| 100/100 [00:02<00:00, 46.36it/s] \n"
     ]
    },
    {
     "name": "stdout",
     "output_type": "stream",
     "text": [
      "> Generated 1531 records for cc_num: 2269768987945882\n",
      "\n",
      "[56/931] Generating data for cc_num: 3544606805704278\n"
     ]
    },
    {
     "name": "stderr",
     "output_type": "stream",
     "text": [
      "Gen. (0.61) | Discrim. (-0.15): 100%|██████████| 100/100 [00:02<00:00, 40.96it/s]\n"
     ]
    },
    {
     "name": "stdout",
     "output_type": "stream",
     "text": [
      "> Generated 510 records for cc_num: 3544606805704278\n",
      "\n",
      "[57/931] Generating data for cc_num: 4707867759656333\n"
     ]
    },
    {
     "name": "stderr",
     "output_type": "stream",
     "text": [
      "Gen. (-0.38) | Discrim. (0.07): 100%|██████████| 100/100 [00:02<00:00, 41.89it/s]\n"
     ]
    },
    {
     "name": "stdout",
     "output_type": "stream",
     "text": [
      "> Generated 1531 records for cc_num: 4707867759656333\n",
      "\n",
      "[58/931] Generating data for cc_num: 180049032966888\n"
     ]
    },
    {
     "name": "stderr",
     "output_type": "stream",
     "text": [
      "Gen. (0.38) | Discrim. (0.01): 100%|██████████| 100/100 [00:02<00:00, 44.70it/s]\n"
     ]
    },
    {
     "name": "stdout",
     "output_type": "stream",
     "text": [
      "> Generated 2043 records for cc_num: 180049032966888\n",
      "\n",
      "[59/931] Generating data for cc_num: 577891228931\n"
     ]
    },
    {
     "name": "stderr",
     "output_type": "stream",
     "text": [
      "Gen. (0.80) | Discrim. (0.07): 100%|██████████| 100/100 [00:02<00:00, 41.73it/s]\n"
     ]
    },
    {
     "name": "stdout",
     "output_type": "stream",
     "text": [
      "> Generated 0 records for cc_num: 577891228931\n",
      "\n",
      "[60/931] Generating data for cc_num: 4488258847705225890\n"
     ]
    },
    {
     "name": "stderr",
     "output_type": "stream",
     "text": [
      "Gen. (0.56) | Discrim. (0.18): 100%|██████████| 100/100 [00:02<00:00, 42.62it/s]\n"
     ]
    },
    {
     "name": "stdout",
     "output_type": "stream",
     "text": [
      "> Generated 1530 records for cc_num: 4488258847705225890\n",
      "\n",
      "[61/931] Generating data for cc_num: 3564839259330465\n"
     ]
    },
    {
     "name": "stderr",
     "output_type": "stream",
     "text": [
      "Gen. (0.46) | Discrim. (0.40): 100%|██████████| 100/100 [00:02<00:00, 42.35it/s]\n"
     ]
    },
    {
     "name": "stdout",
     "output_type": "stream",
     "text": [
      "> Generated 2039 records for cc_num: 3564839259330465\n",
      "\n",
      "[62/931] Generating data for cc_num: 376028110684021\n"
     ]
    },
    {
     "name": "stderr",
     "output_type": "stream",
     "text": [
      "Gen. (0.47) | Discrim. (0.02): 100%|██████████| 100/100 [00:02<00:00, 42.06it/s]\n"
     ]
    },
    {
     "name": "stdout",
     "output_type": "stream",
     "text": [
      "> Generated 2038 records for cc_num: 376028110684021\n",
      "\n",
      "[63/931] Generating data for cc_num: 180017442990269\n"
     ]
    },
    {
     "name": "stderr",
     "output_type": "stream",
     "text": [
      "Gen. (0.28) | Discrim. (0.24): 100%|██████████| 100/100 [00:02<00:00, 42.44it/s]\n"
     ]
    },
    {
     "name": "stdout",
     "output_type": "stream",
     "text": [
      "> Generated 1021 records for cc_num: 180017442990269\n",
      "\n",
      "[64/931] Generating data for cc_num: 4669558618943766\n"
     ]
    },
    {
     "name": "stderr",
     "output_type": "stream",
     "text": [
      "Gen. (0.69) | Discrim. (-0.09): 100%|██████████| 100/100 [00:02<00:00, 41.94it/s]\n"
     ]
    },
    {
     "name": "stdout",
     "output_type": "stream",
     "text": [
      "> Generated 0 records for cc_num: 4669558618943766\n",
      "\n",
      "[65/931] Generating data for cc_num: 30561214688470\n"
     ]
    },
    {
     "name": "stderr",
     "output_type": "stream",
     "text": [
      "Gen. (0.24) | Discrim. (0.19): 100%|██████████| 100/100 [00:02<00:00, 40.75it/s]\n"
     ]
    },
    {
     "name": "stdout",
     "output_type": "stream",
     "text": [
      "> Generated 2034 records for cc_num: 30561214688470\n",
      "\n",
      "[66/931] Generating data for cc_num: 347073228412010\n"
     ]
    },
    {
     "name": "stderr",
     "output_type": "stream",
     "text": [
      "Gen. (0.87) | Discrim. (-0.04): 100%|██████████| 100/100 [00:02<00:00, 42.23it/s]\n"
     ]
    },
    {
     "name": "stdout",
     "output_type": "stream",
     "text": [
      "> Generated 1019 records for cc_num: 347073228412010\n",
      "\n",
      "[67/931] Generating data for cc_num: 4204237326785494\n"
     ]
    },
    {
     "name": "stderr",
     "output_type": "stream",
     "text": [
      "Gen. (0.65) | Discrim. (0.13): 100%|██████████| 100/100 [00:02<00:00, 40.83it/s]\n"
     ]
    },
    {
     "name": "stdout",
     "output_type": "stream",
     "text": [
      "> Generated 0 records for cc_num: 4204237326785494\n",
      "\n",
      "[68/931] Generating data for cc_num: 3520550088202337\n"
     ]
    },
    {
     "name": "stderr",
     "output_type": "stream",
     "text": [
      "Gen. (0.11) | Discrim. (0.19): 100%|██████████| 100/100 [00:02<00:00, 37.86it/s] \n"
     ]
    },
    {
     "name": "stdout",
     "output_type": "stream",
     "text": [
      "> Generated 1020 records for cc_num: 3520550088202337\n",
      "\n",
      "[69/931] Generating data for cc_num: 4714017207228610634\n"
     ]
    },
    {
     "name": "stderr",
     "output_type": "stream",
     "text": [
      "Gen. (-0.35) | Discrim. (0.09): 100%|██████████| 100/100 [00:02<00:00, 47.21it/s]\n"
     ]
    },
    {
     "name": "stdout",
     "output_type": "stream",
     "text": [
      "> Generated 0 records for cc_num: 4714017207228610634\n",
      "\n",
      "[70/931] Generating data for cc_num: 4210078554961359092\n"
     ]
    },
    {
     "name": "stderr",
     "output_type": "stream",
     "text": [
      "Gen. (0.80) | Discrim. (-0.02): 100%|██████████| 100/100 [00:02<00:00, 43.49it/s]\n"
     ]
    },
    {
     "name": "stdout",
     "output_type": "stream",
     "text": [
      "> Generated 1529 records for cc_num: 4210078554961359092\n",
      "\n",
      "[71/931] Generating data for cc_num: 2288748891690227\n"
     ]
    },
    {
     "name": "stderr",
     "output_type": "stream",
     "text": [
      "Gen. (-0.16) | Discrim. (0.13): 100%|██████████| 100/100 [00:02<00:00, 48.34it/s]\n"
     ]
    },
    {
     "name": "stdout",
     "output_type": "stream",
     "text": [
      "> Generated 509 records for cc_num: 2288748891690227\n",
      "\n",
      "[72/931] Generating data for cc_num: 503848303379\n"
     ]
    },
    {
     "name": "stderr",
     "output_type": "stream",
     "text": [
      "Gen. (0.28) | Discrim. (0.05): 100%|██████████| 100/100 [00:02<00:00, 44.90it/s]\n"
     ]
    },
    {
     "name": "stdout",
     "output_type": "stream",
     "text": [
      "> Generated 1533 records for cc_num: 503848303379\n",
      "\n",
      "[73/931] Generating data for cc_num: 6011603272871604\n"
     ]
    },
    {
     "name": "stderr",
     "output_type": "stream",
     "text": [
      "Gen. (0.45) | Discrim. (-0.20): 100%|██████████| 100/100 [00:01<00:00, 50.13it/s]\n"
     ]
    },
    {
     "name": "stdout",
     "output_type": "stream",
     "text": [
      "> Generated 1021 records for cc_num: 6011603272871604\n",
      "\n",
      "[74/931] Generating data for cc_num: 3566373869538620\n"
     ]
    },
    {
     "name": "stderr",
     "output_type": "stream",
     "text": [
      "Gen. (1.15) | Discrim. (0.33): 100%|██████████| 100/100 [00:01<00:00, 52.57it/s]\n"
     ]
    },
    {
     "name": "stdout",
     "output_type": "stream",
     "text": [
      "> Generated 509 records for cc_num: 3566373869538620\n",
      "\n",
      "[75/931] Generating data for cc_num: 213125815021702\n"
     ]
    },
    {
     "name": "stderr",
     "output_type": "stream",
     "text": [
      "Gen. (0.01) | Discrim. (0.17): 100%|██████████| 100/100 [00:02<00:00, 44.08it/s] \n"
     ]
    },
    {
     "name": "stdout",
     "output_type": "stream",
     "text": [
      "> Generated 1529 records for cc_num: 213125815021702\n",
      "\n",
      "[76/931] Generating data for cc_num: 180047222886866\n"
     ]
    },
    {
     "name": "stderr",
     "output_type": "stream",
     "text": [
      "Gen. (-0.23) | Discrim. (0.14): 100%|██████████| 100/100 [00:02<00:00, 45.69it/s]\n"
     ]
    },
    {
     "name": "stdout",
     "output_type": "stream",
     "text": [
      "> Generated 509 records for cc_num: 180047222886866\n",
      "\n",
      "[77/931] Generating data for cc_num: 3540210836308425\n"
     ]
    },
    {
     "name": "stderr",
     "output_type": "stream",
     "text": [
      "Gen. (-0.14) | Discrim. (0.06): 100%|██████████| 100/100 [00:02<00:00, 45.92it/s]\n"
     ]
    },
    {
     "name": "stdout",
     "output_type": "stream",
     "text": [
      "> Generated 1528 records for cc_num: 3540210836308425\n",
      "\n",
      "[78/931] Generating data for cc_num: 340953839692349\n"
     ]
    },
    {
     "name": "stderr",
     "output_type": "stream",
     "text": [
      "Gen. (0.19) | Discrim. (0.12): 100%|██████████| 100/100 [00:01<00:00, 51.22it/s] \n"
     ]
    },
    {
     "name": "stdout",
     "output_type": "stream",
     "text": [
      "> Generated 2545 records for cc_num: 340953839692349\n",
      "\n",
      "[79/931] Generating data for cc_num: 4599735407877245080\n"
     ]
    },
    {
     "name": "stderr",
     "output_type": "stream",
     "text": [
      "Gen. (0.69) | Discrim. (0.13): 100%|██████████| 100/100 [00:02<00:00, 44.18it/s]\n"
     ]
    },
    {
     "name": "stdout",
     "output_type": "stream",
     "text": [
      "> Generated 1020 records for cc_num: 4599735407877245080\n",
      "\n",
      "[80/931] Generating data for cc_num: 4497913965512794052\n"
     ]
    },
    {
     "name": "stderr",
     "output_type": "stream",
     "text": [
      "Gen. (0.31) | Discrim. (-0.11): 100%|██████████| 100/100 [00:01<00:00, 51.64it/s]\n"
     ]
    },
    {
     "name": "stdout",
     "output_type": "stream",
     "text": [
      "> Generated 1017 records for cc_num: 4497913965512794052\n",
      "\n",
      "[81/931] Generating data for cc_num: 3592931352252641\n"
     ]
    },
    {
     "name": "stderr",
     "output_type": "stream",
     "text": [
      "Gen. (0.39) | Discrim. (-0.04): 100%|██████████| 100/100 [00:02<00:00, 43.73it/s]\n"
     ]
    },
    {
     "name": "stdout",
     "output_type": "stream",
     "text": [
      "> Generated 1021 records for cc_num: 3592931352252641\n",
      "\n",
      "[82/931] Generating data for cc_num: 573860193545\n"
     ]
    },
    {
     "name": "stderr",
     "output_type": "stream",
     "text": [
      "Gen. (-0.42) | Discrim. (-0.27): 100%|██████████| 100/100 [00:02<00:00, 44.54it/s]\n"
     ]
    },
    {
     "name": "stdout",
     "output_type": "stream",
     "text": [
      "> Generated 2041 records for cc_num: 573860193545\n",
      "\n",
      "[83/931] Generating data for cc_num: 4635330563105903\n"
     ]
    },
    {
     "name": "stderr",
     "output_type": "stream",
     "text": [
      "Gen. (0.13) | Discrim. (-0.05): 100%|██████████| 100/100 [00:02<00:00, 42.27it/s]\n"
     ]
    },
    {
     "name": "stdout",
     "output_type": "stream",
     "text": [
      "> Generated 1021 records for cc_num: 4635330563105903\n",
      "\n",
      "[84/931] Generating data for cc_num: 4157213332670159\n"
     ]
    },
    {
     "name": "stderr",
     "output_type": "stream",
     "text": [
      "Gen. (-0.80) | Discrim. (0.16): 100%|██████████| 100/100 [00:02<00:00, 43.61it/s]\n"
     ]
    },
    {
     "name": "stdout",
     "output_type": "stream",
     "text": [
      "> Generated 0 records for cc_num: 4157213332670159\n",
      "\n",
      "[85/931] Generating data for cc_num: 6011504998544485\n"
     ]
    },
    {
     "name": "stderr",
     "output_type": "stream",
     "text": [
      "Gen. (0.72) | Discrim. (-0.05): 100%|██████████| 100/100 [00:02<00:00, 38.70it/s]\n"
     ]
    },
    {
     "name": "stdout",
     "output_type": "stream",
     "text": [
      "> Generated 3061 records for cc_num: 6011504998544485\n",
      "\n",
      "[86/931] Generating data for cc_num: 180036456789979\n"
     ]
    },
    {
     "name": "stderr",
     "output_type": "stream",
     "text": [
      "Gen. (0.46) | Discrim. (0.12): 100%|██████████| 100/100 [00:02<00:00, 37.92it/s]\n"
     ]
    },
    {
     "name": "stdout",
     "output_type": "stream",
     "text": [
      "> Generated 2551 records for cc_num: 180036456789979\n",
      "\n",
      "[87/931] Generating data for cc_num: 213186551511454\n"
     ]
    },
    {
     "name": "stderr",
     "output_type": "stream",
     "text": [
      "Gen. (0.30) | Discrim. (-0.00): 100%|██████████| 100/100 [00:02<00:00, 41.10it/s]\n"
     ]
    },
    {
     "name": "stdout",
     "output_type": "stream",
     "text": [
      "> Generated 509 records for cc_num: 213186551511454\n",
      "\n",
      "[88/931] Generating data for cc_num: 3587960728692500\n"
     ]
    },
    {
     "name": "stderr",
     "output_type": "stream",
     "text": [
      "Gen. (0.86) | Discrim. (-0.31): 100%|██████████| 100/100 [00:02<00:00, 40.55it/s]\n"
     ]
    },
    {
     "name": "stdout",
     "output_type": "stream",
     "text": [
      "> Generated 2038 records for cc_num: 3587960728692500\n",
      "\n",
      "[89/931] Generating data for cc_num: 4492677353108006\n"
     ]
    },
    {
     "name": "stderr",
     "output_type": "stream",
     "text": [
      "Gen. (0.84) | Discrim. (0.21): 100%|██████████| 100/100 [00:02<00:00, 46.87it/s]\n"
     ]
    },
    {
     "name": "stdout",
     "output_type": "stream",
     "text": [
      "> Generated 0 records for cc_num: 4492677353108006\n",
      "\n",
      "[90/931] Generating data for cc_num: 4593569795412\n"
     ]
    },
    {
     "name": "stderr",
     "output_type": "stream",
     "text": [
      "Gen. (0.14) | Discrim. (0.14): 100%|██████████| 100/100 [00:02<00:00, 44.19it/s] \n"
     ]
    },
    {
     "name": "stdout",
     "output_type": "stream",
     "text": [
      "> Generated 0 records for cc_num: 4593569795412\n",
      "\n",
      "[91/931] Generating data for cc_num: 3543885983111461\n"
     ]
    },
    {
     "name": "stderr",
     "output_type": "stream",
     "text": [
      "Gen. (1.14) | Discrim. (-0.24): 100%|██████████| 100/100 [00:02<00:00, 42.40it/s]\n"
     ]
    },
    {
     "name": "stdout",
     "output_type": "stream",
     "text": [
      "> Generated 0 records for cc_num: 3543885983111461\n",
      "\n",
      "[92/931] Generating data for cc_num: 213195754007681\n"
     ]
    },
    {
     "name": "stderr",
     "output_type": "stream",
     "text": [
      "Gen. (-0.49) | Discrim. (0.09): 100%|██████████| 100/100 [00:02<00:00, 48.07it/s]\n"
     ]
    },
    {
     "name": "stdout",
     "output_type": "stream",
     "text": [
      "> Generated 1531 records for cc_num: 213195754007681\n",
      "\n",
      "[93/931] Generating data for cc_num: 6011305591981276\n"
     ]
    },
    {
     "name": "stderr",
     "output_type": "stream",
     "text": [
      "Gen. (-0.02) | Discrim. (-0.19): 100%|██████████| 100/100 [00:02<00:00, 41.37it/s]\n"
     ]
    },
    {
     "name": "stdout",
     "output_type": "stream",
     "text": [
      "> Generated 1019 records for cc_num: 6011305591981276\n",
      "\n",
      "[94/931] Generating data for cc_num: 4788103653396\n"
     ]
    },
    {
     "name": "stderr",
     "output_type": "stream",
     "text": [
      "Gen. (0.38) | Discrim. (-0.14): 100%|██████████| 100/100 [00:02<00:00, 38.58it/s]\n"
     ]
    },
    {
     "name": "stdout",
     "output_type": "stream",
     "text": [
      "> Generated 1019 records for cc_num: 4788103653396\n",
      "\n",
      "[95/931] Generating data for cc_num: 30074693890476\n"
     ]
    },
    {
     "name": "stderr",
     "output_type": "stream",
     "text": [
      "Gen. (0.71) | Discrim. (0.07): 100%|██████████| 100/100 [00:02<00:00, 38.02it/s]\n"
     ]
    },
    {
     "name": "stdout",
     "output_type": "stream",
     "text": [
      "> Generated 2041 records for cc_num: 30074693890476\n",
      "\n",
      "[96/931] Generating data for cc_num: 4642894980163\n"
     ]
    },
    {
     "name": "stderr",
     "output_type": "stream",
     "text": [
      "Gen. (0.60) | Discrim. (-0.08): 100%|██████████| 100/100 [00:02<00:00, 40.07it/s]\n"
     ]
    },
    {
     "name": "stdout",
     "output_type": "stream",
     "text": [
      "> Generated 2038 records for cc_num: 4642894980163\n",
      "\n",
      "[97/931] Generating data for cc_num: 630425673344\n"
     ]
    },
    {
     "name": "stderr",
     "output_type": "stream",
     "text": [
      "Gen. (0.85) | Discrim. (-0.15): 100%|██████████| 100/100 [00:02<00:00, 38.85it/s]\n"
     ]
    },
    {
     "name": "stdout",
     "output_type": "stream",
     "text": [
      "> Generated 1528 records for cc_num: 630425673344\n",
      "\n",
      "[98/931] Generating data for cc_num: 6592074504369261\n"
     ]
    },
    {
     "name": "stderr",
     "output_type": "stream",
     "text": [
      "Gen. (0.25) | Discrim. (0.16): 100%|██████████| 100/100 [00:02<00:00, 43.66it/s] \n"
     ]
    },
    {
     "name": "stdout",
     "output_type": "stream",
     "text": [
      "> Generated 508 records for cc_num: 6592074504369261\n",
      "\n",
      "[99/931] Generating data for cc_num: 60416207185\n"
     ]
    },
    {
     "name": "stderr",
     "output_type": "stream",
     "text": [
      "Gen. (0.82) | Discrim. (0.05): 100%|██████████| 100/100 [00:02<00:00, 42.05it/s]\n"
     ]
    },
    {
     "name": "stdout",
     "output_type": "stream",
     "text": [
      "> Generated 1530 records for cc_num: 60416207185\n",
      "\n",
      "[100/931] Generating data for cc_num: 3562679455732797\n"
     ]
    },
    {
     "name": "stderr",
     "output_type": "stream",
     "text": [
      "Gen. (-0.33) | Discrim. (0.15): 100%|██████████| 100/100 [00:02<00:00, 42.26it/s]\n"
     ]
    },
    {
     "name": "stdout",
     "output_type": "stream",
     "text": [
      "> Generated 1019 records for cc_num: 3562679455732797\n",
      "\n",
      "[101/931] Generating data for cc_num: 2657850734909997\n"
     ]
    },
    {
     "name": "stderr",
     "output_type": "stream",
     "text": [
      "Gen. (0.29) | Discrim. (-0.13): 100%|██████████| 100/100 [00:02<00:00, 46.13it/s]\n"
     ]
    },
    {
     "name": "stdout",
     "output_type": "stream",
     "text": [
      "> Generated 1016 records for cc_num: 2657850734909997\n",
      "\n",
      "[102/931] Generating data for cc_num: 30407675418785\n"
     ]
    },
    {
     "name": "stderr",
     "output_type": "stream",
     "text": [
      "Gen. (0.58) | Discrim. (0.01): 100%|██████████| 100/100 [00:02<00:00, 41.06it/s]\n"
     ]
    },
    {
     "name": "stdout",
     "output_type": "stream",
     "text": [
      "> Generated 2039 records for cc_num: 30407675418785\n",
      "\n",
      "[103/931] Generating data for cc_num: 4306630852918\n"
     ]
    },
    {
     "name": "stderr",
     "output_type": "stream",
     "text": [
      "Gen. (-0.23) | Discrim. (-0.43): 100%|██████████| 100/100 [00:02<00:00, 45.53it/s]\n"
     ]
    },
    {
     "name": "stdout",
     "output_type": "stream",
     "text": [
      "> Generated 1019 records for cc_num: 4306630852918\n",
      "\n",
      "[104/931] Generating data for cc_num: 2227671554547514\n"
     ]
    },
    {
     "name": "stderr",
     "output_type": "stream",
     "text": [
      "Gen. (0.44) | Discrim. (0.02): 100%|██████████| 100/100 [00:02<00:00, 38.34it/s] \n"
     ]
    },
    {
     "name": "stdout",
     "output_type": "stream",
     "text": [
      "> Generated 510 records for cc_num: 2227671554547514\n",
      "\n",
      "[105/931] Generating data for cc_num: 4998109455173950\n"
     ]
    },
    {
     "name": "stderr",
     "output_type": "stream",
     "text": [
      "Gen. (0.29) | Discrim. (0.14): 100%|██████████| 100/100 [00:02<00:00, 41.09it/s]\n"
     ]
    },
    {
     "name": "stdout",
     "output_type": "stream",
     "text": [
      "> Generated 2040 records for cc_num: 4998109455173950\n",
      "\n",
      "[106/931] Generating data for cc_num: 4060579726528237\n"
     ]
    },
    {
     "name": "stderr",
     "output_type": "stream",
     "text": [
      "Gen. (0.47) | Discrim. (-0.16): 100%|██████████| 100/100 [00:02<00:00, 44.56it/s]\n"
     ]
    },
    {
     "name": "stdout",
     "output_type": "stream",
     "text": [
      "> Generated 1528 records for cc_num: 4060579726528237\n",
      "\n",
      "[107/931] Generating data for cc_num: 30501624614310\n"
     ]
    },
    {
     "name": "stderr",
     "output_type": "stream",
     "text": [
      "Gen. (0.76) | Discrim. (-0.01): 100%|██████████| 100/100 [00:02<00:00, 39.94it/s]\n"
     ]
    },
    {
     "name": "stdout",
     "output_type": "stream",
     "text": [
      "> Generated 2038 records for cc_num: 30501624614310\n",
      "\n",
      "[108/931] Generating data for cc_num: 4824023901222438\n"
     ]
    },
    {
     "name": "stderr",
     "output_type": "stream",
     "text": [
      "Gen. (0.67) | Discrim. (-0.06): 100%|██████████| 100/100 [00:02<00:00, 39.52it/s]\n"
     ]
    },
    {
     "name": "stdout",
     "output_type": "stream",
     "text": [
      "> Generated 510 records for cc_num: 4824023901222438\n",
      "\n",
      "[109/931] Generating data for cc_num: 4124536010991657\n"
     ]
    },
    {
     "name": "stderr",
     "output_type": "stream",
     "text": [
      "Gen. (0.29) | Discrim. (-0.15): 100%|██████████| 100/100 [00:02<00:00, 42.42it/s]\n"
     ]
    },
    {
     "name": "stdout",
     "output_type": "stream",
     "text": [
      "> Generated 509 records for cc_num: 4124536010991657\n",
      "\n",
      "[110/931] Generating data for cc_num: 343472729187663\n"
     ]
    },
    {
     "name": "stderr",
     "output_type": "stream",
     "text": [
      "Gen. (0.22) | Discrim. (0.07): 100%|██████████| 100/100 [00:02<00:00, 37.63it/s]\n"
     ]
    },
    {
     "name": "stdout",
     "output_type": "stream",
     "text": [
      "> Generated 1019 records for cc_num: 343472729187663\n",
      "\n",
      "[111/931] Generating data for cc_num: 371284100299909\n"
     ]
    },
    {
     "name": "stderr",
     "output_type": "stream",
     "text": [
      "Gen. (0.03) | Discrim. (-0.01): 100%|██████████| 100/100 [00:02<00:00, 38.38it/s]\n"
     ]
    },
    {
     "name": "stdout",
     "output_type": "stream",
     "text": [
      "> Generated 1019 records for cc_num: 371284100299909\n",
      "\n",
      "[112/931] Generating data for cc_num: 3567879740649740\n"
     ]
    },
    {
     "name": "stderr",
     "output_type": "stream",
     "text": [
      "Gen. (0.43) | Discrim. (0.10): 100%|██████████| 100/100 [00:02<00:00, 38.93it/s]\n"
     ]
    },
    {
     "name": "stdout",
     "output_type": "stream",
     "text": [
      "> Generated 2038 records for cc_num: 3567879740649740\n",
      "\n",
      "[113/931] Generating data for cc_num: 30143713661454\n"
     ]
    },
    {
     "name": "stderr",
     "output_type": "stream",
     "text": [
      "Gen. (0.43) | Discrim. (0.10): 100%|██████████| 100/100 [00:02<00:00, 40.09it/s]\n"
     ]
    },
    {
     "name": "stdout",
     "output_type": "stream",
     "text": [
      "> Generated 1020 records for cc_num: 30143713661454\n",
      "\n",
      "[114/931] Generating data for cc_num: 4500002361389\n"
     ]
    },
    {
     "name": "stderr",
     "output_type": "stream",
     "text": [
      "Gen. (0.24) | Discrim. (-0.08): 100%|██████████| 100/100 [00:02<00:00, 39.99it/s]\n"
     ]
    },
    {
     "name": "stdout",
     "output_type": "stream",
     "text": [
      "> Generated 2039 records for cc_num: 4500002361389\n",
      "\n",
      "[115/931] Generating data for cc_num: 3512365128314616\n"
     ]
    },
    {
     "name": "stderr",
     "output_type": "stream",
     "text": [
      "Gen. (0.66) | Discrim. (-0.08): 100%|██████████| 100/100 [00:02<00:00, 39.76it/s]\n"
     ]
    },
    {
     "name": "stdout",
     "output_type": "stream",
     "text": [
      "> Generated 2036 records for cc_num: 3512365128314616\n",
      "\n",
      "[116/931] Generating data for cc_num: 3547336099599450\n"
     ]
    },
    {
     "name": "stderr",
     "output_type": "stream",
     "text": [
      "Gen. (0.38) | Discrim. (0.06): 100%|██████████| 100/100 [00:02<00:00, 39.90it/s]\n"
     ]
    },
    {
     "name": "stdout",
     "output_type": "stream",
     "text": [
      "> Generated 0 records for cc_num: 3547336099599450\n",
      "\n",
      "[117/931] Generating data for cc_num: 4383521454815\n"
     ]
    },
    {
     "name": "stderr",
     "output_type": "stream",
     "text": [
      "Gen. (-0.07) | Discrim. (0.26): 100%|██████████| 100/100 [00:02<00:00, 45.74it/s]\n"
     ]
    },
    {
     "name": "stdout",
     "output_type": "stream",
     "text": [
      "> Generated 1019 records for cc_num: 4383521454815\n",
      "\n",
      "[118/931] Generating data for cc_num: 4911818930706644725\n"
     ]
    },
    {
     "name": "stderr",
     "output_type": "stream",
     "text": [
      "Gen. (0.25) | Discrim. (0.17): 100%|██████████| 100/100 [00:02<00:00, 44.43it/s] \n"
     ]
    },
    {
     "name": "stdout",
     "output_type": "stream",
     "text": [
      "> Generated 0 records for cc_num: 4911818930706644725\n",
      "\n",
      "[119/931] Generating data for cc_num: 4659625317833446364\n"
     ]
    },
    {
     "name": "stderr",
     "output_type": "stream",
     "text": [
      "Gen. (0.27) | Discrim. (0.15): 100%|██████████| 100/100 [00:02<00:00, 45.65it/s] \n"
     ]
    },
    {
     "name": "stdout",
     "output_type": "stream",
     "text": [
      "> Generated 0 records for cc_num: 4659625317833446364\n",
      "\n",
      "[120/931] Generating data for cc_num: 60423098130\n"
     ]
    },
    {
     "name": "stderr",
     "output_type": "stream",
     "text": [
      "Gen. (0.71) | Discrim. (0.08): 100%|██████████| 100/100 [00:02<00:00, 40.19it/s]\n"
     ]
    },
    {
     "name": "stdout",
     "output_type": "stream",
     "text": [
      "> Generated 509 records for cc_num: 60423098130\n",
      "\n",
      "[121/931] Generating data for cc_num: 6011148190095209\n"
     ]
    },
    {
     "name": "stderr",
     "output_type": "stream",
     "text": [
      "Gen. (0.04) | Discrim. (0.06): 100%|██████████| 100/100 [00:02<00:00, 39.06it/s] \n"
     ]
    },
    {
     "name": "stdout",
     "output_type": "stream",
     "text": [
      "> Generated 1526 records for cc_num: 6011148190095209\n",
      "\n",
      "[122/931] Generating data for cc_num: 6011732631674654\n"
     ]
    },
    {
     "name": "stderr",
     "output_type": "stream",
     "text": [
      "Gen. (-0.00) | Discrim. (0.16): 100%|██████████| 100/100 [00:02<00:00, 44.73it/s]\n"
     ]
    },
    {
     "name": "stdout",
     "output_type": "stream",
     "text": [
      "> Generated 0 records for cc_num: 6011732631674654\n",
      "\n",
      "[123/931] Generating data for cc_num: 6011552879910390\n"
     ]
    },
    {
     "name": "stderr",
     "output_type": "stream",
     "text": [
      "Gen. (-0.18) | Discrim. (0.21): 100%|██████████| 100/100 [00:02<00:00, 47.60it/s]\n"
     ]
    },
    {
     "name": "stdout",
     "output_type": "stream",
     "text": [
      "> Generated 1020 records for cc_num: 6011552879910390\n",
      "\n",
      "[124/931] Generating data for cc_num: 676102124465\n"
     ]
    },
    {
     "name": "stderr",
     "output_type": "stream",
     "text": [
      "Gen. (-0.12) | Discrim. (-0.10): 100%|██████████| 100/100 [00:01<00:00, 50.22it/s]\n"
     ]
    },
    {
     "name": "stdout",
     "output_type": "stream",
     "text": [
      "> Generated 2036 records for cc_num: 676102124465\n",
      "\n",
      "[125/931] Generating data for cc_num: 4355790796238264643\n"
     ]
    },
    {
     "name": "stderr",
     "output_type": "stream",
     "text": [
      "Gen. (-0.07) | Discrim. (-0.01): 100%|██████████| 100/100 [00:02<00:00, 41.56it/s]\n"
     ]
    },
    {
     "name": "stdout",
     "output_type": "stream",
     "text": [
      "> Generated 1530 records for cc_num: 4355790796238264643\n",
      "\n",
      "[126/931] Generating data for cc_num: 4373370572092720777\n"
     ]
    },
    {
     "name": "stderr",
     "output_type": "stream",
     "text": [
      "Gen. (0.52) | Discrim. (0.38): 100%|██████████| 100/100 [00:02<00:00, 37.84it/s]\n"
     ]
    },
    {
     "name": "stdout",
     "output_type": "stream",
     "text": [
      "> Generated 509 records for cc_num: 4373370572092720777\n",
      "\n",
      "[127/931] Generating data for cc_num: 38295635583927\n"
     ]
    },
    {
     "name": "stderr",
     "output_type": "stream",
     "text": [
      "Gen. (0.94) | Discrim. (0.04): 100%|██████████| 100/100 [00:02<00:00, 43.97it/s]\n"
     ]
    },
    {
     "name": "stdout",
     "output_type": "stream",
     "text": [
      "> Generated 2041 records for cc_num: 38295635583927\n",
      "\n",
      "[128/931] Generating data for cc_num: 30131826429364\n"
     ]
    },
    {
     "name": "stderr",
     "output_type": "stream",
     "text": [
      "Gen. (0.24) | Discrim. (0.07): 100%|██████████| 100/100 [00:02<00:00, 39.86it/s]\n"
     ]
    },
    {
     "name": "stdout",
     "output_type": "stream",
     "text": [
      "> Generated 2548 records for cc_num: 30131826429364\n",
      "\n",
      "[129/931] Generating data for cc_num: 2720894374956739\n"
     ]
    },
    {
     "name": "stderr",
     "output_type": "stream",
     "text": [
      "Gen. (0.17) | Discrim. (-0.38): 100%|██████████| 100/100 [00:02<00:00, 44.56it/s]\n"
     ]
    },
    {
     "name": "stdout",
     "output_type": "stream",
     "text": [
      "> Generated 1019 records for cc_num: 2720894374956739\n",
      "\n",
      "[130/931] Generating data for cc_num: 36360452125889\n"
     ]
    },
    {
     "name": "stderr",
     "output_type": "stream",
     "text": [
      "Gen. (0.25) | Discrim. (-0.16): 100%|██████████| 100/100 [00:02<00:00, 42.24it/s]\n"
     ]
    },
    {
     "name": "stdout",
     "output_type": "stream",
     "text": [
      "> Generated 510 records for cc_num: 36360452125889\n",
      "\n",
      "[131/931] Generating data for cc_num: 4180192513916047166\n"
     ]
    },
    {
     "name": "stderr",
     "output_type": "stream",
     "text": [
      "Gen. (0.61) | Discrim. (0.15): 100%|██████████| 100/100 [00:02<00:00, 44.02it/s]\n"
     ]
    },
    {
     "name": "stdout",
     "output_type": "stream",
     "text": [
      "> Generated 0 records for cc_num: 4180192513916047166\n",
      "\n",
      "[132/931] Generating data for cc_num: 213114122496591\n"
     ]
    },
    {
     "name": "stderr",
     "output_type": "stream",
     "text": [
      "Gen. (-0.07) | Discrim. (-0.10): 100%|██████████| 100/100 [00:02<00:00, 47.11it/s]\n"
     ]
    },
    {
     "name": "stdout",
     "output_type": "stream",
     "text": [
      "> Generated 1020 records for cc_num: 213114122496591\n",
      "\n",
      "[133/931] Generating data for cc_num: 4076173495454\n"
     ]
    },
    {
     "name": "stderr",
     "output_type": "stream",
     "text": [
      "Gen. (0.07) | Discrim. (0.14): 100%|██████████| 100/100 [00:02<00:00, 45.89it/s] \n"
     ]
    },
    {
     "name": "stdout",
     "output_type": "stream",
     "text": [
      "> Generated 0 records for cc_num: 4076173495454\n",
      "\n",
      "[134/931] Generating data for cc_num: 6540981358631302\n"
     ]
    },
    {
     "name": "stderr",
     "output_type": "stream",
     "text": [
      "Gen. (-0.19) | Discrim. (-0.03): 100%|██████████| 100/100 [00:01<00:00, 51.45it/s]\n"
     ]
    },
    {
     "name": "stdout",
     "output_type": "stream",
     "text": [
      "> Generated 1017 records for cc_num: 6540981358631302\n",
      "\n",
      "[135/931] Generating data for cc_num: 2288813824604479\n"
     ]
    },
    {
     "name": "stderr",
     "output_type": "stream",
     "text": [
      "Gen. (-0.01) | Discrim. (0.16): 100%|██████████| 100/100 [00:02<00:00, 46.71it/s]\n"
     ]
    },
    {
     "name": "stdout",
     "output_type": "stream",
     "text": [
      "> Generated 1531 records for cc_num: 2288813824604479\n",
      "\n",
      "[136/931] Generating data for cc_num: 2720830304681674\n"
     ]
    },
    {
     "name": "stderr",
     "output_type": "stream",
     "text": [
      "Gen. (1.02) | Discrim. (-0.21): 100%|██████████| 100/100 [00:02<00:00, 40.04it/s]\n"
     ]
    },
    {
     "name": "stdout",
     "output_type": "stream",
     "text": [
      "> Generated 1019 records for cc_num: 2720830304681674\n",
      "\n",
      "[137/931] Generating data for cc_num: 372520049757633\n"
     ]
    },
    {
     "name": "stderr",
     "output_type": "stream",
     "text": [
      "Gen. (0.20) | Discrim. (0.00): 100%|██████████| 100/100 [00:02<00:00, 43.43it/s] \n"
     ]
    },
    {
     "name": "stdout",
     "output_type": "stream",
     "text": [
      "> Generated 3059 records for cc_num: 372520049757633\n",
      "\n",
      "[138/931] Generating data for cc_num: 501851115094\n"
     ]
    },
    {
     "name": "stderr",
     "output_type": "stream",
     "text": [
      "Gen. (0.54) | Discrim. (-0.02): 100%|██████████| 100/100 [00:02<00:00, 40.15it/s]\n"
     ]
    },
    {
     "name": "stdout",
     "output_type": "stream",
     "text": [
      "> Generated 0 records for cc_num: 501851115094\n",
      "\n",
      "[139/931] Generating data for cc_num: 5301645381939419\n"
     ]
    },
    {
     "name": "stderr",
     "output_type": "stream",
     "text": [
      "Gen. (-0.12) | Discrim. (0.04): 100%|██████████| 100/100 [00:02<00:00, 45.28it/s]\n"
     ]
    },
    {
     "name": "stdout",
     "output_type": "stream",
     "text": [
      "> Generated 0 records for cc_num: 5301645381939419\n",
      "\n",
      "[140/931] Generating data for cc_num: 4585132874641\n"
     ]
    },
    {
     "name": "stderr",
     "output_type": "stream",
     "text": [
      "Gen. (1.32) | Discrim. (0.10): 100%|██████████| 100/100 [00:02<00:00, 48.36it/s]\n"
     ]
    },
    {
     "name": "stdout",
     "output_type": "stream",
     "text": [
      "> Generated 1532 records for cc_num: 4585132874641\n",
      "\n",
      "[141/931] Generating data for cc_num: 371683116218417\n"
     ]
    },
    {
     "name": "stderr",
     "output_type": "stream",
     "text": [
      "Gen. (0.40) | Discrim. (-0.07): 100%|██████████| 100/100 [00:02<00:00, 45.19it/s]\n"
     ]
    },
    {
     "name": "stdout",
     "output_type": "stream",
     "text": [
      "> Generated 510 records for cc_num: 371683116218417\n",
      "\n",
      "[142/931] Generating data for cc_num: 375904527651269\n"
     ]
    },
    {
     "name": "stderr",
     "output_type": "stream",
     "text": [
      "Gen. (0.12) | Discrim. (0.06): 100%|██████████| 100/100 [00:02<00:00, 41.95it/s] \n"
     ]
    },
    {
     "name": "stdout",
     "output_type": "stream",
     "text": [
      "> Generated 1018 records for cc_num: 375904527651269\n",
      "\n",
      "[143/931] Generating data for cc_num: 4003771737807706\n"
     ]
    },
    {
     "name": "stderr",
     "output_type": "stream",
     "text": [
      "Gen. (1.31) | Discrim. (0.09): 100%|██████████| 100/100 [00:02<00:00, 41.31it/s]\n"
     ]
    },
    {
     "name": "stdout",
     "output_type": "stream",
     "text": [
      "> Generated 1021 records for cc_num: 4003771737807706\n",
      "\n",
      "[144/931] Generating data for cc_num: 4629451965224809\n"
     ]
    },
    {
     "name": "stderr",
     "output_type": "stream",
     "text": [
      "Gen. (0.19) | Discrim. (0.00): 100%|██████████| 100/100 [00:02<00:00, 39.91it/s]\n"
     ]
    },
    {
     "name": "stdout",
     "output_type": "stream",
     "text": [
      "> Generated 1529 records for cc_num: 4629451965224809\n",
      "\n",
      "[145/931] Generating data for cc_num: 3533012926413100\n"
     ]
    },
    {
     "name": "stderr",
     "output_type": "stream",
     "text": [
      "Gen. (0.05) | Discrim. (-0.10): 100%|██████████| 100/100 [00:02<00:00, 43.15it/s]\n"
     ]
    },
    {
     "name": "stdout",
     "output_type": "stream",
     "text": [
      "> Generated 2040 records for cc_num: 3533012926413100\n",
      "\n",
      "[146/931] Generating data for cc_num: 6597888193422452\n"
     ]
    },
    {
     "name": "stderr",
     "output_type": "stream",
     "text": [
      "Gen. (0.71) | Discrim. (0.14): 100%|██████████| 100/100 [00:02<00:00, 42.16it/s]\n"
     ]
    },
    {
     "name": "stdout",
     "output_type": "stream",
     "text": [
      "> Generated 2039 records for cc_num: 6597888193422452\n",
      "\n",
      "[147/931] Generating data for cc_num: 38588538868506\n"
     ]
    },
    {
     "name": "stderr",
     "output_type": "stream",
     "text": [
      "Gen. (0.14) | Discrim. (0.10): 100%|██████████| 100/100 [00:02<00:00, 38.89it/s] \n"
     ]
    },
    {
     "name": "stdout",
     "output_type": "stream",
     "text": [
      "> Generated 2037 records for cc_num: 38588538868506\n",
      "\n",
      "[148/931] Generating data for cc_num: 5144043920225212\n"
     ]
    },
    {
     "name": "stderr",
     "output_type": "stream",
     "text": [
      "Gen. (0.51) | Discrim. (-0.05): 100%|██████████| 100/100 [00:02<00:00, 41.64it/s]\n"
     ]
    },
    {
     "name": "stdout",
     "output_type": "stream",
     "text": [
      "> Generated 0 records for cc_num: 5144043920225212\n",
      "\n",
      "[149/931] Generating data for cc_num: 30404291151692\n"
     ]
    },
    {
     "name": "stderr",
     "output_type": "stream",
     "text": [
      "Gen. (0.50) | Discrim. (-0.15): 100%|██████████| 100/100 [00:02<00:00, 40.36it/s]\n"
     ]
    },
    {
     "name": "stdout",
     "output_type": "stream",
     "text": [
      "> Generated 1021 records for cc_num: 30404291151692\n",
      "\n",
      "[150/931] Generating data for cc_num: 373043435942726\n"
     ]
    },
    {
     "name": "stderr",
     "output_type": "stream",
     "text": [
      "Gen. (0.94) | Discrim. (0.16): 100%|██████████| 100/100 [00:02<00:00, 49.11it/s]\n"
     ]
    },
    {
     "name": "stdout",
     "output_type": "stream",
     "text": [
      "> Generated 1021 records for cc_num: 373043435942726\n",
      "\n",
      "[151/931] Generating data for cc_num: 6528911529051375\n"
     ]
    },
    {
     "name": "stderr",
     "output_type": "stream",
     "text": [
      "Gen. (0.25) | Discrim. (-0.13): 100%|██████████| 100/100 [00:01<00:00, 51.44it/s]\n"
     ]
    },
    {
     "name": "stdout",
     "output_type": "stream",
     "text": [
      "> Generated 1020 records for cc_num: 6528911529051375\n",
      "\n",
      "[152/931] Generating data for cc_num: 4681699462969\n"
     ]
    },
    {
     "name": "stderr",
     "output_type": "stream",
     "text": [
      "Gen. (-0.55) | Discrim. (0.17): 100%|██████████| 100/100 [00:01<00:00, 50.40it/s]\n"
     ]
    },
    {
     "name": "stdout",
     "output_type": "stream",
     "text": [
      "> Generated 2551 records for cc_num: 4681699462969\n",
      "\n",
      "[153/931] Generating data for cc_num: 180014262259255\n"
     ]
    },
    {
     "name": "stderr",
     "output_type": "stream",
     "text": [
      "Gen. (0.57) | Discrim. (0.29): 100%|██████████| 100/100 [00:02<00:00, 44.93it/s]\n"
     ]
    },
    {
     "name": "stdout",
     "output_type": "stream",
     "text": [
      "> Generated 1019 records for cc_num: 180014262259255\n",
      "\n",
      "[154/931] Generating data for cc_num: 3536818734263520\n"
     ]
    },
    {
     "name": "stderr",
     "output_type": "stream",
     "text": [
      "Gen. (0.33) | Discrim. (0.12): 100%|██████████| 100/100 [00:02<00:00, 45.85it/s]\n"
     ]
    },
    {
     "name": "stdout",
     "output_type": "stream",
     "text": [
      "> Generated 510 records for cc_num: 3536818734263520\n",
      "\n",
      "[155/931] Generating data for cc_num: 36721445180895\n"
     ]
    },
    {
     "name": "stderr",
     "output_type": "stream",
     "text": [
      "Gen. (-0.09) | Discrim. (0.02): 100%|██████████| 100/100 [00:02<00:00, 39.93it/s]\n"
     ]
    },
    {
     "name": "stdout",
     "output_type": "stream",
     "text": [
      "> Generated 1528 records for cc_num: 36721445180895\n",
      "\n",
      "[156/931] Generating data for cc_num: 3519607465576254\n"
     ]
    },
    {
     "name": "stderr",
     "output_type": "stream",
     "text": [
      "Gen. (0.22) | Discrim. (0.21): 100%|██████████| 100/100 [00:02<00:00, 48.25it/s]\n"
     ]
    },
    {
     "name": "stdout",
     "output_type": "stream",
     "text": [
      "> Generated 1528 records for cc_num: 3519607465576254\n",
      "\n",
      "[157/931] Generating data for cc_num: 4393520897625\n"
     ]
    },
    {
     "name": "stderr",
     "output_type": "stream",
     "text": [
      "Gen. (0.45) | Discrim. (0.04): 100%|██████████| 100/100 [00:02<00:00, 47.35it/s] \n"
     ]
    },
    {
     "name": "stdout",
     "output_type": "stream",
     "text": [
      "> Generated 1019 records for cc_num: 4393520897625\n",
      "\n",
      "[158/931] Generating data for cc_num: 4917226033950\n"
     ]
    },
    {
     "name": "stderr",
     "output_type": "stream",
     "text": [
      "Gen. (0.45) | Discrim. (-0.10): 100%|██████████| 100/100 [00:02<00:00, 45.77it/s]\n"
     ]
    },
    {
     "name": "stdout",
     "output_type": "stream",
     "text": [
      "> Generated 510 records for cc_num: 4917226033950\n",
      "\n",
      "[159/931] Generating data for cc_num: 4006047418382\n"
     ]
    },
    {
     "name": "stderr",
     "output_type": "stream",
     "text": [
      "Gen. (-0.48) | Discrim. (-0.25): 100%|██████████| 100/100 [00:02<00:00, 43.61it/s]\n"
     ]
    },
    {
     "name": "stdout",
     "output_type": "stream",
     "text": [
      "> Generated 1019 records for cc_num: 4006047418382\n",
      "\n",
      "[160/931] Generating data for cc_num: 3548710338694745\n"
     ]
    },
    {
     "name": "stderr",
     "output_type": "stream",
     "text": [
      "Gen. (1.16) | Discrim. (0.04): 100%|██████████| 100/100 [00:02<00:00, 48.74it/s]\n"
     ]
    },
    {
     "name": "stdout",
     "output_type": "stream",
     "text": [
      "> Generated 0 records for cc_num: 3548710338694745\n",
      "\n",
      "[161/931] Generating data for cc_num: 6550399784335736\n"
     ]
    },
    {
     "name": "stderr",
     "output_type": "stream",
     "text": [
      "Gen. (0.97) | Discrim. (0.40): 100%|██████████| 100/100 [00:02<00:00, 46.98it/s]\n"
     ]
    },
    {
     "name": "stdout",
     "output_type": "stream",
     "text": [
      "> Generated 1019 records for cc_num: 6550399784335736\n",
      "\n",
      "[162/931] Generating data for cc_num: 60427851591\n"
     ]
    },
    {
     "name": "stderr",
     "output_type": "stream",
     "text": [
      "Gen. (0.98) | Discrim. (0.17): 100%|██████████| 100/100 [00:02<00:00, 41.75it/s]\n"
     ]
    },
    {
     "name": "stdout",
     "output_type": "stream",
     "text": [
      "> Generated 510 records for cc_num: 60427851591\n",
      "\n",
      "[163/931] Generating data for cc_num: 4474324669797121\n"
     ]
    },
    {
     "name": "stderr",
     "output_type": "stream",
     "text": [
      "Gen. (0.94) | Discrim. (-0.04): 100%|██████████| 100/100 [00:02<00:00, 45.33it/s]\n"
     ]
    },
    {
     "name": "stdout",
     "output_type": "stream",
     "text": [
      "> Generated 1530 records for cc_num: 4474324669797121\n",
      "\n",
      "[164/931] Generating data for cc_num: 60422928733\n"
     ]
    },
    {
     "name": "stderr",
     "output_type": "stream",
     "text": [
      "Gen. (0.17) | Discrim. (-0.11): 100%|██████████| 100/100 [00:02<00:00, 47.67it/s]\n"
     ]
    },
    {
     "name": "stdout",
     "output_type": "stream",
     "text": [
      "> Generated 1531 records for cc_num: 60422928733\n",
      "\n",
      "[165/931] Generating data for cc_num: 30234966027947\n"
     ]
    },
    {
     "name": "stderr",
     "output_type": "stream",
     "text": [
      "Gen. (0.49) | Discrim. (-0.10): 100%|██████████| 100/100 [00:01<00:00, 51.39it/s]\n"
     ]
    },
    {
     "name": "stdout",
     "output_type": "stream",
     "text": [
      "> Generated 2549 records for cc_num: 30234966027947\n",
      "\n",
      "[166/931] Generating data for cc_num: 4497451418073897078\n"
     ]
    },
    {
     "name": "stderr",
     "output_type": "stream",
     "text": [
      "Gen. (0.01) | Discrim. (-0.15): 100%|██████████| 100/100 [00:02<00:00, 45.97it/s]\n"
     ]
    },
    {
     "name": "stdout",
     "output_type": "stream",
     "text": [
      "> Generated 1019 records for cc_num: 4497451418073897078\n",
      "\n",
      "[167/931] Generating data for cc_num: 6011197122270059\n"
     ]
    },
    {
     "name": "stderr",
     "output_type": "stream",
     "text": [
      "Gen. (1.36) | Discrim. (-0.06): 100%|██████████| 100/100 [00:02<00:00, 44.52it/s]\n"
     ]
    },
    {
     "name": "stdout",
     "output_type": "stream",
     "text": [
      "> Generated 507 records for cc_num: 6011197122270059\n",
      "\n",
      "[168/931] Generating data for cc_num: 4933461930348832\n"
     ]
    },
    {
     "name": "stderr",
     "output_type": "stream",
     "text": [
      "Gen. (0.23) | Discrim. (0.06): 100%|██████████| 100/100 [00:02<00:00, 43.24it/s] \n"
     ]
    },
    {
     "name": "stdout",
     "output_type": "stream",
     "text": [
      "> Generated 1018 records for cc_num: 4933461930348832\n",
      "\n",
      "[169/931] Generating data for cc_num: 2256234701263057\n"
     ]
    },
    {
     "name": "stderr",
     "output_type": "stream",
     "text": [
      "Gen. (-0.29) | Discrim. (-0.11): 100%|██████████| 100/100 [00:02<00:00, 40.42it/s]\n"
     ]
    },
    {
     "name": "stdout",
     "output_type": "stream",
     "text": [
      "> Generated 1019 records for cc_num: 2256234701263057\n",
      "\n",
      "[170/931] Generating data for cc_num: 213174467670432\n"
     ]
    },
    {
     "name": "stderr",
     "output_type": "stream",
     "text": [
      "Gen. (0.65) | Discrim. (0.07): 100%|██████████| 100/100 [00:02<00:00, 43.27it/s]\n"
     ]
    },
    {
     "name": "stdout",
     "output_type": "stream",
     "text": [
      "> Generated 1529 records for cc_num: 213174467670432\n",
      "\n",
      "[171/931] Generating data for cc_num: 3556613125071656\n"
     ]
    },
    {
     "name": "stderr",
     "output_type": "stream",
     "text": [
      "Gen. (0.10) | Discrim. (-0.05): 100%|██████████| 100/100 [00:02<00:00, 40.93it/s]\n"
     ]
    },
    {
     "name": "stdout",
     "output_type": "stream",
     "text": [
      "> Generated 2551 records for cc_num: 3556613125071656\n",
      "\n",
      "[172/931] Generating data for cc_num: 378278619832195\n"
     ]
    },
    {
     "name": "stderr",
     "output_type": "stream",
     "text": [
      "Gen. (0.64) | Discrim. (0.06): 100%|██████████| 100/100 [00:02<00:00, 46.66it/s] \n"
     ]
    },
    {
     "name": "stdout",
     "output_type": "stream",
     "text": [
      "> Generated 1523 records for cc_num: 378278619832195\n",
      "\n",
      "[173/931] Generating data for cc_num: 676245600876\n"
     ]
    },
    {
     "name": "stderr",
     "output_type": "stream",
     "text": [
      "Gen. (0.60) | Discrim. (-0.05): 100%|██████████| 100/100 [00:02<00:00, 47.12it/s]\n"
     ]
    },
    {
     "name": "stdout",
     "output_type": "stream",
     "text": [
      "> Generated 1021 records for cc_num: 676245600876\n",
      "\n",
      "[174/931] Generating data for cc_num: 6011348830550197\n"
     ]
    },
    {
     "name": "stderr",
     "output_type": "stream",
     "text": [
      "Gen. (0.43) | Discrim. (-0.11): 100%|██████████| 100/100 [00:02<00:00, 40.89it/s]\n"
     ]
    },
    {
     "name": "stdout",
     "output_type": "stream",
     "text": [
      "> Generated 2550 records for cc_num: 6011348830550197\n",
      "\n",
      "[175/931] Generating data for cc_num: 4018105808392773675\n"
     ]
    },
    {
     "name": "stderr",
     "output_type": "stream",
     "text": [
      "Gen. (0.68) | Discrim. (0.12): 100%|██████████| 100/100 [00:02<00:00, 49.51it/s]\n"
     ]
    },
    {
     "name": "stdout",
     "output_type": "stream",
     "text": [
      "> Generated 1019 records for cc_num: 4018105808392773675\n",
      "\n",
      "[176/931] Generating data for cc_num: 30371006069917\n"
     ]
    },
    {
     "name": "stderr",
     "output_type": "stream",
     "text": [
      "Gen. (0.34) | Discrim. (-0.13): 100%|██████████| 100/100 [00:02<00:00, 48.35it/s]\n"
     ]
    },
    {
     "name": "stdout",
     "output_type": "stream",
     "text": [
      "> Generated 1019 records for cc_num: 30371006069917\n",
      "\n",
      "[177/931] Generating data for cc_num: 6011826317034777\n"
     ]
    },
    {
     "name": "stderr",
     "output_type": "stream",
     "text": [
      "Gen. (0.29) | Discrim. (0.06): 100%|██████████| 100/100 [00:01<00:00, 50.18it/s]\n"
     ]
    },
    {
     "name": "stdout",
     "output_type": "stream",
     "text": [
      "> Generated 0 records for cc_num: 6011826317034777\n",
      "\n",
      "[178/931] Generating data for cc_num: 345225948700767\n"
     ]
    },
    {
     "name": "stderr",
     "output_type": "stream",
     "text": [
      "Gen. (0.63) | Discrim. (-0.09): 100%|██████████| 100/100 [00:02<00:00, 41.99it/s]\n"
     ]
    },
    {
     "name": "stdout",
     "output_type": "stream",
     "text": [
      "> Generated 0 records for cc_num: 345225948700767\n",
      "\n",
      "[179/931] Generating data for cc_num: 342351256941125\n"
     ]
    },
    {
     "name": "stderr",
     "output_type": "stream",
     "text": [
      "Gen. (0.25) | Discrim. (-0.51): 100%|██████████| 100/100 [00:02<00:00, 44.42it/s]\n"
     ]
    },
    {
     "name": "stdout",
     "output_type": "stream",
     "text": [
      "> Generated 1527 records for cc_num: 342351256941125\n",
      "\n",
      "[180/931] Generating data for cc_num: 4079773899158\n"
     ]
    },
    {
     "name": "stderr",
     "output_type": "stream",
     "text": [
      "Gen. (0.25) | Discrim. (-0.05): 100%|██████████| 100/100 [00:02<00:00, 42.09it/s]\n"
     ]
    },
    {
     "name": "stdout",
     "output_type": "stream",
     "text": [
      "> Generated 2036 records for cc_num: 4079773899158\n",
      "\n",
      "[181/931] Generating data for cc_num: 30344654314976\n"
     ]
    },
    {
     "name": "stderr",
     "output_type": "stream",
     "text": [
      "Gen. (-0.49) | Discrim. (0.23): 100%|██████████| 100/100 [00:02<00:00, 40.36it/s]\n"
     ]
    },
    {
     "name": "stdout",
     "output_type": "stream",
     "text": [
      "> Generated 1018 records for cc_num: 30344654314976\n",
      "\n",
      "[182/931] Generating data for cc_num: 2305336922781618\n"
     ]
    },
    {
     "name": "stderr",
     "output_type": "stream",
     "text": [
      "Gen. (0.02) | Discrim. (0.12): 100%|██████████| 100/100 [00:02<00:00, 44.12it/s] \n"
     ]
    },
    {
     "name": "stdout",
     "output_type": "stream",
     "text": [
      "> Generated 1532 records for cc_num: 2305336922781618\n",
      "\n",
      "[183/931] Generating data for cc_num: 4243521033756702612\n"
     ]
    },
    {
     "name": "stderr",
     "output_type": "stream",
     "text": [
      "Gen. (0.71) | Discrim. (0.20): 100%|██████████| 100/100 [00:02<00:00, 47.15it/s]\n"
     ]
    },
    {
     "name": "stdout",
     "output_type": "stream",
     "text": [
      "> Generated 0 records for cc_num: 4243521033756702612\n",
      "\n",
      "[184/931] Generating data for cc_num: 501899453424\n"
     ]
    },
    {
     "name": "stderr",
     "output_type": "stream",
     "text": [
      "Gen. (0.17) | Discrim. (0.15): 100%|██████████| 100/100 [00:01<00:00, 50.19it/s] \n"
     ]
    },
    {
     "name": "stdout",
     "output_type": "stream",
     "text": [
      "> Generated 1529 records for cc_num: 501899453424\n",
      "\n",
      "[185/931] Generating data for cc_num: 4358137750029944984\n"
     ]
    },
    {
     "name": "stderr",
     "output_type": "stream",
     "text": [
      "Gen. (0.24) | Discrim. (0.01): 100%|██████████| 100/100 [00:02<00:00, 42.71it/s] \n"
     ]
    },
    {
     "name": "stdout",
     "output_type": "stream",
     "text": [
      "> Generated 1020 records for cc_num: 4358137750029944984\n",
      "\n",
      "[186/931] Generating data for cc_num: 213161869125933\n"
     ]
    },
    {
     "name": "stderr",
     "output_type": "stream",
     "text": [
      "Gen. (0.20) | Discrim. (-0.04): 100%|██████████| 100/100 [00:02<00:00, 40.49it/s]\n"
     ]
    },
    {
     "name": "stdout",
     "output_type": "stream",
     "text": [
      "> Generated 1533 records for cc_num: 213161869125933\n",
      "\n",
      "[187/931] Generating data for cc_num: 3583093681934489\n"
     ]
    },
    {
     "name": "stderr",
     "output_type": "stream",
     "text": [
      "Gen. (-0.79) | Discrim. (0.17): 100%|██████████| 100/100 [00:02<00:00, 49.23it/s]\n"
     ]
    },
    {
     "name": "stdout",
     "output_type": "stream",
     "text": [
      "> Generated 510 records for cc_num: 3583093681934489\n",
      "\n",
      "[188/931] Generating data for cc_num: 630412733309\n"
     ]
    },
    {
     "name": "stderr",
     "output_type": "stream",
     "text": [
      "Gen. (0.90) | Discrim. (-0.08): 100%|██████████| 100/100 [00:02<00:00, 48.15it/s]\n"
     ]
    },
    {
     "name": "stdout",
     "output_type": "stream",
     "text": [
      "> Generated 509 records for cc_num: 630412733309\n",
      "\n",
      "[189/931] Generating data for cc_num: 213186880359195\n"
     ]
    },
    {
     "name": "stderr",
     "output_type": "stream",
     "text": [
      "Gen. (-0.47) | Discrim. (-0.16): 100%|██████████| 100/100 [00:02<00:00, 44.93it/s]\n"
     ]
    },
    {
     "name": "stdout",
     "output_type": "stream",
     "text": [
      "> Generated 509 records for cc_num: 213186880359195\n",
      "\n",
      "[190/931] Generating data for cc_num: 180056173248083\n"
     ]
    },
    {
     "name": "stderr",
     "output_type": "stream",
     "text": [
      "Gen. (-0.02) | Discrim. (0.05): 100%|██████████| 100/100 [00:02<00:00, 48.36it/s]\n"
     ]
    },
    {
     "name": "stdout",
     "output_type": "stream",
     "text": [
      "> Generated 1021 records for cc_num: 180056173248083\n",
      "\n",
      "[191/931] Generating data for cc_num: 4191109180926792\n"
     ]
    },
    {
     "name": "stderr",
     "output_type": "stream",
     "text": [
      "Gen. (-0.22) | Discrim. (0.05): 100%|██████████| 100/100 [00:02<00:00, 41.79it/s]\n"
     ]
    },
    {
     "name": "stdout",
     "output_type": "stream",
     "text": [
      "> Generated 1531 records for cc_num: 4191109180926792\n",
      "\n",
      "[192/931] Generating data for cc_num: 30442439074871\n"
     ]
    },
    {
     "name": "stderr",
     "output_type": "stream",
     "text": [
      "Gen. (0.06) | Discrim. (-0.05): 100%|██████████| 100/100 [00:02<00:00, 38.08it/s]\n"
     ]
    },
    {
     "name": "stdout",
     "output_type": "stream",
     "text": [
      "> Generated 1528 records for cc_num: 30442439074871\n",
      "\n",
      "[193/931] Generating data for cc_num: 36192615525683\n"
     ]
    },
    {
     "name": "stderr",
     "output_type": "stream",
     "text": [
      "Gen. (0.82) | Discrim. (0.10): 100%|██████████| 100/100 [00:02<00:00, 39.82it/s]\n"
     ]
    },
    {
     "name": "stdout",
     "output_type": "stream",
     "text": [
      "> Generated 508 records for cc_num: 36192615525683\n",
      "\n",
      "[194/931] Generating data for cc_num: 3533742182628021\n"
     ]
    },
    {
     "name": "stderr",
     "output_type": "stream",
     "text": [
      "Gen. (0.63) | Discrim. (0.16): 100%|██████████| 100/100 [00:01<00:00, 51.01it/s]\n"
     ]
    },
    {
     "name": "stdout",
     "output_type": "stream",
     "text": [
      "> Generated 2543 records for cc_num: 3533742182628021\n",
      "\n",
      "[195/931] Generating data for cc_num: 630451534402\n"
     ]
    },
    {
     "name": "stderr",
     "output_type": "stream",
     "text": [
      "Gen. (0.39) | Discrim. (-0.07): 100%|██████████| 100/100 [00:02<00:00, 42.57it/s]\n"
     ]
    },
    {
     "name": "stdout",
     "output_type": "stream",
     "text": [
      "> Generated 3054 records for cc_num: 630451534402\n",
      "\n",
      "[196/931] Generating data for cc_num: 676309913934\n"
     ]
    },
    {
     "name": "stderr",
     "output_type": "stream",
     "text": [
      "Gen. (-0.30) | Discrim. (0.03): 100%|██████████| 100/100 [00:02<00:00, 43.65it/s]\n"
     ]
    },
    {
     "name": "stdout",
     "output_type": "stream",
     "text": [
      "> Generated 1017 records for cc_num: 676309913934\n",
      "\n",
      "[197/931] Generating data for cc_num: 3575540972310993\n"
     ]
    },
    {
     "name": "stderr",
     "output_type": "stream",
     "text": [
      "Gen. (0.53) | Discrim. (0.14): 100%|██████████| 100/100 [00:02<00:00, 40.28it/s]\n"
     ]
    },
    {
     "name": "stdout",
     "output_type": "stream",
     "text": [
      "> Generated 1530 records for cc_num: 3575540972310993\n",
      "\n",
      "[198/931] Generating data for cc_num: 6524376634971418\n"
     ]
    },
    {
     "name": "stderr",
     "output_type": "stream",
     "text": [
      "Gen. (0.37) | Discrim. (0.01): 100%|██████████| 100/100 [00:02<00:00, 40.36it/s]\n"
     ]
    },
    {
     "name": "stdout",
     "output_type": "stream",
     "text": [
      "> Generated 1020 records for cc_num: 6524376634971418\n",
      "\n",
      "[199/931] Generating data for cc_num: 3533800906065217\n"
     ]
    },
    {
     "name": "stderr",
     "output_type": "stream",
     "text": [
      "Gen. (0.65) | Discrim. (0.09): 100%|██████████| 100/100 [00:02<00:00, 39.85it/s]\n"
     ]
    },
    {
     "name": "stdout",
     "output_type": "stream",
     "text": [
      "> Generated 1533 records for cc_num: 3533800906065217\n",
      "\n",
      "[200/931] Generating data for cc_num: 340103199302564\n"
     ]
    },
    {
     "name": "stderr",
     "output_type": "stream",
     "text": [
      "Gen. (0.86) | Discrim. (-0.04): 100%|██████████| 100/100 [00:02<00:00, 42.24it/s]\n"
     ]
    },
    {
     "name": "stdout",
     "output_type": "stream",
     "text": [
      "> Generated 1019 records for cc_num: 340103199302564\n",
      "\n",
      "[201/931] Generating data for cc_num: 3518758680062249\n"
     ]
    },
    {
     "name": "stderr",
     "output_type": "stream",
     "text": [
      "Gen. (1.26) | Discrim. (-0.07): 100%|██████████| 100/100 [00:02<00:00, 48.74it/s]\n"
     ]
    },
    {
     "name": "stdout",
     "output_type": "stream",
     "text": [
      "> Generated 1528 records for cc_num: 3518758680062249\n",
      "\n",
      "[202/931] Generating data for cc_num: 4449530933957323\n"
     ]
    },
    {
     "name": "stderr",
     "output_type": "stream",
     "text": [
      "Gen. (-0.01) | Discrim. (0.03): 100%|██████████| 100/100 [00:01<00:00, 51.51it/s]\n"
     ]
    },
    {
     "name": "stdout",
     "output_type": "stream",
     "text": [
      "> Generated 2039 records for cc_num: 4449530933957323\n",
      "\n",
      "[203/931] Generating data for cc_num: 675990301623\n"
     ]
    },
    {
     "name": "stderr",
     "output_type": "stream",
     "text": [
      "Gen. (0.44) | Discrim. (0.03): 100%|██████████| 100/100 [00:02<00:00, 42.86it/s]\n"
     ]
    },
    {
     "name": "stdout",
     "output_type": "stream",
     "text": [
      "> Generated 2040 records for cc_num: 675990301623\n",
      "\n",
      "[204/931] Generating data for cc_num: 38199021865320\n"
     ]
    },
    {
     "name": "stderr",
     "output_type": "stream",
     "text": [
      "Gen. (0.46) | Discrim. (0.13): 100%|██████████| 100/100 [00:02<00:00, 39.49it/s]\n"
     ]
    },
    {
     "name": "stdout",
     "output_type": "stream",
     "text": [
      "> Generated 2038 records for cc_num: 38199021865320\n",
      "\n",
      "[205/931] Generating data for cc_num: 2720433095629877\n"
     ]
    },
    {
     "name": "stderr",
     "output_type": "stream",
     "text": [
      "Gen. (0.51) | Discrim. (0.06): 100%|██████████| 100/100 [00:02<00:00, 46.33it/s]\n"
     ]
    },
    {
     "name": "stdout",
     "output_type": "stream",
     "text": [
      "> Generated 3050 records for cc_num: 2720433095629877\n",
      "\n",
      "[206/931] Generating data for cc_num: 6502195877055606\n"
     ]
    },
    {
     "name": "stderr",
     "output_type": "stream",
     "text": [
      "Gen. (0.81) | Discrim. (-0.12): 100%|██████████| 100/100 [00:01<00:00, 50.00it/s]\n"
     ]
    },
    {
     "name": "stdout",
     "output_type": "stream",
     "text": [
      "> Generated 509 records for cc_num: 6502195877055606\n",
      "\n",
      "[207/931] Generating data for cc_num: 6011438889172900\n"
     ]
    },
    {
     "name": "stderr",
     "output_type": "stream",
     "text": [
      "Gen. (-0.05) | Discrim. (0.04): 100%|██████████| 100/100 [00:02<00:00, 48.10it/s]\n"
     ]
    },
    {
     "name": "stdout",
     "output_type": "stream",
     "text": [
      "> Generated 3059 records for cc_num: 6011438889172900\n",
      "\n",
      "[208/931] Generating data for cc_num: 2260801330657968\n"
     ]
    },
    {
     "name": "stderr",
     "output_type": "stream",
     "text": [
      "Gen. (0.68) | Discrim. (0.10): 100%|██████████| 100/100 [00:01<00:00, 51.36it/s]\n"
     ]
    },
    {
     "name": "stdout",
     "output_type": "stream",
     "text": [
      "> Generated 510 records for cc_num: 2260801330657968\n",
      "\n",
      "[209/931] Generating data for cc_num: 4844243189971\n"
     ]
    },
    {
     "name": "stderr",
     "output_type": "stream",
     "text": [
      "Gen. (0.67) | Discrim. (-0.04): 100%|██████████| 100/100 [00:02<00:00, 43.14it/s]\n"
     ]
    },
    {
     "name": "stdout",
     "output_type": "stream",
     "text": [
      "> Generated 0 records for cc_num: 4844243189971\n",
      "\n",
      "[210/931] Generating data for cc_num: 4426075337087318654\n"
     ]
    },
    {
     "name": "stderr",
     "output_type": "stream",
     "text": [
      "Gen. (-0.43) | Discrim. (0.15): 100%|██████████| 100/100 [00:02<00:00, 46.20it/s]\n"
     ]
    },
    {
     "name": "stdout",
     "output_type": "stream",
     "text": [
      "> Generated 508 records for cc_num: 4426075337087318654\n",
      "\n",
      "[211/931] Generating data for cc_num: 4996263498048679\n"
     ]
    },
    {
     "name": "stderr",
     "output_type": "stream",
     "text": [
      "Gen. (-0.16) | Discrim. (-0.07): 100%|██████████| 100/100 [00:02<00:00, 41.58it/s]\n"
     ]
    },
    {
     "name": "stdout",
     "output_type": "stream",
     "text": [
      "> Generated 1020 records for cc_num: 4996263498048679\n",
      "\n",
      "[212/931] Generating data for cc_num: 213193596103206\n"
     ]
    },
    {
     "name": "stderr",
     "output_type": "stream",
     "text": [
      "Gen. (0.94) | Discrim. (-0.11): 100%|██████████| 100/100 [00:02<00:00, 44.02it/s]\n"
     ]
    },
    {
     "name": "stdout",
     "output_type": "stream",
     "text": [
      "> Generated 2035 records for cc_num: 213193596103206\n",
      "\n",
      "[213/931] Generating data for cc_num: 6517217825320610\n"
     ]
    },
    {
     "name": "stderr",
     "output_type": "stream",
     "text": [
      "Gen. (0.44) | Discrim. (-0.15): 100%|██████████| 100/100 [00:02<00:00, 43.67it/s]\n"
     ]
    },
    {
     "name": "stdout",
     "output_type": "stream",
     "text": [
      "> Generated 2038 records for cc_num: 6517217825320610\n",
      "\n",
      "[214/931] Generating data for cc_num: 180042946491150\n"
     ]
    },
    {
     "name": "stderr",
     "output_type": "stream",
     "text": [
      "Gen. (0.40) | Discrim. (0.14): 100%|██████████| 100/100 [00:02<00:00, 40.97it/s]\n"
     ]
    },
    {
     "name": "stdout",
     "output_type": "stream",
     "text": [
      "> Generated 2039 records for cc_num: 180042946491150\n",
      "\n",
      "[215/931] Generating data for cc_num: 371226440126102\n"
     ]
    },
    {
     "name": "stderr",
     "output_type": "stream",
     "text": [
      "Gen. (0.15) | Discrim. (-0.09): 100%|██████████| 100/100 [00:02<00:00, 41.11it/s]\n"
     ]
    },
    {
     "name": "stdout",
     "output_type": "stream",
     "text": [
      "> Generated 2541 records for cc_num: 371226440126102\n",
      "\n",
      "[216/931] Generating data for cc_num: 5540636818935089\n"
     ]
    },
    {
     "name": "stderr",
     "output_type": "stream",
     "text": [
      "Gen. (-0.06) | Discrim. (-0.07): 100%|██████████| 100/100 [00:02<00:00, 46.86it/s]\n"
     ]
    },
    {
     "name": "stdout",
     "output_type": "stream",
     "text": [
      "> Generated 2548 records for cc_num: 5540636818935089\n",
      "\n",
      "[217/931] Generating data for cc_num: 2242542703101233\n"
     ]
    },
    {
     "name": "stderr",
     "output_type": "stream",
     "text": [
      "Gen. (-0.43) | Discrim. (0.03): 100%|██████████| 100/100 [00:02<00:00, 41.80it/s]\n"
     ]
    },
    {
     "name": "stdout",
     "output_type": "stream",
     "text": [
      "> Generated 3053 records for cc_num: 2242542703101233\n",
      "\n",
      "[218/931] Generating data for cc_num: 180081032825079\n"
     ]
    },
    {
     "name": "stderr",
     "output_type": "stream",
     "text": [
      "Gen. (0.50) | Discrim. (0.03): 100%|██████████| 100/100 [00:02<00:00, 42.31it/s]\n"
     ]
    },
    {
     "name": "stdout",
     "output_type": "stream",
     "text": [
      "> Generated 1019 records for cc_num: 180081032825079\n",
      "\n",
      "[219/931] Generating data for cc_num: 213124978348176\n"
     ]
    },
    {
     "name": "stderr",
     "output_type": "stream",
     "text": [
      "Gen. (-0.18) | Discrim. (0.06): 100%|██████████| 100/100 [00:02<00:00, 42.66it/s]\n"
     ]
    },
    {
     "name": "stdout",
     "output_type": "stream",
     "text": [
      "> Generated 1526 records for cc_num: 213124978348176\n",
      "\n",
      "[220/931] Generating data for cc_num: 213178765398315\n"
     ]
    },
    {
     "name": "stderr",
     "output_type": "stream",
     "text": [
      "Gen. (-0.04) | Discrim. (0.20): 100%|██████████| 100/100 [00:02<00:00, 47.88it/s]\n"
     ]
    },
    {
     "name": "stdout",
     "output_type": "stream",
     "text": [
      "> Generated 2040 records for cc_num: 213178765398315\n",
      "\n",
      "[221/931] Generating data for cc_num: 4302475216404898\n"
     ]
    },
    {
     "name": "stderr",
     "output_type": "stream",
     "text": [
      "Gen. (-0.53) | Discrim. (0.01): 100%|██████████| 100/100 [00:02<00:00, 42.62it/s]\n"
     ]
    },
    {
     "name": "stdout",
     "output_type": "stream",
     "text": [
      "> Generated 1530 records for cc_num: 4302475216404898\n",
      "\n",
      "[222/931] Generating data for cc_num: 180058696935600\n"
     ]
    },
    {
     "name": "stderr",
     "output_type": "stream",
     "text": [
      "Gen. (-0.15) | Discrim. (0.10): 100%|██████████| 100/100 [00:02<00:00, 42.66it/s]\n"
     ]
    },
    {
     "name": "stdout",
     "output_type": "stream",
     "text": [
      "> Generated 508 records for cc_num: 180058696935600\n",
      "\n",
      "[223/931] Generating data for cc_num: 38947654498698\n"
     ]
    },
    {
     "name": "stderr",
     "output_type": "stream",
     "text": [
      "Gen. (-0.17) | Discrim. (0.03): 100%|██████████| 100/100 [00:02<00:00, 48.57it/s]\n"
     ]
    },
    {
     "name": "stdout",
     "output_type": "stream",
     "text": [
      "> Generated 1528 records for cc_num: 38947654498698\n",
      "\n",
      "[224/931] Generating data for cc_num: 3553629419254918\n"
     ]
    },
    {
     "name": "stderr",
     "output_type": "stream",
     "text": [
      "Gen. (0.35) | Discrim. (-0.28): 100%|██████████| 100/100 [00:02<00:00, 42.78it/s]\n"
     ]
    },
    {
     "name": "stdout",
     "output_type": "stream",
     "text": [
      "> Generated 3060 records for cc_num: 3553629419254918\n",
      "\n",
      "[225/931] Generating data for cc_num: 3597337756918966\n"
     ]
    },
    {
     "name": "stderr",
     "output_type": "stream",
     "text": [
      "Gen. (0.68) | Discrim. (-0.07): 100%|██████████| 100/100 [00:02<00:00, 43.71it/s]\n"
     ]
    },
    {
     "name": "stdout",
     "output_type": "stream",
     "text": [
      "> Generated 1019 records for cc_num: 3597337756918966\n",
      "\n",
      "[226/931] Generating data for cc_num: 4169759661243568\n"
     ]
    },
    {
     "name": "stderr",
     "output_type": "stream",
     "text": [
      "Gen. (0.95) | Discrim. (0.02): 100%|██████████| 100/100 [00:02<00:00, 47.08it/s]\n"
     ]
    },
    {
     "name": "stdout",
     "output_type": "stream",
     "text": [
      "> Generated 2036 records for cc_num: 4169759661243568\n",
      "\n",
      "[227/931] Generating data for cc_num: 3593399694467427\n"
     ]
    },
    {
     "name": "stderr",
     "output_type": "stream",
     "text": [
      "Gen. (0.39) | Discrim. (-0.10): 100%|██████████| 100/100 [00:02<00:00, 47.99it/s]\n"
     ]
    },
    {
     "name": "stdout",
     "output_type": "stream",
     "text": [
      "> Generated 509 records for cc_num: 3593399694467427\n",
      "\n",
      "[228/931] Generating data for cc_num: 4670613943676271\n"
     ]
    },
    {
     "name": "stderr",
     "output_type": "stream",
     "text": [
      "Gen. (0.31) | Discrim. (-0.03): 100%|██████████| 100/100 [00:02<00:00, 49.59it/s]\n"
     ]
    },
    {
     "name": "stdout",
     "output_type": "stream",
     "text": [
      "> Generated 1021 records for cc_num: 4670613943676271\n",
      "\n",
      "[229/931] Generating data for cc_num: 639023984367\n"
     ]
    },
    {
     "name": "stderr",
     "output_type": "stream",
     "text": [
      "Gen. (0.63) | Discrim. (0.05): 100%|██████████| 100/100 [00:02<00:00, 40.08it/s]\n"
     ]
    },
    {
     "name": "stdout",
     "output_type": "stream",
     "text": [
      "> Generated 2545 records for cc_num: 639023984367\n",
      "\n",
      "[230/931] Generating data for cc_num: 501828204849\n"
     ]
    },
    {
     "name": "stderr",
     "output_type": "stream",
     "text": [
      "Gen. (-0.21) | Discrim. (-0.10): 100%|██████████| 100/100 [00:02<00:00, 41.68it/s]\n"
     ]
    },
    {
     "name": "stdout",
     "output_type": "stream",
     "text": [
      "> Generated 507 records for cc_num: 501828204849\n",
      "\n",
      "[231/931] Generating data for cc_num: 345933964507467\n"
     ]
    },
    {
     "name": "stderr",
     "output_type": "stream",
     "text": [
      "Gen. (1.33) | Discrim. (0.09): 100%|██████████| 100/100 [00:02<00:00, 39.57it/s]\n"
     ]
    },
    {
     "name": "stdout",
     "output_type": "stream",
     "text": [
      "> Generated 3056 records for cc_num: 345933964507467\n",
      "\n",
      "[232/931] Generating data for cc_num: 4464457352619\n"
     ]
    },
    {
     "name": "stderr",
     "output_type": "stream",
     "text": [
      "Gen. (0.16) | Discrim. (-0.29): 100%|██████████| 100/100 [00:02<00:00, 39.07it/s]\n"
     ]
    },
    {
     "name": "stdout",
     "output_type": "stream",
     "text": [
      "> Generated 2546 records for cc_num: 4464457352619\n",
      "\n",
      "[233/931] Generating data for cc_num: 6011948324228984\n"
     ]
    },
    {
     "name": "stderr",
     "output_type": "stream",
     "text": [
      "Gen. (0.60) | Discrim. (-0.07): 100%|██████████| 100/100 [00:02<00:00, 40.71it/s]\n"
     ]
    },
    {
     "name": "stdout",
     "output_type": "stream",
     "text": [
      "> Generated 510 records for cc_num: 6011948324228984\n",
      "\n",
      "[234/931] Generating data for cc_num: 38057513087029\n"
     ]
    },
    {
     "name": "stderr",
     "output_type": "stream",
     "text": [
      "Gen. (-0.11) | Discrim. (0.08): 100%|██████████| 100/100 [00:02<00:00, 40.87it/s]\n"
     ]
    },
    {
     "name": "stdout",
     "output_type": "stream",
     "text": [
      "> Generated 1528 records for cc_num: 38057513087029\n",
      "\n",
      "[235/931] Generating data for cc_num: 30118423745458\n"
     ]
    },
    {
     "name": "stderr",
     "output_type": "stream",
     "text": [
      "Gen. (-0.06) | Discrim. (0.22): 100%|██████████| 100/100 [00:02<00:00, 49.59it/s]\n"
     ]
    },
    {
     "name": "stdout",
     "output_type": "stream",
     "text": [
      "> Generated 2039 records for cc_num: 30118423745458\n",
      "\n",
      "[236/931] Generating data for cc_num: 3561963695236764\n"
     ]
    },
    {
     "name": "stderr",
     "output_type": "stream",
     "text": [
      "Gen. (0.18) | Discrim. (0.31): 100%|██████████| 100/100 [00:02<00:00, 45.12it/s] \n"
     ]
    },
    {
     "name": "stdout",
     "output_type": "stream",
     "text": [
      "> Generated 1524 records for cc_num: 3561963695236764\n",
      "\n",
      "[237/931] Generating data for cc_num: 5596347693144598\n"
     ]
    },
    {
     "name": "stderr",
     "output_type": "stream",
     "text": [
      "Gen. (-0.15) | Discrim. (0.15): 100%|██████████| 100/100 [00:02<00:00, 44.43it/s]\n"
     ]
    },
    {
     "name": "stdout",
     "output_type": "stream",
     "text": [
      "> Generated 1528 records for cc_num: 5596347693144598\n",
      "\n",
      "[238/931] Generating data for cc_num: 571314334723\n"
     ]
    },
    {
     "name": "stderr",
     "output_type": "stream",
     "text": [
      "Gen. (0.16) | Discrim. (0.02): 100%|██████████| 100/100 [00:02<00:00, 44.48it/s] \n"
     ]
    },
    {
     "name": "stdout",
     "output_type": "stream",
     "text": [
      "> Generated 509 records for cc_num: 571314334723\n",
      "\n",
      "[239/931] Generating data for cc_num: 4682744518117239\n"
     ]
    },
    {
     "name": "stderr",
     "output_type": "stream",
     "text": [
      "Gen. (0.20) | Discrim. (0.29): 100%|██████████| 100/100 [00:02<00:00, 44.89it/s] \n"
     ]
    },
    {
     "name": "stdout",
     "output_type": "stream",
     "text": [
      "> Generated 510 records for cc_num: 4682744518117239\n",
      "\n",
      "[240/931] Generating data for cc_num: 6506116513503136\n"
     ]
    },
    {
     "name": "stderr",
     "output_type": "stream",
     "text": [
      "Gen. (0.78) | Discrim. (0.20): 100%|██████████| 100/100 [00:02<00:00, 44.82it/s]\n"
     ]
    },
    {
     "name": "stdout",
     "output_type": "stream",
     "text": [
      "> Generated 2039 records for cc_num: 6506116513503136\n",
      "\n",
      "[241/931] Generating data for cc_num: 2248348993063230\n"
     ]
    },
    {
     "name": "stderr",
     "output_type": "stream",
     "text": [
      "Gen. (0.18) | Discrim. (0.08): 100%|██████████| 100/100 [00:02<00:00, 46.37it/s] \n"
     ]
    },
    {
     "name": "stdout",
     "output_type": "stream",
     "text": [
      "> Generated 1018 records for cc_num: 2248348993063230\n",
      "\n",
      "[242/931] Generating data for cc_num: 571365235126\n"
     ]
    },
    {
     "name": "stderr",
     "output_type": "stream",
     "text": [
      "Gen. (0.11) | Discrim. (0.26): 100%|██████████| 100/100 [00:02<00:00, 41.38it/s] \n"
     ]
    },
    {
     "name": "stdout",
     "output_type": "stream",
     "text": [
      "> Generated 3054 records for cc_num: 571365235126\n",
      "\n",
      "[243/931] Generating data for cc_num: 3567527758368741\n"
     ]
    },
    {
     "name": "stderr",
     "output_type": "stream",
     "text": [
      "Gen. (1.08) | Discrim. (-0.16): 100%|██████████| 100/100 [00:02<00:00, 46.89it/s]\n"
     ]
    },
    {
     "name": "stdout",
     "output_type": "stream",
     "text": [
      "> Generated 1018 records for cc_num: 3567527758368741\n",
      "\n",
      "[244/931] Generating data for cc_num: 3517527805128735\n"
     ]
    },
    {
     "name": "stderr",
     "output_type": "stream",
     "text": [
      "Gen. (0.82) | Discrim. (0.06): 100%|██████████| 100/100 [00:02<00:00, 41.94it/s]\n"
     ]
    },
    {
     "name": "stdout",
     "output_type": "stream",
     "text": [
      "> Generated 1526 records for cc_num: 3517527805128735\n",
      "\n",
      "[245/931] Generating data for cc_num: 3501509250702469\n"
     ]
    },
    {
     "name": "stderr",
     "output_type": "stream",
     "text": [
      "Gen. (0.94) | Discrim. (-0.17): 100%|██████████| 100/100 [00:02<00:00, 47.82it/s]\n"
     ]
    },
    {
     "name": "stdout",
     "output_type": "stream",
     "text": [
      "> Generated 2032 records for cc_num: 3501509250702469\n",
      "\n",
      "[246/931] Generating data for cc_num: 370877495212014\n"
     ]
    },
    {
     "name": "stderr",
     "output_type": "stream",
     "text": [
      "Gen. (-0.74) | Discrim. (0.08): 100%|██████████| 100/100 [00:02<00:00, 46.61it/s]\n"
     ]
    },
    {
     "name": "stdout",
     "output_type": "stream",
     "text": [
      "> Generated 2545 records for cc_num: 370877495212014\n",
      "\n",
      "[247/931] Generating data for cc_num: 4301028321766222513\n"
     ]
    },
    {
     "name": "stderr",
     "output_type": "stream",
     "text": [
      "Gen. (0.22) | Discrim. (0.20): 100%|██████████| 100/100 [00:02<00:00, 46.47it/s]\n"
     ]
    },
    {
     "name": "stdout",
     "output_type": "stream",
     "text": [
      "> Generated 2041 records for cc_num: 4301028321766222513\n",
      "\n",
      "[248/931] Generating data for cc_num: 3576511691045060\n"
     ]
    },
    {
     "name": "stderr",
     "output_type": "stream",
     "text": [
      "Gen. (0.73) | Discrim. (0.02): 100%|██████████| 100/100 [00:02<00:00, 43.77it/s]\n"
     ]
    },
    {
     "name": "stdout",
     "output_type": "stream",
     "text": [
      "> Generated 506 records for cc_num: 3576511691045060\n",
      "\n",
      "[249/931] Generating data for cc_num: 5152054598359927\n"
     ]
    },
    {
     "name": "stderr",
     "output_type": "stream",
     "text": [
      "Gen. (-0.36) | Discrim. (0.06): 100%|██████████| 100/100 [00:02<00:00, 45.25it/s]\n"
     ]
    },
    {
     "name": "stdout",
     "output_type": "stream",
     "text": [
      "> Generated 1526 records for cc_num: 5152054598359927\n",
      "\n",
      "[250/931] Generating data for cc_num: 4092452671396169678\n"
     ]
    },
    {
     "name": "stderr",
     "output_type": "stream",
     "text": [
      "Gen. (0.89) | Discrim. (-0.03): 100%|██████████| 100/100 [00:02<00:00, 42.08it/s]\n"
     ]
    },
    {
     "name": "stdout",
     "output_type": "stream",
     "text": [
      "> Generated 2039 records for cc_num: 4092452671396169678\n",
      "\n",
      "[251/931] Generating data for cc_num: 4308156300921054\n"
     ]
    },
    {
     "name": "stderr",
     "output_type": "stream",
     "text": [
      "Gen. (0.63) | Discrim. (-0.07): 100%|██████████| 100/100 [00:02<00:00, 41.98it/s]\n"
     ]
    },
    {
     "name": "stdout",
     "output_type": "stream",
     "text": [
      "> Generated 508 records for cc_num: 4308156300921054\n",
      "\n",
      "[252/931] Generating data for cc_num: 3519232971341141\n"
     ]
    },
    {
     "name": "stderr",
     "output_type": "stream",
     "text": [
      "Gen. (-0.02) | Discrim. (0.19): 100%|██████████| 100/100 [00:02<00:00, 47.16it/s]\n"
     ]
    },
    {
     "name": "stdout",
     "output_type": "stream",
     "text": [
      "> Generated 1016 records for cc_num: 3519232971341141\n",
      "\n",
      "[253/931] Generating data for cc_num: 4822367783500458\n"
     ]
    },
    {
     "name": "stderr",
     "output_type": "stream",
     "text": [
      "Gen. (0.85) | Discrim. (-0.04): 100%|██████████| 100/100 [00:02<00:00, 41.20it/s]\n"
     ]
    },
    {
     "name": "stdout",
     "output_type": "stream",
     "text": [
      "> Generated 1017 records for cc_num: 4822367783500458\n",
      "\n",
      "[254/931] Generating data for cc_num: 4319584480204988982\n"
     ]
    },
    {
     "name": "stderr",
     "output_type": "stream",
     "text": [
      "Gen. (0.94) | Discrim. (-0.19): 100%|██████████| 100/100 [00:02<00:00, 42.07it/s]\n"
     ]
    },
    {
     "name": "stdout",
     "output_type": "stream",
     "text": [
      "> Generated 2037 records for cc_num: 4319584480204988982\n",
      "\n",
      "[255/931] Generating data for cc_num: 4265776278887457\n"
     ]
    },
    {
     "name": "stderr",
     "output_type": "stream",
     "text": [
      "Gen. (0.19) | Discrim. (-0.07): 100%|██████████| 100/100 [00:02<00:00, 40.69it/s]\n"
     ]
    },
    {
     "name": "stdout",
     "output_type": "stream",
     "text": [
      "> Generated 2035 records for cc_num: 4265776278887457\n",
      "\n",
      "[256/931] Generating data for cc_num: 3508104404056005\n"
     ]
    },
    {
     "name": "stderr",
     "output_type": "stream",
     "text": [
      "Gen. (0.61) | Discrim. (0.17): 100%|██████████| 100/100 [00:02<00:00, 44.16it/s]\n"
     ]
    },
    {
     "name": "stdout",
     "output_type": "stream",
     "text": [
      "> Generated 1019 records for cc_num: 3508104404056005\n",
      "\n",
      "[257/931] Generating data for cc_num: 5559857416065248\n"
     ]
    },
    {
     "name": "stderr",
     "output_type": "stream",
     "text": [
      "Gen. (0.14) | Discrim. (0.02): 100%|██████████| 100/100 [00:02<00:00, 40.40it/s] \n"
     ]
    },
    {
     "name": "stdout",
     "output_type": "stream",
     "text": [
      "> Generated 1529 records for cc_num: 5559857416065248\n",
      "\n",
      "[258/931] Generating data for cc_num: 6011679934075347\n"
     ]
    },
    {
     "name": "stderr",
     "output_type": "stream",
     "text": [
      "Gen. (-0.63) | Discrim. (-0.26): 100%|██████████| 100/100 [00:02<00:00, 46.07it/s]\n"
     ]
    },
    {
     "name": "stdout",
     "output_type": "stream",
     "text": [
      "> Generated 1529 records for cc_num: 6011679934075347\n",
      "\n",
      "[259/931] Generating data for cc_num: 377895991033232\n"
     ]
    },
    {
     "name": "stderr",
     "output_type": "stream",
     "text": [
      "Gen. (1.14) | Discrim. (-0.01): 100%|██████████| 100/100 [00:02<00:00, 43.12it/s]\n"
     ]
    },
    {
     "name": "stdout",
     "output_type": "stream",
     "text": [
      "> Generated 1017 records for cc_num: 377895991033232\n",
      "\n",
      "[260/931] Generating data for cc_num: 4467456915153312231\n"
     ]
    },
    {
     "name": "stderr",
     "output_type": "stream",
     "text": [
      "Gen. (1.13) | Discrim. (0.12): 100%|██████████| 100/100 [00:02<00:00, 42.23it/s]\n"
     ]
    },
    {
     "name": "stdout",
     "output_type": "stream",
     "text": [
      "> Generated 1018 records for cc_num: 4467456915153312231\n",
      "\n",
      "[261/931] Generating data for cc_num: 342360239917375\n"
     ]
    },
    {
     "name": "stderr",
     "output_type": "stream",
     "text": [
      "Gen. (0.89) | Discrim. (0.01): 100%|██████████| 100/100 [00:02<00:00, 46.95it/s]\n"
     ]
    },
    {
     "name": "stdout",
     "output_type": "stream",
     "text": [
      "> Generated 509 records for cc_num: 342360239917375\n",
      "\n",
      "[262/931] Generating data for cc_num: 38580485618059\n"
     ]
    },
    {
     "name": "stderr",
     "output_type": "stream",
     "text": [
      "Gen. (0.94) | Discrim. (-0.06): 100%|██████████| 100/100 [00:02<00:00, 45.75it/s]\n"
     ]
    },
    {
     "name": "stdout",
     "output_type": "stream",
     "text": [
      "> Generated 2032 records for cc_num: 38580485618059\n",
      "\n",
      "[263/931] Generating data for cc_num: 4451438912406400\n"
     ]
    },
    {
     "name": "stderr",
     "output_type": "stream",
     "text": [
      "Gen. (-0.19) | Discrim. (-0.16): 100%|██████████| 100/100 [00:02<00:00, 47.57it/s]\n"
     ]
    },
    {
     "name": "stdout",
     "output_type": "stream",
     "text": [
      "> Generated 1014 records for cc_num: 4451438912406400\n",
      "\n",
      "[264/931] Generating data for cc_num: 3565196229855512\n"
     ]
    },
    {
     "name": "stderr",
     "output_type": "stream",
     "text": [
      "Gen. (-0.37) | Discrim. (-0.10): 100%|██████████| 100/100 [00:01<00:00, 51.31it/s]\n"
     ]
    },
    {
     "name": "stdout",
     "output_type": "stream",
     "text": [
      "> Generated 1017 records for cc_num: 3565196229855512\n",
      "\n",
      "[265/931] Generating data for cc_num: 180069253480336\n"
     ]
    },
    {
     "name": "stderr",
     "output_type": "stream",
     "text": [
      "Gen. (1.67) | Discrim. (0.09): 100%|██████████| 100/100 [00:02<00:00, 49.97it/s]\n"
     ]
    },
    {
     "name": "stdout",
     "output_type": "stream",
     "text": [
      "> Generated 1019 records for cc_num: 180069253480336\n",
      "\n",
      "[266/931] Generating data for cc_num: 377234009633447\n"
     ]
    },
    {
     "name": "stderr",
     "output_type": "stream",
     "text": [
      "Gen. (0.23) | Discrim. (0.05): 100%|██████████| 100/100 [00:02<00:00, 43.07it/s] \n"
     ]
    },
    {
     "name": "stdout",
     "output_type": "stream",
     "text": [
      "> Generated 2041 records for cc_num: 377234009633447\n",
      "\n",
      "[267/931] Generating data for cc_num: 4798937978667559470\n"
     ]
    },
    {
     "name": "stderr",
     "output_type": "stream",
     "text": [
      "Gen. (0.56) | Discrim. (-0.10): 100%|██████████| 100/100 [00:02<00:00, 44.42it/s]\n"
     ]
    },
    {
     "name": "stdout",
     "output_type": "stream",
     "text": [
      "> Generated 508 records for cc_num: 4798937978667559470\n",
      "\n",
      "[268/931] Generating data for cc_num: 4481172224716138389\n"
     ]
    },
    {
     "name": "stderr",
     "output_type": "stream",
     "text": [
      "Gen. (0.32) | Discrim. (-0.11): 100%|██████████| 100/100 [00:02<00:00, 42.93it/s]\n"
     ]
    },
    {
     "name": "stdout",
     "output_type": "stream",
     "text": [
      "> Generated 0 records for cc_num: 4481172224716138389\n",
      "\n",
      "[269/931] Generating data for cc_num: 4769426683924058915\n"
     ]
    },
    {
     "name": "stderr",
     "output_type": "stream",
     "text": [
      "Gen. (0.19) | Discrim. (0.32): 100%|██████████| 100/100 [00:02<00:00, 41.26it/s] \n"
     ]
    },
    {
     "name": "stdout",
     "output_type": "stream",
     "text": [
      "> Generated 2040 records for cc_num: 4769426683924058915\n",
      "\n",
      "[270/931] Generating data for cc_num: 4610050989831291\n"
     ]
    },
    {
     "name": "stderr",
     "output_type": "stream",
     "text": [
      "Gen. (0.00) | Discrim. (-0.02): 100%|██████████| 100/100 [00:01<00:00, 51.24it/s]\n"
     ]
    },
    {
     "name": "stdout",
     "output_type": "stream",
     "text": [
      "> Generated 1529 records for cc_num: 4610050989831291\n",
      "\n",
      "[271/931] Generating data for cc_num: 501894933032\n"
     ]
    },
    {
     "name": "stderr",
     "output_type": "stream",
     "text": [
      "Gen. (0.06) | Discrim. (0.19): 100%|██████████| 100/100 [00:02<00:00, 45.10it/s] \n"
     ]
    },
    {
     "name": "stdout",
     "output_type": "stream",
     "text": [
      "> Generated 0 records for cc_num: 501894933032\n",
      "\n",
      "[272/931] Generating data for cc_num: 3506040590383211\n"
     ]
    },
    {
     "name": "stderr",
     "output_type": "stream",
     "text": [
      "Gen. (1.08) | Discrim. (0.32): 100%|██████████| 100/100 [00:02<00:00, 47.67it/s]\n"
     ]
    },
    {
     "name": "stdout",
     "output_type": "stream",
     "text": [
      "> Generated 1015 records for cc_num: 3506040590383211\n",
      "\n",
      "[273/931] Generating data for cc_num: 676118385837\n"
     ]
    },
    {
     "name": "stderr",
     "output_type": "stream",
     "text": [
      "Gen. (0.44) | Discrim. (0.09): 100%|██████████| 100/100 [00:02<00:00, 49.65it/s] \n"
     ]
    },
    {
     "name": "stdout",
     "output_type": "stream",
     "text": [
      "> Generated 1016 records for cc_num: 676118385837\n",
      "\n",
      "[274/931] Generating data for cc_num: 2283743876903625\n"
     ]
    },
    {
     "name": "stderr",
     "output_type": "stream",
     "text": [
      "Gen. (0.21) | Discrim. (0.14): 100%|██████████| 100/100 [00:02<00:00, 46.83it/s]\n"
     ]
    },
    {
     "name": "stdout",
     "output_type": "stream",
     "text": [
      "> Generated 2543 records for cc_num: 2283743876903625\n",
      "\n",
      "[275/931] Generating data for cc_num: 3552581383553463\n"
     ]
    },
    {
     "name": "stderr",
     "output_type": "stream",
     "text": [
      "Gen. (0.71) | Discrim. (0.24): 100%|██████████| 100/100 [00:02<00:00, 42.92it/s]\n"
     ]
    },
    {
     "name": "stdout",
     "output_type": "stream",
     "text": [
      "> Generated 1526 records for cc_num: 3552581383553463\n",
      "\n",
      "[276/931] Generating data for cc_num: 4917187576956394\n"
     ]
    },
    {
     "name": "stderr",
     "output_type": "stream",
     "text": [
      "Gen. (0.75) | Discrim. (-0.01): 100%|██████████| 100/100 [00:02<00:00, 42.52it/s]\n"
     ]
    },
    {
     "name": "stdout",
     "output_type": "stream",
     "text": [
      "> Generated 1017 records for cc_num: 4917187576956394\n",
      "\n",
      "[277/931] Generating data for cc_num: 676148621961\n"
     ]
    },
    {
     "name": "stderr",
     "output_type": "stream",
     "text": [
      "Gen. (0.45) | Discrim. (-0.01): 100%|██████████| 100/100 [00:02<00:00, 40.72it/s]\n"
     ]
    },
    {
     "name": "stdout",
     "output_type": "stream",
     "text": [
      "> Generated 1019 records for cc_num: 676148621961\n",
      "\n",
      "[278/931] Generating data for cc_num: 213173753804333\n"
     ]
    },
    {
     "name": "stderr",
     "output_type": "stream",
     "text": [
      "Gen. (0.47) | Discrim. (-0.05): 100%|██████████| 100/100 [00:02<00:00, 42.54it/s]\n"
     ]
    },
    {
     "name": "stdout",
     "output_type": "stream",
     "text": [
      "> Generated 1526 records for cc_num: 213173753804333\n",
      "\n",
      "[279/931] Generating data for cc_num: 375848982312810\n"
     ]
    },
    {
     "name": "stderr",
     "output_type": "stream",
     "text": [
      "Gen. (-0.47) | Discrim. (-0.11): 100%|██████████| 100/100 [00:02<00:00, 40.29it/s]\n"
     ]
    },
    {
     "name": "stdout",
     "output_type": "stream",
     "text": [
      "> Generated 1530 records for cc_num: 375848982312810\n",
      "\n",
      "[280/931] Generating data for cc_num: 377113842678100\n"
     ]
    },
    {
     "name": "stderr",
     "output_type": "stream",
     "text": [
      "Gen. (-0.55) | Discrim. (-0.07): 100%|██████████| 100/100 [00:02<00:00, 43.32it/s]\n"
     ]
    },
    {
     "name": "stdout",
     "output_type": "stream",
     "text": [
      "> Generated 2041 records for cc_num: 377113842678100\n",
      "\n",
      "[281/931] Generating data for cc_num: 4239552724014407\n"
     ]
    },
    {
     "name": "stderr",
     "output_type": "stream",
     "text": [
      "Gen. (-0.24) | Discrim. (-0.04): 100%|██████████| 100/100 [00:02<00:00, 40.99it/s]\n"
     ]
    },
    {
     "name": "stdout",
     "output_type": "stream",
     "text": [
      "> Generated 1528 records for cc_num: 4239552724014407\n",
      "\n",
      "[282/931] Generating data for cc_num: 3595111028444131\n"
     ]
    },
    {
     "name": "stderr",
     "output_type": "stream",
     "text": [
      "Gen. (0.53) | Discrim. (0.04): 100%|██████████| 100/100 [00:02<00:00, 45.31it/s] \n"
     ]
    },
    {
     "name": "stdout",
     "output_type": "stream",
     "text": [
      "> Generated 506 records for cc_num: 3595111028444131\n",
      "\n",
      "[283/931] Generating data for cc_num: 4689147265057948423\n"
     ]
    },
    {
     "name": "stderr",
     "output_type": "stream",
     "text": [
      "Gen. (0.40) | Discrim. (0.13): 100%|██████████| 100/100 [00:02<00:00, 42.68it/s] \n"
     ]
    },
    {
     "name": "stdout",
     "output_type": "stream",
     "text": [
      "> Generated 1526 records for cc_num: 4689147265057948423\n",
      "\n",
      "[284/931] Generating data for cc_num: 3523898249167098\n"
     ]
    },
    {
     "name": "stderr",
     "output_type": "stream",
     "text": [
      "Gen. (0.87) | Discrim. (-0.29): 100%|██████████| 100/100 [00:02<00:00, 41.96it/s]\n"
     ]
    },
    {
     "name": "stdout",
     "output_type": "stream",
     "text": [
      "> Generated 2033 records for cc_num: 3523898249167098\n",
      "\n",
      "[285/931] Generating data for cc_num: 3577663406369449\n"
     ]
    },
    {
     "name": "stderr",
     "output_type": "stream",
     "text": [
      "Gen. (-0.46) | Discrim. (0.17): 100%|██████████| 100/100 [00:02<00:00, 45.34it/s]\n"
     ]
    },
    {
     "name": "stdout",
     "output_type": "stream",
     "text": [
      "> Generated 507 records for cc_num: 3577663406369449\n",
      "\n",
      "[286/931] Generating data for cc_num: 6501313409525696\n"
     ]
    },
    {
     "name": "stderr",
     "output_type": "stream",
     "text": [
      "Gen. (-0.34) | Discrim. (0.14): 100%|██████████| 100/100 [00:01<00:00, 54.44it/s]\n"
     ]
    },
    {
     "name": "stdout",
     "output_type": "stream",
     "text": [
      "> Generated 508 records for cc_num: 6501313409525696\n",
      "\n",
      "[287/931] Generating data for cc_num: 30230540139182\n"
     ]
    },
    {
     "name": "stderr",
     "output_type": "stream",
     "text": [
      "Gen. (0.43) | Discrim. (0.05): 100%|██████████| 100/100 [00:02<00:00, 49.97it/s]\n"
     ]
    },
    {
     "name": "stdout",
     "output_type": "stream",
     "text": [
      "> Generated 1527 records for cc_num: 30230540139182\n",
      "\n",
      "[288/931] Generating data for cc_num: 4254074738931278\n"
     ]
    },
    {
     "name": "stderr",
     "output_type": "stream",
     "text": [
      "Gen. (-0.03) | Discrim. (0.18): 100%|██████████| 100/100 [00:02<00:00, 46.83it/s]\n"
     ]
    },
    {
     "name": "stdout",
     "output_type": "stream",
     "text": [
      "> Generated 1014 records for cc_num: 4254074738931278\n",
      "\n",
      "[289/931] Generating data for cc_num: 2719496466799416\n"
     ]
    },
    {
     "name": "stderr",
     "output_type": "stream",
     "text": [
      "Gen. (0.86) | Discrim. (-0.07): 100%|██████████| 100/100 [00:02<00:00, 42.58it/s]\n"
     ]
    },
    {
     "name": "stdout",
     "output_type": "stream",
     "text": [
      "> Generated 1020 records for cc_num: 2719496466799416\n",
      "\n",
      "[290/931] Generating data for cc_num: 6011381817520024\n"
     ]
    },
    {
     "name": "stderr",
     "output_type": "stream",
     "text": [
      "Gen. (0.51) | Discrim. (0.09): 100%|██████████| 100/100 [00:02<00:00, 41.97it/s]\n"
     ]
    },
    {
     "name": "stdout",
     "output_type": "stream",
     "text": [
      "> Generated 1016 records for cc_num: 6011381817520024\n",
      "\n",
      "[291/931] Generating data for cc_num: 2450829271795901\n"
     ]
    },
    {
     "name": "stderr",
     "output_type": "stream",
     "text": [
      "Gen. (0.10) | Discrim. (0.05): 100%|██████████| 100/100 [00:02<00:00, 43.51it/s]\n"
     ]
    },
    {
     "name": "stdout",
     "output_type": "stream",
     "text": [
      "> Generated 1019 records for cc_num: 2450829271795901\n",
      "\n",
      "[292/931] Generating data for cc_num: 4477156602511939689\n"
     ]
    },
    {
     "name": "stderr",
     "output_type": "stream",
     "text": [
      "Gen. (0.34) | Discrim. (0.15): 100%|██████████| 100/100 [00:02<00:00, 41.23it/s] \n"
     ]
    },
    {
     "name": "stdout",
     "output_type": "stream",
     "text": [
      "> Generated 1017 records for cc_num: 4477156602511939689\n",
      "\n",
      "[293/931] Generating data for cc_num: 3547574373318979\n"
     ]
    },
    {
     "name": "stderr",
     "output_type": "stream",
     "text": [
      "Gen. (0.22) | Discrim. (0.20): 100%|██████████| 100/100 [00:02<00:00, 39.31it/s]\n"
     ]
    },
    {
     "name": "stdout",
     "output_type": "stream",
     "text": [
      "> Generated 1530 records for cc_num: 3547574373318979\n",
      "\n",
      "[294/931] Generating data for cc_num: 4342532437704183\n"
     ]
    },
    {
     "name": "stderr",
     "output_type": "stream",
     "text": [
      "Gen. (0.58) | Discrim. (-0.07): 100%|██████████| 100/100 [00:02<00:00, 49.13it/s]\n"
     ]
    },
    {
     "name": "stdout",
     "output_type": "stream",
     "text": [
      "> Generated 1528 records for cc_num: 4342532437704183\n",
      "\n",
      "[295/931] Generating data for cc_num: 3554849923339851\n"
     ]
    },
    {
     "name": "stderr",
     "output_type": "stream",
     "text": [
      "Gen. (-0.93) | Discrim. (-0.04): 100%|██████████| 100/100 [00:02<00:00, 48.11it/s]\n"
     ]
    },
    {
     "name": "stdout",
     "output_type": "stream",
     "text": [
      "> Generated 1019 records for cc_num: 3554849923339851\n",
      "\n",
      "[296/931] Generating data for cc_num: 213157767990030\n"
     ]
    },
    {
     "name": "stderr",
     "output_type": "stream",
     "text": [
      "Gen. (0.28) | Discrim. (-0.14): 100%|██████████| 100/100 [00:02<00:00, 40.00it/s]\n"
     ]
    },
    {
     "name": "stdout",
     "output_type": "stream",
     "text": [
      "> Generated 2540 records for cc_num: 213157767990030\n",
      "\n",
      "[297/931] Generating data for cc_num: 6011388901471808\n"
     ]
    },
    {
     "name": "stderr",
     "output_type": "stream",
     "text": [
      "Gen. (0.06) | Discrim. (0.04): 100%|██████████| 100/100 [00:02<00:00, 41.63it/s] \n"
     ]
    },
    {
     "name": "stdout",
     "output_type": "stream",
     "text": [
      "> Generated 2040 records for cc_num: 6011388901471808\n",
      "\n",
      "[298/931] Generating data for cc_num: 2287277963630565\n"
     ]
    },
    {
     "name": "stderr",
     "output_type": "stream",
     "text": [
      "Gen. (1.09) | Discrim. (-0.06): 100%|██████████| 100/100 [00:02<00:00, 43.71it/s]\n"
     ]
    },
    {
     "name": "stdout",
     "output_type": "stream",
     "text": [
      "> Generated 0 records for cc_num: 2287277963630565\n",
      "\n",
      "[299/931] Generating data for cc_num: 4189814094741\n"
     ]
    },
    {
     "name": "stderr",
     "output_type": "stream",
     "text": [
      "Gen. (0.12) | Discrim. (-0.01): 100%|██████████| 100/100 [00:02<00:00, 45.56it/s]\n"
     ]
    },
    {
     "name": "stdout",
     "output_type": "stream",
     "text": [
      "> Generated 506 records for cc_num: 4189814094741\n",
      "\n",
      "[300/931] Generating data for cc_num: 3500969075198072\n"
     ]
    },
    {
     "name": "stderr",
     "output_type": "stream",
     "text": [
      "Gen. (0.50) | Discrim. (-0.14): 100%|██████████| 100/100 [00:02<00:00, 45.57it/s]\n"
     ]
    },
    {
     "name": "stdout",
     "output_type": "stream",
     "text": [
      "> Generated 2541 records for cc_num: 3500969075198072\n",
      "\n",
      "[301/931] Generating data for cc_num: 4294040533480516\n"
     ]
    },
    {
     "name": "stderr",
     "output_type": "stream",
     "text": [
      "Gen. (0.31) | Discrim. (-0.02): 100%|██████████| 100/100 [00:02<00:00, 39.92it/s]\n"
     ]
    },
    {
     "name": "stdout",
     "output_type": "stream",
     "text": [
      "> Generated 1526 records for cc_num: 4294040533480516\n",
      "\n",
      "[302/931] Generating data for cc_num: 4555104582813474\n"
     ]
    },
    {
     "name": "stderr",
     "output_type": "stream",
     "text": [
      "Gen. (0.39) | Discrim. (0.09): 100%|██████████| 100/100 [00:02<00:00, 45.94it/s]\n"
     ]
    },
    {
     "name": "stdout",
     "output_type": "stream",
     "text": [
      "> Generated 509 records for cc_num: 4555104582813474\n",
      "\n",
      "[303/931] Generating data for cc_num: 30428204673351\n"
     ]
    },
    {
     "name": "stderr",
     "output_type": "stream",
     "text": [
      "Gen. (1.05) | Discrim. (-0.12): 100%|██████████| 100/100 [00:02<00:00, 38.49it/s]\n"
     ]
    },
    {
     "name": "stdout",
     "output_type": "stream",
     "text": [
      "> Generated 2037 records for cc_num: 30428204673351\n",
      "\n",
      "[304/931] Generating data for cc_num: 4149238353975790\n"
     ]
    },
    {
     "name": "stderr",
     "output_type": "stream",
     "text": [
      "Gen. (0.94) | Discrim. (-0.08): 100%|██████████| 100/100 [00:02<00:00, 42.88it/s]\n"
     ]
    },
    {
     "name": "stdout",
     "output_type": "stream",
     "text": [
      "> Generated 2039 records for cc_num: 4149238353975790\n",
      "\n",
      "[305/931] Generating data for cc_num: 4044436772018844508\n"
     ]
    },
    {
     "name": "stderr",
     "output_type": "stream",
     "text": [
      "Gen. (0.23) | Discrim. (0.12): 100%|██████████| 100/100 [00:02<00:00, 40.60it/s] \n"
     ]
    },
    {
     "name": "stdout",
     "output_type": "stream",
     "text": [
      "> Generated 510 records for cc_num: 4044436772018844508\n",
      "\n",
      "[306/931] Generating data for cc_num: 4294930380592\n"
     ]
    },
    {
     "name": "stderr",
     "output_type": "stream",
     "text": [
      "Gen. (0.48) | Discrim. (0.07): 100%|██████████| 100/100 [00:02<00:00, 40.36it/s]\n"
     ]
    },
    {
     "name": "stdout",
     "output_type": "stream",
     "text": [
      "> Generated 2039 records for cc_num: 4294930380592\n",
      "\n",
      "[307/931] Generating data for cc_num: 6593250708747804\n"
     ]
    },
    {
     "name": "stderr",
     "output_type": "stream",
     "text": [
      "Gen. (0.45) | Discrim. (0.11): 100%|██████████| 100/100 [00:02<00:00, 40.97it/s]\n"
     ]
    },
    {
     "name": "stdout",
     "output_type": "stream",
     "text": [
      "> Generated 1530 records for cc_num: 6593250708747804\n",
      "\n",
      "[308/931] Generating data for cc_num: 502012776709\n"
     ]
    },
    {
     "name": "stderr",
     "output_type": "stream",
     "text": [
      "Gen. (0.52) | Discrim. (0.25): 100%|██████████| 100/100 [00:02<00:00, 39.17it/s]\n"
     ]
    },
    {
     "name": "stdout",
     "output_type": "stream",
     "text": [
      "> Generated 2036 records for cc_num: 502012776709\n",
      "\n",
      "[309/931] Generating data for cc_num: 376262134119629\n"
     ]
    },
    {
     "name": "stderr",
     "output_type": "stream",
     "text": [
      "Gen. (-0.08) | Discrim. (0.24): 100%|██████████| 100/100 [00:02<00:00, 40.88it/s]\n"
     ]
    },
    {
     "name": "stdout",
     "output_type": "stream",
     "text": [
      "> Generated 1018 records for cc_num: 376262134119629\n",
      "\n",
      "[310/931] Generating data for cc_num: 3565423334076143\n"
     ]
    },
    {
     "name": "stderr",
     "output_type": "stream",
     "text": [
      "Gen. (0.69) | Discrim. (0.09): 100%|██████████| 100/100 [00:02<00:00, 38.62it/s]\n"
     ]
    },
    {
     "name": "stdout",
     "output_type": "stream",
     "text": [
      "> Generated 1016 records for cc_num: 3565423334076143\n",
      "\n",
      "[311/931] Generating data for cc_num: 30135235368675\n"
     ]
    },
    {
     "name": "stderr",
     "output_type": "stream",
     "text": [
      "Gen. (0.04) | Discrim. (0.06): 100%|██████████| 100/100 [00:02<00:00, 39.52it/s]\n"
     ]
    },
    {
     "name": "stdout",
     "output_type": "stream",
     "text": [
      "> Generated 1529 records for cc_num: 30135235368675\n",
      "\n",
      "[312/931] Generating data for cc_num: 4939976756738216\n"
     ]
    },
    {
     "name": "stderr",
     "output_type": "stream",
     "text": [
      "Gen. (0.40) | Discrim. (0.05): 100%|██████████| 100/100 [00:02<00:00, 39.33it/s]\n"
     ]
    },
    {
     "name": "stdout",
     "output_type": "stream",
     "text": [
      "> Generated 3045 records for cc_num: 4939976756738216\n",
      "\n",
      "[313/931] Generating data for cc_num: 4128027264554082\n"
     ]
    },
    {
     "name": "stderr",
     "output_type": "stream",
     "text": [
      "Gen. (0.50) | Discrim. (0.04): 100%|██████████| 100/100 [00:02<00:00, 41.74it/s]\n"
     ]
    },
    {
     "name": "stdout",
     "output_type": "stream",
     "text": [
      "> Generated 1528 records for cc_num: 4128027264554082\n",
      "\n",
      "[314/931] Generating data for cc_num: 4168696938629925\n"
     ]
    },
    {
     "name": "stderr",
     "output_type": "stream",
     "text": [
      "Gen. (0.36) | Discrim. (-0.03): 100%|██████████| 100/100 [00:02<00:00, 41.34it/s]\n"
     ]
    },
    {
     "name": "stdout",
     "output_type": "stream",
     "text": [
      "> Generated 0 records for cc_num: 4168696938629925\n",
      "\n",
      "[315/931] Generating data for cc_num: 4162872756672112717\n"
     ]
    },
    {
     "name": "stderr",
     "output_type": "stream",
     "text": [
      "Gen. (0.47) | Discrim. (-0.07): 100%|██████████| 100/100 [00:02<00:00, 41.19it/s]\n"
     ]
    },
    {
     "name": "stdout",
     "output_type": "stream",
     "text": [
      "> Generated 0 records for cc_num: 4162872756672112717\n",
      "\n",
      "[316/931] Generating data for cc_num: 2720012583106919\n"
     ]
    },
    {
     "name": "stderr",
     "output_type": "stream",
     "text": [
      "Gen. (-0.07) | Discrim. (0.19): 100%|██████████| 100/100 [00:02<00:00, 47.39it/s]\n"
     ]
    },
    {
     "name": "stdout",
     "output_type": "stream",
     "text": [
      "> Generated 2035 records for cc_num: 2720012583106919\n",
      "\n",
      "[317/931] Generating data for cc_num: 3531129874770000\n"
     ]
    },
    {
     "name": "stderr",
     "output_type": "stream",
     "text": [
      "Gen. (0.35) | Discrim. (-0.01): 100%|██████████| 100/100 [00:02<00:00, 46.51it/s]\n"
     ]
    },
    {
     "name": "stdout",
     "output_type": "stream",
     "text": [
      "> Generated 2543 records for cc_num: 3531129874770000\n",
      "\n",
      "[318/931] Generating data for cc_num: 3590736522064285\n"
     ]
    },
    {
     "name": "stderr",
     "output_type": "stream",
     "text": [
      "Gen. (-0.03) | Discrim. (-0.06): 100%|██████████| 100/100 [00:02<00:00, 44.92it/s]\n"
     ]
    },
    {
     "name": "stdout",
     "output_type": "stream",
     "text": [
      "> Generated 3054 records for cc_num: 3590736522064285\n",
      "\n",
      "[319/931] Generating data for cc_num: 3526826139003047\n"
     ]
    },
    {
     "name": "stderr",
     "output_type": "stream",
     "text": [
      "Gen. (-0.08) | Discrim. (0.03): 100%|██████████| 100/100 [00:02<00:00, 39.92it/s]\n"
     ]
    },
    {
     "name": "stdout",
     "output_type": "stream",
     "text": [
      "> Generated 2039 records for cc_num: 3526826139003047\n",
      "\n",
      "[320/931] Generating data for cc_num: 375767678113375\n"
     ]
    },
    {
     "name": "stderr",
     "output_type": "stream",
     "text": [
      "Gen. (1.01) | Discrim. (0.00): 100%|██████████| 100/100 [00:02<00:00, 43.24it/s]\n"
     ]
    },
    {
     "name": "stdout",
     "output_type": "stream",
     "text": [
      "> Generated 1529 records for cc_num: 375767678113375\n",
      "\n",
      "[321/931] Generating data for cc_num: 4973530368125489546\n"
     ]
    },
    {
     "name": "stderr",
     "output_type": "stream",
     "text": [
      "Gen. (0.05) | Discrim. (0.19): 100%|██████████| 100/100 [00:02<00:00, 43.31it/s] \n"
     ]
    },
    {
     "name": "stdout",
     "output_type": "stream",
     "text": [
      "> Generated 1019 records for cc_num: 4973530368125489546\n",
      "\n",
      "[322/931] Generating data for cc_num: 30596478689301\n"
     ]
    },
    {
     "name": "stderr",
     "output_type": "stream",
     "text": [
      "Gen. (0.22) | Discrim. (0.28): 100%|██████████| 100/100 [00:02<00:00, 41.16it/s]\n"
     ]
    },
    {
     "name": "stdout",
     "output_type": "stream",
     "text": [
      "> Generated 509 records for cc_num: 30596478689301\n",
      "\n",
      "[323/931] Generating data for cc_num: 4760122961662\n"
     ]
    },
    {
     "name": "stderr",
     "output_type": "stream",
     "text": [
      "Gen. (-0.26) | Discrim. (-0.02): 100%|██████████| 100/100 [00:02<00:00, 39.48it/s]\n"
     ]
    },
    {
     "name": "stdout",
     "output_type": "stream",
     "text": [
      "> Generated 508 records for cc_num: 4760122961662\n",
      "\n",
      "[324/931] Generating data for cc_num: 3554818239968984\n"
     ]
    },
    {
     "name": "stderr",
     "output_type": "stream",
     "text": [
      "Gen. (0.80) | Discrim. (-0.14): 100%|██████████| 100/100 [00:02<00:00, 39.84it/s]\n"
     ]
    },
    {
     "name": "stdout",
     "output_type": "stream",
     "text": [
      "> Generated 510 records for cc_num: 3554818239968984\n",
      "\n",
      "[325/931] Generating data for cc_num: 676308307625\n"
     ]
    },
    {
     "name": "stderr",
     "output_type": "stream",
     "text": [
      "Gen. (0.60) | Discrim. (0.10): 100%|██████████| 100/100 [00:02<00:00, 40.16it/s]\n"
     ]
    },
    {
     "name": "stdout",
     "output_type": "stream",
     "text": [
      "> Generated 510 records for cc_num: 676308307625\n",
      "\n",
      "[326/931] Generating data for cc_num: 3537797820923602\n"
     ]
    },
    {
     "name": "stderr",
     "output_type": "stream",
     "text": [
      "Gen. (0.29) | Discrim. (0.07): 100%|██████████| 100/100 [00:02<00:00, 38.14it/s]\n"
     ]
    },
    {
     "name": "stdout",
     "output_type": "stream",
     "text": [
      "> Generated 508 records for cc_num: 3537797820923602\n",
      "\n",
      "[327/931] Generating data for cc_num: 4890424426862856940\n"
     ]
    },
    {
     "name": "stderr",
     "output_type": "stream",
     "text": [
      "Gen. (-0.09) | Discrim. (-0.16): 100%|██████████| 100/100 [00:02<00:00, 41.64it/s]\n"
     ]
    },
    {
     "name": "stdout",
     "output_type": "stream",
     "text": [
      "> Generated 1526 records for cc_num: 4890424426862856940\n",
      "\n",
      "[328/931] Generating data for cc_num: 30373802285317\n"
     ]
    },
    {
     "name": "stderr",
     "output_type": "stream",
     "text": [
      "Gen. (0.16) | Discrim. (0.14): 100%|██████████| 100/100 [00:02<00:00, 43.52it/s]\n"
     ]
    },
    {
     "name": "stdout",
     "output_type": "stream",
     "text": [
      "> Generated 507 records for cc_num: 30373802285317\n",
      "\n",
      "[329/931] Generating data for cc_num: 4328928491302401\n"
     ]
    },
    {
     "name": "stderr",
     "output_type": "stream",
     "text": [
      "Gen. (0.24) | Discrim. (-0.08): 100%|██████████| 100/100 [00:02<00:00, 40.48it/s]\n"
     ]
    },
    {
     "name": "stdout",
     "output_type": "stream",
     "text": [
      "> Generated 1531 records for cc_num: 4328928491302401\n",
      "\n",
      "[330/931] Generating data for cc_num: 4683520018489354\n"
     ]
    },
    {
     "name": "stderr",
     "output_type": "stream",
     "text": [
      "Gen. (0.16) | Discrim. (0.07): 100%|██████████| 100/100 [00:02<00:00, 43.01it/s]\n"
     ]
    },
    {
     "name": "stdout",
     "output_type": "stream",
     "text": [
      "> Generated 1525 records for cc_num: 4683520018489354\n",
      "\n",
      "[331/931] Generating data for cc_num: 2356276337669917\n"
     ]
    },
    {
     "name": "stderr",
     "output_type": "stream",
     "text": [
      "Gen. (0.59) | Discrim. (0.10): 100%|██████████| 100/100 [00:02<00:00, 49.76it/s]\n"
     ]
    },
    {
     "name": "stdout",
     "output_type": "stream",
     "text": [
      "> Generated 1020 records for cc_num: 2356276337669917\n",
      "\n",
      "[332/931] Generating data for cc_num: 377264520876399\n"
     ]
    },
    {
     "name": "stderr",
     "output_type": "stream",
     "text": [
      "Gen. (-0.51) | Discrim. (-0.06): 100%|██████████| 100/100 [00:02<00:00, 47.75it/s]\n"
     ]
    },
    {
     "name": "stdout",
     "output_type": "stream",
     "text": [
      "> Generated 510 records for cc_num: 377264520876399\n",
      "\n",
      "[333/931] Generating data for cc_num: 4260059589824237\n"
     ]
    },
    {
     "name": "stderr",
     "output_type": "stream",
     "text": [
      "Gen. (0.26) | Discrim. (-0.14): 100%|██████████| 100/100 [00:02<00:00, 47.58it/s]\n"
     ]
    },
    {
     "name": "stdout",
     "output_type": "stream",
     "text": [
      "> Generated 510 records for cc_num: 4260059589824237\n",
      "\n",
      "[334/931] Generating data for cc_num: 30499715231997\n"
     ]
    },
    {
     "name": "stderr",
     "output_type": "stream",
     "text": [
      "Gen. (1.14) | Discrim. (-0.04): 100%|██████████| 100/100 [00:02<00:00, 49.02it/s]\n"
     ]
    },
    {
     "name": "stdout",
     "output_type": "stream",
     "text": [
      "> Generated 0 records for cc_num: 30499715231997\n",
      "\n",
      "[335/931] Generating data for cc_num: 30518206766474\n"
     ]
    },
    {
     "name": "stderr",
     "output_type": "stream",
     "text": [
      "Gen. (0.66) | Discrim. (-0.09): 100%|██████████| 100/100 [00:02<00:00, 40.93it/s]\n"
     ]
    },
    {
     "name": "stdout",
     "output_type": "stream",
     "text": [
      "> Generated 1530 records for cc_num: 30518206766474\n",
      "\n",
      "[336/931] Generating data for cc_num: 213148039875802\n"
     ]
    },
    {
     "name": "stderr",
     "output_type": "stream",
     "text": [
      "Gen. (0.37) | Discrim. (0.16): 100%|██████████| 100/100 [00:02<00:00, 46.63it/s]\n"
     ]
    },
    {
     "name": "stdout",
     "output_type": "stream",
     "text": [
      "> Generated 1532 records for cc_num: 213148039875802\n",
      "\n",
      "[337/931] Generating data for cc_num: 30427035050508\n"
     ]
    },
    {
     "name": "stderr",
     "output_type": "stream",
     "text": [
      "Gen. (-0.32) | Discrim. (-0.27): 100%|██████████| 100/100 [00:01<00:00, 50.17it/s]\n"
     ]
    },
    {
     "name": "stdout",
     "output_type": "stream",
     "text": [
      "> Generated 1020 records for cc_num: 30427035050508\n",
      "\n",
      "[338/931] Generating data for cc_num: 5104807169438134\n"
     ]
    },
    {
     "name": "stderr",
     "output_type": "stream",
     "text": [
      "Gen. (0.33) | Discrim. (0.02): 100%|██████████| 100/100 [00:02<00:00, 43.18it/s]\n"
     ]
    },
    {
     "name": "stdout",
     "output_type": "stream",
     "text": [
      "> Generated 1021 records for cc_num: 5104807169438134\n",
      "\n",
      "[339/931] Generating data for cc_num: 2295963260374698\n"
     ]
    },
    {
     "name": "stderr",
     "output_type": "stream",
     "text": [
      "Gen. (-0.22) | Discrim. (-0.15): 100%|██████████| 100/100 [00:02<00:00, 41.23it/s]\n"
     ]
    },
    {
     "name": "stdout",
     "output_type": "stream",
     "text": [
      "> Generated 0 records for cc_num: 2295963260374698\n",
      "\n",
      "[340/931] Generating data for cc_num: 630484879808\n"
     ]
    },
    {
     "name": "stderr",
     "output_type": "stream",
     "text": [
      "Gen. (-0.17) | Discrim. (0.10): 100%|██████████| 100/100 [00:02<00:00, 41.49it/s]\n"
     ]
    },
    {
     "name": "stdout",
     "output_type": "stream",
     "text": [
      "> Generated 2040 records for cc_num: 630484879808\n",
      "\n",
      "[341/931] Generating data for cc_num: 4683638447911\n"
     ]
    },
    {
     "name": "stderr",
     "output_type": "stream",
     "text": [
      "Gen. (0.66) | Discrim. (0.27): 100%|██████████| 100/100 [00:01<00:00, 51.96it/s]\n"
     ]
    },
    {
     "name": "stdout",
     "output_type": "stream",
     "text": [
      "> Generated 2041 records for cc_num: 4683638447911\n",
      "\n",
      "[342/931] Generating data for cc_num: 180046765320457\n"
     ]
    },
    {
     "name": "stderr",
     "output_type": "stream",
     "text": [
      "Gen. (-0.33) | Discrim. (0.09): 100%|██████████| 100/100 [00:02<00:00, 46.69it/s]\n"
     ]
    },
    {
     "name": "stdout",
     "output_type": "stream",
     "text": [
      "> Generated 1020 records for cc_num: 180046765320457\n",
      "\n",
      "[343/931] Generating data for cc_num: 374238209524200\n"
     ]
    },
    {
     "name": "stderr",
     "output_type": "stream",
     "text": [
      "Gen. (-0.06) | Discrim. (-0.04): 100%|██████████| 100/100 [00:02<00:00, 45.95it/s]\n"
     ]
    },
    {
     "name": "stdout",
     "output_type": "stream",
     "text": [
      "> Generated 1021 records for cc_num: 374238209524200\n",
      "\n",
      "[344/931] Generating data for cc_num: 3598215285024754\n"
     ]
    },
    {
     "name": "stderr",
     "output_type": "stream",
     "text": [
      "Gen. (-0.10) | Discrim. (0.25): 100%|██████████| 100/100 [00:02<00:00, 42.12it/s]\n"
     ]
    },
    {
     "name": "stdout",
     "output_type": "stream",
     "text": [
      "> Generated 2550 records for cc_num: 3598215285024754\n",
      "\n",
      "[345/931] Generating data for cc_num: 4975457191020\n"
     ]
    },
    {
     "name": "stderr",
     "output_type": "stream",
     "text": [
      "Gen. (1.04) | Discrim. (-0.12): 100%|██████████| 100/100 [00:02<00:00, 44.67it/s]\n"
     ]
    },
    {
     "name": "stdout",
     "output_type": "stream",
     "text": [
      "> Generated 0 records for cc_num: 4975457191020\n",
      "\n",
      "[346/931] Generating data for cc_num: 3524485462198080\n"
     ]
    },
    {
     "name": "stderr",
     "output_type": "stream",
     "text": [
      "Gen. (0.46) | Discrim. (-0.10): 100%|██████████| 100/100 [00:02<00:00, 49.62it/s]\n"
     ]
    },
    {
     "name": "stdout",
     "output_type": "stream",
     "text": [
      "> Generated 0 records for cc_num: 3524485462198080\n",
      "\n",
      "[347/931] Generating data for cc_num: 213136802746375\n"
     ]
    },
    {
     "name": "stderr",
     "output_type": "stream",
     "text": [
      "Gen. (0.09) | Discrim. (0.24): 100%|██████████| 100/100 [00:02<00:00, 42.01it/s] \n"
     ]
    },
    {
     "name": "stdout",
     "output_type": "stream",
     "text": [
      "> Generated 509 records for cc_num: 213136802746375\n",
      "\n",
      "[348/931] Generating data for cc_num: 4855853415727304322\n"
     ]
    },
    {
     "name": "stderr",
     "output_type": "stream",
     "text": [
      "Gen. (-0.15) | Discrim. (0.31): 100%|██████████| 100/100 [00:02<00:00, 44.22it/s]\n"
     ]
    },
    {
     "name": "stdout",
     "output_type": "stream",
     "text": [
      "> Generated 506 records for cc_num: 4855853415727304322\n",
      "\n",
      "[349/931] Generating data for cc_num: 4312133045694601139\n"
     ]
    },
    {
     "name": "stderr",
     "output_type": "stream",
     "text": [
      "Gen. (-0.13) | Discrim. (-0.23): 100%|██████████| 100/100 [00:02<00:00, 40.18it/s]\n"
     ]
    },
    {
     "name": "stdout",
     "output_type": "stream",
     "text": [
      "> Generated 1020 records for cc_num: 4312133045694601139\n",
      "\n",
      "[350/931] Generating data for cc_num: 6011360759745864\n"
     ]
    },
    {
     "name": "stderr",
     "output_type": "stream",
     "text": [
      "Gen. (0.12) | Discrim. (-0.04): 100%|██████████| 100/100 [00:02<00:00, 44.87it/s]\n"
     ]
    },
    {
     "name": "stdout",
     "output_type": "stream",
     "text": [
      "> Generated 1019 records for cc_num: 6011360759745864\n",
      "\n",
      "[351/931] Generating data for cc_num: 5154903938030655\n"
     ]
    },
    {
     "name": "stderr",
     "output_type": "stream",
     "text": [
      "Gen. (0.38) | Discrim. (-0.02): 100%|██████████| 100/100 [00:02<00:00, 40.67it/s]\n"
     ]
    },
    {
     "name": "stdout",
     "output_type": "stream",
     "text": [
      "> Generated 510 records for cc_num: 5154903938030655\n",
      "\n",
      "[352/931] Generating data for cc_num: 4897067971111209737\n"
     ]
    },
    {
     "name": "stderr",
     "output_type": "stream",
     "text": [
      "Gen. (-0.20) | Discrim. (0.08): 100%|██████████| 100/100 [00:02<00:00, 46.72it/s]\n"
     ]
    },
    {
     "name": "stdout",
     "output_type": "stream",
     "text": [
      "> Generated 1021 records for cc_num: 4897067971111209737\n",
      "\n",
      "[353/931] Generating data for cc_num: 6011706277606006\n"
     ]
    },
    {
     "name": "stderr",
     "output_type": "stream",
     "text": [
      "Gen. (0.34) | Discrim. (0.09): 100%|██████████| 100/100 [00:02<00:00, 40.52it/s]\n"
     ]
    },
    {
     "name": "stdout",
     "output_type": "stream",
     "text": [
      "> Generated 508 records for cc_num: 6011706277606006\n",
      "\n",
      "[354/931] Generating data for cc_num: 3565943051129759\n"
     ]
    },
    {
     "name": "stderr",
     "output_type": "stream",
     "text": [
      "Gen. (0.52) | Discrim. (0.30): 100%|██████████| 100/100 [00:02<00:00, 40.75it/s]\n"
     ]
    },
    {
     "name": "stdout",
     "output_type": "stream",
     "text": [
      "> Generated 508 records for cc_num: 3565943051129759\n",
      "\n",
      "[355/931] Generating data for cc_num: 180084576295055\n"
     ]
    },
    {
     "name": "stderr",
     "output_type": "stream",
     "text": [
      "Gen. (0.59) | Discrim. (0.16): 100%|██████████| 100/100 [00:02<00:00, 40.42it/s]\n"
     ]
    },
    {
     "name": "stdout",
     "output_type": "stream",
     "text": [
      "> Generated 1523 records for cc_num: 180084576295055\n",
      "\n",
      "[356/931] Generating data for cc_num: 3534093764340240\n"
     ]
    },
    {
     "name": "stderr",
     "output_type": "stream",
     "text": [
      "Gen. (0.15) | Discrim. (0.26): 100%|██████████| 100/100 [00:02<00:00, 44.31it/s] \n"
     ]
    },
    {
     "name": "stdout",
     "output_type": "stream",
     "text": [
      "> Generated 509 records for cc_num: 3534093764340240\n",
      "\n",
      "[357/931] Generating data for cc_num: 2610529083834453\n"
     ]
    },
    {
     "name": "stderr",
     "output_type": "stream",
     "text": [
      "Gen. (0.47) | Discrim. (-0.21): 100%|██████████| 100/100 [00:02<00:00, 48.01it/s]\n"
     ]
    },
    {
     "name": "stdout",
     "output_type": "stream",
     "text": [
      "> Generated 509 records for cc_num: 2610529083834453\n",
      "\n",
      "[358/931] Generating data for cc_num: 4560004149983868183\n"
     ]
    },
    {
     "name": "stderr",
     "output_type": "stream",
     "text": [
      "Gen. (0.56) | Discrim. (0.02): 100%|██████████| 100/100 [00:02<00:00, 44.57it/s]\n"
     ]
    },
    {
     "name": "stdout",
     "output_type": "stream",
     "text": [
      "> Generated 1529 records for cc_num: 4560004149983868183\n",
      "\n",
      "[359/931] Generating data for cc_num: 4457732997086323466\n"
     ]
    },
    {
     "name": "stderr",
     "output_type": "stream",
     "text": [
      "Gen. (0.54) | Discrim. (0.37): 100%|██████████| 100/100 [00:02<00:00, 40.93it/s]\n"
     ]
    },
    {
     "name": "stdout",
     "output_type": "stream",
     "text": [
      "> Generated 2039 records for cc_num: 4457732997086323466\n",
      "\n",
      "[360/931] Generating data for cc_num: 4839615922685395\n"
     ]
    },
    {
     "name": "stderr",
     "output_type": "stream",
     "text": [
      "Gen. (0.58) | Discrim. (-0.16): 100%|██████████| 100/100 [00:02<00:00, 44.28it/s]\n"
     ]
    },
    {
     "name": "stdout",
     "output_type": "stream",
     "text": [
      "> Generated 2042 records for cc_num: 4839615922685395\n",
      "\n",
      "[361/931] Generating data for cc_num: 3598634130286287\n"
     ]
    },
    {
     "name": "stderr",
     "output_type": "stream",
     "text": [
      "Gen. (0.68) | Discrim. (-0.20): 100%|██████████| 100/100 [00:02<00:00, 40.10it/s]\n"
     ]
    },
    {
     "name": "stdout",
     "output_type": "stream",
     "text": [
      "> Generated 509 records for cc_num: 3598634130286287\n",
      "\n",
      "[362/931] Generating data for cc_num: 38052002992326\n"
     ]
    },
    {
     "name": "stderr",
     "output_type": "stream",
     "text": [
      "Gen. (-0.08) | Discrim. (0.12): 100%|██████████| 100/100 [00:02<00:00, 40.65it/s]\n"
     ]
    },
    {
     "name": "stdout",
     "output_type": "stream",
     "text": [
      "> Generated 2550 records for cc_num: 38052002992326\n",
      "\n",
      "[363/931] Generating data for cc_num: 4110266553600176127\n"
     ]
    },
    {
     "name": "stderr",
     "output_type": "stream",
     "text": [
      "Gen. (0.28) | Discrim. (0.10): 100%|██████████| 100/100 [00:02<00:00, 43.47it/s]\n"
     ]
    },
    {
     "name": "stdout",
     "output_type": "stream",
     "text": [
      "> Generated 509 records for cc_num: 4110266553600176127\n",
      "\n",
      "[364/931] Generating data for cc_num: 676179782773\n"
     ]
    },
    {
     "name": "stderr",
     "output_type": "stream",
     "text": [
      "Gen. (0.76) | Discrim. (-0.02): 100%|██████████| 100/100 [00:02<00:00, 49.10it/s]\n"
     ]
    },
    {
     "name": "stdout",
     "output_type": "stream",
     "text": [
      "> Generated 0 records for cc_num: 676179782773\n",
      "\n",
      "[365/931] Generating data for cc_num: 3502377050801561\n"
     ]
    },
    {
     "name": "stderr",
     "output_type": "stream",
     "text": [
      "Gen. (0.32) | Discrim. (0.23): 100%|██████████| 100/100 [00:02<00:00, 42.91it/s] \n"
     ]
    },
    {
     "name": "stdout",
     "output_type": "stream",
     "text": [
      "> Generated 1526 records for cc_num: 3502377050801561\n",
      "\n",
      "[366/931] Generating data for cc_num: 346208242862904\n"
     ]
    },
    {
     "name": "stderr",
     "output_type": "stream",
     "text": [
      "Gen. (0.54) | Discrim. (-0.01): 100%|██████████| 100/100 [00:02<00:00, 41.71it/s]\n"
     ]
    },
    {
     "name": "stdout",
     "output_type": "stream",
     "text": [
      "> Generated 510 records for cc_num: 346208242862904\n",
      "\n",
      "[367/931] Generating data for cc_num: 3599237318576484\n"
     ]
    },
    {
     "name": "stderr",
     "output_type": "stream",
     "text": [
      "Gen. (0.24) | Discrim. (0.04): 100%|██████████| 100/100 [00:02<00:00, 46.07it/s]\n"
     ]
    },
    {
     "name": "stdout",
     "output_type": "stream",
     "text": [
      "> Generated 1021 records for cc_num: 3599237318576484\n",
      "\n",
      "[368/931] Generating data for cc_num: 6526777409109795\n"
     ]
    },
    {
     "name": "stderr",
     "output_type": "stream",
     "text": [
      "Gen. (-0.01) | Discrim. (-0.09): 100%|██████████| 100/100 [00:02<00:00, 43.77it/s]\n"
     ]
    },
    {
     "name": "stdout",
     "output_type": "stream",
     "text": [
      "> Generated 510 records for cc_num: 6526777409109795\n",
      "\n",
      "[369/931] Generating data for cc_num: 2235335206132667\n"
     ]
    },
    {
     "name": "stderr",
     "output_type": "stream",
     "text": [
      "Gen. (-0.17) | Discrim. (-0.15): 100%|██████████| 100/100 [00:02<00:00, 42.63it/s]\n"
     ]
    },
    {
     "name": "stdout",
     "output_type": "stream",
     "text": [
      "> Generated 510 records for cc_num: 2235335206132667\n",
      "\n",
      "[370/931] Generating data for cc_num: 343464013864032\n"
     ]
    },
    {
     "name": "stderr",
     "output_type": "stream",
     "text": [
      "Gen. (0.89) | Discrim. (0.15): 100%|██████████| 100/100 [00:02<00:00, 40.47it/s]\n"
     ]
    },
    {
     "name": "stdout",
     "output_type": "stream",
     "text": [
      "> Generated 1530 records for cc_num: 343464013864032\n",
      "\n",
      "[371/931] Generating data for cc_num: 6523180720198790\n"
     ]
    },
    {
     "name": "stderr",
     "output_type": "stream",
     "text": [
      "Gen. (0.32) | Discrim. (-0.18): 100%|██████████| 100/100 [00:02<00:00, 46.92it/s]\n"
     ]
    },
    {
     "name": "stdout",
     "output_type": "stream",
     "text": [
      "> Generated 508 records for cc_num: 6523180720198790\n",
      "\n",
      "[372/931] Generating data for cc_num: 4260128500325\n"
     ]
    },
    {
     "name": "stderr",
     "output_type": "stream",
     "text": [
      "Gen. (0.73) | Discrim. (0.15): 100%|██████████| 100/100 [00:02<00:00, 39.07it/s]\n"
     ]
    },
    {
     "name": "stdout",
     "output_type": "stream",
     "text": [
      "> Generated 1526 records for cc_num: 4260128500325\n",
      "\n",
      "[373/931] Generating data for cc_num: 3540862542587229\n"
     ]
    },
    {
     "name": "stderr",
     "output_type": "stream",
     "text": [
      "Gen. (0.56) | Discrim. (0.11): 100%|██████████| 100/100 [00:02<00:00, 37.36it/s]\n"
     ]
    },
    {
     "name": "stdout",
     "output_type": "stream",
     "text": [
      "> Generated 510 records for cc_num: 3540862542587229\n",
      "\n",
      "[374/931] Generating data for cc_num: 639030014711\n"
     ]
    },
    {
     "name": "stderr",
     "output_type": "stream",
     "text": [
      "Gen. (-0.07) | Discrim. (-0.01): 100%|██████████| 100/100 [00:02<00:00, 43.69it/s]\n"
     ]
    },
    {
     "name": "stdout",
     "output_type": "stream",
     "text": [
      "> Generated 1021 records for cc_num: 639030014711\n",
      "\n",
      "[375/931] Generating data for cc_num: 6011231546538393\n"
     ]
    },
    {
     "name": "stderr",
     "output_type": "stream",
     "text": [
      "Gen. (0.51) | Discrim. (-0.10): 100%|██████████| 100/100 [00:02<00:00, 47.35it/s]\n"
     ]
    },
    {
     "name": "stdout",
     "output_type": "stream",
     "text": [
      "> Generated 1020 records for cc_num: 6011231546538393\n",
      "\n",
      "[376/931] Generating data for cc_num: 4292902571056973207\n"
     ]
    },
    {
     "name": "stderr",
     "output_type": "stream",
     "text": [
      "Gen. (0.66) | Discrim. (-0.15): 100%|██████████| 100/100 [00:02<00:00, 46.16it/s]\n"
     ]
    },
    {
     "name": "stdout",
     "output_type": "stream",
     "text": [
      "> Generated 1531 records for cc_num: 4292902571056973207\n",
      "\n",
      "[377/931] Generating data for cc_num: 568279015842\n"
     ]
    },
    {
     "name": "stderr",
     "output_type": "stream",
     "text": [
      "Gen. (0.14) | Discrim. (0.01): 100%|██████████| 100/100 [00:02<00:00, 39.96it/s] \n"
     ]
    },
    {
     "name": "stdout",
     "output_type": "stream",
     "text": [
      "> Generated 1020 records for cc_num: 568279015842\n",
      "\n",
      "[378/931] Generating data for cc_num: 36153880429415\n"
     ]
    },
    {
     "name": "stderr",
     "output_type": "stream",
     "text": [
      "Gen. (0.70) | Discrim. (-0.13): 100%|██████████| 100/100 [00:02<00:00, 39.41it/s]\n"
     ]
    },
    {
     "name": "stdout",
     "output_type": "stream",
     "text": [
      "> Generated 1019 records for cc_num: 36153880429415\n",
      "\n",
      "[379/931] Generating data for cc_num: 4633065159406313\n"
     ]
    },
    {
     "name": "stderr",
     "output_type": "stream",
     "text": [
      "Gen. (0.15) | Discrim. (-0.01): 100%|██████████| 100/100 [00:02<00:00, 41.56it/s]\n"
     ]
    },
    {
     "name": "stdout",
     "output_type": "stream",
     "text": [
      "> Generated 510 records for cc_num: 4633065159406313\n",
      "\n",
      "[380/931] Generating data for cc_num: 4764202053279782\n"
     ]
    },
    {
     "name": "stderr",
     "output_type": "stream",
     "text": [
      "Gen. (0.58) | Discrim. (-0.04): 100%|██████████| 100/100 [00:02<00:00, 39.92it/s]\n"
     ]
    },
    {
     "name": "stdout",
     "output_type": "stream",
     "text": [
      "> Generated 510 records for cc_num: 4764202053279782\n",
      "\n",
      "[381/931] Generating data for cc_num: 4266200684857219\n"
     ]
    },
    {
     "name": "stderr",
     "output_type": "stream",
     "text": [
      "Gen. (0.71) | Discrim. (0.00): 100%|██████████| 100/100 [00:02<00:00, 39.16it/s]\n"
     ]
    },
    {
     "name": "stdout",
     "output_type": "stream",
     "text": [
      "> Generated 1019 records for cc_num: 4266200684857219\n",
      "\n",
      "[382/931] Generating data for cc_num: 30248898834493\n"
     ]
    },
    {
     "name": "stderr",
     "output_type": "stream",
     "text": [
      "Gen. (0.50) | Discrim. (-0.04): 100%|██████████| 100/100 [00:02<00:00, 45.67it/s]\n"
     ]
    },
    {
     "name": "stdout",
     "output_type": "stream",
     "text": [
      "> Generated 1019 records for cc_num: 30248898834493\n",
      "\n",
      "[383/931] Generating data for cc_num: 6547670341037171\n"
     ]
    },
    {
     "name": "stderr",
     "output_type": "stream",
     "text": [
      "Gen. (-0.42) | Discrim. (0.44): 100%|██████████| 100/100 [00:02<00:00, 40.01it/s]\n"
     ]
    },
    {
     "name": "stdout",
     "output_type": "stream",
     "text": [
      "> Generated 1530 records for cc_num: 6547670341037171\n",
      "\n",
      "[384/931] Generating data for cc_num: 6011542681743618\n"
     ]
    },
    {
     "name": "stderr",
     "output_type": "stream",
     "text": [
      "Gen. (0.02) | Discrim. (0.20): 100%|██████████| 100/100 [00:02<00:00, 37.80it/s] \n"
     ]
    },
    {
     "name": "stdout",
     "output_type": "stream",
     "text": [
      "> Generated 2034 records for cc_num: 6011542681743618\n",
      "\n",
      "[385/931] Generating data for cc_num: 4428154703770710\n"
     ]
    },
    {
     "name": "stderr",
     "output_type": "stream",
     "text": [
      "Gen. (1.02) | Discrim. (0.04): 100%|██████████| 100/100 [00:02<00:00, 41.06it/s]\n"
     ]
    },
    {
     "name": "stdout",
     "output_type": "stream",
     "text": [
      "> Generated 1019 records for cc_num: 4428154703770710\n",
      "\n",
      "[386/931] Generating data for cc_num: 6569097840281287\n"
     ]
    },
    {
     "name": "stderr",
     "output_type": "stream",
     "text": [
      "Gen. (-0.09) | Discrim. (-0.01): 100%|██████████| 100/100 [00:02<00:00, 39.88it/s]\n"
     ]
    },
    {
     "name": "stdout",
     "output_type": "stream",
     "text": [
      "> Generated 508 records for cc_num: 6569097840281287\n",
      "\n",
      "[387/931] Generating data for cc_num: 370818583810103\n"
     ]
    },
    {
     "name": "stderr",
     "output_type": "stream",
     "text": [
      "Gen. (0.20) | Discrim. (0.19): 100%|██████████| 100/100 [00:02<00:00, 40.25it/s] \n"
     ]
    },
    {
     "name": "stdout",
     "output_type": "stream",
     "text": [
      "> Generated 1019 records for cc_num: 370818583810103\n",
      "\n",
      "[388/931] Generating data for cc_num: 213113338379864\n"
     ]
    },
    {
     "name": "stderr",
     "output_type": "stream",
     "text": [
      "Gen. (0.33) | Discrim. (0.13): 100%|██████████| 100/100 [00:02<00:00, 44.53it/s] \n"
     ]
    },
    {
     "name": "stdout",
     "output_type": "stream",
     "text": [
      "> Generated 510 records for cc_num: 213113338379864\n",
      "\n",
      "[389/931] Generating data for cc_num: 180065479077096\n"
     ]
    },
    {
     "name": "stderr",
     "output_type": "stream",
     "text": [
      "Gen. (-0.17) | Discrim. (-0.12): 100%|██████████| 100/100 [00:02<00:00, 42.81it/s]\n"
     ]
    },
    {
     "name": "stdout",
     "output_type": "stream",
     "text": [
      "> Generated 1527 records for cc_num: 180065479077096\n",
      "\n",
      "[390/931] Generating data for cc_num: 2264937662466770\n"
     ]
    },
    {
     "name": "stderr",
     "output_type": "stream",
     "text": [
      "Gen. (0.25) | Discrim. (-0.13): 100%|██████████| 100/100 [00:02<00:00, 39.57it/s]\n"
     ]
    },
    {
     "name": "stdout",
     "output_type": "stream",
     "text": [
      "> Generated 2548 records for cc_num: 2264937662466770\n",
      "\n",
      "[391/931] Generating data for cc_num: 502049568400\n"
     ]
    },
    {
     "name": "stderr",
     "output_type": "stream",
     "text": [
      "Gen. (-0.38) | Discrim. (-0.05): 100%|██████████| 100/100 [00:02<00:00, 41.93it/s]\n"
     ]
    },
    {
     "name": "stdout",
     "output_type": "stream",
     "text": [
      "> Generated 1020 records for cc_num: 502049568400\n",
      "\n",
      "[392/931] Generating data for cc_num: 3529597930342630\n"
     ]
    },
    {
     "name": "stderr",
     "output_type": "stream",
     "text": [
      "Gen. (0.75) | Discrim. (0.02): 100%|██████████| 100/100 [00:02<00:00, 38.20it/s]\n"
     ]
    },
    {
     "name": "stdout",
     "output_type": "stream",
     "text": [
      "> Generated 1020 records for cc_num: 3529597930342630\n",
      "\n",
      "[393/931] Generating data for cc_num: 4561546772499\n"
     ]
    },
    {
     "name": "stderr",
     "output_type": "stream",
     "text": [
      "Gen. (-0.31) | Discrim. (0.06): 100%|██████████| 100/100 [00:02<00:00, 40.52it/s]\n"
     ]
    },
    {
     "name": "stdout",
     "output_type": "stream",
     "text": [
      "> Generated 2549 records for cc_num: 4561546772499\n",
      "\n",
      "[394/931] Generating data for cc_num: 675909898057\n"
     ]
    },
    {
     "name": "stderr",
     "output_type": "stream",
     "text": [
      "Gen. (1.00) | Discrim. (0.33): 100%|██████████| 100/100 [00:02<00:00, 41.65it/s]\n"
     ]
    },
    {
     "name": "stdout",
     "output_type": "stream",
     "text": [
      "> Generated 1021 records for cc_num: 675909898057\n",
      "\n",
      "[395/931] Generating data for cc_num: 30082025922891\n"
     ]
    },
    {
     "name": "stderr",
     "output_type": "stream",
     "text": [
      "Gen. (-0.34) | Discrim. (0.02): 100%|██████████| 100/100 [00:02<00:00, 46.16it/s]\n"
     ]
    },
    {
     "name": "stdout",
     "output_type": "stream",
     "text": [
      "> Generated 1530 records for cc_num: 30082025922891\n",
      "\n",
      "[396/931] Generating data for cc_num: 676327197445\n"
     ]
    },
    {
     "name": "stderr",
     "output_type": "stream",
     "text": [
      "Gen. (0.49) | Discrim. (-0.08): 100%|██████████| 100/100 [00:02<00:00, 41.42it/s]\n"
     ]
    },
    {
     "name": "stdout",
     "output_type": "stream",
     "text": [
      "> Generated 0 records for cc_num: 676327197445\n",
      "\n",
      "[397/931] Generating data for cc_num: 3521260686633367\n"
     ]
    },
    {
     "name": "stderr",
     "output_type": "stream",
     "text": [
      "Gen. (-0.01) | Discrim. (-0.08): 100%|██████████| 100/100 [00:02<00:00, 38.49it/s]\n"
     ]
    },
    {
     "name": "stdout",
     "output_type": "stream",
     "text": [
      "> Generated 0 records for cc_num: 3521260686633367\n",
      "\n",
      "[398/931] Generating data for cc_num: 30360260465747\n"
     ]
    },
    {
     "name": "stderr",
     "output_type": "stream",
     "text": [
      "Gen. (-0.08) | Discrim. (-0.02): 100%|██████████| 100/100 [00:02<00:00, 39.44it/s]\n"
     ]
    },
    {
     "name": "stdout",
     "output_type": "stream",
     "text": [
      "> Generated 510 records for cc_num: 30360260465747\n",
      "\n",
      "[399/931] Generating data for cc_num: 4025612008285111\n"
     ]
    },
    {
     "name": "stderr",
     "output_type": "stream",
     "text": [
      "Gen. (-0.04) | Discrim. (-0.10): 100%|██████████| 100/100 [00:02<00:00, 42.17it/s]\n"
     ]
    },
    {
     "name": "stdout",
     "output_type": "stream",
     "text": [
      "> Generated 1526 records for cc_num: 4025612008285111\n",
      "\n",
      "[400/931] Generating data for cc_num: 3559679414981506\n"
     ]
    },
    {
     "name": "stderr",
     "output_type": "stream",
     "text": [
      "Gen. (0.60) | Discrim. (-0.11): 100%|██████████| 100/100 [00:02<00:00, 43.89it/s]\n"
     ]
    },
    {
     "name": "stdout",
     "output_type": "stream",
     "text": [
      "> Generated 1524 records for cc_num: 3559679414981506\n",
      "\n",
      "[401/931] Generating data for cc_num: 345060451158891\n"
     ]
    },
    {
     "name": "stderr",
     "output_type": "stream",
     "text": [
      "Gen. (1.06) | Discrim. (0.05): 100%|██████████| 100/100 [00:02<00:00, 45.11it/s]\n"
     ]
    },
    {
     "name": "stdout",
     "output_type": "stream",
     "text": [
      "> Generated 1019 records for cc_num: 345060451158891\n",
      "\n",
      "[402/931] Generating data for cc_num: 2274911989136158\n"
     ]
    },
    {
     "name": "stderr",
     "output_type": "stream",
     "text": [
      "Gen. (0.45) | Discrim. (0.01): 100%|██████████| 100/100 [00:02<00:00, 40.18it/s]\n"
     ]
    },
    {
     "name": "stdout",
     "output_type": "stream",
     "text": [
      "> Generated 510 records for cc_num: 2274911989136158\n",
      "\n",
      "[403/931] Generating data for cc_num: 4956828990005111019\n"
     ]
    },
    {
     "name": "stderr",
     "output_type": "stream",
     "text": [
      "Gen. (0.66) | Discrim. (0.34): 100%|██████████| 100/100 [00:02<00:00, 41.42it/s]\n"
     ]
    },
    {
     "name": "stdout",
     "output_type": "stream",
     "text": [
      "> Generated 2552 records for cc_num: 4956828990005111019\n",
      "\n",
      "[404/931] Generating data for cc_num: 38534201672254\n"
     ]
    },
    {
     "name": "stderr",
     "output_type": "stream",
     "text": [
      "Gen. (0.81) | Discrim. (0.16): 100%|██████████| 100/100 [00:02<00:00, 44.86it/s]\n"
     ]
    },
    {
     "name": "stdout",
     "output_type": "stream",
     "text": [
      "> Generated 0 records for cc_num: 38534201672254\n",
      "\n",
      "[405/931] Generating data for cc_num: 4255397449664185994\n"
     ]
    },
    {
     "name": "stderr",
     "output_type": "stream",
     "text": [
      "Gen. (-0.38) | Discrim. (-0.20): 100%|██████████| 100/100 [00:02<00:00, 44.04it/s]\n"
     ]
    },
    {
     "name": "stdout",
     "output_type": "stream",
     "text": [
      "> Generated 1016 records for cc_num: 4255397449664185994\n",
      "\n",
      "[406/931] Generating data for cc_num: 5456776410929288\n"
     ]
    },
    {
     "name": "stderr",
     "output_type": "stream",
     "text": [
      "Gen. (-0.18) | Discrim. (0.05): 100%|██████████| 100/100 [00:01<00:00, 51.09it/s]\n"
     ]
    },
    {
     "name": "stdout",
     "output_type": "stream",
     "text": [
      "> Generated 2039 records for cc_num: 5456776410929288\n",
      "\n",
      "[407/931] Generating data for cc_num: 349813394357327\n"
     ]
    },
    {
     "name": "stderr",
     "output_type": "stream",
     "text": [
      "Gen. (0.80) | Discrim. (-0.23): 100%|██████████| 100/100 [00:02<00:00, 44.33it/s]\n"
     ]
    },
    {
     "name": "stdout",
     "output_type": "stream",
     "text": [
      "> Generated 0 records for cc_num: 349813394357327\n",
      "\n",
      "[408/931] Generating data for cc_num: 581293083266\n"
     ]
    },
    {
     "name": "stderr",
     "output_type": "stream",
     "text": [
      "Gen. (0.36) | Discrim. (0.11): 100%|██████████| 100/100 [00:02<00:00, 41.37it/s]\n"
     ]
    },
    {
     "name": "stdout",
     "output_type": "stream",
     "text": [
      "> Generated 1530 records for cc_num: 581293083266\n",
      "\n",
      "[409/931] Generating data for cc_num: 4488941175228467\n"
     ]
    },
    {
     "name": "stderr",
     "output_type": "stream",
     "text": [
      "Gen. (0.72) | Discrim. (0.07): 100%|██████████| 100/100 [00:02<00:00, 48.48it/s]\n"
     ]
    },
    {
     "name": "stdout",
     "output_type": "stream",
     "text": [
      "> Generated 1018 records for cc_num: 4488941175228467\n",
      "\n",
      "[410/931] Generating data for cc_num: 4992346398065154184\n"
     ]
    },
    {
     "name": "stderr",
     "output_type": "stream",
     "text": [
      "Gen. (0.17) | Discrim. (-0.15): 100%|██████████| 100/100 [00:01<00:00, 50.27it/s]\n"
     ]
    },
    {
     "name": "stdout",
     "output_type": "stream",
     "text": [
      "> Generated 2039 records for cc_num: 4992346398065154184\n",
      "\n",
      "[411/931] Generating data for cc_num: 180094608895855\n"
     ]
    },
    {
     "name": "stderr",
     "output_type": "stream",
     "text": [
      "Gen. (-0.03) | Discrim. (-0.32): 100%|██████████| 100/100 [00:01<00:00, 54.72it/s]\n"
     ]
    },
    {
     "name": "stdout",
     "output_type": "stream",
     "text": [
      "> Generated 510 records for cc_num: 180094608895855\n",
      "\n",
      "[412/931] Generating data for cc_num: 4134456652433447\n"
     ]
    },
    {
     "name": "stderr",
     "output_type": "stream",
     "text": [
      "Gen. (0.45) | Discrim. (0.27): 100%|██████████| 100/100 [00:01<00:00, 53.86it/s] \n"
     ]
    },
    {
     "name": "stdout",
     "output_type": "stream",
     "text": [
      "> Generated 510 records for cc_num: 4134456652433447\n",
      "\n",
      "[413/931] Generating data for cc_num: 4990494243023\n"
     ]
    },
    {
     "name": "stderr",
     "output_type": "stream",
     "text": [
      "Gen. (0.13) | Discrim. (0.15): 100%|██████████| 100/100 [00:02<00:00, 49.42it/s] \n"
     ]
    },
    {
     "name": "stdout",
     "output_type": "stream",
     "text": [
      "> Generated 2037 records for cc_num: 4990494243023\n",
      "\n",
      "[414/931] Generating data for cc_num: 6011382886333463\n"
     ]
    },
    {
     "name": "stderr",
     "output_type": "stream",
     "text": [
      "Gen. (0.10) | Discrim. (-0.02): 100%|██████████| 100/100 [00:02<00:00, 41.53it/s]\n"
     ]
    },
    {
     "name": "stdout",
     "output_type": "stream",
     "text": [
      "> Generated 1019 records for cc_num: 6011382886333463\n",
      "\n",
      "[415/931] Generating data for cc_num: 4598025465633\n"
     ]
    },
    {
     "name": "stderr",
     "output_type": "stream",
     "text": [
      "Gen. (-0.09) | Discrim. (0.15): 100%|██████████| 100/100 [00:02<00:00, 43.99it/s]\n"
     ]
    },
    {
     "name": "stdout",
     "output_type": "stream",
     "text": [
      "> Generated 0 records for cc_num: 4598025465633\n",
      "\n",
      "[416/931] Generating data for cc_num: 373905417449658\n"
     ]
    },
    {
     "name": "stderr",
     "output_type": "stream",
     "text": [
      "Gen. (0.79) | Discrim. (-0.22): 100%|██████████| 100/100 [00:02<00:00, 45.51it/s]\n"
     ]
    },
    {
     "name": "stdout",
     "output_type": "stream",
     "text": [
      "> Generated 2544 records for cc_num: 373905417449658\n",
      "\n",
      "[417/931] Generating data for cc_num: 60490596305\n"
     ]
    },
    {
     "name": "stderr",
     "output_type": "stream",
     "text": [
      "Gen. (0.48) | Discrim. (0.03): 100%|██████████| 100/100 [00:02<00:00, 43.97it/s]\n"
     ]
    },
    {
     "name": "stdout",
     "output_type": "stream",
     "text": [
      "> Generated 1018 records for cc_num: 60490596305\n",
      "\n",
      "[418/931] Generating data for cc_num: 2252055259910912\n"
     ]
    },
    {
     "name": "stderr",
     "output_type": "stream",
     "text": [
      "Gen. (0.60) | Discrim. (-0.14): 100%|██████████| 100/100 [00:02<00:00, 38.84it/s]\n"
     ]
    },
    {
     "name": "stdout",
     "output_type": "stream",
     "text": [
      "> Generated 2040 records for cc_num: 2252055259910912\n",
      "\n",
      "[419/931] Generating data for cc_num: 6011934240159560\n"
     ]
    },
    {
     "name": "stderr",
     "output_type": "stream",
     "text": [
      "Gen. (-0.64) | Discrim. (0.10): 100%|██████████| 100/100 [00:02<00:00, 44.07it/s]\n"
     ]
    },
    {
     "name": "stdout",
     "output_type": "stream",
     "text": [
      "> Generated 1019 records for cc_num: 6011934240159560\n",
      "\n",
      "[420/931] Generating data for cc_num: 3547560454237873\n"
     ]
    },
    {
     "name": "stderr",
     "output_type": "stream",
     "text": [
      "Gen. (0.18) | Discrim. (0.02): 100%|██████████| 100/100 [00:02<00:00, 41.84it/s]\n"
     ]
    },
    {
     "name": "stdout",
     "output_type": "stream",
     "text": [
      "> Generated 1530 records for cc_num: 3547560454237873\n",
      "\n",
      "[421/931] Generating data for cc_num: 3560246577314524\n"
     ]
    },
    {
     "name": "stderr",
     "output_type": "stream",
     "text": [
      "Gen. (-0.15) | Discrim. (0.26): 100%|██████████| 100/100 [00:02<00:00, 40.84it/s]\n"
     ]
    },
    {
     "name": "stdout",
     "output_type": "stream",
     "text": [
      "> Generated 508 records for cc_num: 3560246577314524\n",
      "\n",
      "[422/931] Generating data for cc_num: 502038091380\n"
     ]
    },
    {
     "name": "stderr",
     "output_type": "stream",
     "text": [
      "Gen. (0.00) | Discrim. (-0.04): 100%|██████████| 100/100 [00:02<00:00, 40.13it/s]\n"
     ]
    },
    {
     "name": "stdout",
     "output_type": "stream",
     "text": [
      "> Generated 1530 records for cc_num: 502038091380\n",
      "\n",
      "[423/931] Generating data for cc_num: 4390966588600992777\n"
     ]
    },
    {
     "name": "stderr",
     "output_type": "stream",
     "text": [
      "Gen. (0.15) | Discrim. (0.09): 100%|██████████| 100/100 [00:02<00:00, 44.53it/s]\n"
     ]
    },
    {
     "name": "stdout",
     "output_type": "stream",
     "text": [
      "> Generated 1020 records for cc_num: 4390966588600992777\n",
      "\n",
      "[424/931] Generating data for cc_num: 4826655832045236\n"
     ]
    },
    {
     "name": "stderr",
     "output_type": "stream",
     "text": [
      "Gen. (0.34) | Discrim. (0.09): 100%|██████████| 100/100 [00:02<00:00, 44.12it/s]\n"
     ]
    },
    {
     "name": "stdout",
     "output_type": "stream",
     "text": [
      "> Generated 2039 records for cc_num: 4826655832045236\n",
      "\n",
      "[425/931] Generating data for cc_num: 6011860238257910\n"
     ]
    },
    {
     "name": "stderr",
     "output_type": "stream",
     "text": [
      "Gen. (0.04) | Discrim. (0.32): 100%|██████████| 100/100 [00:02<00:00, 47.70it/s] \n"
     ]
    },
    {
     "name": "stdout",
     "output_type": "stream",
     "text": [
      "> Generated 2039 records for cc_num: 6011860238257910\n",
      "\n",
      "[426/931] Generating data for cc_num: 5127412150261034\n"
     ]
    },
    {
     "name": "stderr",
     "output_type": "stream",
     "text": [
      "Gen. (1.03) | Discrim. (-0.03): 100%|██████████| 100/100 [00:02<00:00, 43.79it/s]\n"
     ]
    },
    {
     "name": "stdout",
     "output_type": "stream",
     "text": [
      "> Generated 509 records for cc_num: 5127412150261034\n",
      "\n",
      "[427/931] Generating data for cc_num: 3525590521269779\n"
     ]
    },
    {
     "name": "stderr",
     "output_type": "stream",
     "text": [
      "Gen. (0.09) | Discrim. (0.14): 100%|██████████| 100/100 [00:02<00:00, 43.45it/s] \n"
     ]
    },
    {
     "name": "stdout",
     "output_type": "stream",
     "text": [
      "> Generated 2550 records for cc_num: 3525590521269779\n",
      "\n",
      "[428/931] Generating data for cc_num: 4550599031376731\n"
     ]
    },
    {
     "name": "stderr",
     "output_type": "stream",
     "text": [
      "Gen. (0.76) | Discrim. (0.07): 100%|██████████| 100/100 [00:02<00:00, 40.29it/s]\n"
     ]
    },
    {
     "name": "stdout",
     "output_type": "stream",
     "text": [
      "> Generated 1530 records for cc_num: 4550599031376731\n",
      "\n",
      "[429/931] Generating data for cc_num: 4348786085525522\n"
     ]
    },
    {
     "name": "stderr",
     "output_type": "stream",
     "text": [
      "Gen. (0.11) | Discrim. (-0.13): 100%|██████████| 100/100 [00:02<00:00, 47.60it/s]\n"
     ]
    },
    {
     "name": "stdout",
     "output_type": "stream",
     "text": [
      "> Generated 510 records for cc_num: 4348786085525522\n",
      "\n",
      "[430/931] Generating data for cc_num: 3542162746848552\n"
     ]
    },
    {
     "name": "stderr",
     "output_type": "stream",
     "text": [
      "Gen. (0.61) | Discrim. (0.43): 100%|██████████| 100/100 [00:02<00:00, 40.08it/s]\n"
     ]
    },
    {
     "name": "stdout",
     "output_type": "stream",
     "text": [
      "> Generated 510 records for cc_num: 3542162746848552\n",
      "\n",
      "[431/931] Generating data for cc_num: 4365382885912355\n"
     ]
    },
    {
     "name": "stderr",
     "output_type": "stream",
     "text": [
      "Gen. (0.12) | Discrim. (0.07): 100%|██████████| 100/100 [00:02<00:00, 38.41it/s]\n"
     ]
    },
    {
     "name": "stdout",
     "output_type": "stream",
     "text": [
      "> Generated 1019 records for cc_num: 4365382885912355\n",
      "\n",
      "[432/931] Generating data for cc_num: 4457486401506\n"
     ]
    },
    {
     "name": "stderr",
     "output_type": "stream",
     "text": [
      "Gen. (1.26) | Discrim. (0.06): 100%|██████████| 100/100 [00:02<00:00, 40.00it/s]\n"
     ]
    },
    {
     "name": "stdout",
     "output_type": "stream",
     "text": [
      "> Generated 0 records for cc_num: 4457486401506\n",
      "\n",
      "[433/931] Generating data for cc_num: 3585740823295298\n"
     ]
    },
    {
     "name": "stderr",
     "output_type": "stream",
     "text": [
      "Gen. (0.91) | Discrim. (-0.12): 100%|██████████| 100/100 [00:02<00:00, 40.79it/s]\n"
     ]
    },
    {
     "name": "stdout",
     "output_type": "stream",
     "text": [
      "> Generated 1530 records for cc_num: 3585740823295298\n",
      "\n",
      "[434/931] Generating data for cc_num: 30030380240193\n"
     ]
    },
    {
     "name": "stderr",
     "output_type": "stream",
     "text": [
      "Gen. (0.56) | Discrim. (0.06): 100%|██████████| 100/100 [00:02<00:00, 47.24it/s]\n"
     ]
    },
    {
     "name": "stdout",
     "output_type": "stream",
     "text": [
      "> Generated 2040 records for cc_num: 30030380240193\n",
      "\n",
      "[435/931] Generating data for cc_num: 30044330818990\n"
     ]
    },
    {
     "name": "stderr",
     "output_type": "stream",
     "text": [
      "Gen. (0.65) | Discrim. (-0.03): 100%|██████████| 100/100 [00:02<00:00, 40.44it/s]\n"
     ]
    },
    {
     "name": "stdout",
     "output_type": "stream",
     "text": [
      "> Generated 2546 records for cc_num: 30044330818990\n",
      "\n",
      "[436/931] Generating data for cc_num: 4600155880464\n"
     ]
    },
    {
     "name": "stderr",
     "output_type": "stream",
     "text": [
      "Gen. (0.23) | Discrim. (0.08): 100%|██████████| 100/100 [00:02<00:00, 48.23it/s]\n"
     ]
    },
    {
     "name": "stdout",
     "output_type": "stream",
     "text": [
      "> Generated 510 records for cc_num: 4600155880464\n",
      "\n",
      "[437/931] Generating data for cc_num: 347612609554823\n"
     ]
    },
    {
     "name": "stderr",
     "output_type": "stream",
     "text": [
      "Gen. (-0.03) | Discrim. (-0.17): 100%|██████████| 100/100 [00:02<00:00, 40.45it/s]\n"
     ]
    },
    {
     "name": "stdout",
     "output_type": "stream",
     "text": [
      "> Generated 510 records for cc_num: 347612609554823\n",
      "\n",
      "[438/931] Generating data for cc_num: 3598895972308782\n"
     ]
    },
    {
     "name": "stderr",
     "output_type": "stream",
     "text": [
      "Gen. (0.49) | Discrim. (0.05): 100%|██████████| 100/100 [00:02<00:00, 46.97it/s]\n"
     ]
    },
    {
     "name": "stdout",
     "output_type": "stream",
     "text": [
      "> Generated 508 records for cc_num: 3598895972308782\n",
      "\n",
      "[439/931] Generating data for cc_num: 4364010865167176\n"
     ]
    },
    {
     "name": "stderr",
     "output_type": "stream",
     "text": [
      "Gen. (0.13) | Discrim. (0.22): 100%|██████████| 100/100 [00:02<00:00, 40.06it/s] \n"
     ]
    },
    {
     "name": "stdout",
     "output_type": "stream",
     "text": [
      "> Generated 3059 records for cc_num: 4364010865167176\n",
      "\n",
      "[440/931] Generating data for cc_num: 4926376199189801\n"
     ]
    },
    {
     "name": "stderr",
     "output_type": "stream",
     "text": [
      "Gen. (0.54) | Discrim. (0.12): 100%|██████████| 100/100 [00:02<00:00, 44.84it/s]\n"
     ]
    },
    {
     "name": "stdout",
     "output_type": "stream",
     "text": [
      "> Generated 1530 records for cc_num: 4926376199189801\n",
      "\n",
      "[441/931] Generating data for cc_num: 3558881852140592\n"
     ]
    },
    {
     "name": "stderr",
     "output_type": "stream",
     "text": [
      "Gen. (1.00) | Discrim. (-0.00): 100%|██████████| 100/100 [00:02<00:00, 37.19it/s]\n"
     ]
    },
    {
     "name": "stdout",
     "output_type": "stream",
     "text": [
      "> Generated 1019 records for cc_num: 3558881852140592\n",
      "\n",
      "[442/931] Generating data for cc_num: 2254917871818484\n"
     ]
    },
    {
     "name": "stderr",
     "output_type": "stream",
     "text": [
      "Gen. (0.04) | Discrim. (0.05): 100%|██████████| 100/100 [00:02<00:00, 39.04it/s] \n"
     ]
    },
    {
     "name": "stdout",
     "output_type": "stream",
     "text": [
      "> Generated 2549 records for cc_num: 2254917871818484\n",
      "\n",
      "[443/931] Generating data for cc_num: 501802953619\n"
     ]
    },
    {
     "name": "stderr",
     "output_type": "stream",
     "text": [
      "Gen. (0.66) | Discrim. (0.42): 100%|██████████| 100/100 [00:02<00:00, 39.86it/s]\n"
     ]
    },
    {
     "name": "stdout",
     "output_type": "stream",
     "text": [
      "> Generated 1530 records for cc_num: 501802953619\n",
      "\n",
      "[444/931] Generating data for cc_num: 4067137330196900\n"
     ]
    },
    {
     "name": "stderr",
     "output_type": "stream",
     "text": [
      "Gen. (0.46) | Discrim. (-0.17): 100%|██████████| 100/100 [00:02<00:00, 38.63it/s]\n"
     ]
    },
    {
     "name": "stdout",
     "output_type": "stream",
     "text": [
      "> Generated 1531 records for cc_num: 4067137330196900\n",
      "\n",
      "[445/931] Generating data for cc_num: 4736845434667908128\n"
     ]
    },
    {
     "name": "stderr",
     "output_type": "stream",
     "text": [
      "Gen. (0.84) | Discrim. (0.23): 100%|██████████| 100/100 [00:02<00:00, 47.79it/s]\n"
     ]
    },
    {
     "name": "stdout",
     "output_type": "stream",
     "text": [
      "> Generated 2039 records for cc_num: 4736845434667908128\n",
      "\n",
      "[446/931] Generating data for cc_num: 3562264947797243\n"
     ]
    },
    {
     "name": "stderr",
     "output_type": "stream",
     "text": [
      "Gen. (0.42) | Discrim. (-0.10): 100%|██████████| 100/100 [00:02<00:00, 40.82it/s]\n"
     ]
    },
    {
     "name": "stdout",
     "output_type": "stream",
     "text": [
      "> Generated 509 records for cc_num: 3562264947797243\n",
      "\n",
      "[447/931] Generating data for cc_num: 3541687240161491\n"
     ]
    },
    {
     "name": "stderr",
     "output_type": "stream",
     "text": [
      "Gen. (0.14) | Discrim. (0.00): 100%|██████████| 100/100 [00:02<00:00, 46.35it/s] \n"
     ]
    },
    {
     "name": "stdout",
     "output_type": "stream",
     "text": [
      "> Generated 508 records for cc_num: 3541687240161491\n",
      "\n",
      "[448/931] Generating data for cc_num: 180038493344495\n"
     ]
    },
    {
     "name": "stderr",
     "output_type": "stream",
     "text": [
      "Gen. (-0.15) | Discrim. (-0.19): 100%|██████████| 100/100 [00:02<00:00, 46.65it/s]\n"
     ]
    },
    {
     "name": "stdout",
     "output_type": "stream",
     "text": [
      "> Generated 0 records for cc_num: 180038493344495\n",
      "\n",
      "[449/931] Generating data for cc_num: 4800395067176717\n"
     ]
    },
    {
     "name": "stderr",
     "output_type": "stream",
     "text": [
      "Gen. (0.68) | Discrim. (-0.32): 100%|██████████| 100/100 [00:02<00:00, 47.75it/s]\n"
     ]
    },
    {
     "name": "stdout",
     "output_type": "stream",
     "text": [
      "> Generated 1521 records for cc_num: 4800395067176717\n",
      "\n",
      "[450/931] Generating data for cc_num: 30364087349027\n"
     ]
    },
    {
     "name": "stderr",
     "output_type": "stream",
     "text": [
      "Gen. (0.10) | Discrim. (-0.19): 100%|██████████| 100/100 [00:02<00:00, 38.39it/s]\n"
     ]
    },
    {
     "name": "stdout",
     "output_type": "stream",
     "text": [
      "> Generated 1528 records for cc_num: 30364087349027\n",
      "\n",
      "[451/931] Generating data for cc_num: 5130484058948421\n"
     ]
    },
    {
     "name": "stderr",
     "output_type": "stream",
     "text": [
      "Gen. (-0.05) | Discrim. (0.18): 100%|██████████| 100/100 [00:02<00:00, 48.04it/s]\n"
     ]
    },
    {
     "name": "stdout",
     "output_type": "stream",
     "text": [
      "> Generated 1019 records for cc_num: 5130484058948421\n",
      "\n",
      "[452/931] Generating data for cc_num: 3506042666828517\n"
     ]
    },
    {
     "name": "stderr",
     "output_type": "stream",
     "text": [
      "Gen. (0.45) | Discrim. (0.02): 100%|██████████| 100/100 [00:02<00:00, 39.71it/s]\n"
     ]
    },
    {
     "name": "stdout",
     "output_type": "stream",
     "text": [
      "> Generated 1526 records for cc_num: 3506042666828517\n",
      "\n",
      "[453/931] Generating data for cc_num: 3517814635263522\n"
     ]
    },
    {
     "name": "stderr",
     "output_type": "stream",
     "text": [
      "Gen. (0.77) | Discrim. (0.18): 100%|██████████| 100/100 [00:02<00:00, 40.70it/s]\n"
     ]
    },
    {
     "name": "stdout",
     "output_type": "stream",
     "text": [
      "> Generated 1015 records for cc_num: 3517814635263522\n",
      "\n",
      "[454/931] Generating data for cc_num: 4102003771126577611\n"
     ]
    },
    {
     "name": "stderr",
     "output_type": "stream",
     "text": [
      "Gen. (0.34) | Discrim. (-0.04): 100%|██████████| 100/100 [00:02<00:00, 39.75it/s]\n"
     ]
    },
    {
     "name": "stdout",
     "output_type": "stream",
     "text": [
      "> Generated 1527 records for cc_num: 4102003771126577611\n",
      "\n",
      "[455/931] Generating data for cc_num: 3554421171166228\n"
     ]
    },
    {
     "name": "stderr",
     "output_type": "stream",
     "text": [
      "Gen. (0.12) | Discrim. (-0.12): 100%|██████████| 100/100 [00:02<00:00, 42.11it/s]\n"
     ]
    },
    {
     "name": "stdout",
     "output_type": "stream",
     "text": [
      "> Generated 0 records for cc_num: 3554421171166228\n",
      "\n",
      "[456/931] Generating data for cc_num: 4302480582202074\n"
     ]
    },
    {
     "name": "stderr",
     "output_type": "stream",
     "text": [
      "Gen. (1.17) | Discrim. (0.09): 100%|██████████| 100/100 [00:02<00:00, 39.52it/s]\n"
     ]
    },
    {
     "name": "stdout",
     "output_type": "stream",
     "text": [
      "> Generated 2548 records for cc_num: 4302480582202074\n",
      "\n",
      "[457/931] Generating data for cc_num: 2248735346244816\n"
     ]
    },
    {
     "name": "stderr",
     "output_type": "stream",
     "text": [
      "Gen. (-0.07) | Discrim. (0.21): 100%|██████████| 100/100 [00:02<00:00, 38.21it/s]\n"
     ]
    },
    {
     "name": "stdout",
     "output_type": "stream",
     "text": [
      "> Generated 2036 records for cc_num: 2248735346244816\n",
      "\n",
      "[458/931] Generating data for cc_num: 676298633337\n"
     ]
    },
    {
     "name": "stderr",
     "output_type": "stream",
     "text": [
      "Gen. (-0.06) | Discrim. (-0.03): 100%|██████████| 100/100 [00:02<00:00, 38.62it/s]\n"
     ]
    },
    {
     "name": "stdout",
     "output_type": "stream",
     "text": [
      "> Generated 1526 records for cc_num: 676298633337\n",
      "\n",
      "[459/931] Generating data for cc_num: 584673555952\n"
     ]
    },
    {
     "name": "stderr",
     "output_type": "stream",
     "text": [
      "Gen. (1.06) | Discrim. (0.20): 100%|██████████| 100/100 [00:02<00:00, 42.72it/s]\n"
     ]
    },
    {
     "name": "stdout",
     "output_type": "stream",
     "text": [
      "> Generated 2032 records for cc_num: 584673555952\n",
      "\n",
      "[460/931] Generating data for cc_num: 4430881574719618\n"
     ]
    },
    {
     "name": "stderr",
     "output_type": "stream",
     "text": [
      "Gen. (0.24) | Discrim. (0.20): 100%|██████████| 100/100 [00:02<00:00, 38.57it/s]\n"
     ]
    },
    {
     "name": "stdout",
     "output_type": "stream",
     "text": [
      "> Generated 2030 records for cc_num: 4430881574719618\n",
      "\n",
      "[461/931] Generating data for cc_num: 6577777028615915\n"
     ]
    },
    {
     "name": "stderr",
     "output_type": "stream",
     "text": [
      "Gen. (-0.73) | Discrim. (-0.12): 100%|██████████| 100/100 [00:02<00:00, 45.52it/s]\n"
     ]
    },
    {
     "name": "stdout",
     "output_type": "stream",
     "text": [
      "> Generated 0 records for cc_num: 6577777028615915\n",
      "\n",
      "[462/931] Generating data for cc_num: 2266735643685262\n"
     ]
    },
    {
     "name": "stderr",
     "output_type": "stream",
     "text": [
      "Gen. (0.25) | Discrim. (0.29): 100%|██████████| 100/100 [00:02<00:00, 39.81it/s] \n"
     ]
    },
    {
     "name": "stdout",
     "output_type": "stream",
     "text": [
      "> Generated 2031 records for cc_num: 2266735643685262\n",
      "\n",
      "[463/931] Generating data for cc_num: 6011626928491360\n"
     ]
    },
    {
     "name": "stderr",
     "output_type": "stream",
     "text": [
      "Gen. (0.14) | Discrim. (-0.00): 100%|██████████| 100/100 [00:02<00:00, 48.18it/s]\n"
     ]
    },
    {
     "name": "stdout",
     "output_type": "stream",
     "text": [
      "> Generated 1017 records for cc_num: 6011626928491360\n",
      "\n",
      "[464/931] Generating data for cc_num: 377654590313960\n"
     ]
    },
    {
     "name": "stderr",
     "output_type": "stream",
     "text": [
      "Gen. (-0.26) | Discrim. (0.13): 100%|██████████| 100/100 [00:02<00:00, 42.34it/s]\n"
     ]
    },
    {
     "name": "stdout",
     "output_type": "stream",
     "text": [
      "> Generated 1523 records for cc_num: 377654590313960\n",
      "\n",
      "[465/931] Generating data for cc_num: 4446368897795790\n"
     ]
    },
    {
     "name": "stderr",
     "output_type": "stream",
     "text": [
      "Gen. (-0.24) | Discrim. (0.11): 100%|██████████| 100/100 [00:02<00:00, 46.04it/s]\n"
     ]
    },
    {
     "name": "stdout",
     "output_type": "stream",
     "text": [
      "> Generated 2038 records for cc_num: 4446368897795790\n",
      "\n",
      "[466/931] Generating data for cc_num: 4378993458389626\n"
     ]
    },
    {
     "name": "stderr",
     "output_type": "stream",
     "text": [
      "Gen. (-0.62) | Discrim. (-0.36): 100%|██████████| 100/100 [00:02<00:00, 45.43it/s]\n"
     ]
    },
    {
     "name": "stdout",
     "output_type": "stream",
     "text": [
      "> Generated 1529 records for cc_num: 4378993458389626\n",
      "\n",
      "[467/931] Generating data for cc_num: 4450831335606294\n"
     ]
    },
    {
     "name": "stderr",
     "output_type": "stream",
     "text": [
      "Gen. (0.02) | Discrim. (0.16): 100%|██████████| 100/100 [00:02<00:00, 44.03it/s] \n"
     ]
    },
    {
     "name": "stdout",
     "output_type": "stream",
     "text": [
      "> Generated 2039 records for cc_num: 4450831335606294\n",
      "\n",
      "[468/931] Generating data for cc_num: 4658117080136\n"
     ]
    },
    {
     "name": "stderr",
     "output_type": "stream",
     "text": [
      "Gen. (0.53) | Discrim. (-0.04): 100%|██████████| 100/100 [00:02<00:00, 41.53it/s]\n"
     ]
    },
    {
     "name": "stdout",
     "output_type": "stream",
     "text": [
      "> Generated 1017 records for cc_num: 4658117080136\n",
      "\n",
      "[469/931] Generating data for cc_num: 3534718226968689\n"
     ]
    },
    {
     "name": "stderr",
     "output_type": "stream",
     "text": [
      "Gen. (0.32) | Discrim. (-0.06): 100%|██████████| 100/100 [00:02<00:00, 40.40it/s]\n"
     ]
    },
    {
     "name": "stdout",
     "output_type": "stream",
     "text": [
      "> Generated 1019 records for cc_num: 3534718226968689\n",
      "\n",
      "[470/931] Generating data for cc_num: 4149635823017\n"
     ]
    },
    {
     "name": "stderr",
     "output_type": "stream",
     "text": [
      "Gen. (0.35) | Discrim. (-0.15): 100%|██████████| 100/100 [00:02<00:00, 38.85it/s]\n"
     ]
    },
    {
     "name": "stdout",
     "output_type": "stream",
     "text": [
      "> Generated 2036 records for cc_num: 4149635823017\n",
      "\n",
      "[471/931] Generating data for cc_num: 630471368021\n"
     ]
    },
    {
     "name": "stderr",
     "output_type": "stream",
     "text": [
      "Gen. (-0.32) | Discrim. (-0.10): 100%|██████████| 100/100 [00:02<00:00, 39.23it/s]\n"
     ]
    },
    {
     "name": "stdout",
     "output_type": "stream",
     "text": [
      "> Generated 509 records for cc_num: 630471368021\n",
      "\n",
      "[472/931] Generating data for cc_num: 6011935564104173\n"
     ]
    },
    {
     "name": "stderr",
     "output_type": "stream",
     "text": [
      "Gen. (-0.17) | Discrim. (0.31): 100%|██████████| 100/100 [00:02<00:00, 44.47it/s]\n"
     ]
    },
    {
     "name": "stdout",
     "output_type": "stream",
     "text": [
      "> Generated 0 records for cc_num: 6011935564104173\n",
      "\n",
      "[473/931] Generating data for cc_num: 30273037698427\n"
     ]
    },
    {
     "name": "stderr",
     "output_type": "stream",
     "text": [
      "Gen. (0.54) | Discrim. (0.37): 100%|██████████| 100/100 [00:02<00:00, 46.75it/s]\n"
     ]
    },
    {
     "name": "stdout",
     "output_type": "stream",
     "text": [
      "> Generated 3056 records for cc_num: 30273037698427\n",
      "\n",
      "[474/931] Generating data for cc_num: 4601636330889\n"
     ]
    },
    {
     "name": "stderr",
     "output_type": "stream",
     "text": [
      "Gen. (0.42) | Discrim. (0.11): 100%|██████████| 100/100 [00:02<00:00, 46.00it/s]\n"
     ]
    },
    {
     "name": "stdout",
     "output_type": "stream",
     "text": [
      "> Generated 1017 records for cc_num: 4601636330889\n",
      "\n",
      "[475/931] Generating data for cc_num: 377993105397617\n"
     ]
    },
    {
     "name": "stderr",
     "output_type": "stream",
     "text": [
      "Gen. (0.60) | Discrim. (0.14): 100%|██████████| 100/100 [00:02<00:00, 43.41it/s]\n"
     ]
    },
    {
     "name": "stdout",
     "output_type": "stream",
     "text": [
      "> Generated 2034 records for cc_num: 377993105397617\n",
      "\n",
      "[476/931] Generating data for cc_num: 2291163933867244\n"
     ]
    },
    {
     "name": "stderr",
     "output_type": "stream",
     "text": [
      "Gen. (0.48) | Discrim. (0.18): 100%|██████████| 100/100 [00:02<00:00, 44.66it/s]\n"
     ]
    },
    {
     "name": "stdout",
     "output_type": "stream",
     "text": [
      "> Generated 1532 records for cc_num: 2291163933867244\n",
      "\n",
      "[477/931] Generating data for cc_num: 180067151859700\n"
     ]
    },
    {
     "name": "stderr",
     "output_type": "stream",
     "text": [
      "Gen. (0.12) | Discrim. (-0.05): 100%|██████████| 100/100 [00:02<00:00, 44.49it/s]\n"
     ]
    },
    {
     "name": "stdout",
     "output_type": "stream",
     "text": [
      "> Generated 1527 records for cc_num: 180067151859700\n",
      "\n",
      "[478/931] Generating data for cc_num: 180040131978916\n"
     ]
    },
    {
     "name": "stderr",
     "output_type": "stream",
     "text": [
      "Gen. (-0.86) | Discrim. (0.04): 100%|██████████| 100/100 [00:02<00:00, 49.30it/s]\n"
     ]
    },
    {
     "name": "stdout",
     "output_type": "stream",
     "text": [
      "> Generated 0 records for cc_num: 180040131978916\n",
      "\n",
      "[479/931] Generating data for cc_num: 4279161831637\n"
     ]
    },
    {
     "name": "stderr",
     "output_type": "stream",
     "text": [
      "Gen. (0.46) | Discrim. (0.04): 100%|██████████| 100/100 [00:02<00:00, 39.79it/s]\n"
     ]
    },
    {
     "name": "stdout",
     "output_type": "stream",
     "text": [
      "> Generated 1016 records for cc_num: 4279161831637\n",
      "\n",
      "[480/931] Generating data for cc_num: 4158008602445\n"
     ]
    },
    {
     "name": "stderr",
     "output_type": "stream",
     "text": [
      "Gen. (1.05) | Discrim. (0.07): 100%|██████████| 100/100 [00:02<00:00, 40.12it/s]\n"
     ]
    },
    {
     "name": "stdout",
     "output_type": "stream",
     "text": [
      "> Generated 510 records for cc_num: 4158008602445\n",
      "\n",
      "[481/931] Generating data for cc_num: 4742883543039288059\n"
     ]
    },
    {
     "name": "stderr",
     "output_type": "stream",
     "text": [
      "Gen. (-0.19) | Discrim. (0.08): 100%|██████████| 100/100 [00:02<00:00, 40.45it/s]\n"
     ]
    },
    {
     "name": "stdout",
     "output_type": "stream",
     "text": [
      "> Generated 1525 records for cc_num: 4742883543039288059\n",
      "\n",
      "[482/931] Generating data for cc_num: 180067784565096\n"
     ]
    },
    {
     "name": "stderr",
     "output_type": "stream",
     "text": [
      "Gen. (0.89) | Discrim. (-0.21): 100%|██████████| 100/100 [00:02<00:00, 48.96it/s]\n"
     ]
    },
    {
     "name": "stdout",
     "output_type": "stream",
     "text": [
      "> Generated 2027 records for cc_num: 180067784565096\n",
      "\n",
      "[483/931] Generating data for cc_num: 4424338559877976\n"
     ]
    },
    {
     "name": "stderr",
     "output_type": "stream",
     "text": [
      "Gen. (0.51) | Discrim. (-0.05): 100%|██████████| 100/100 [00:02<00:00, 47.22it/s]\n"
     ]
    },
    {
     "name": "stdout",
     "output_type": "stream",
     "text": [
      "> Generated 2026 records for cc_num: 4424338559877976\n",
      "\n",
      "[484/931] Generating data for cc_num: 3546436741611231\n"
     ]
    },
    {
     "name": "stderr",
     "output_type": "stream",
     "text": [
      "Gen. (0.18) | Discrim. (-0.02): 100%|██████████| 100/100 [00:02<00:00, 44.57it/s]\n"
     ]
    },
    {
     "name": "stdout",
     "output_type": "stream",
     "text": [
      "> Generated 0 records for cc_num: 3546436741611231\n",
      "\n",
      "[485/931] Generating data for cc_num: 4792627764422477317\n"
     ]
    },
    {
     "name": "stderr",
     "output_type": "stream",
     "text": [
      "Gen. (0.87) | Discrim. (0.23): 100%|██████████| 100/100 [00:02<00:00, 40.39it/s]\n"
     ]
    },
    {
     "name": "stdout",
     "output_type": "stream",
     "text": [
      "> Generated 3046 records for cc_num: 4792627764422477317\n",
      "\n",
      "[486/931] Generating data for cc_num: 6011581063717667\n"
     ]
    },
    {
     "name": "stderr",
     "output_type": "stream",
     "text": [
      "Gen. (0.50) | Discrim. (-0.03): 100%|██████████| 100/100 [00:02<00:00, 40.19it/s]\n"
     ]
    },
    {
     "name": "stdout",
     "output_type": "stream",
     "text": [
      "> Generated 509 records for cc_num: 6011581063717667\n",
      "\n",
      "[487/931] Generating data for cc_num: 6517779374888867\n"
     ]
    },
    {
     "name": "stderr",
     "output_type": "stream",
     "text": [
      "Gen. (0.17) | Discrim. (0.02): 100%|██████████| 100/100 [00:02<00:00, 45.85it/s]\n"
     ]
    },
    {
     "name": "stdout",
     "output_type": "stream",
     "text": [
      "> Generated 0 records for cc_num: 6517779374888867\n",
      "\n",
      "[488/931] Generating data for cc_num: 6011652924285713\n"
     ]
    },
    {
     "name": "stderr",
     "output_type": "stream",
     "text": [
      "Gen. (0.11) | Discrim. (-0.12): 100%|██████████| 100/100 [00:02<00:00, 44.23it/s]\n"
     ]
    },
    {
     "name": "stdout",
     "output_type": "stream",
     "text": [
      "> Generated 3059 records for cc_num: 6011652924285713\n",
      "\n",
      "[489/931] Generating data for cc_num: 4879265611163287\n"
     ]
    },
    {
     "name": "stderr",
     "output_type": "stream",
     "text": [
      "Gen. (1.40) | Discrim. (0.14): 100%|██████████| 100/100 [00:02<00:00, 43.47it/s]\n"
     ]
    },
    {
     "name": "stdout",
     "output_type": "stream",
     "text": [
      "> Generated 509 records for cc_num: 4879265611163287\n",
      "\n",
      "[490/931] Generating data for cc_num: 3521417320836166\n"
     ]
    },
    {
     "name": "stderr",
     "output_type": "stream",
     "text": [
      "Gen. (0.04) | Discrim. (-0.12): 100%|██████████| 100/100 [00:02<00:00, 41.43it/s]\n"
     ]
    },
    {
     "name": "stdout",
     "output_type": "stream",
     "text": [
      "> Generated 3055 records for cc_num: 3521417320836166\n",
      "\n",
      "[491/931] Generating data for cc_num: 180068353086472\n"
     ]
    },
    {
     "name": "stderr",
     "output_type": "stream",
     "text": [
      "Gen. (0.45) | Discrim. (0.23): 100%|██████████| 100/100 [00:02<00:00, 41.36it/s]\n"
     ]
    },
    {
     "name": "stdout",
     "output_type": "stream",
     "text": [
      "> Generated 509 records for cc_num: 180068353086472\n",
      "\n",
      "[492/931] Generating data for cc_num: 4116554952971686\n"
     ]
    },
    {
     "name": "stderr",
     "output_type": "stream",
     "text": [
      "Gen. (-0.47) | Discrim. (0.10): 100%|██████████| 100/100 [00:02<00:00, 42.05it/s]\n"
     ]
    },
    {
     "name": "stdout",
     "output_type": "stream",
     "text": [
      "> Generated 509 records for cc_num: 4116554952971686\n",
      "\n",
      "[493/931] Generating data for cc_num: 676195318214\n"
     ]
    },
    {
     "name": "stderr",
     "output_type": "stream",
     "text": [
      "Gen. (-0.29) | Discrim. (0.30): 100%|██████████| 100/100 [00:02<00:00, 41.79it/s]\n"
     ]
    },
    {
     "name": "stdout",
     "output_type": "stream",
     "text": [
      "> Generated 2035 records for cc_num: 676195318214\n",
      "\n",
      "[494/931] Generating data for cc_num: 3511378610369890\n"
     ]
    },
    {
     "name": "stderr",
     "output_type": "stream",
     "text": [
      "Gen. (0.16) | Discrim. (0.03): 100%|██████████| 100/100 [00:02<00:00, 47.56it/s] \n"
     ]
    },
    {
     "name": "stdout",
     "output_type": "stream",
     "text": [
      "> Generated 2531 records for cc_num: 3511378610369890\n",
      "\n",
      "[495/931] Generating data for cc_num: 4048508450704760\n"
     ]
    },
    {
     "name": "stderr",
     "output_type": "stream",
     "text": [
      "Gen. (0.02) | Discrim. (0.12): 100%|██████████| 100/100 [00:02<00:00, 45.26it/s] \n"
     ]
    },
    {
     "name": "stdout",
     "output_type": "stream",
     "text": [
      "> Generated 1523 records for cc_num: 4048508450704760\n",
      "\n",
      "[496/931] Generating data for cc_num: 4715741951931168360\n"
     ]
    },
    {
     "name": "stderr",
     "output_type": "stream",
     "text": [
      "Gen. (-0.05) | Discrim. (-0.38): 100%|██████████| 100/100 [00:02<00:00, 41.32it/s]\n"
     ]
    },
    {
     "name": "stdout",
     "output_type": "stream",
     "text": [
      "> Generated 1518 records for cc_num: 4715741951931168360\n",
      "\n",
      "[497/931] Generating data for cc_num: 4629125581019\n"
     ]
    },
    {
     "name": "stderr",
     "output_type": "stream",
     "text": [
      "Gen. (1.08) | Discrim. (-0.09): 100%|██████████| 100/100 [00:02<00:00, 39.07it/s]\n"
     ]
    },
    {
     "name": "stdout",
     "output_type": "stream",
     "text": [
      "> Generated 0 records for cc_num: 4629125581019\n",
      "\n",
      "[498/931] Generating data for cc_num: 4070511711385545\n"
     ]
    },
    {
     "name": "stderr",
     "output_type": "stream",
     "text": [
      "Gen. (0.94) | Discrim. (0.19): 100%|██████████| 100/100 [00:02<00:00, 42.33it/s]\n"
     ]
    },
    {
     "name": "stdout",
     "output_type": "stream",
     "text": [
      "> Generated 1014 records for cc_num: 4070511711385545\n",
      "\n",
      "[499/931] Generating data for cc_num: 213155997615567\n"
     ]
    },
    {
     "name": "stderr",
     "output_type": "stream",
     "text": [
      "Gen. (0.53) | Discrim. (-0.13): 100%|██████████| 100/100 [00:02<00:00, 39.77it/s]\n"
     ]
    },
    {
     "name": "stdout",
     "output_type": "stream",
     "text": [
      "> Generated 1019 records for cc_num: 213155997615567\n",
      "\n",
      "[500/931] Generating data for cc_num: 571465035400\n"
     ]
    },
    {
     "name": "stderr",
     "output_type": "stream",
     "text": [
      "Gen. (-0.40) | Discrim. (-0.01): 100%|██████████| 100/100 [00:02<00:00, 37.66it/s]\n"
     ]
    },
    {
     "name": "stdout",
     "output_type": "stream",
     "text": [
      "> Generated 2035 records for cc_num: 571465035400\n",
      "\n",
      "[501/931] Generating data for cc_num: 676292294938\n"
     ]
    },
    {
     "name": "stderr",
     "output_type": "stream",
     "text": [
      "Gen. (-0.32) | Discrim. (-0.06): 100%|██████████| 100/100 [00:02<00:00, 41.27it/s]\n"
     ]
    },
    {
     "name": "stdout",
     "output_type": "stream",
     "text": [
      "> Generated 506 records for cc_num: 676292294938\n",
      "\n",
      "[502/931] Generating data for cc_num: 4396682467723\n"
     ]
    },
    {
     "name": "stderr",
     "output_type": "stream",
     "text": [
      "Gen. (0.81) | Discrim. (-0.36): 100%|██████████| 100/100 [00:02<00:00, 41.23it/s]\n"
     ]
    },
    {
     "name": "stdout",
     "output_type": "stream",
     "text": [
      "> Generated 510 records for cc_num: 4396682467723\n",
      "\n",
      "[503/931] Generating data for cc_num: 4756039869079882102\n"
     ]
    },
    {
     "name": "stderr",
     "output_type": "stream",
     "text": [
      "Gen. (-0.04) | Discrim. (-0.15): 100%|██████████| 100/100 [00:02<00:00, 40.53it/s]\n"
     ]
    },
    {
     "name": "stdout",
     "output_type": "stream",
     "text": [
      "> Generated 509 records for cc_num: 4756039869079882102\n",
      "\n",
      "[504/931] Generating data for cc_num: 374656033243756\n"
     ]
    },
    {
     "name": "stderr",
     "output_type": "stream",
     "text": [
      "Gen. (0.32) | Discrim. (-0.16): 100%|██████████| 100/100 [00:02<00:00, 43.13it/s]\n"
     ]
    },
    {
     "name": "stdout",
     "output_type": "stream",
     "text": [
      "> Generated 1526 records for cc_num: 374656033243756\n",
      "\n",
      "[505/931] Generating data for cc_num: 503874407318\n"
     ]
    },
    {
     "name": "stderr",
     "output_type": "stream",
     "text": [
      "Gen. (-0.11) | Discrim. (0.19): 100%|██████████| 100/100 [00:02<00:00, 41.05it/s]\n"
     ]
    },
    {
     "name": "stdout",
     "output_type": "stream",
     "text": [
      "> Generated 2552 records for cc_num: 503874407318\n",
      "\n",
      "[506/931] Generating data for cc_num: 2512312531485080\n"
     ]
    },
    {
     "name": "stderr",
     "output_type": "stream",
     "text": [
      "Gen. (0.04) | Discrim. (0.23): 100%|██████████| 100/100 [00:02<00:00, 40.37it/s] \n"
     ]
    },
    {
     "name": "stdout",
     "output_type": "stream",
     "text": [
      "> Generated 1019 records for cc_num: 2512312531485080\n",
      "\n",
      "[507/931] Generating data for cc_num: 3523843138706408\n"
     ]
    },
    {
     "name": "stderr",
     "output_type": "stream",
     "text": [
      "Gen. (0.66) | Discrim. (0.45): 100%|██████████| 100/100 [00:02<00:00, 42.83it/s]\n"
     ]
    },
    {
     "name": "stdout",
     "output_type": "stream",
     "text": [
      "> Generated 2041 records for cc_num: 3523843138706408\n",
      "\n",
      "[508/931] Generating data for cc_num: 6592243974328236\n"
     ]
    },
    {
     "name": "stderr",
     "output_type": "stream",
     "text": [
      "Gen. (0.19) | Discrim. (0.17): 100%|██████████| 100/100 [00:02<00:00, 45.65it/s] \n"
     ]
    },
    {
     "name": "stdout",
     "output_type": "stream",
     "text": [
      "> Generated 1019 records for cc_num: 6592243974328236\n",
      "\n",
      "[509/931] Generating data for cc_num: 4492491748959010\n"
     ]
    },
    {
     "name": "stderr",
     "output_type": "stream",
     "text": [
      "Gen. (0.21) | Discrim. (0.22): 100%|██████████| 100/100 [00:02<00:00, 39.17it/s] \n"
     ]
    },
    {
     "name": "stdout",
     "output_type": "stream",
     "text": [
      "> Generated 509 records for cc_num: 4492491748959010\n",
      "\n",
      "[510/931] Generating data for cc_num: 676248282243\n"
     ]
    },
    {
     "name": "stderr",
     "output_type": "stream",
     "text": [
      "Gen. (0.44) | Discrim. (-0.06): 100%|██████████| 100/100 [00:02<00:00, 40.69it/s]\n"
     ]
    },
    {
     "name": "stdout",
     "output_type": "stream",
     "text": [
      "> Generated 1020 records for cc_num: 676248282243\n",
      "\n",
      "[511/931] Generating data for cc_num: 6011693194885790\n"
     ]
    },
    {
     "name": "stderr",
     "output_type": "stream",
     "text": [
      "Gen. (0.14) | Discrim. (0.05): 100%|██████████| 100/100 [00:02<00:00, 38.94it/s]\n"
     ]
    },
    {
     "name": "stdout",
     "output_type": "stream",
     "text": [
      "> Generated 2552 records for cc_num: 6011693194885790\n",
      "\n",
      "[512/931] Generating data for cc_num: 6506982560413523\n"
     ]
    },
    {
     "name": "stderr",
     "output_type": "stream",
     "text": [
      "Gen. (0.67) | Discrim. (0.08): 100%|██████████| 100/100 [00:02<00:00, 38.99it/s]\n"
     ]
    },
    {
     "name": "stdout",
     "output_type": "stream",
     "text": [
      "> Generated 1021 records for cc_num: 6506982560413523\n",
      "\n",
      "[513/931] Generating data for cc_num: 6011149206456997\n"
     ]
    },
    {
     "name": "stderr",
     "output_type": "stream",
     "text": [
      "Gen. (0.15) | Discrim. (-0.13): 100%|██████████| 100/100 [00:02<00:00, 45.78it/s]\n"
     ]
    },
    {
     "name": "stdout",
     "output_type": "stream",
     "text": [
      "> Generated 510 records for cc_num: 6011149206456997\n",
      "\n",
      "[514/931] Generating data for cc_num: 3529788038921264\n"
     ]
    },
    {
     "name": "stderr",
     "output_type": "stream",
     "text": [
      "Gen. (0.10) | Discrim. (-0.05): 100%|██████████| 100/100 [00:02<00:00, 39.65it/s]\n"
     ]
    },
    {
     "name": "stdout",
     "output_type": "stream",
     "text": [
      "> Generated 0 records for cc_num: 3529788038921264\n",
      "\n",
      "[515/931] Generating data for cc_num: 213113028819344\n"
     ]
    },
    {
     "name": "stderr",
     "output_type": "stream",
     "text": [
      "Gen. (0.22) | Discrim. (-0.04): 100%|██████████| 100/100 [00:02<00:00, 40.57it/s]\n"
     ]
    },
    {
     "name": "stdout",
     "output_type": "stream",
     "text": [
      "> Generated 1021 records for cc_num: 213113028819344\n",
      "\n",
      "[516/931] Generating data for cc_num: 6554245334757802\n"
     ]
    },
    {
     "name": "stderr",
     "output_type": "stream",
     "text": [
      "Gen. (0.57) | Discrim. (-0.18): 100%|██████████| 100/100 [00:02<00:00, 42.45it/s]\n"
     ]
    },
    {
     "name": "stdout",
     "output_type": "stream",
     "text": [
      "> Generated 1528 records for cc_num: 6554245334757802\n",
      "\n",
      "[517/931] Generating data for cc_num: 3540017235499519\n"
     ]
    },
    {
     "name": "stderr",
     "output_type": "stream",
     "text": [
      "Gen. (0.07) | Discrim. (0.08): 100%|██████████| 100/100 [00:02<00:00, 39.23it/s] \n"
     ]
    },
    {
     "name": "stdout",
     "output_type": "stream",
     "text": [
      "> Generated 508 records for cc_num: 3540017235499519\n",
      "\n",
      "[518/931] Generating data for cc_num: 349612764943496\n"
     ]
    },
    {
     "name": "stderr",
     "output_type": "stream",
     "text": [
      "Gen. (0.23) | Discrim. (0.03): 100%|██████████| 100/100 [00:02<00:00, 44.90it/s] \n"
     ]
    },
    {
     "name": "stdout",
     "output_type": "stream",
     "text": [
      "> Generated 1528 records for cc_num: 349612764943496\n",
      "\n",
      "[519/931] Generating data for cc_num: 4228411452607671\n"
     ]
    },
    {
     "name": "stderr",
     "output_type": "stream",
     "text": [
      "Gen. (0.29) | Discrim. (0.03): 100%|██████████| 100/100 [00:02<00:00, 41.90it/s] \n"
     ]
    },
    {
     "name": "stdout",
     "output_type": "stream",
     "text": [
      "> Generated 510 records for cc_num: 4228411452607671\n",
      "\n",
      "[520/931] Generating data for cc_num: 36581538659449\n"
     ]
    },
    {
     "name": "stderr",
     "output_type": "stream",
     "text": [
      "Gen. (0.24) | Discrim. (-0.17): 100%|██████████| 100/100 [00:02<00:00, 39.83it/s]\n"
     ]
    },
    {
     "name": "stdout",
     "output_type": "stream",
     "text": [
      "> Generated 510 records for cc_num: 36581538659449\n",
      "\n",
      "[521/931] Generating data for cc_num: 6011999606625827\n"
     ]
    },
    {
     "name": "stderr",
     "output_type": "stream",
     "text": [
      "Gen. (0.69) | Discrim. (0.08): 100%|██████████| 100/100 [00:02<00:00, 39.03it/s]\n"
     ]
    },
    {
     "name": "stdout",
     "output_type": "stream",
     "text": [
      "> Generated 1530 records for cc_num: 6011999606625827\n",
      "\n",
      "[522/931] Generating data for cc_num: 4509922033272157\n"
     ]
    },
    {
     "name": "stderr",
     "output_type": "stream",
     "text": [
      "Gen. (0.44) | Discrim. (-0.00): 100%|██████████| 100/100 [00:02<00:00, 38.83it/s]\n"
     ]
    },
    {
     "name": "stdout",
     "output_type": "stream",
     "text": [
      "> Generated 1020 records for cc_num: 4509922033272157\n",
      "\n",
      "[523/931] Generating data for cc_num: 4698163635895795\n"
     ]
    },
    {
     "name": "stderr",
     "output_type": "stream",
     "text": [
      "Gen. (1.14) | Discrim. (0.06): 100%|██████████| 100/100 [00:02<00:00, 39.90it/s]\n"
     ]
    },
    {
     "name": "stdout",
     "output_type": "stream",
     "text": [
      "> Generated 508 records for cc_num: 4698163635895795\n",
      "\n",
      "[524/931] Generating data for cc_num: 377026671291680\n"
     ]
    },
    {
     "name": "stderr",
     "output_type": "stream",
     "text": [
      "Gen. (0.23) | Discrim. (-0.02): 100%|██████████| 100/100 [00:02<00:00, 38.30it/s]\n"
     ]
    },
    {
     "name": "stdout",
     "output_type": "stream",
     "text": [
      "> Generated 2550 records for cc_num: 377026671291680\n",
      "\n",
      "[525/931] Generating data for cc_num: 6538891242532018\n"
     ]
    },
    {
     "name": "stderr",
     "output_type": "stream",
     "text": [
      "Gen. (0.34) | Discrim. (-0.27): 100%|██████████| 100/100 [00:02<00:00, 38.95it/s]\n"
     ]
    },
    {
     "name": "stdout",
     "output_type": "stream",
     "text": [
      "> Generated 3059 records for cc_num: 6538891242532018\n",
      "\n",
      "[526/931] Generating data for cc_num: 3542826960473004\n"
     ]
    },
    {
     "name": "stderr",
     "output_type": "stream",
     "text": [
      "Gen. (0.25) | Discrim. (-0.06): 100%|██████████| 100/100 [00:02<00:00, 37.31it/s]\n"
     ]
    },
    {
     "name": "stdout",
     "output_type": "stream",
     "text": [
      "> Generated 0 records for cc_num: 3542826960473004\n",
      "\n",
      "[527/931] Generating data for cc_num: 4935858973307492\n"
     ]
    },
    {
     "name": "stderr",
     "output_type": "stream",
     "text": [
      "Gen. (-0.19) | Discrim. (0.10): 100%|██████████| 100/100 [00:02<00:00, 34.71it/s]\n"
     ]
    },
    {
     "name": "stdout",
     "output_type": "stream",
     "text": [
      "> Generated 1529 records for cc_num: 4935858973307492\n",
      "\n",
      "[528/931] Generating data for cc_num: 180084695172649\n"
     ]
    },
    {
     "name": "stderr",
     "output_type": "stream",
     "text": [
      "Gen. (0.05) | Discrim. (0.19): 100%|██████████| 100/100 [00:02<00:00, 34.58it/s] \n"
     ]
    },
    {
     "name": "stdout",
     "output_type": "stream",
     "text": [
      "> Generated 510 records for cc_num: 180084695172649\n",
      "\n",
      "[529/931] Generating data for cc_num: 560881134780\n"
     ]
    },
    {
     "name": "stderr",
     "output_type": "stream",
     "text": [
      "Gen. (0.25) | Discrim. (0.20): 100%|██████████| 100/100 [00:02<00:00, 38.25it/s]\n"
     ]
    },
    {
     "name": "stdout",
     "output_type": "stream",
     "text": [
      "> Generated 510 records for cc_num: 560881134780\n",
      "\n",
      "[530/931] Generating data for cc_num: 3525668150756629\n"
     ]
    },
    {
     "name": "stderr",
     "output_type": "stream",
     "text": [
      "Gen. (0.26) | Discrim. (0.10): 100%|██████████| 100/100 [00:02<00:00, 43.65it/s]\n"
     ]
    },
    {
     "name": "stdout",
     "output_type": "stream",
     "text": [
      "> Generated 1019 records for cc_num: 3525668150756629\n",
      "\n",
      "[531/931] Generating data for cc_num: 346243940647414\n"
     ]
    },
    {
     "name": "stderr",
     "output_type": "stream",
     "text": [
      "Gen. (-0.62) | Discrim. (0.16): 100%|██████████| 100/100 [00:02<00:00, 45.10it/s]\n"
     ]
    },
    {
     "name": "stdout",
     "output_type": "stream",
     "text": [
      "> Generated 510 records for cc_num: 346243940647414\n",
      "\n",
      "[532/931] Generating data for cc_num: 3543299015720986\n"
     ]
    },
    {
     "name": "stderr",
     "output_type": "stream",
     "text": [
      "Gen. (-0.39) | Discrim. (0.18): 100%|██████████| 100/100 [00:01<00:00, 50.57it/s]\n"
     ]
    },
    {
     "name": "stdout",
     "output_type": "stream",
     "text": [
      "> Generated 1019 records for cc_num: 3543299015720986\n",
      "\n",
      "[533/931] Generating data for cc_num: 371034293500716\n"
     ]
    },
    {
     "name": "stderr",
     "output_type": "stream",
     "text": [
      "Gen. (0.67) | Discrim. (-0.04): 100%|██████████| 100/100 [00:01<00:00, 50.66it/s]\n"
     ]
    },
    {
     "name": "stdout",
     "output_type": "stream",
     "text": [
      "> Generated 1019 records for cc_num: 371034293500716\n",
      "\n",
      "[534/931] Generating data for cc_num: 6011917798331152\n"
     ]
    },
    {
     "name": "stderr",
     "output_type": "stream",
     "text": [
      "Gen. (1.06) | Discrim. (-0.03): 100%|██████████| 100/100 [00:02<00:00, 48.77it/s]\n"
     ]
    },
    {
     "name": "stdout",
     "output_type": "stream",
     "text": [
      "> Generated 1021 records for cc_num: 6011917798331152\n",
      "\n",
      "[535/931] Generating data for cc_num: 6500249000784905\n"
     ]
    },
    {
     "name": "stderr",
     "output_type": "stream",
     "text": [
      "Gen. (-0.22) | Discrim. (0.38): 100%|██████████| 100/100 [00:02<00:00, 47.72it/s]\n"
     ]
    },
    {
     "name": "stdout",
     "output_type": "stream",
     "text": [
      "> Generated 0 records for cc_num: 6500249000784905\n",
      "\n",
      "[536/931] Generating data for cc_num: 343668971234893\n"
     ]
    },
    {
     "name": "stderr",
     "output_type": "stream",
     "text": [
      "Gen. (1.85) | Discrim. (-0.11): 100%|██████████| 100/100 [00:02<00:00, 40.96it/s]\n"
     ]
    },
    {
     "name": "stdout",
     "output_type": "stream",
     "text": [
      "> Generated 1530 records for cc_num: 343668971234893\n",
      "\n",
      "[537/931] Generating data for cc_num: 4605902936394\n"
     ]
    },
    {
     "name": "stderr",
     "output_type": "stream",
     "text": [
      "Gen. (-0.24) | Discrim. (0.02): 100%|██████████| 100/100 [00:02<00:00, 42.81it/s]\n"
     ]
    },
    {
     "name": "stdout",
     "output_type": "stream",
     "text": [
      "> Generated 510 records for cc_num: 4605902936394\n",
      "\n",
      "[538/931] Generating data for cc_num: 4988304376504\n"
     ]
    },
    {
     "name": "stderr",
     "output_type": "stream",
     "text": [
      "Gen. (0.68) | Discrim. (0.07): 100%|██████████| 100/100 [00:02<00:00, 48.06it/s] \n"
     ]
    },
    {
     "name": "stdout",
     "output_type": "stream",
     "text": [
      "> Generated 2040 records for cc_num: 4988304376504\n",
      "\n",
      "[539/931] Generating data for cc_num: 180048185037117\n"
     ]
    },
    {
     "name": "stderr",
     "output_type": "stream",
     "text": [
      "Gen. (0.05) | Discrim. (0.01): 100%|██████████| 100/100 [00:02<00:00, 48.81it/s] \n"
     ]
    },
    {
     "name": "stdout",
     "output_type": "stream",
     "text": [
      "> Generated 3057 records for cc_num: 180048185037117\n",
      "\n",
      "[540/931] Generating data for cc_num: 6534628260579800\n"
     ]
    },
    {
     "name": "stderr",
     "output_type": "stream",
     "text": [
      "Gen. (0.39) | Discrim. (0.03): 100%|██████████| 100/100 [00:02<00:00, 47.24it/s]\n"
     ]
    },
    {
     "name": "stdout",
     "output_type": "stream",
     "text": [
      "> Generated 3057 records for cc_num: 6534628260579800\n",
      "\n",
      "[541/931] Generating data for cc_num: 4767265376804500\n"
     ]
    },
    {
     "name": "stderr",
     "output_type": "stream",
     "text": [
      "Gen. (1.11) | Discrim. (-0.16): 100%|██████████| 100/100 [00:02<00:00, 47.86it/s]\n"
     ]
    },
    {
     "name": "stdout",
     "output_type": "stream",
     "text": [
      "> Generated 510 records for cc_num: 4767265376804500\n",
      "\n",
      "[542/931] Generating data for cc_num: 370348764075623\n"
     ]
    },
    {
     "name": "stderr",
     "output_type": "stream",
     "text": [
      "Gen. (0.32) | Discrim. (0.01): 100%|██████████| 100/100 [00:02<00:00, 46.22it/s]\n"
     ]
    },
    {
     "name": "stdout",
     "output_type": "stream",
     "text": [
      "> Generated 1020 records for cc_num: 370348764075623\n",
      "\n",
      "[543/931] Generating data for cc_num: 3598304579370089\n"
     ]
    },
    {
     "name": "stderr",
     "output_type": "stream",
     "text": [
      "Gen. (-0.23) | Discrim. (-0.01): 100%|██████████| 100/100 [00:02<00:00, 47.14it/s]\n"
     ]
    },
    {
     "name": "stdout",
     "output_type": "stream",
     "text": [
      "> Generated 2037 records for cc_num: 3598304579370089\n",
      "\n",
      "[544/931] Generating data for cc_num: 372509258176510\n"
     ]
    },
    {
     "name": "stderr",
     "output_type": "stream",
     "text": [
      "Gen. (0.18) | Discrim. (-0.07): 100%|██████████| 100/100 [00:02<00:00, 42.14it/s]\n"
     ]
    },
    {
     "name": "stdout",
     "output_type": "stream",
     "text": [
      "> Generated 3059 records for cc_num: 372509258176510\n",
      "\n",
      "[545/931] Generating data for cc_num: 2713913904780408\n"
     ]
    },
    {
     "name": "stderr",
     "output_type": "stream",
     "text": [
      "Gen. (0.82) | Discrim. (0.11): 100%|██████████| 100/100 [00:02<00:00, 45.04it/s]\n"
     ]
    },
    {
     "name": "stdout",
     "output_type": "stream",
     "text": [
      "> Generated 1530 records for cc_num: 2713913904780408\n",
      "\n",
      "[546/931] Generating data for cc_num: 4099707841315751\n"
     ]
    },
    {
     "name": "stderr",
     "output_type": "stream",
     "text": [
      "Gen. (0.24) | Discrim. (0.03): 100%|██████████| 100/100 [00:02<00:00, 41.79it/s]\n"
     ]
    },
    {
     "name": "stdout",
     "output_type": "stream",
     "text": [
      "> Generated 2550 records for cc_num: 4099707841315751\n",
      "\n",
      "[547/931] Generating data for cc_num: 30376238035123\n"
     ]
    },
    {
     "name": "stderr",
     "output_type": "stream",
     "text": [
      "Gen. (-0.21) | Discrim. (0.16): 100%|██████████| 100/100 [00:02<00:00, 46.50it/s]\n"
     ]
    },
    {
     "name": "stdout",
     "output_type": "stream",
     "text": [
      "> Generated 1019 records for cc_num: 30376238035123\n",
      "\n",
      "[548/931] Generating data for cc_num: 4997733566924489\n"
     ]
    },
    {
     "name": "stderr",
     "output_type": "stream",
     "text": [
      "Gen. (-0.05) | Discrim. (-0.02): 100%|██████████| 100/100 [00:02<00:00, 48.57it/s]\n"
     ]
    },
    {
     "name": "stdout",
     "output_type": "stream",
     "text": [
      "> Generated 2041 records for cc_num: 4997733566924489\n",
      "\n",
      "[549/931] Generating data for cc_num: 4657269323674365\n"
     ]
    },
    {
     "name": "stderr",
     "output_type": "stream",
     "text": [
      "Gen. (0.34) | Discrim. (-0.35): 100%|██████████| 100/100 [00:02<00:00, 44.90it/s]\n"
     ]
    },
    {
     "name": "stdout",
     "output_type": "stream",
     "text": [
      "> Generated 1021 records for cc_num: 4657269323674365\n",
      "\n",
      "[550/931] Generating data for cc_num: 213102873001603\n"
     ]
    },
    {
     "name": "stderr",
     "output_type": "stream",
     "text": [
      "Gen. (0.99) | Discrim. (0.11): 100%|██████████| 100/100 [00:02<00:00, 46.56it/s]\n"
     ]
    },
    {
     "name": "stdout",
     "output_type": "stream",
     "text": [
      "> Generated 1528 records for cc_num: 213102873001603\n",
      "\n",
      "[551/931] Generating data for cc_num: 30235438713303\n"
     ]
    },
    {
     "name": "stderr",
     "output_type": "stream",
     "text": [
      "Gen. (0.54) | Discrim. (0.04): 100%|██████████| 100/100 [00:02<00:00, 43.69it/s]\n"
     ]
    },
    {
     "name": "stdout",
     "output_type": "stream",
     "text": [
      "> Generated 2547 records for cc_num: 30235438713303\n",
      "\n",
      "[552/931] Generating data for cc_num: 375237305371366\n"
     ]
    },
    {
     "name": "stderr",
     "output_type": "stream",
     "text": [
      "Gen. (0.47) | Discrim. (0.12): 100%|██████████| 100/100 [00:02<00:00, 42.61it/s]\n"
     ]
    },
    {
     "name": "stdout",
     "output_type": "stream",
     "text": [
      "> Generated 508 records for cc_num: 375237305371366\n",
      "\n",
      "[553/931] Generating data for cc_num: 30434173205605\n"
     ]
    },
    {
     "name": "stderr",
     "output_type": "stream",
     "text": [
      "Gen. (-0.19) | Discrim. (-0.16): 100%|██████████| 100/100 [00:02<00:00, 47.15it/s]\n"
     ]
    },
    {
     "name": "stdout",
     "output_type": "stream",
     "text": [
      "> Generated 510 records for cc_num: 30434173205605\n",
      "\n",
      "[554/931] Generating data for cc_num: 3533177016567295\n"
     ]
    },
    {
     "name": "stderr",
     "output_type": "stream",
     "text": [
      "Gen. (0.47) | Discrim. (-0.06): 100%|██████████| 100/100 [00:02<00:00, 47.60it/s]\n"
     ]
    },
    {
     "name": "stdout",
     "output_type": "stream",
     "text": [
      "> Generated 1020 records for cc_num: 3533177016567295\n",
      "\n",
      "[555/931] Generating data for cc_num: 6573561108825071\n"
     ]
    },
    {
     "name": "stderr",
     "output_type": "stream",
     "text": [
      "Gen. (-0.04) | Discrim. (0.03): 100%|██████████| 100/100 [00:02<00:00, 46.49it/s]\n"
     ]
    },
    {
     "name": "stdout",
     "output_type": "stream",
     "text": [
      "> Generated 1530 records for cc_num: 6573561108825071\n",
      "\n",
      "[556/931] Generating data for cc_num: 4561892980175\n"
     ]
    },
    {
     "name": "stderr",
     "output_type": "stream",
     "text": [
      "Gen. (0.15) | Discrim. (0.08): 100%|██████████| 100/100 [00:02<00:00, 44.54it/s] \n"
     ]
    },
    {
     "name": "stdout",
     "output_type": "stream",
     "text": [
      "> Generated 1021 records for cc_num: 4561892980175\n",
      "\n",
      "[557/931] Generating data for cc_num: 4906628655840914250\n"
     ]
    },
    {
     "name": "stderr",
     "output_type": "stream",
     "text": [
      "Gen. (0.33) | Discrim. (0.10): 100%|██████████| 100/100 [00:02<00:00, 47.76it/s] \n"
     ]
    },
    {
     "name": "stdout",
     "output_type": "stream",
     "text": [
      "> Generated 2550 records for cc_num: 4906628655840914250\n",
      "\n",
      "[558/931] Generating data for cc_num: 2233882705243596\n"
     ]
    },
    {
     "name": "stderr",
     "output_type": "stream",
     "text": [
      "Gen. (0.83) | Discrim. (0.05): 100%|██████████| 100/100 [00:02<00:00, 43.47it/s]\n"
     ]
    },
    {
     "name": "stdout",
     "output_type": "stream",
     "text": [
      "> Generated 1532 records for cc_num: 2233882705243596\n",
      "\n",
      "[559/931] Generating data for cc_num: 30541100351706\n"
     ]
    },
    {
     "name": "stderr",
     "output_type": "stream",
     "text": [
      "Gen. (-0.07) | Discrim. (0.26): 100%|██████████| 100/100 [00:02<00:00, 48.06it/s]\n"
     ]
    },
    {
     "name": "stdout",
     "output_type": "stream",
     "text": [
      "> Generated 510 records for cc_num: 30541100351706\n",
      "\n",
      "[560/931] Generating data for cc_num: 30357372465631\n"
     ]
    },
    {
     "name": "stderr",
     "output_type": "stream",
     "text": [
      "Gen. (-0.07) | Discrim. (-0.02): 100%|██████████| 100/100 [00:02<00:00, 42.74it/s]\n"
     ]
    },
    {
     "name": "stdout",
     "output_type": "stream",
     "text": [
      "> Generated 510 records for cc_num: 30357372465631\n",
      "\n",
      "[561/931] Generating data for cc_num: 375623337201129\n"
     ]
    },
    {
     "name": "stderr",
     "output_type": "stream",
     "text": [
      "Gen. (0.32) | Discrim. (0.20): 100%|██████████| 100/100 [00:02<00:00, 45.53it/s] \n"
     ]
    },
    {
     "name": "stdout",
     "output_type": "stream",
     "text": [
      "> Generated 0 records for cc_num: 375623337201129\n",
      "\n",
      "[562/931] Generating data for cc_num: 30033162392091\n"
     ]
    },
    {
     "name": "stderr",
     "output_type": "stream",
     "text": [
      "Gen. (0.67) | Discrim. (-0.11): 100%|██████████| 100/100 [00:02<00:00, 45.27it/s]\n"
     ]
    },
    {
     "name": "stdout",
     "output_type": "stream",
     "text": [
      "> Generated 1021 records for cc_num: 30033162392091\n",
      "\n",
      "[563/931] Generating data for cc_num: 3514865930894695\n"
     ]
    },
    {
     "name": "stderr",
     "output_type": "stream",
     "text": [
      "Gen. (0.21) | Discrim. (0.08): 100%|██████████| 100/100 [00:02<00:00, 48.31it/s]\n"
     ]
    },
    {
     "name": "stdout",
     "output_type": "stream",
     "text": [
      "> Generated 2037 records for cc_num: 3514865930894695\n",
      "\n",
      "[564/931] Generating data for cc_num: 4839043708100390\n"
     ]
    },
    {
     "name": "stderr",
     "output_type": "stream",
     "text": [
      "Gen. (0.23) | Discrim. (-0.01): 100%|██████████| 100/100 [00:02<00:00, 43.73it/s]\n"
     ]
    },
    {
     "name": "stdout",
     "output_type": "stream",
     "text": [
      "> Generated 1021 records for cc_num: 4839043708100390\n",
      "\n",
      "[565/931] Generating data for cc_num: 4223708906367574214\n"
     ]
    },
    {
     "name": "stderr",
     "output_type": "stream",
     "text": [
      "Gen. (0.85) | Discrim. (0.22): 100%|██████████| 100/100 [00:02<00:00, 42.73it/s]\n"
     ]
    },
    {
     "name": "stdout",
     "output_type": "stream",
     "text": [
      "> Generated 2041 records for cc_num: 4223708906367574214\n",
      "\n",
      "[566/931] Generating data for cc_num: 4874006077381178\n"
     ]
    },
    {
     "name": "stderr",
     "output_type": "stream",
     "text": [
      "Gen. (1.10) | Discrim. (0.01): 100%|██████████| 100/100 [00:02<00:00, 44.28it/s]\n"
     ]
    },
    {
     "name": "stdout",
     "output_type": "stream",
     "text": [
      "> Generated 510 records for cc_num: 4874006077381178\n",
      "\n",
      "[567/931] Generating data for cc_num: 6011393492413821\n"
     ]
    },
    {
     "name": "stderr",
     "output_type": "stream",
     "text": [
      "Gen. (0.27) | Discrim. (-0.15): 100%|██████████| 100/100 [00:01<00:00, 54.78it/s]\n"
     ]
    },
    {
     "name": "stdout",
     "output_type": "stream",
     "text": [
      "> Generated 509 records for cc_num: 6011393492413821\n",
      "\n",
      "[568/931] Generating data for cc_num: 501831082224\n"
     ]
    },
    {
     "name": "stderr",
     "output_type": "stream",
     "text": [
      "Gen. (0.47) | Discrim. (-0.13): 100%|██████████| 100/100 [00:02<00:00, 44.89it/s]\n"
     ]
    },
    {
     "name": "stdout",
     "output_type": "stream",
     "text": [
      "> Generated 1019 records for cc_num: 501831082224\n",
      "\n",
      "[569/931] Generating data for cc_num: 4063094974360571498\n"
     ]
    },
    {
     "name": "stderr",
     "output_type": "stream",
     "text": [
      "Gen. (0.03) | Discrim. (-0.01): 100%|██████████| 100/100 [00:01<00:00, 51.31it/s]\n"
     ]
    },
    {
     "name": "stdout",
     "output_type": "stream",
     "text": [
      "> Generated 1018 records for cc_num: 4063094974360571498\n",
      "\n",
      "[570/931] Generating data for cc_num: 376944481517097\n"
     ]
    },
    {
     "name": "stderr",
     "output_type": "stream",
     "text": [
      "Gen. (0.74) | Discrim. (-0.04): 100%|██████████| 100/100 [00:02<00:00, 49.92it/s]\n"
     ]
    },
    {
     "name": "stdout",
     "output_type": "stream",
     "text": [
      "> Generated 509 records for cc_num: 376944481517097\n",
      "\n",
      "[571/931] Generating data for cc_num: 4181833256558613886\n"
     ]
    },
    {
     "name": "stderr",
     "output_type": "stream",
     "text": [
      "Gen. (0.22) | Discrim. (-0.08): 100%|██████████| 100/100 [00:02<00:00, 48.43it/s]\n"
     ]
    },
    {
     "name": "stdout",
     "output_type": "stream",
     "text": [
      "> Generated 2550 records for cc_num: 4181833256558613886\n",
      "\n",
      "[572/931] Generating data for cc_num: 374930071163758\n"
     ]
    },
    {
     "name": "stderr",
     "output_type": "stream",
     "text": [
      "Gen. (0.50) | Discrim. (0.06): 100%|██████████| 100/100 [00:02<00:00, 46.22it/s]\n"
     ]
    },
    {
     "name": "stdout",
     "output_type": "stream",
     "text": [
      "> Generated 2545 records for cc_num: 374930071163758\n",
      "\n",
      "[573/931] Generating data for cc_num: 345389171551808\n"
     ]
    },
    {
     "name": "stderr",
     "output_type": "stream",
     "text": [
      "Gen. (0.59) | Discrim. (0.12): 100%|██████████| 100/100 [00:01<00:00, 55.64it/s]\n"
     ]
    },
    {
     "name": "stdout",
     "output_type": "stream",
     "text": [
      "> Generated 2038 records for cc_num: 345389171551808\n",
      "\n",
      "[574/931] Generating data for cc_num: 4379260813815979609\n"
     ]
    },
    {
     "name": "stderr",
     "output_type": "stream",
     "text": [
      "Gen. (0.49) | Discrim. (0.01): 100%|██████████| 100/100 [00:02<00:00, 45.96it/s]\n"
     ]
    },
    {
     "name": "stdout",
     "output_type": "stream",
     "text": [
      "> Generated 1528 records for cc_num: 4379260813815979609\n",
      "\n",
      "[575/931] Generating data for cc_num: 4198470814557\n"
     ]
    },
    {
     "name": "stderr",
     "output_type": "stream",
     "text": [
      "Gen. (0.10) | Discrim. (-0.03): 100%|██████████| 100/100 [00:01<00:00, 52.64it/s]\n"
     ]
    },
    {
     "name": "stdout",
     "output_type": "stream",
     "text": [
      "> Generated 2041 records for cc_num: 4198470814557\n",
      "\n",
      "[576/931] Generating data for cc_num: 4561368699336875\n"
     ]
    },
    {
     "name": "stderr",
     "output_type": "stream",
     "text": [
      "Gen. (0.73) | Discrim. (0.03): 100%|██████████| 100/100 [00:02<00:00, 41.58it/s]\n"
     ]
    },
    {
     "name": "stdout",
     "output_type": "stream",
     "text": [
      "> Generated 1020 records for cc_num: 4561368699336875\n",
      "\n",
      "[577/931] Generating data for cc_num: 3528040995648998\n"
     ]
    },
    {
     "name": "stderr",
     "output_type": "stream",
     "text": [
      "Gen. (0.59) | Discrim. (-0.24): 100%|██████████| 100/100 [00:01<00:00, 52.07it/s]\n"
     ]
    },
    {
     "name": "stdout",
     "output_type": "stream",
     "text": [
      "> Generated 0 records for cc_num: 3528040995648998\n",
      "\n",
      "[578/931] Generating data for cc_num: 3589289942931264\n"
     ]
    },
    {
     "name": "stderr",
     "output_type": "stream",
     "text": [
      "Gen. (1.24) | Discrim. (0.20): 100%|██████████| 100/100 [00:02<00:00, 43.39it/s]\n"
     ]
    },
    {
     "name": "stdout",
     "output_type": "stream",
     "text": [
      "> Generated 2550 records for cc_num: 3589289942931264\n",
      "\n",
      "[579/931] Generating data for cc_num: 3546674063249004\n"
     ]
    },
    {
     "name": "stderr",
     "output_type": "stream",
     "text": [
      "Gen. (0.44) | Discrim. (0.13): 100%|██████████| 100/100 [00:02<00:00, 46.76it/s]\n"
     ]
    },
    {
     "name": "stdout",
     "output_type": "stream",
     "text": [
      "> Generated 1020 records for cc_num: 3546674063249004\n",
      "\n",
      "[580/931] Generating data for cc_num: 6592861994408652\n"
     ]
    },
    {
     "name": "stderr",
     "output_type": "stream",
     "text": [
      "Gen. (0.45) | Discrim. (0.12): 100%|██████████| 100/100 [00:01<00:00, 52.97it/s]\n"
     ]
    },
    {
     "name": "stdout",
     "output_type": "stream",
     "text": [
      "> Generated 1526 records for cc_num: 6592861994408652\n",
      "\n",
      "[581/931] Generating data for cc_num: 4501449508569485\n"
     ]
    },
    {
     "name": "stderr",
     "output_type": "stream",
     "text": [
      "Gen. (-0.31) | Discrim. (0.16): 100%|██████████| 100/100 [00:02<00:00, 45.03it/s]\n"
     ]
    },
    {
     "name": "stdout",
     "output_type": "stream",
     "text": [
      "> Generated 509 records for cc_num: 4501449508569485\n",
      "\n",
      "[582/931] Generating data for cc_num: 4855488158131690372\n"
     ]
    },
    {
     "name": "stderr",
     "output_type": "stream",
     "text": [
      "Gen. (0.20) | Discrim. (0.05): 100%|██████████| 100/100 [00:01<00:00, 50.92it/s] \n"
     ]
    },
    {
     "name": "stdout",
     "output_type": "stream",
     "text": [
      "> Generated 2039 records for cc_num: 4855488158131690372\n",
      "\n",
      "[583/931] Generating data for cc_num: 213178850083780\n"
     ]
    },
    {
     "name": "stderr",
     "output_type": "stream",
     "text": [
      "Gen. (0.29) | Discrim. (-0.08): 100%|██████████| 100/100 [00:02<00:00, 47.88it/s]\n"
     ]
    },
    {
     "name": "stdout",
     "output_type": "stream",
     "text": [
      "> Generated 1530 records for cc_num: 213178850083780\n",
      "\n",
      "[584/931] Generating data for cc_num: 3535211949888417\n"
     ]
    },
    {
     "name": "stderr",
     "output_type": "stream",
     "text": [
      "Gen. (-0.31) | Discrim. (-0.02): 100%|██████████| 100/100 [00:02<00:00, 41.22it/s]\n"
     ]
    },
    {
     "name": "stdout",
     "output_type": "stream",
     "text": [
      "> Generated 0 records for cc_num: 3535211949888417\n",
      "\n",
      "[585/931] Generating data for cc_num: 3521815216091574\n"
     ]
    },
    {
     "name": "stderr",
     "output_type": "stream",
     "text": [
      "Gen. (-0.09) | Discrim. (0.11): 100%|██████████| 100/100 [00:02<00:00, 42.69it/s]\n"
     ]
    },
    {
     "name": "stdout",
     "output_type": "stream",
     "text": [
      "> Generated 1530 records for cc_num: 3521815216091574\n",
      "\n",
      "[586/931] Generating data for cc_num: 4208110975550360171\n"
     ]
    },
    {
     "name": "stderr",
     "output_type": "stream",
     "text": [
      "Gen. (0.24) | Discrim. (0.17): 100%|██████████| 100/100 [00:02<00:00, 42.37it/s] \n"
     ]
    },
    {
     "name": "stdout",
     "output_type": "stream",
     "text": [
      "> Generated 1019 records for cc_num: 4208110975550360171\n",
      "\n",
      "[587/931] Generating data for cc_num: 4651007077623147\n"
     ]
    },
    {
     "name": "stderr",
     "output_type": "stream",
     "text": [
      "Gen. (0.26) | Discrim. (0.07): 100%|██████████| 100/100 [00:02<00:00, 41.19it/s]\n"
     ]
    },
    {
     "name": "stdout",
     "output_type": "stream",
     "text": [
      "> Generated 1017 records for cc_num: 4651007077623147\n",
      "\n",
      "[588/931] Generating data for cc_num: 5289285402893489\n"
     ]
    },
    {
     "name": "stderr",
     "output_type": "stream",
     "text": [
      "Gen. (-0.71) | Discrim. (-0.20): 100%|██████████| 100/100 [00:02<00:00, 43.16it/s]\n"
     ]
    },
    {
     "name": "stdout",
     "output_type": "stream",
     "text": [
      "> Generated 510 records for cc_num: 5289285402893489\n",
      "\n",
      "[589/931] Generating data for cc_num: 3565414434959494\n"
     ]
    },
    {
     "name": "stderr",
     "output_type": "stream",
     "text": [
      "Gen. (-0.24) | Discrim. (-0.02): 100%|██████████| 100/100 [00:02<00:00, 39.39it/s]\n"
     ]
    },
    {
     "name": "stdout",
     "output_type": "stream",
     "text": [
      "> Generated 508 records for cc_num: 3565414434959494\n",
      "\n",
      "[590/931] Generating data for cc_num: 213154573301411\n"
     ]
    },
    {
     "name": "stderr",
     "output_type": "stream",
     "text": [
      "Gen. (0.73) | Discrim. (-0.07): 100%|██████████| 100/100 [00:02<00:00, 39.19it/s]\n"
     ]
    },
    {
     "name": "stdout",
     "output_type": "stream",
     "text": [
      "> Generated 1020 records for cc_num: 213154573301411\n",
      "\n",
      "[591/931] Generating data for cc_num: 36078114201167\n"
     ]
    },
    {
     "name": "stderr",
     "output_type": "stream",
     "text": [
      "Gen. (0.20) | Discrim. (-0.20): 100%|██████████| 100/100 [00:02<00:00, 41.32it/s]\n"
     ]
    },
    {
     "name": "stdout",
     "output_type": "stream",
     "text": [
      "> Generated 2041 records for cc_num: 36078114201167\n",
      "\n",
      "[592/931] Generating data for cc_num: 6011329966782895\n"
     ]
    },
    {
     "name": "stderr",
     "output_type": "stream",
     "text": [
      "Gen. (0.49) | Discrim. (0.07): 100%|██████████| 100/100 [00:02<00:00, 36.34it/s]\n"
     ]
    },
    {
     "name": "stdout",
     "output_type": "stream",
     "text": [
      "> Generated 1530 records for cc_num: 6011329966782895\n",
      "\n",
      "[593/931] Generating data for cc_num: 2231186809828225\n"
     ]
    },
    {
     "name": "stderr",
     "output_type": "stream",
     "text": [
      "Gen. (0.36) | Discrim. (0.05): 100%|██████████| 100/100 [00:02<00:00, 34.37it/s]\n"
     ]
    },
    {
     "name": "stdout",
     "output_type": "stream",
     "text": [
      "> Generated 510 records for cc_num: 2231186809828225\n",
      "\n",
      "[594/931] Generating data for cc_num: 3598014571045296\n"
     ]
    },
    {
     "name": "stderr",
     "output_type": "stream",
     "text": [
      "Gen. (-0.09) | Discrim. (0.13): 100%|██████████| 100/100 [00:03<00:00, 33.15it/s]\n"
     ]
    },
    {
     "name": "stdout",
     "output_type": "stream",
     "text": [
      "> Generated 1019 records for cc_num: 3598014571045296\n",
      "\n",
      "[595/931] Generating data for cc_num: 6526448584969862\n"
     ]
    },
    {
     "name": "stderr",
     "output_type": "stream",
     "text": [
      "Gen. (0.32) | Discrim. (-0.01): 100%|██████████| 100/100 [00:02<00:00, 39.16it/s]\n"
     ]
    },
    {
     "name": "stdout",
     "output_type": "stream",
     "text": [
      "> Generated 510 records for cc_num: 6526448584969862\n",
      "\n",
      "[596/931] Generating data for cc_num: 30150717898388\n"
     ]
    },
    {
     "name": "stderr",
     "output_type": "stream",
     "text": [
      "Gen. (-0.55) | Discrim. (-0.11): 100%|██████████| 100/100 [00:02<00:00, 35.37it/s]\n"
     ]
    },
    {
     "name": "stdout",
     "output_type": "stream",
     "text": [
      "> Generated 1532 records for cc_num: 30150717898388\n",
      "\n",
      "[597/931] Generating data for cc_num: 6011518448009279\n"
     ]
    },
    {
     "name": "stderr",
     "output_type": "stream",
     "text": [
      "Gen. (0.30) | Discrim. (0.03): 100%|██████████| 100/100 [00:02<00:00, 40.57it/s]\n"
     ]
    },
    {
     "name": "stdout",
     "output_type": "stream",
     "text": [
      "> Generated 0 records for cc_num: 6011518448009279\n",
      "\n",
      "[598/931] Generating data for cc_num: 4661996144291811856\n"
     ]
    },
    {
     "name": "stderr",
     "output_type": "stream",
     "text": [
      "Gen. (0.73) | Discrim. (0.19): 100%|██████████| 100/100 [00:02<00:00, 40.71it/s]\n"
     ]
    },
    {
     "name": "stdout",
     "output_type": "stream",
     "text": [
      "> Generated 1017 records for cc_num: 4661996144291811856\n",
      "\n",
      "[599/931] Generating data for cc_num: 4040099974063068803\n"
     ]
    },
    {
     "name": "stderr",
     "output_type": "stream",
     "text": [
      "Gen. (0.95) | Discrim. (-0.02): 100%|██████████| 100/100 [00:02<00:00, 37.65it/s]\n"
     ]
    },
    {
     "name": "stdout",
     "output_type": "stream",
     "text": [
      "> Generated 1527 records for cc_num: 4040099974063068803\n",
      "\n",
      "[600/931] Generating data for cc_num: 3577596616955856\n"
     ]
    },
    {
     "name": "stderr",
     "output_type": "stream",
     "text": [
      "Gen. (0.92) | Discrim. (-0.13): 100%|██████████| 100/100 [00:02<00:00, 37.32it/s]\n"
     ]
    },
    {
     "name": "stdout",
     "output_type": "stream",
     "text": [
      "> Generated 509 records for cc_num: 3577596616955856\n",
      "\n",
      "[601/931] Generating data for cc_num: 4777065439639721\n"
     ]
    },
    {
     "name": "stderr",
     "output_type": "stream",
     "text": [
      "Gen. (0.23) | Discrim. (-0.15): 100%|██████████| 100/100 [00:02<00:00, 37.43it/s]\n"
     ]
    },
    {
     "name": "stdout",
     "output_type": "stream",
     "text": [
      "> Generated 1526 records for cc_num: 4777065439639721\n",
      "\n",
      "[602/931] Generating data for cc_num: 2224100459250597\n"
     ]
    },
    {
     "name": "stderr",
     "output_type": "stream",
     "text": [
      "Gen. (0.23) | Discrim. (-0.22): 100%|██████████| 100/100 [00:02<00:00, 34.45it/s]\n"
     ]
    },
    {
     "name": "stdout",
     "output_type": "stream",
     "text": [
      "> Generated 509 records for cc_num: 2224100459250597\n",
      "\n",
      "[603/931] Generating data for cc_num: 4171397999167005\n"
     ]
    },
    {
     "name": "stderr",
     "output_type": "stream",
     "text": [
      "Gen. (0.97) | Discrim. (0.10): 100%|██████████| 100/100 [00:02<00:00, 34.32it/s]\n"
     ]
    },
    {
     "name": "stdout",
     "output_type": "stream",
     "text": [
      "> Generated 509 records for cc_num: 4171397999167005\n",
      "\n",
      "[604/931] Generating data for cc_num: 5501083170975659\n"
     ]
    },
    {
     "name": "stderr",
     "output_type": "stream",
     "text": [
      "Gen. (-0.26) | Discrim. (0.06): 100%|██████████| 100/100 [00:02<00:00, 36.62it/s]\n"
     ]
    },
    {
     "name": "stdout",
     "output_type": "stream",
     "text": [
      "> Generated 1527 records for cc_num: 5501083170975659\n",
      "\n",
      "[605/931] Generating data for cc_num: 2716017661090253\n"
     ]
    },
    {
     "name": "stderr",
     "output_type": "stream",
     "text": [
      "Gen. (0.72) | Discrim. (0.00): 100%|██████████| 100/100 [00:02<00:00, 36.98it/s]\n"
     ]
    },
    {
     "name": "stdout",
     "output_type": "stream",
     "text": [
      "> Generated 0 records for cc_num: 2716017661090253\n",
      "\n",
      "[606/931] Generating data for cc_num: 4311368326621416041\n"
     ]
    },
    {
     "name": "stderr",
     "output_type": "stream",
     "text": [
      "Gen. (0.51) | Discrim. (0.32): 100%|██████████| 100/100 [00:02<00:00, 36.26it/s] \n"
     ]
    },
    {
     "name": "stdout",
     "output_type": "stream",
     "text": [
      "> Generated 1017 records for cc_num: 4311368326621416041\n",
      "\n",
      "[607/931] Generating data for cc_num: 6539653032686894\n"
     ]
    },
    {
     "name": "stderr",
     "output_type": "stream",
     "text": [
      "Gen. (0.12) | Discrim. (-0.33): 100%|██████████| 100/100 [00:02<00:00, 39.03it/s]\n"
     ]
    },
    {
     "name": "stdout",
     "output_type": "stream",
     "text": [
      "> Generated 510 records for cc_num: 6539653032686894\n",
      "\n",
      "[608/931] Generating data for cc_num: 3513285035244624\n"
     ]
    },
    {
     "name": "stderr",
     "output_type": "stream",
     "text": [
      "Gen. (0.25) | Discrim. (0.01): 100%|██████████| 100/100 [00:02<00:00, 40.10it/s]\n"
     ]
    },
    {
     "name": "stdout",
     "output_type": "stream",
     "text": [
      "> Generated 508 records for cc_num: 3513285035244624\n",
      "\n",
      "[609/931] Generating data for cc_num: 3582754887089201\n"
     ]
    },
    {
     "name": "stderr",
     "output_type": "stream",
     "text": [
      "Gen. (-0.40) | Discrim. (-0.06): 100%|██████████| 100/100 [00:02<00:00, 37.73it/s]\n"
     ]
    },
    {
     "name": "stdout",
     "output_type": "stream",
     "text": [
      "> Generated 2039 records for cc_num: 3582754887089201\n",
      "\n",
      "[610/931] Generating data for cc_num: 3592325941359225\n"
     ]
    },
    {
     "name": "stderr",
     "output_type": "stream",
     "text": [
      "Gen. (0.08) | Discrim. (0.06): 100%|██████████| 100/100 [00:02<00:00, 37.19it/s] \n"
     ]
    },
    {
     "name": "stdout",
     "output_type": "stream",
     "text": [
      "> Generated 509 records for cc_num: 3592325941359225\n",
      "\n",
      "[611/931] Generating data for cc_num: 4562827002127\n"
     ]
    },
    {
     "name": "stderr",
     "output_type": "stream",
     "text": [
      "Gen. (0.10) | Discrim. (-0.00): 100%|██████████| 100/100 [00:02<00:00, 39.89it/s]\n"
     ]
    },
    {
     "name": "stdout",
     "output_type": "stream",
     "text": [
      "> Generated 1021 records for cc_num: 4562827002127\n",
      "\n",
      "[612/931] Generating data for cc_num: 345832460465610\n"
     ]
    },
    {
     "name": "stderr",
     "output_type": "stream",
     "text": [
      "Gen. (-1.16) | Discrim. (-0.04): 100%|██████████| 100/100 [00:02<00:00, 38.58it/s]\n"
     ]
    },
    {
     "name": "stdout",
     "output_type": "stream",
     "text": [
      "> Generated 1530 records for cc_num: 345832460465610\n",
      "\n",
      "[613/931] Generating data for cc_num: 3559160581764413\n"
     ]
    },
    {
     "name": "stderr",
     "output_type": "stream",
     "text": [
      "Gen. (-0.18) | Discrim. (-0.08): 100%|██████████| 100/100 [00:02<00:00, 38.19it/s]\n"
     ]
    },
    {
     "name": "stdout",
     "output_type": "stream",
     "text": [
      "> Generated 2035 records for cc_num: 3559160581764413\n",
      "\n",
      "[614/931] Generating data for cc_num: 4225628813173670\n"
     ]
    },
    {
     "name": "stderr",
     "output_type": "stream",
     "text": [
      "Gen. (-0.02) | Discrim. (0.36): 100%|██████████| 100/100 [00:02<00:00, 37.65it/s]\n"
     ]
    },
    {
     "name": "stdout",
     "output_type": "stream",
     "text": [
      "> Generated 0 records for cc_num: 4225628813173670\n",
      "\n",
      "[615/931] Generating data for cc_num: 180018375329178\n"
     ]
    },
    {
     "name": "stderr",
     "output_type": "stream",
     "text": [
      "Gen. (-1.43) | Discrim. (0.03): 100%|██████████| 100/100 [00:02<00:00, 38.75it/s]\n"
     ]
    },
    {
     "name": "stdout",
     "output_type": "stream",
     "text": [
      "> Generated 1528 records for cc_num: 180018375329178\n",
      "\n",
      "[616/931] Generating data for cc_num: 4186530744674\n"
     ]
    },
    {
     "name": "stderr",
     "output_type": "stream",
     "text": [
      "Gen. (-0.19) | Discrim. (0.34): 100%|██████████| 100/100 [00:02<00:00, 40.94it/s]\n"
     ]
    },
    {
     "name": "stdout",
     "output_type": "stream",
     "text": [
      "> Generated 1528 records for cc_num: 4186530744674\n",
      "\n",
      "[617/931] Generating data for cc_num: 4457136361520330110\n"
     ]
    },
    {
     "name": "stderr",
     "output_type": "stream",
     "text": [
      "Gen. (0.46) | Discrim. (-0.33): 100%|██████████| 100/100 [00:02<00:00, 42.57it/s]\n"
     ]
    },
    {
     "name": "stdout",
     "output_type": "stream",
     "text": [
      "> Generated 0 records for cc_num: 4457136361520330110\n",
      "\n",
      "[618/931] Generating data for cc_num: 4010002218955876\n"
     ]
    },
    {
     "name": "stderr",
     "output_type": "stream",
     "text": [
      "Gen. (0.71) | Discrim. (0.01): 100%|██████████| 100/100 [00:02<00:00, 36.43it/s]\n"
     ]
    },
    {
     "name": "stdout",
     "output_type": "stream",
     "text": [
      "> Generated 1529 records for cc_num: 4010002218955876\n",
      "\n",
      "[619/931] Generating data for cc_num: 4045036286570100739\n"
     ]
    },
    {
     "name": "stderr",
     "output_type": "stream",
     "text": [
      "Gen. (0.15) | Discrim. (-0.02): 100%|██████████| 100/100 [00:02<00:00, 35.45it/s]\n"
     ]
    },
    {
     "name": "stdout",
     "output_type": "stream",
     "text": [
      "> Generated 1017 records for cc_num: 4045036286570100739\n",
      "\n",
      "[620/931] Generating data for cc_num: 36722699017270\n"
     ]
    },
    {
     "name": "stderr",
     "output_type": "stream",
     "text": [
      "Gen. (-0.35) | Discrim. (0.04): 100%|██████████| 100/100 [00:02<00:00, 40.74it/s]\n"
     ]
    },
    {
     "name": "stdout",
     "output_type": "stream",
     "text": [
      "> Generated 3063 records for cc_num: 36722699017270\n",
      "\n",
      "[621/931] Generating data for cc_num: 3504178999463051\n"
     ]
    },
    {
     "name": "stderr",
     "output_type": "stream",
     "text": [
      "Gen. (-0.17) | Discrim. (0.33): 100%|██████████| 100/100 [00:02<00:00, 43.32it/s]\n"
     ]
    },
    {
     "name": "stdout",
     "output_type": "stream",
     "text": [
      "> Generated 1528 records for cc_num: 3504178999463051\n",
      "\n",
      "[622/931] Generating data for cc_num: 4900628639996\n"
     ]
    },
    {
     "name": "stderr",
     "output_type": "stream",
     "text": [
      "Gen. (0.14) | Discrim. (0.01): 100%|██████████| 100/100 [00:02<00:00, 43.59it/s] \n"
     ]
    },
    {
     "name": "stdout",
     "output_type": "stream",
     "text": [
      "> Generated 2550 records for cc_num: 4900628639996\n",
      "\n",
      "[623/931] Generating data for cc_num: 4400011257587661852\n"
     ]
    },
    {
     "name": "stderr",
     "output_type": "stream",
     "text": [
      "Gen. (0.05) | Discrim. (-0.27): 100%|██████████| 100/100 [00:02<00:00, 36.70it/s]\n"
     ]
    },
    {
     "name": "stdout",
     "output_type": "stream",
     "text": [
      "> Generated 2039 records for cc_num: 4400011257587661852\n",
      "\n",
      "[624/931] Generating data for cc_num: 4810789809665942990\n"
     ]
    },
    {
     "name": "stderr",
     "output_type": "stream",
     "text": [
      "Gen. (0.02) | Discrim. (0.09): 100%|██████████| 100/100 [00:02<00:00, 34.20it/s] \n"
     ]
    },
    {
     "name": "stdout",
     "output_type": "stream",
     "text": [
      "> Generated 1530 records for cc_num: 4810789809665942990\n",
      "\n",
      "[625/931] Generating data for cc_num: 2285066385084291\n"
     ]
    },
    {
     "name": "stderr",
     "output_type": "stream",
     "text": [
      "Gen. (0.40) | Discrim. (-0.12): 100%|██████████| 100/100 [00:02<00:00, 35.02it/s]\n"
     ]
    },
    {
     "name": "stdout",
     "output_type": "stream",
     "text": [
      "> Generated 1019 records for cc_num: 2285066385084291\n",
      "\n",
      "[626/931] Generating data for cc_num: 4980323467523543940\n"
     ]
    },
    {
     "name": "stderr",
     "output_type": "stream",
     "text": [
      "Gen. (0.50) | Discrim. (0.34): 100%|██████████| 100/100 [00:02<00:00, 41.71it/s]\n"
     ]
    },
    {
     "name": "stdout",
     "output_type": "stream",
     "text": [
      "> Generated 508 records for cc_num: 4980323467523543940\n",
      "\n",
      "[627/931] Generating data for cc_num: 30263540414123\n"
     ]
    },
    {
     "name": "stderr",
     "output_type": "stream",
     "text": [
      "Gen. (0.35) | Discrim. (-0.07): 100%|██████████| 100/100 [00:02<00:00, 44.21it/s]\n"
     ]
    },
    {
     "name": "stdout",
     "output_type": "stream",
     "text": [
      "> Generated 1530 records for cc_num: 30263540414123\n",
      "\n",
      "[628/931] Generating data for cc_num: 3590946339258737\n"
     ]
    },
    {
     "name": "stderr",
     "output_type": "stream",
     "text": [
      "Gen. (0.49) | Discrim. (-0.16): 100%|██████████| 100/100 [00:02<00:00, 38.54it/s]\n"
     ]
    },
    {
     "name": "stdout",
     "output_type": "stream",
     "text": [
      "> Generated 0 records for cc_num: 3590946339258737\n",
      "\n",
      "[629/931] Generating data for cc_num: 4384910379661778\n"
     ]
    },
    {
     "name": "stderr",
     "output_type": "stream",
     "text": [
      "Gen. (0.72) | Discrim. (-0.39): 100%|██████████| 100/100 [00:02<00:00, 35.16it/s]\n"
     ]
    },
    {
     "name": "stdout",
     "output_type": "stream",
     "text": [
      "> Generated 1525 records for cc_num: 4384910379661778\n",
      "\n",
      "[630/931] Generating data for cc_num: 348379466427142\n"
     ]
    },
    {
     "name": "stderr",
     "output_type": "stream",
     "text": [
      "Gen. (-0.40) | Discrim. (0.09): 100%|██████████| 100/100 [00:02<00:00, 41.14it/s]\n"
     ]
    },
    {
     "name": "stdout",
     "output_type": "stream",
     "text": [
      "> Generated 1017 records for cc_num: 348379466427142\n",
      "\n",
      "[631/931] Generating data for cc_num: 4259996134423\n"
     ]
    },
    {
     "name": "stderr",
     "output_type": "stream",
     "text": [
      "Gen. (0.21) | Discrim. (0.07): 100%|██████████| 100/100 [00:02<00:00, 37.98it/s]\n"
     ]
    },
    {
     "name": "stdout",
     "output_type": "stream",
     "text": [
      "> Generated 1017 records for cc_num: 4259996134423\n",
      "\n",
      "[632/931] Generating data for cc_num: 6535328428560433\n"
     ]
    },
    {
     "name": "stderr",
     "output_type": "stream",
     "text": [
      "Gen. (0.08) | Discrim. (0.32): 100%|██████████| 100/100 [00:02<00:00, 37.94it/s] \n"
     ]
    },
    {
     "name": "stdout",
     "output_type": "stream",
     "text": [
      "> Generated 508 records for cc_num: 6535328428560433\n",
      "\n",
      "[633/931] Generating data for cc_num: 6011724471098086\n"
     ]
    },
    {
     "name": "stderr",
     "output_type": "stream",
     "text": [
      "Gen. (0.54) | Discrim. (0.16): 100%|██████████| 100/100 [00:02<00:00, 35.97it/s] \n"
     ]
    },
    {
     "name": "stdout",
     "output_type": "stream",
     "text": [
      "> Generated 2550 records for cc_num: 6011724471098086\n",
      "\n",
      "[634/931] Generating data for cc_num: 379141394109214\n"
     ]
    },
    {
     "name": "stderr",
     "output_type": "stream",
     "text": [
      "Gen. (0.14) | Discrim. (0.25): 100%|██████████| 100/100 [00:02<00:00, 40.39it/s] \n"
     ]
    },
    {
     "name": "stdout",
     "output_type": "stream",
     "text": [
      "> Generated 508 records for cc_num: 379141394109214\n",
      "\n",
      "[635/931] Generating data for cc_num: 501818133297\n"
     ]
    },
    {
     "name": "stderr",
     "output_type": "stream",
     "text": [
      "Gen. (-0.38) | Discrim. (0.10): 100%|██████████| 100/100 [00:02<00:00, 40.09it/s]\n"
     ]
    },
    {
     "name": "stdout",
     "output_type": "stream",
     "text": [
      "> Generated 0 records for cc_num: 501818133297\n",
      "\n",
      "[636/931] Generating data for cc_num: 180097223252063\n"
     ]
    },
    {
     "name": "stderr",
     "output_type": "stream",
     "text": [
      "Gen. (-0.59) | Discrim. (0.04): 100%|██████████| 100/100 [00:02<00:00, 43.52it/s]\n"
     ]
    },
    {
     "name": "stdout",
     "output_type": "stream",
     "text": [
      "> Generated 0 records for cc_num: 180097223252063\n",
      "\n",
      "[637/931] Generating data for cc_num: 213175487106448\n"
     ]
    },
    {
     "name": "stderr",
     "output_type": "stream",
     "text": [
      "Gen. (-0.72) | Discrim. (0.07): 100%|██████████| 100/100 [00:02<00:00, 35.15it/s]\n"
     ]
    },
    {
     "name": "stdout",
     "output_type": "stream",
     "text": [
      "> Generated 1528 records for cc_num: 213175487106448\n",
      "\n",
      "[638/931] Generating data for cc_num: 6011099828110011\n"
     ]
    },
    {
     "name": "stderr",
     "output_type": "stream",
     "text": [
      "Gen. (0.08) | Discrim. (0.33): 100%|██████████| 100/100 [00:02<00:00, 37.96it/s] \n"
     ]
    },
    {
     "name": "stdout",
     "output_type": "stream",
     "text": [
      "> Generated 0 records for cc_num: 6011099828110011\n",
      "\n",
      "[639/931] Generating data for cc_num: 3529597810116815\n"
     ]
    },
    {
     "name": "stderr",
     "output_type": "stream",
     "text": [
      "Gen. (0.25) | Discrim. (0.04): 100%|██████████| 100/100 [00:02<00:00, 35.97it/s]\n"
     ]
    },
    {
     "name": "stdout",
     "output_type": "stream",
     "text": [
      "> Generated 1528 records for cc_num: 3529597810116815\n",
      "\n",
      "[640/931] Generating data for cc_num: 639095706599\n"
     ]
    },
    {
     "name": "stderr",
     "output_type": "stream",
     "text": [
      "Gen. (0.25) | Discrim. (-0.08): 100%|██████████| 100/100 [00:02<00:00, 38.56it/s]\n"
     ]
    },
    {
     "name": "stdout",
     "output_type": "stream",
     "text": [
      "> Generated 508 records for cc_num: 639095706599\n",
      "\n",
      "[641/931] Generating data for cc_num: 2318062975163331\n"
     ]
    },
    {
     "name": "stderr",
     "output_type": "stream",
     "text": [
      "Gen. (0.00) | Discrim. (0.05): 100%|██████████| 100/100 [00:02<00:00, 35.65it/s] \n"
     ]
    },
    {
     "name": "stdout",
     "output_type": "stream",
     "text": [
      "> Generated 509 records for cc_num: 2318062975163331\n",
      "\n",
      "[642/931] Generating data for cc_num: 4957924165498\n"
     ]
    },
    {
     "name": "stderr",
     "output_type": "stream",
     "text": [
      "Gen. (0.23) | Discrim. (0.14): 100%|██████████| 100/100 [00:02<00:00, 35.35it/s]\n"
     ]
    },
    {
     "name": "stdout",
     "output_type": "stream",
     "text": [
      "> Generated 1021 records for cc_num: 4957924165498\n",
      "\n",
      "[643/931] Generating data for cc_num: 4158758517677931\n"
     ]
    },
    {
     "name": "stderr",
     "output_type": "stream",
     "text": [
      "Gen. (1.40) | Discrim. (-0.10): 100%|██████████| 100/100 [00:02<00:00, 35.27it/s]\n"
     ]
    },
    {
     "name": "stdout",
     "output_type": "stream",
     "text": [
      "> Generated 510 records for cc_num: 4158758517677931\n",
      "\n",
      "[644/931] Generating data for cc_num: 580954173374\n"
     ]
    },
    {
     "name": "stderr",
     "output_type": "stream",
     "text": [
      "Gen. (-0.38) | Discrim. (-0.20): 100%|██████████| 100/100 [00:02<00:00, 39.88it/s]\n"
     ]
    },
    {
     "name": "stdout",
     "output_type": "stream",
     "text": [
      "> Generated 1020 records for cc_num: 580954173374\n",
      "\n",
      "[645/931] Generating data for cc_num: 675945690716\n"
     ]
    },
    {
     "name": "stderr",
     "output_type": "stream",
     "text": [
      "Gen. (0.27) | Discrim. (0.24): 100%|██████████| 100/100 [00:02<00:00, 34.19it/s]\n"
     ]
    },
    {
     "name": "stdout",
     "output_type": "stream",
     "text": [
      "> Generated 1531 records for cc_num: 675945690716\n",
      "\n",
      "[646/931] Generating data for cc_num: 340214844585279\n"
     ]
    },
    {
     "name": "stderr",
     "output_type": "stream",
     "text": [
      "Gen. (0.37) | Discrim. (-0.22): 100%|██████████| 100/100 [00:02<00:00, 37.51it/s]\n"
     ]
    },
    {
     "name": "stdout",
     "output_type": "stream",
     "text": [
      "> Generated 0 records for cc_num: 340214844585279\n",
      "\n",
      "[647/931] Generating data for cc_num: 30446018552504\n"
     ]
    },
    {
     "name": "stderr",
     "output_type": "stream",
     "text": [
      "Gen. (-0.17) | Discrim. (0.06): 100%|██████████| 100/100 [00:03<00:00, 32.83it/s]\n"
     ]
    },
    {
     "name": "stdout",
     "output_type": "stream",
     "text": [
      "> Generated 508 records for cc_num: 30446018552504\n",
      "\n",
      "[648/931] Generating data for cc_num: 3560697798177746\n"
     ]
    },
    {
     "name": "stderr",
     "output_type": "stream",
     "text": [
      "Gen. (0.33) | Discrim. (-0.01): 100%|██████████| 100/100 [00:02<00:00, 33.74it/s]\n"
     ]
    },
    {
     "name": "stdout",
     "output_type": "stream",
     "text": [
      "> Generated 1528 records for cc_num: 3560697798177746\n",
      "\n",
      "[649/931] Generating data for cc_num: 4469777115158234880\n"
     ]
    },
    {
     "name": "stderr",
     "output_type": "stream",
     "text": [
      "Gen. (-0.80) | Discrim. (-0.02): 100%|██████████| 100/100 [00:02<00:00, 36.90it/s]\n"
     ]
    },
    {
     "name": "stdout",
     "output_type": "stream",
     "text": [
      "> Generated 2036 records for cc_num: 4469777115158234880\n",
      "\n",
      "[650/931] Generating data for cc_num: 213163860545705\n"
     ]
    },
    {
     "name": "stderr",
     "output_type": "stream",
     "text": [
      "Gen. (0.03) | Discrim. (0.10): 100%|██████████| 100/100 [00:02<00:00, 35.91it/s] \n"
     ]
    },
    {
     "name": "stdout",
     "output_type": "stream",
     "text": [
      "> Generated 1018 records for cc_num: 213163860545705\n",
      "\n",
      "[651/931] Generating data for cc_num: 4318414072191879\n"
     ]
    },
    {
     "name": "stderr",
     "output_type": "stream",
     "text": [
      "Gen. (0.01) | Discrim. (-0.24): 100%|██████████| 100/100 [00:02<00:00, 40.38it/s]\n"
     ]
    },
    {
     "name": "stdout",
     "output_type": "stream",
     "text": [
      "> Generated 0 records for cc_num: 4318414072191879\n",
      "\n",
      "[652/931] Generating data for cc_num: 2296006538441789\n"
     ]
    },
    {
     "name": "stderr",
     "output_type": "stream",
     "text": [
      "Gen. (0.24) | Discrim. (-0.04): 100%|██████████| 100/100 [00:02<00:00, 35.14it/s]\n"
     ]
    },
    {
     "name": "stdout",
     "output_type": "stream",
     "text": [
      "> Generated 2043 records for cc_num: 2296006538441789\n",
      "\n",
      "[653/931] Generating data for cc_num: 4536996888716062123\n"
     ]
    },
    {
     "name": "stderr",
     "output_type": "stream",
     "text": [
      "Gen. (0.21) | Discrim. (0.17): 100%|██████████| 100/100 [00:02<00:00, 41.98it/s]\n"
     ]
    },
    {
     "name": "stdout",
     "output_type": "stream",
     "text": [
      "> Generated 2548 records for cc_num: 4536996888716062123\n",
      "\n",
      "[654/931] Generating data for cc_num: 3559723917628303\n"
     ]
    },
    {
     "name": "stderr",
     "output_type": "stream",
     "text": [
      "Gen. (0.34) | Discrim. (0.16): 100%|██████████| 100/100 [00:02<00:00, 40.77it/s]\n"
     ]
    },
    {
     "name": "stdout",
     "output_type": "stream",
     "text": [
      "> Generated 1019 records for cc_num: 3559723917628303\n",
      "\n",
      "[655/931] Generating data for cc_num: 3576207763781753\n"
     ]
    },
    {
     "name": "stderr",
     "output_type": "stream",
     "text": [
      "Gen. (-0.47) | Discrim. (0.05): 100%|██████████| 100/100 [00:02<00:00, 36.93it/s]\n"
     ]
    },
    {
     "name": "stdout",
     "output_type": "stream",
     "text": [
      "> Generated 0 records for cc_num: 3576207763781753\n",
      "\n",
      "[656/931] Generating data for cc_num: 3565996340207976\n"
     ]
    },
    {
     "name": "stderr",
     "output_type": "stream",
     "text": [
      "Gen. (0.73) | Discrim. (0.21): 100%|██████████| 100/100 [00:02<00:00, 38.57it/s]\n"
     ]
    },
    {
     "name": "stdout",
     "output_type": "stream",
     "text": [
      "> Generated 510 records for cc_num: 3565996340207976\n",
      "\n",
      "[657/931] Generating data for cc_num: 676326610042\n"
     ]
    },
    {
     "name": "stderr",
     "output_type": "stream",
     "text": [
      "Gen. (0.62) | Discrim. (-0.09): 100%|██████████| 100/100 [00:02<00:00, 38.57it/s]\n"
     ]
    },
    {
     "name": "stdout",
     "output_type": "stream",
     "text": [
      "> Generated 508 records for cc_num: 676326610042\n",
      "\n",
      "[658/931] Generating data for cc_num: 30343344410970\n"
     ]
    },
    {
     "name": "stderr",
     "output_type": "stream",
     "text": [
      "Gen. (-0.12) | Discrim. (0.08): 100%|██████████| 100/100 [00:02<00:00, 37.33it/s]\n"
     ]
    },
    {
     "name": "stdout",
     "output_type": "stream",
     "text": [
      "> Generated 1530 records for cc_num: 30343344410970\n",
      "\n",
      "[659/931] Generating data for cc_num: 2229824890647120\n"
     ]
    },
    {
     "name": "stderr",
     "output_type": "stream",
     "text": [
      "Gen. (0.75) | Discrim. (-0.12): 100%|██████████| 100/100 [00:02<00:00, 35.48it/s]\n"
     ]
    },
    {
     "name": "stdout",
     "output_type": "stream",
     "text": [
      "> Generated 510 records for cc_num: 2229824890647120\n",
      "\n",
      "[660/931] Generating data for cc_num: 4893092478075970\n"
     ]
    },
    {
     "name": "stderr",
     "output_type": "stream",
     "text": [
      "Gen. (0.08) | Discrim. (-0.01): 100%|██████████| 100/100 [00:02<00:00, 33.43it/s]\n"
     ]
    },
    {
     "name": "stdout",
     "output_type": "stream",
     "text": [
      "> Generated 0 records for cc_num: 4893092478075970\n",
      "\n",
      "[661/931] Generating data for cc_num: 30408301059761\n"
     ]
    },
    {
     "name": "stderr",
     "output_type": "stream",
     "text": [
      "Gen. (0.31) | Discrim. (-0.01): 100%|██████████| 100/100 [00:02<00:00, 36.88it/s]\n"
     ]
    },
    {
     "name": "stdout",
     "output_type": "stream",
     "text": [
      "> Generated 510 records for cc_num: 30408301059761\n",
      "\n",
      "[662/931] Generating data for cc_num: 213198837352314\n"
     ]
    },
    {
     "name": "stderr",
     "output_type": "stream",
     "text": [
      "Gen. (-0.82) | Discrim. (0.09): 100%|██████████| 100/100 [00:02<00:00, 38.63it/s]\n"
     ]
    },
    {
     "name": "stdout",
     "output_type": "stream",
     "text": [
      "> Generated 507 records for cc_num: 213198837352314\n",
      "\n",
      "[663/931] Generating data for cc_num: 4452366298769043\n"
     ]
    },
    {
     "name": "stderr",
     "output_type": "stream",
     "text": [
      "Gen. (-0.12) | Discrim. (0.33): 100%|██████████| 100/100 [00:02<00:00, 35.23it/s]\n"
     ]
    },
    {
     "name": "stdout",
     "output_type": "stream",
     "text": [
      "> Generated 2548 records for cc_num: 4452366298769043\n",
      "\n",
      "[664/931] Generating data for cc_num: 3501285649323933\n"
     ]
    },
    {
     "name": "stderr",
     "output_type": "stream",
     "text": [
      "Gen. (0.50) | Discrim. (-0.00): 100%|██████████| 100/100 [00:02<00:00, 40.07it/s]\n"
     ]
    },
    {
     "name": "stdout",
     "output_type": "stream",
     "text": [
      "> Generated 0 records for cc_num: 3501285649323933\n",
      "\n",
      "[665/931] Generating data for cc_num: 3568736585751727\n"
     ]
    },
    {
     "name": "stderr",
     "output_type": "stream",
     "text": [
      "Gen. (0.53) | Discrim. (0.08): 100%|██████████| 100/100 [00:02<00:00, 38.86it/s]\n"
     ]
    },
    {
     "name": "stdout",
     "output_type": "stream",
     "text": [
      "> Generated 1530 records for cc_num: 3568736585751727\n",
      "\n",
      "[666/931] Generating data for cc_num: 4575255480814133\n"
     ]
    },
    {
     "name": "stderr",
     "output_type": "stream",
     "text": [
      "Gen. (-0.22) | Discrim. (0.08): 100%|██████████| 100/100 [00:02<00:00, 34.06it/s]\n"
     ]
    },
    {
     "name": "stdout",
     "output_type": "stream",
     "text": [
      "> Generated 0 records for cc_num: 4575255480814133\n",
      "\n",
      "[667/931] Generating data for cc_num: 3561212938177173\n"
     ]
    },
    {
     "name": "stderr",
     "output_type": "stream",
     "text": [
      "Gen. (-0.42) | Discrim. (-0.02): 100%|██████████| 100/100 [00:02<00:00, 34.01it/s]\n"
     ]
    },
    {
     "name": "stdout",
     "output_type": "stream",
     "text": [
      "> Generated 509 records for cc_num: 3561212938177173\n",
      "\n",
      "[668/931] Generating data for cc_num: 4745996322265\n"
     ]
    },
    {
     "name": "stderr",
     "output_type": "stream",
     "text": [
      "Gen. (0.22) | Discrim. (0.21): 100%|██████████| 100/100 [00:02<00:00, 39.66it/s] \n"
     ]
    },
    {
     "name": "stdout",
     "output_type": "stream",
     "text": [
      "> Generated 3061 records for cc_num: 4745996322265\n",
      "\n",
      "[669/931] Generating data for cc_num: 30153452207526\n"
     ]
    },
    {
     "name": "stderr",
     "output_type": "stream",
     "text": [
      "Gen. (0.40) | Discrim. (0.10): 100%|██████████| 100/100 [00:02<00:00, 34.74it/s]\n"
     ]
    },
    {
     "name": "stdout",
     "output_type": "stream",
     "text": [
      "> Generated 1530 records for cc_num: 30153452207526\n",
      "\n",
      "[670/931] Generating data for cc_num: 30103132002433\n"
     ]
    },
    {
     "name": "stderr",
     "output_type": "stream",
     "text": [
      "Gen. (0.31) | Discrim. (0.06): 100%|██████████| 100/100 [00:02<00:00, 40.21it/s] \n"
     ]
    },
    {
     "name": "stdout",
     "output_type": "stream",
     "text": [
      "> Generated 1020 records for cc_num: 30103132002433\n",
      "\n",
      "[671/931] Generating data for cc_num: 374821819075109\n"
     ]
    },
    {
     "name": "stderr",
     "output_type": "stream",
     "text": [
      "Gen. (-0.72) | Discrim. (-0.20): 100%|██████████| 100/100 [00:02<00:00, 34.86it/s]\n"
     ]
    },
    {
     "name": "stdout",
     "output_type": "stream",
     "text": [
      "> Generated 509 records for cc_num: 374821819075109\n",
      "\n",
      "[672/931] Generating data for cc_num: 30143535920989\n"
     ]
    },
    {
     "name": "stderr",
     "output_type": "stream",
     "text": [
      "Gen. (-0.08) | Discrim. (0.04): 100%|██████████| 100/100 [00:02<00:00, 39.85it/s]\n"
     ]
    },
    {
     "name": "stdout",
     "output_type": "stream",
     "text": [
      "> Generated 1527 records for cc_num: 30143535920989\n",
      "\n",
      "[673/931] Generating data for cc_num: 30175986190993\n"
     ]
    },
    {
     "name": "stderr",
     "output_type": "stream",
     "text": [
      "Gen. (-0.11) | Discrim. (0.08): 100%|██████████| 100/100 [00:02<00:00, 37.47it/s]\n"
     ]
    },
    {
     "name": "stdout",
     "output_type": "stream",
     "text": [
      "> Generated 2036 records for cc_num: 30175986190993\n",
      "\n",
      "[674/931] Generating data for cc_num: 3528407217576457\n"
     ]
    },
    {
     "name": "stderr",
     "output_type": "stream",
     "text": [
      "Gen. (0.27) | Discrim. (0.10): 100%|██████████| 100/100 [00:02<00:00, 37.28it/s]\n"
     ]
    },
    {
     "name": "stdout",
     "output_type": "stream",
     "text": [
      "> Generated 1017 records for cc_num: 3528407217576457\n",
      "\n",
      "[675/931] Generating data for cc_num: 639077309909\n"
     ]
    },
    {
     "name": "stderr",
     "output_type": "stream",
     "text": [
      "Gen. (0.51) | Discrim. (0.05): 100%|██████████| 100/100 [00:02<00:00, 36.04it/s]\n"
     ]
    },
    {
     "name": "stdout",
     "output_type": "stream",
     "text": [
      "> Generated 508 records for cc_num: 639077309909\n",
      "\n",
      "[676/931] Generating data for cc_num: 3567697931646329\n"
     ]
    },
    {
     "name": "stderr",
     "output_type": "stream",
     "text": [
      "Gen. (-0.43) | Discrim. (-0.28): 100%|██████████| 100/100 [00:02<00:00, 35.27it/s]\n"
     ]
    },
    {
     "name": "stdout",
     "output_type": "stream",
     "text": [
      "> Generated 2553 records for cc_num: 3567697931646329\n",
      "\n",
      "[677/931] Generating data for cc_num: 4239436242473\n"
     ]
    },
    {
     "name": "stderr",
     "output_type": "stream",
     "text": [
      "Gen. (0.11) | Discrim. (-0.10): 100%|██████████| 100/100 [00:02<00:00, 38.21it/s]\n"
     ]
    },
    {
     "name": "stdout",
     "output_type": "stream",
     "text": [
      "> Generated 1017 records for cc_num: 4239436242473\n",
      "\n",
      "[678/931] Generating data for cc_num: 4220495028289516646\n"
     ]
    },
    {
     "name": "stderr",
     "output_type": "stream",
     "text": [
      "Gen. (0.54) | Discrim. (-0.26): 100%|██████████| 100/100 [00:02<00:00, 41.45it/s]\n"
     ]
    },
    {
     "name": "stdout",
     "output_type": "stream",
     "text": [
      "> Generated 1019 records for cc_num: 4220495028289516646\n",
      "\n",
      "[679/931] Generating data for cc_num: 4969856774088583\n"
     ]
    },
    {
     "name": "stderr",
     "output_type": "stream",
     "text": [
      "Gen. (-0.04) | Discrim. (0.12): 100%|██████████| 100/100 [00:02<00:00, 39.94it/s]\n"
     ]
    },
    {
     "name": "stdout",
     "output_type": "stream",
     "text": [
      "> Generated 1020 records for cc_num: 4969856774088583\n",
      "\n",
      "[680/931] Generating data for cc_num: 4433091568498503\n"
     ]
    },
    {
     "name": "stderr",
     "output_type": "stream",
     "text": [
      "Gen. (0.63) | Discrim. (-0.18): 100%|██████████| 100/100 [00:02<00:00, 42.82it/s]\n"
     ]
    },
    {
     "name": "stdout",
     "output_type": "stream",
     "text": [
      "> Generated 509 records for cc_num: 4433091568498503\n",
      "\n",
      "[681/931] Generating data for cc_num: 348789608637806\n"
     ]
    },
    {
     "name": "stderr",
     "output_type": "stream",
     "text": [
      "Gen. (-0.24) | Discrim. (0.05): 100%|██████████| 100/100 [00:02<00:00, 42.65it/s]\n"
     ]
    },
    {
     "name": "stdout",
     "output_type": "stream",
     "text": [
      "> Generated 2039 records for cc_num: 348789608637806\n",
      "\n",
      "[682/931] Generating data for cc_num: 3558652751678952\n"
     ]
    },
    {
     "name": "stderr",
     "output_type": "stream",
     "text": [
      "Gen. (0.56) | Discrim. (-0.04): 100%|██████████| 100/100 [00:02<00:00, 42.38it/s]\n"
     ]
    },
    {
     "name": "stdout",
     "output_type": "stream",
     "text": [
      "> Generated 1526 records for cc_num: 3558652751678952\n",
      "\n",
      "[683/931] Generating data for cc_num: 5388659976630693\n"
     ]
    },
    {
     "name": "stderr",
     "output_type": "stream",
     "text": [
      "Gen. (0.70) | Discrim. (0.03): 100%|██████████| 100/100 [00:02<00:00, 42.21it/s]\n"
     ]
    },
    {
     "name": "stdout",
     "output_type": "stream",
     "text": [
      "> Generated 1526 records for cc_num: 5388659976630693\n",
      "\n",
      "[684/931] Generating data for cc_num: 2706977570537524\n"
     ]
    },
    {
     "name": "stderr",
     "output_type": "stream",
     "text": [
      "Gen. (0.10) | Discrim. (-0.08): 100%|██████████| 100/100 [00:02<00:00, 39.87it/s]\n"
     ]
    },
    {
     "name": "stdout",
     "output_type": "stream",
     "text": [
      "> Generated 1528 records for cc_num: 2706977570537524\n",
      "\n",
      "[685/931] Generating data for cc_num: 213186334552049\n"
     ]
    },
    {
     "name": "stderr",
     "output_type": "stream",
     "text": [
      "Gen. (-0.46) | Discrim. (0.09): 100%|██████████| 100/100 [00:02<00:00, 36.19it/s]\n"
     ]
    },
    {
     "name": "stdout",
     "output_type": "stream",
     "text": [
      "> Generated 1017 records for cc_num: 213186334552049\n",
      "\n",
      "[686/931] Generating data for cc_num: 3576144910346950\n"
     ]
    },
    {
     "name": "stderr",
     "output_type": "stream",
     "text": [
      "Gen. (-0.35) | Discrim. (-0.05): 100%|██████████| 100/100 [00:02<00:00, 37.85it/s]\n"
     ]
    },
    {
     "name": "stdout",
     "output_type": "stream",
     "text": [
      "> Generated 507 records for cc_num: 3576144910346950\n",
      "\n",
      "[687/931] Generating data for cc_num: 4344955088481397\n"
     ]
    },
    {
     "name": "stderr",
     "output_type": "stream",
     "text": [
      "Gen. (0.01) | Discrim. (-0.12): 100%|██████████| 100/100 [00:02<00:00, 36.09it/s]\n"
     ]
    },
    {
     "name": "stdout",
     "output_type": "stream",
     "text": [
      "> Generated 1532 records for cc_num: 4344955088481397\n",
      "\n",
      "[688/931] Generating data for cc_num: 180072527505094\n"
     ]
    },
    {
     "name": "stderr",
     "output_type": "stream",
     "text": [
      "Gen. (0.59) | Discrim. (-0.20): 100%|██████████| 100/100 [00:02<00:00, 37.97it/s]\n"
     ]
    },
    {
     "name": "stdout",
     "output_type": "stream",
     "text": [
      "> Generated 1526 records for cc_num: 180072527505094\n",
      "\n",
      "[689/931] Generating data for cc_num: 3568255211412877\n"
     ]
    },
    {
     "name": "stderr",
     "output_type": "stream",
     "text": [
      "Gen. (1.01) | Discrim. (0.15): 100%|██████████| 100/100 [00:02<00:00, 39.88it/s]\n"
     ]
    },
    {
     "name": "stdout",
     "output_type": "stream",
     "text": [
      "> Generated 2039 records for cc_num: 3568255211412877\n",
      "\n",
      "[690/931] Generating data for cc_num: 4748866581408\n"
     ]
    },
    {
     "name": "stderr",
     "output_type": "stream",
     "text": [
      "Gen. (0.08) | Discrim. (-0.18): 100%|██████████| 100/100 [00:02<00:00, 36.73it/s]\n"
     ]
    },
    {
     "name": "stdout",
     "output_type": "stream",
     "text": [
      "> Generated 0 records for cc_num: 4748866581408\n",
      "\n",
      "[691/931] Generating data for cc_num: 6515067575568369\n"
     ]
    },
    {
     "name": "stderr",
     "output_type": "stream",
     "text": [
      "Gen. (0.29) | Discrim. (0.11): 100%|██████████| 100/100 [00:02<00:00, 35.54it/s]\n"
     ]
    },
    {
     "name": "stdout",
     "output_type": "stream",
     "text": [
      "> Generated 507 records for cc_num: 6515067575568369\n",
      "\n",
      "[692/931] Generating data for cc_num: 6011681934117244\n"
     ]
    },
    {
     "name": "stderr",
     "output_type": "stream",
     "text": [
      "Gen. (0.32) | Discrim. (0.11): 100%|██████████| 100/100 [00:02<00:00, 42.01it/s] \n"
     ]
    },
    {
     "name": "stdout",
     "output_type": "stream",
     "text": [
      "> Generated 1019 records for cc_num: 6011681934117244\n",
      "\n",
      "[693/931] Generating data for cc_num: 4841313716651064\n"
     ]
    },
    {
     "name": "stderr",
     "output_type": "stream",
     "text": [
      "Gen. (0.25) | Discrim. (-0.09): 100%|██████████| 100/100 [00:02<00:00, 41.81it/s]\n"
     ]
    },
    {
     "name": "stdout",
     "output_type": "stream",
     "text": [
      "> Generated 2038 records for cc_num: 4841313716651064\n",
      "\n",
      "[694/931] Generating data for cc_num: 565399283797\n"
     ]
    },
    {
     "name": "stderr",
     "output_type": "stream",
     "text": [
      "Gen. (0.44) | Discrim. (-0.15): 100%|██████████| 100/100 [00:02<00:00, 41.82it/s]\n"
     ]
    },
    {
     "name": "stdout",
     "output_type": "stream",
     "text": [
      "> Generated 508 records for cc_num: 565399283797\n",
      "\n",
      "[695/931] Generating data for cc_num: 4538566639857\n"
     ]
    },
    {
     "name": "stderr",
     "output_type": "stream",
     "text": [
      "Gen. (0.33) | Discrim. (0.20): 100%|██████████| 100/100 [00:02<00:00, 43.60it/s]\n"
     ]
    },
    {
     "name": "stdout",
     "output_type": "stream",
     "text": [
      "> Generated 1530 records for cc_num: 4538566639857\n",
      "\n",
      "[696/931] Generating data for cc_num: 3502088871723054\n"
     ]
    },
    {
     "name": "stderr",
     "output_type": "stream",
     "text": [
      "Gen. (0.77) | Discrim. (0.18): 100%|██████████| 100/100 [00:02<00:00, 41.56it/s]\n"
     ]
    },
    {
     "name": "stdout",
     "output_type": "stream",
     "text": [
      "> Generated 2550 records for cc_num: 3502088871723054\n",
      "\n",
      "[697/931] Generating data for cc_num: 3566875419572867\n"
     ]
    },
    {
     "name": "stderr",
     "output_type": "stream",
     "text": [
      "Gen. (1.19) | Discrim. (-0.27): 100%|██████████| 100/100 [00:02<00:00, 39.86it/s]\n"
     ]
    },
    {
     "name": "stdout",
     "output_type": "stream",
     "text": [
      "> Generated 1017 records for cc_num: 3566875419572867\n",
      "\n",
      "[698/931] Generating data for cc_num: 4502539526809429801\n"
     ]
    },
    {
     "name": "stderr",
     "output_type": "stream",
     "text": [
      "Gen. (-0.75) | Discrim. (0.04): 100%|██████████| 100/100 [00:02<00:00, 33.82it/s]\n"
     ]
    },
    {
     "name": "stdout",
     "output_type": "stream",
     "text": [
      "> Generated 1532 records for cc_num: 4502539526809429801\n",
      "\n",
      "[699/931] Generating data for cc_num: 4440581794652\n"
     ]
    },
    {
     "name": "stderr",
     "output_type": "stream",
     "text": [
      "Gen. (-0.23) | Discrim. (-0.46): 100%|██████████| 100/100 [00:02<00:00, 44.38it/s]\n"
     ]
    },
    {
     "name": "stdout",
     "output_type": "stream",
     "text": [
      "> Generated 510 records for cc_num: 4440581794652\n",
      "\n",
      "[700/931] Generating data for cc_num: 4334230547694630\n"
     ]
    },
    {
     "name": "stderr",
     "output_type": "stream",
     "text": [
      "Gen. (-0.67) | Discrim. (0.22): 100%|██████████| 100/100 [00:02<00:00, 36.65it/s]\n"
     ]
    },
    {
     "name": "stdout",
     "output_type": "stream",
     "text": [
      "> Generated 2038 records for cc_num: 4334230547694630\n",
      "\n",
      "[701/931] Generating data for cc_num: 676372984911\n"
     ]
    },
    {
     "name": "stderr",
     "output_type": "stream",
     "text": [
      "Gen. (0.08) | Discrim. (0.05): 100%|██████████| 100/100 [00:02<00:00, 34.07it/s] \n"
     ]
    },
    {
     "name": "stdout",
     "output_type": "stream",
     "text": [
      "> Generated 2545 records for cc_num: 676372984911\n",
      "\n",
      "[702/931] Generating data for cc_num: 4653178848915023204\n"
     ]
    },
    {
     "name": "stderr",
     "output_type": "stream",
     "text": [
      "Gen. (-0.02) | Discrim. (0.20): 100%|██████████| 100/100 [00:02<00:00, 36.97it/s]\n"
     ]
    },
    {
     "name": "stdout",
     "output_type": "stream",
     "text": [
      "> Generated 1017 records for cc_num: 4653178848915023204\n",
      "\n",
      "[703/931] Generating data for cc_num: 3562793934111141\n"
     ]
    },
    {
     "name": "stderr",
     "output_type": "stream",
     "text": [
      "Gen. (0.43) | Discrim. (0.07): 100%|██████████| 100/100 [00:02<00:00, 35.32it/s]\n"
     ]
    },
    {
     "name": "stdout",
     "output_type": "stream",
     "text": [
      "> Generated 0 records for cc_num: 3562793934111141\n",
      "\n",
      "[704/931] Generating data for cc_num: 4681601008538160\n"
     ]
    },
    {
     "name": "stderr",
     "output_type": "stream",
     "text": [
      "Gen. (0.71) | Discrim. (0.18): 100%|██████████| 100/100 [00:02<00:00, 43.63it/s]\n"
     ]
    },
    {
     "name": "stdout",
     "output_type": "stream",
     "text": [
      "> Generated 2542 records for cc_num: 4681601008538160\n",
      "\n",
      "[705/931] Generating data for cc_num: 4914700582394237\n"
     ]
    },
    {
     "name": "stderr",
     "output_type": "stream",
     "text": [
      "Gen. (1.63) | Discrim. (0.03): 100%|██████████| 100/100 [00:02<00:00, 39.45it/s]\n"
     ]
    },
    {
     "name": "stdout",
     "output_type": "stream",
     "text": [
      "> Generated 510 records for cc_num: 4914700582394237\n",
      "\n",
      "[706/931] Generating data for cc_num: 3572976568630035\n"
     ]
    },
    {
     "name": "stderr",
     "output_type": "stream",
     "text": [
      "Gen. (0.57) | Discrim. (-0.03): 100%|██████████| 100/100 [00:02<00:00, 36.82it/s]\n"
     ]
    },
    {
     "name": "stdout",
     "output_type": "stream",
     "text": [
      "> Generated 510 records for cc_num: 3572976568630035\n",
      "\n",
      "[707/931] Generating data for cc_num: 3549202406645667\n"
     ]
    },
    {
     "name": "stderr",
     "output_type": "stream",
     "text": [
      "Gen. (1.03) | Discrim. (-0.17): 100%|██████████| 100/100 [00:02<00:00, 34.28it/s]\n"
     ]
    },
    {
     "name": "stdout",
     "output_type": "stream",
     "text": [
      "> Generated 1529 records for cc_num: 3549202406645667\n",
      "\n",
      "[708/931] Generating data for cc_num: 4640395708703\n"
     ]
    },
    {
     "name": "stderr",
     "output_type": "stream",
     "text": [
      "Gen. (0.16) | Discrim. (0.06): 100%|██████████| 100/100 [00:02<00:00, 39.71it/s] \n"
     ]
    },
    {
     "name": "stdout",
     "output_type": "stream",
     "text": [
      "> Generated 2038 records for cc_num: 4640395708703\n",
      "\n",
      "[709/931] Generating data for cc_num: 4179719215697782\n"
     ]
    },
    {
     "name": "stderr",
     "output_type": "stream",
     "text": [
      "Gen. (0.17) | Discrim. (-0.31): 100%|██████████| 100/100 [00:02<00:00, 34.98it/s]\n"
     ]
    },
    {
     "name": "stdout",
     "output_type": "stream",
     "text": [
      "> Generated 510 records for cc_num: 4179719215697782\n",
      "\n",
      "[710/931] Generating data for cc_num: 3531606252458308\n"
     ]
    },
    {
     "name": "stderr",
     "output_type": "stream",
     "text": [
      "Gen. (-0.76) | Discrim. (-0.09): 100%|██████████| 100/100 [00:02<00:00, 38.00it/s]\n"
     ]
    },
    {
     "name": "stdout",
     "output_type": "stream",
     "text": [
      "> Generated 508 records for cc_num: 3531606252458308\n",
      "\n",
      "[711/931] Generating data for cc_num: 503886119844\n"
     ]
    },
    {
     "name": "stderr",
     "output_type": "stream",
     "text": [
      "Gen. (0.93) | Discrim. (0.21): 100%|██████████| 100/100 [00:02<00:00, 41.98it/s]\n"
     ]
    },
    {
     "name": "stdout",
     "output_type": "stream",
     "text": [
      "> Generated 0 records for cc_num: 503886119844\n",
      "\n",
      "[712/931] Generating data for cc_num: 630424987505\n"
     ]
    },
    {
     "name": "stderr",
     "output_type": "stream",
     "text": [
      "Gen. (0.01) | Discrim. (0.01): 100%|██████████| 100/100 [00:02<00:00, 39.37it/s] \n"
     ]
    },
    {
     "name": "stdout",
     "output_type": "stream",
     "text": [
      "> Generated 3053 records for cc_num: 630424987505\n",
      "\n",
      "[713/931] Generating data for cc_num: 4951647200979051\n"
     ]
    },
    {
     "name": "stderr",
     "output_type": "stream",
     "text": [
      "Gen. (0.00) | Discrim. (0.12): 100%|██████████| 100/100 [00:02<00:00, 36.36it/s] \n"
     ]
    },
    {
     "name": "stdout",
     "output_type": "stream",
     "text": [
      "> Generated 2033 records for cc_num: 4951647200979051\n",
      "\n",
      "[714/931] Generating data for cc_num: 4873783502705038\n"
     ]
    },
    {
     "name": "stderr",
     "output_type": "stream",
     "text": [
      "Gen. (0.70) | Discrim. (-0.44): 100%|██████████| 100/100 [00:02<00:00, 34.14it/s]\n"
     ]
    },
    {
     "name": "stdout",
     "output_type": "stream",
     "text": [
      "> Generated 2035 records for cc_num: 4873783502705038\n",
      "\n",
      "[715/931] Generating data for cc_num: 3527536963490470\n"
     ]
    },
    {
     "name": "stderr",
     "output_type": "stream",
     "text": [
      "Gen. (0.51) | Discrim. (-0.04): 100%|██████████| 100/100 [00:03<00:00, 32.66it/s]\n"
     ]
    },
    {
     "name": "stdout",
     "output_type": "stream",
     "text": [
      "> Generated 2547 records for cc_num: 3527536963490470\n",
      "\n",
      "[716/931] Generating data for cc_num: 342319985983023\n"
     ]
    },
    {
     "name": "stderr",
     "output_type": "stream",
     "text": [
      "Gen. (-0.14) | Discrim. (0.09): 100%|██████████| 100/100 [00:02<00:00, 35.27it/s]\n"
     ]
    },
    {
     "name": "stdout",
     "output_type": "stream",
     "text": [
      "> Generated 1530 records for cc_num: 342319985983023\n",
      "\n",
      "[717/931] Generating data for cc_num: 2222001896600109\n"
     ]
    },
    {
     "name": "stderr",
     "output_type": "stream",
     "text": [
      "Gen. (0.43) | Discrim. (0.08): 100%|██████████| 100/100 [00:03<00:00, 32.30it/s]\n"
     ]
    },
    {
     "name": "stdout",
     "output_type": "stream",
     "text": [
      "> Generated 1527 records for cc_num: 2222001896600109\n",
      "\n",
      "[718/931] Generating data for cc_num: 4610064888664703\n"
     ]
    },
    {
     "name": "stderr",
     "output_type": "stream",
     "text": [
      "Gen. (-0.77) | Discrim. (-0.15): 100%|██████████| 100/100 [00:02<00:00, 43.31it/s]\n"
     ]
    },
    {
     "name": "stdout",
     "output_type": "stream",
     "text": [
      "> Generated 509 records for cc_num: 4610064888664703\n",
      "\n",
      "[719/931] Generating data for cc_num: 3560318482131952\n"
     ]
    },
    {
     "name": "stderr",
     "output_type": "stream",
     "text": [
      "Gen. (0.06) | Discrim. (-0.19): 100%|██████████| 100/100 [00:02<00:00, 40.57it/s]\n"
     ]
    },
    {
     "name": "stdout",
     "output_type": "stream",
     "text": [
      "> Generated 2039 records for cc_num: 3560318482131952\n",
      "\n",
      "[720/931] Generating data for cc_num: 36890292963032\n"
     ]
    },
    {
     "name": "stderr",
     "output_type": "stream",
     "text": [
      "Gen. (0.24) | Discrim. (0.18): 100%|██████████| 100/100 [00:02<00:00, 34.77it/s] \n"
     ]
    },
    {
     "name": "stdout",
     "output_type": "stream",
     "text": [
      "> Generated 509 records for cc_num: 36890292963032\n",
      "\n",
      "[721/931] Generating data for cc_num: 4482427013979020\n"
     ]
    },
    {
     "name": "stderr",
     "output_type": "stream",
     "text": [
      "Gen. (1.25) | Discrim. (-0.05): 100%|██████████| 100/100 [00:02<00:00, 33.58it/s]\n"
     ]
    },
    {
     "name": "stdout",
     "output_type": "stream",
     "text": [
      "> Generated 1527 records for cc_num: 4482427013979020\n",
      "\n",
      "[722/931] Generating data for cc_num: 4783226709001\n"
     ]
    },
    {
     "name": "stderr",
     "output_type": "stream",
     "text": [
      "Gen. (0.55) | Discrim. (0.21): 100%|██████████| 100/100 [00:02<00:00, 36.46it/s]\n"
     ]
    },
    {
     "name": "stdout",
     "output_type": "stream",
     "text": [
      "> Generated 1531 records for cc_num: 4783226709001\n",
      "\n",
      "[723/931] Generating data for cc_num: 4986925034905735\n"
     ]
    },
    {
     "name": "stderr",
     "output_type": "stream",
     "text": [
      "Gen. (0.63) | Discrim. (0.24): 100%|██████████| 100/100 [00:02<00:00, 39.44it/s]\n"
     ]
    },
    {
     "name": "stdout",
     "output_type": "stream",
     "text": [
      "> Generated 508 records for cc_num: 4986925034905735\n",
      "\n",
      "[724/931] Generating data for cc_num: 3573030041201292\n"
     ]
    },
    {
     "name": "stderr",
     "output_type": "stream",
     "text": [
      "Gen. (0.22) | Discrim. (0.06): 100%|██████████| 100/100 [00:02<00:00, 35.90it/s] \n"
     ]
    },
    {
     "name": "stdout",
     "output_type": "stream",
     "text": [
      "> Generated 2038 records for cc_num: 3573030041201292\n",
      "\n",
      "[725/931] Generating data for cc_num: 3560725013359375\n"
     ]
    },
    {
     "name": "stderr",
     "output_type": "stream",
     "text": [
      "Gen. (0.17) | Discrim. (0.15): 100%|██████████| 100/100 [00:02<00:00, 38.77it/s] \n"
     ]
    },
    {
     "name": "stdout",
     "output_type": "stream",
     "text": [
      "> Generated 2034 records for cc_num: 3560725013359375\n",
      "\n",
      "[726/931] Generating data for cc_num: 6564459919350820\n"
     ]
    },
    {
     "name": "stderr",
     "output_type": "stream",
     "text": [
      "Gen. (1.25) | Discrim. (-0.20): 100%|██████████| 100/100 [00:02<00:00, 36.44it/s]\n"
     ]
    },
    {
     "name": "stdout",
     "output_type": "stream",
     "text": [
      "> Generated 510 records for cc_num: 6564459919350820\n",
      "\n",
      "[727/931] Generating data for cc_num: 3524574586339330\n"
     ]
    },
    {
     "name": "stderr",
     "output_type": "stream",
     "text": [
      "Gen. (0.42) | Discrim. (-0.04): 100%|██████████| 100/100 [00:02<00:00, 33.61it/s]\n"
     ]
    },
    {
     "name": "stdout",
     "output_type": "stream",
     "text": [
      "> Generated 1526 records for cc_num: 3524574586339330\n",
      "\n",
      "[728/931] Generating data for cc_num: 4005676619255478\n"
     ]
    },
    {
     "name": "stderr",
     "output_type": "stream",
     "text": [
      "Gen. (0.44) | Discrim. (-0.12): 100%|██████████| 100/100 [00:02<00:00, 36.32it/s]\n"
     ]
    },
    {
     "name": "stdout",
     "output_type": "stream",
     "text": [
      "> Generated 2539 records for cc_num: 4005676619255478\n",
      "\n",
      "[729/931] Generating data for cc_num: 180098888332620\n"
     ]
    },
    {
     "name": "stderr",
     "output_type": "stream",
     "text": [
      "Gen. (0.48) | Discrim. (-0.01): 100%|██████████| 100/100 [00:02<00:00, 36.66it/s]\n"
     ]
    },
    {
     "name": "stdout",
     "output_type": "stream",
     "text": [
      "> Generated 0 records for cc_num: 180098888332620\n",
      "\n",
      "[730/931] Generating data for cc_num: 3593118134380341\n"
     ]
    },
    {
     "name": "stderr",
     "output_type": "stream",
     "text": [
      "Gen. (0.27) | Discrim. (0.03): 100%|██████████| 100/100 [00:02<00:00, 34.62it/s]\n"
     ]
    },
    {
     "name": "stdout",
     "output_type": "stream",
     "text": [
      "> Generated 2039 records for cc_num: 3593118134380341\n",
      "\n",
      "[731/931] Generating data for cc_num: 213161231269724\n"
     ]
    },
    {
     "name": "stderr",
     "output_type": "stream",
     "text": [
      "Gen. (0.53) | Discrim. (0.14): 100%|██████████| 100/100 [00:02<00:00, 34.83it/s]\n"
     ]
    },
    {
     "name": "stdout",
     "output_type": "stream",
     "text": [
      "> Generated 1528 records for cc_num: 213161231269724\n",
      "\n",
      "[732/931] Generating data for cc_num: 6544734391390261\n"
     ]
    },
    {
     "name": "stderr",
     "output_type": "stream",
     "text": [
      "Gen. (-0.16) | Discrim. (0.01): 100%|██████████| 100/100 [00:02<00:00, 34.82it/s]\n"
     ]
    },
    {
     "name": "stdout",
     "output_type": "stream",
     "text": [
      "> Generated 1528 records for cc_num: 6544734391390261\n",
      "\n",
      "[733/931] Generating data for cc_num: 3573386445588324\n"
     ]
    },
    {
     "name": "stderr",
     "output_type": "stream",
     "text": [
      "Gen. (0.12) | Discrim. (0.01): 100%|██████████| 100/100 [00:02<00:00, 35.34it/s] \n"
     ]
    },
    {
     "name": "stdout",
     "output_type": "stream",
     "text": [
      "> Generated 1019 records for cc_num: 3573386445588324\n",
      "\n",
      "[734/931] Generating data for cc_num: 3581130339108561\n"
     ]
    },
    {
     "name": "stderr",
     "output_type": "stream",
     "text": [
      "Gen. (1.03) | Discrim. (0.34): 100%|██████████| 100/100 [00:02<00:00, 37.05it/s]\n"
     ]
    },
    {
     "name": "stdout",
     "output_type": "stream",
     "text": [
      "> Generated 506 records for cc_num: 3581130339108561\n",
      "\n",
      "[735/931] Generating data for cc_num: 571844099986\n"
     ]
    },
    {
     "name": "stderr",
     "output_type": "stream",
     "text": [
      "Gen. (0.60) | Discrim. (0.08): 100%|██████████| 100/100 [00:02<00:00, 41.02it/s]\n"
     ]
    },
    {
     "name": "stdout",
     "output_type": "stream",
     "text": [
      "> Generated 1526 records for cc_num: 571844099986\n",
      "\n",
      "[736/931] Generating data for cc_num: 4761403817546679245\n"
     ]
    },
    {
     "name": "stderr",
     "output_type": "stream",
     "text": [
      "Gen. (0.85) | Discrim. (0.17): 100%|██████████| 100/100 [00:02<00:00, 38.74it/s]\n"
     ]
    },
    {
     "name": "stdout",
     "output_type": "stream",
     "text": [
      "> Generated 1530 records for cc_num: 4761403817546679245\n",
      "\n",
      "[737/931] Generating data for cc_num: 3528231451607350\n"
     ]
    },
    {
     "name": "stderr",
     "output_type": "stream",
     "text": [
      "Gen. (0.46) | Discrim. (-0.04): 100%|██████████| 100/100 [00:02<00:00, 38.46it/s]\n"
     ]
    },
    {
     "name": "stdout",
     "output_type": "stream",
     "text": [
      "> Generated 1016 records for cc_num: 3528231451607350\n",
      "\n",
      "[738/931] Generating data for cc_num: 30551643947183\n"
     ]
    },
    {
     "name": "stderr",
     "output_type": "stream",
     "text": [
      "Gen. (0.33) | Discrim. (-0.14): 100%|██████████| 100/100 [00:02<00:00, 39.91it/s]\n"
     ]
    },
    {
     "name": "stdout",
     "output_type": "stream",
     "text": [
      "> Generated 2542 records for cc_num: 30551643947183\n",
      "\n",
      "[739/931] Generating data for cc_num: 3586008444788268\n"
     ]
    },
    {
     "name": "stderr",
     "output_type": "stream",
     "text": [
      "Gen. (0.32) | Discrim. (0.21): 100%|██████████| 100/100 [00:02<00:00, 34.69it/s] \n"
     ]
    },
    {
     "name": "stdout",
     "output_type": "stream",
     "text": [
      "> Generated 2548 records for cc_num: 3586008444788268\n",
      "\n",
      "[740/931] Generating data for cc_num: 3540416671210051\n"
     ]
    },
    {
     "name": "stderr",
     "output_type": "stream",
     "text": [
      "Gen. (1.33) | Discrim. (-0.07): 100%|██████████| 100/100 [00:02<00:00, 36.96it/s]\n"
     ]
    },
    {
     "name": "stdout",
     "output_type": "stream",
     "text": [
      "> Generated 0 records for cc_num: 3540416671210051\n",
      "\n",
      "[741/931] Generating data for cc_num: 3589255887819806\n"
     ]
    },
    {
     "name": "stderr",
     "output_type": "stream",
     "text": [
      "Gen. (0.87) | Discrim. (0.02): 100%|██████████| 100/100 [00:02<00:00, 42.80it/s]\n"
     ]
    },
    {
     "name": "stdout",
     "output_type": "stream",
     "text": [
      "> Generated 2548 records for cc_num: 3589255887819806\n",
      "\n",
      "[742/931] Generating data for cc_num: 4989847570577635369\n"
     ]
    },
    {
     "name": "stderr",
     "output_type": "stream",
     "text": [
      "Gen. (-0.56) | Discrim. (-0.00): 100%|██████████| 100/100 [00:02<00:00, 36.51it/s]\n"
     ]
    },
    {
     "name": "stdout",
     "output_type": "stream",
     "text": [
      "> Generated 1019 records for cc_num: 4989847570577635369\n",
      "\n",
      "[743/931] Generating data for cc_num: 4462038234743679432\n"
     ]
    },
    {
     "name": "stderr",
     "output_type": "stream",
     "text": [
      "Gen. (0.58) | Discrim. (-0.27): 100%|██████████| 100/100 [00:02<00:00, 35.33it/s]\n"
     ]
    },
    {
     "name": "stdout",
     "output_type": "stream",
     "text": [
      "> Generated 509 records for cc_num: 4462038234743679432\n",
      "\n",
      "[744/931] Generating data for cc_num: 30197398657930\n"
     ]
    },
    {
     "name": "stderr",
     "output_type": "stream",
     "text": [
      "Gen. (0.91) | Discrim. (0.08): 100%|██████████| 100/100 [00:02<00:00, 35.63it/s]\n"
     ]
    },
    {
     "name": "stdout",
     "output_type": "stream",
     "text": [
      "> Generated 2034 records for cc_num: 30197398657930\n",
      "\n",
      "[745/931] Generating data for cc_num: 4713464490314802\n"
     ]
    },
    {
     "name": "stderr",
     "output_type": "stream",
     "text": [
      "Gen. (-0.09) | Discrim. (-0.24): 100%|██████████| 100/100 [00:02<00:00, 38.09it/s]\n"
     ]
    },
    {
     "name": "stdout",
     "output_type": "stream",
     "text": [
      "> Generated 508 records for cc_num: 4713464490314802\n",
      "\n",
      "[746/931] Generating data for cc_num: 503851367360\n"
     ]
    },
    {
     "name": "stderr",
     "output_type": "stream",
     "text": [
      "Gen. (0.03) | Discrim. (0.05): 100%|██████████| 100/100 [00:02<00:00, 36.53it/s]\n"
     ]
    },
    {
     "name": "stdout",
     "output_type": "stream",
     "text": [
      "> Generated 0 records for cc_num: 503851367360\n",
      "\n",
      "[747/931] Generating data for cc_num: 675961917837\n"
     ]
    },
    {
     "name": "stderr",
     "output_type": "stream",
     "text": [
      "Gen. (1.31) | Discrim. (-0.45): 100%|██████████| 100/100 [00:02<00:00, 40.24it/s]\n"
     ]
    },
    {
     "name": "stdout",
     "output_type": "stream",
     "text": [
      "> Generated 510 records for cc_num: 675961917837\n",
      "\n",
      "[748/931] Generating data for cc_num: 6011399591920186\n"
     ]
    },
    {
     "name": "stderr",
     "output_type": "stream",
     "text": [
      "Gen. (-0.34) | Discrim. (-0.12): 100%|██████████| 100/100 [00:02<00:00, 36.28it/s]\n"
     ]
    },
    {
     "name": "stdout",
     "output_type": "stream",
     "text": [
      "> Generated 2039 records for cc_num: 6011399591920186\n",
      "\n",
      "[749/931] Generating data for cc_num: 501882822387\n"
     ]
    },
    {
     "name": "stderr",
     "output_type": "stream",
     "text": [
      "Gen. (-0.06) | Discrim. (0.05): 100%|██████████| 100/100 [00:02<00:00, 35.55it/s]\n"
     ]
    },
    {
     "name": "stdout",
     "output_type": "stream",
     "text": [
      "> Generated 510 records for cc_num: 501882822387\n",
      "\n",
      "[750/931] Generating data for cc_num: 3540075240003197\n"
     ]
    },
    {
     "name": "stderr",
     "output_type": "stream",
     "text": [
      "Gen. (0.36) | Discrim. (0.01): 100%|██████████| 100/100 [00:02<00:00, 38.41it/s]\n"
     ]
    },
    {
     "name": "stdout",
     "output_type": "stream",
     "text": [
      "> Generated 2039 records for cc_num: 3540075240003197\n",
      "\n",
      "[751/931] Generating data for cc_num: 3514897282719543\n"
     ]
    },
    {
     "name": "stderr",
     "output_type": "stream",
     "text": [
      "Gen. (-0.35) | Discrim. (-0.26): 100%|██████████| 100/100 [00:02<00:00, 38.97it/s]\n"
     ]
    },
    {
     "name": "stdout",
     "output_type": "stream",
     "text": [
      "> Generated 1526 records for cc_num: 3514897282719543\n",
      "\n",
      "[752/931] Generating data for cc_num: 3579200383632826\n"
     ]
    },
    {
     "name": "stderr",
     "output_type": "stream",
     "text": [
      "Gen. (0.66) | Discrim. (0.09): 100%|██████████| 100/100 [00:02<00:00, 41.20it/s]\n"
     ]
    },
    {
     "name": "stdout",
     "output_type": "stream",
     "text": [
      "> Generated 510 records for cc_num: 3579200383632826\n",
      "\n",
      "[753/931] Generating data for cc_num: 2454076758463217\n"
     ]
    },
    {
     "name": "stderr",
     "output_type": "stream",
     "text": [
      "Gen. (0.96) | Discrim. (0.12): 100%|██████████| 100/100 [00:02<00:00, 41.89it/s]\n"
     ]
    },
    {
     "name": "stdout",
     "output_type": "stream",
     "text": [
      "> Generated 509 records for cc_num: 2454076758463217\n",
      "\n",
      "[754/931] Generating data for cc_num: 2703186189652095\n"
     ]
    },
    {
     "name": "stderr",
     "output_type": "stream",
     "text": [
      "Gen. (0.67) | Discrim. (-0.04): 100%|██████████| 100/100 [00:02<00:00, 37.75it/s]\n"
     ]
    },
    {
     "name": "stdout",
     "output_type": "stream",
     "text": [
      "> Generated 2041 records for cc_num: 2703186189652095\n",
      "\n",
      "[755/931] Generating data for cc_num: 3534330126107879\n"
     ]
    },
    {
     "name": "stderr",
     "output_type": "stream",
     "text": [
      "Gen. (0.65) | Discrim. (-0.00): 100%|██████████| 100/100 [00:02<00:00, 37.15it/s]\n"
     ]
    },
    {
     "name": "stdout",
     "output_type": "stream",
     "text": [
      "> Generated 2036 records for cc_num: 3534330126107879\n",
      "\n",
      "[756/931] Generating data for cc_num: 4428780983793657331\n"
     ]
    },
    {
     "name": "stderr",
     "output_type": "stream",
     "text": [
      "Gen. (0.66) | Discrim. (0.27): 100%|██████████| 100/100 [00:02<00:00, 35.93it/s]\n"
     ]
    },
    {
     "name": "stdout",
     "output_type": "stream",
     "text": [
      "> Generated 1019 records for cc_num: 4428780983793657331\n",
      "\n",
      "[757/931] Generating data for cc_num: 375534208663984\n"
     ]
    },
    {
     "name": "stderr",
     "output_type": "stream",
     "text": [
      "Gen. (-0.49) | Discrim. (0.05): 100%|██████████| 100/100 [00:02<00:00, 34.73it/s]\n"
     ]
    },
    {
     "name": "stdout",
     "output_type": "stream",
     "text": [
      "> Generated 2036 records for cc_num: 375534208663984\n",
      "\n",
      "[758/931] Generating data for cc_num: 4225990116481262579\n"
     ]
    },
    {
     "name": "stderr",
     "output_type": "stream",
     "text": [
      "Gen. (-0.43) | Discrim. (0.12): 100%|██████████| 100/100 [00:02<00:00, 34.51it/s]\n"
     ]
    },
    {
     "name": "stdout",
     "output_type": "stream",
     "text": [
      "> Generated 1017 records for cc_num: 4225990116481262579\n",
      "\n",
      "[759/931] Generating data for cc_num: 4874017206859125\n"
     ]
    },
    {
     "name": "stderr",
     "output_type": "stream",
     "text": [
      "Gen. (0.25) | Discrim. (0.14): 100%|██████████| 100/100 [00:02<00:00, 38.81it/s] \n"
     ]
    },
    {
     "name": "stdout",
     "output_type": "stream",
     "text": [
      "> Generated 1529 records for cc_num: 4874017206859125\n",
      "\n",
      "[760/931] Generating data for cc_num: 4797297220948468262\n"
     ]
    },
    {
     "name": "stderr",
     "output_type": "stream",
     "text": [
      "Gen. (0.64) | Discrim. (-0.04): 100%|██████████| 100/100 [00:02<00:00, 33.84it/s]\n"
     ]
    },
    {
     "name": "stdout",
     "output_type": "stream",
     "text": [
      "> Generated 2547 records for cc_num: 4797297220948468262\n",
      "\n",
      "[761/931] Generating data for cc_num: 4195740185974\n"
     ]
    },
    {
     "name": "stderr",
     "output_type": "stream",
     "text": [
      "Gen. (0.10) | Discrim. (0.12): 100%|██████████| 100/100 [00:02<00:00, 35.27it/s] \n"
     ]
    },
    {
     "name": "stdout",
     "output_type": "stream",
     "text": [
      "> Generated 1020 records for cc_num: 4195740185974\n",
      "\n",
      "[762/931] Generating data for cc_num: 4961003488432306\n"
     ]
    },
    {
     "name": "stderr",
     "output_type": "stream",
     "text": [
      "Gen. (0.74) | Discrim. (-0.03): 100%|██████████| 100/100 [00:02<00:00, 39.68it/s]\n"
     ]
    },
    {
     "name": "stdout",
     "output_type": "stream",
     "text": [
      "> Generated 1019 records for cc_num: 4961003488432306\n",
      "\n",
      "[763/931] Generating data for cc_num: 38014427445058\n"
     ]
    },
    {
     "name": "stderr",
     "output_type": "stream",
     "text": [
      "Gen. (0.21) | Discrim. (0.15): 100%|██████████| 100/100 [00:02<00:00, 36.71it/s]\n"
     ]
    },
    {
     "name": "stdout",
     "output_type": "stream",
     "text": [
      "> Generated 508 records for cc_num: 38014427445058\n",
      "\n",
      "[764/931] Generating data for cc_num: 2222157926772399\n"
     ]
    },
    {
     "name": "stderr",
     "output_type": "stream",
     "text": [
      "Gen. (0.30) | Discrim. (-0.23): 100%|██████████| 100/100 [00:02<00:00, 35.54it/s]\n"
     ]
    },
    {
     "name": "stdout",
     "output_type": "stream",
     "text": [
      "> Generated 508 records for cc_num: 2222157926772399\n",
      "\n",
      "[765/931] Generating data for cc_num: 30290551782700\n"
     ]
    },
    {
     "name": "stderr",
     "output_type": "stream",
     "text": [
      "Gen. (-0.10) | Discrim. (-0.05): 100%|██████████| 100/100 [00:02<00:00, 42.75it/s]\n"
     ]
    },
    {
     "name": "stdout",
     "output_type": "stream",
     "text": [
      "> Generated 1524 records for cc_num: 30290551782700\n",
      "\n",
      "[766/931] Generating data for cc_num: 4671727014157745\n"
     ]
    },
    {
     "name": "stderr",
     "output_type": "stream",
     "text": [
      "Gen. (0.15) | Discrim. (0.06): 100%|██████████| 100/100 [00:02<00:00, 39.49it/s] \n"
     ]
    },
    {
     "name": "stdout",
     "output_type": "stream",
     "text": [
      "> Generated 2037 records for cc_num: 4671727014157745\n",
      "\n",
      "[767/931] Generating data for cc_num: 180011453250192\n"
     ]
    },
    {
     "name": "stderr",
     "output_type": "stream",
     "text": [
      "Gen. (-0.48) | Discrim. (0.28): 100%|██████████| 100/100 [00:02<00:00, 41.18it/s]\n"
     ]
    },
    {
     "name": "stdout",
     "output_type": "stream",
     "text": [
      "> Generated 2039 records for cc_num: 180011453250192\n",
      "\n",
      "[768/931] Generating data for cc_num: 4352307151555405069\n"
     ]
    },
    {
     "name": "stderr",
     "output_type": "stream",
     "text": [
      "Gen. (1.12) | Discrim. (-0.23): 100%|██████████| 100/100 [00:02<00:00, 39.33it/s]\n"
     ]
    },
    {
     "name": "stdout",
     "output_type": "stream",
     "text": [
      "> Generated 0 records for cc_num: 4352307151555405069\n",
      "\n",
      "[769/931] Generating data for cc_num: 676173792455\n"
     ]
    },
    {
     "name": "stderr",
     "output_type": "stream",
     "text": [
      "Gen. (0.71) | Discrim. (0.08): 100%|██████████| 100/100 [00:02<00:00, 40.14it/s]\n"
     ]
    },
    {
     "name": "stdout",
     "output_type": "stream",
     "text": [
      "> Generated 1527 records for cc_num: 676173792455\n",
      "\n",
      "[770/931] Generating data for cc_num: 3576281490078437\n"
     ]
    },
    {
     "name": "stderr",
     "output_type": "stream",
     "text": [
      "Gen. (0.05) | Discrim. (-0.07): 100%|██████████| 100/100 [00:02<00:00, 40.68it/s]\n"
     ]
    },
    {
     "name": "stdout",
     "output_type": "stream",
     "text": [
      "> Generated 509 records for cc_num: 3576281490078437\n",
      "\n",
      "[771/931] Generating data for cc_num: 3577794103155425\n"
     ]
    },
    {
     "name": "stderr",
     "output_type": "stream",
     "text": [
      "Gen. (0.63) | Discrim. (-0.03): 100%|██████████| 100/100 [00:02<00:00, 33.37it/s]\n"
     ]
    },
    {
     "name": "stdout",
     "output_type": "stream",
     "text": [
      "> Generated 1017 records for cc_num: 3577794103155425\n",
      "\n",
      "[772/931] Generating data for cc_num: 4653879239169997\n"
     ]
    },
    {
     "name": "stderr",
     "output_type": "stream",
     "text": [
      "Gen. (0.87) | Discrim. (-0.11): 100%|██████████| 100/100 [00:02<00:00, 35.11it/s]\n"
     ]
    },
    {
     "name": "stdout",
     "output_type": "stream",
     "text": [
      "> Generated 2543 records for cc_num: 4653879239169997\n",
      "\n",
      "[773/931] Generating data for cc_num: 2358122155477959\n"
     ]
    },
    {
     "name": "stderr",
     "output_type": "stream",
     "text": [
      "Gen. (0.38) | Discrim. (-0.00): 100%|██████████| 100/100 [00:02<00:00, 35.16it/s]\n"
     ]
    },
    {
     "name": "stdout",
     "output_type": "stream",
     "text": [
      "> Generated 509 records for cc_num: 2358122155477959\n",
      "\n",
      "[774/931] Generating data for cc_num: 4725837176265195730\n"
     ]
    },
    {
     "name": "stderr",
     "output_type": "stream",
     "text": [
      "Gen. (0.35) | Discrim. (-0.20): 100%|██████████| 100/100 [00:02<00:00, 33.60it/s]\n"
     ]
    },
    {
     "name": "stdout",
     "output_type": "stream",
     "text": [
      "> Generated 508 records for cc_num: 4725837176265195730\n",
      "\n",
      "[775/931] Generating data for cc_num: 4727244663135968\n"
     ]
    },
    {
     "name": "stderr",
     "output_type": "stream",
     "text": [
      "Gen. (-0.27) | Discrim. (0.10): 100%|██████████| 100/100 [00:02<00:00, 34.81it/s]\n"
     ]
    },
    {
     "name": "stdout",
     "output_type": "stream",
     "text": [
      "> Generated 1530 records for cc_num: 4727244663135968\n",
      "\n",
      "[776/931] Generating data for cc_num: 348253506557335\n"
     ]
    },
    {
     "name": "stderr",
     "output_type": "stream",
     "text": [
      "Gen. (1.21) | Discrim. (-0.17): 100%|██████████| 100/100 [00:02<00:00, 36.61it/s]\n"
     ]
    },
    {
     "name": "stdout",
     "output_type": "stream",
     "text": [
      "> Generated 510 records for cc_num: 348253506557335\n",
      "\n",
      "[777/931] Generating data for cc_num: 4518350514020532\n"
     ]
    },
    {
     "name": "stderr",
     "output_type": "stream",
     "text": [
      "Gen. (0.45) | Discrim. (0.08): 100%|██████████| 100/100 [00:02<00:00, 34.97it/s]\n"
     ]
    },
    {
     "name": "stdout",
     "output_type": "stream",
     "text": [
      "> Generated 1018 records for cc_num: 4518350514020532\n",
      "\n",
      "[778/931] Generating data for cc_num: 30199621383748\n"
     ]
    },
    {
     "name": "stderr",
     "output_type": "stream",
     "text": [
      "Gen. (0.28) | Discrim. (0.17): 100%|██████████| 100/100 [00:02<00:00, 35.89it/s]\n"
     ]
    },
    {
     "name": "stdout",
     "output_type": "stream",
     "text": [
      "> Generated 2550 records for cc_num: 30199621383748\n",
      "\n",
      "[779/931] Generating data for cc_num: 6595970453799027\n"
     ]
    },
    {
     "name": "stderr",
     "output_type": "stream",
     "text": [
      "Gen. (-0.64) | Discrim. (0.04): 100%|██████████| 100/100 [00:02<00:00, 34.84it/s]\n"
     ]
    },
    {
     "name": "stdout",
     "output_type": "stream",
     "text": [
      "> Generated 1530 records for cc_num: 6595970453799027\n",
      "\n",
      "[780/931] Generating data for cc_num: 376445266762684\n"
     ]
    },
    {
     "name": "stderr",
     "output_type": "stream",
     "text": [
      "Gen. (0.58) | Discrim. (0.04): 100%|██████████| 100/100 [00:03<00:00, 33.26it/s]\n"
     ]
    },
    {
     "name": "stdout",
     "output_type": "stream",
     "text": [
      "> Generated 3054 records for cc_num: 376445266762684\n",
      "\n",
      "[781/931] Generating data for cc_num: 375082648741747\n"
     ]
    },
    {
     "name": "stderr",
     "output_type": "stream",
     "text": [
      "Gen. (-0.31) | Discrim. (-0.03): 100%|██████████| 100/100 [00:02<00:00, 36.07it/s]\n"
     ]
    },
    {
     "name": "stdout",
     "output_type": "stream",
     "text": [
      "> Generated 2038 records for cc_num: 375082648741747\n",
      "\n",
      "[782/931] Generating data for cc_num: 4476840372112\n"
     ]
    },
    {
     "name": "stderr",
     "output_type": "stream",
     "text": [
      "Gen. (1.34) | Discrim. (0.24): 100%|██████████| 100/100 [00:02<00:00, 41.93it/s]\n"
     ]
    },
    {
     "name": "stdout",
     "output_type": "stream",
     "text": [
      "> Generated 2038 records for cc_num: 4476840372112\n",
      "\n",
      "[783/931] Generating data for cc_num: 343819048608995\n"
     ]
    },
    {
     "name": "stderr",
     "output_type": "stream",
     "text": [
      "Gen. (-0.00) | Discrim. (0.04): 100%|██████████| 100/100 [00:02<00:00, 37.86it/s]\n"
     ]
    },
    {
     "name": "stdout",
     "output_type": "stream",
     "text": [
      "> Generated 1018 records for cc_num: 343819048608995\n",
      "\n",
      "[784/931] Generating data for cc_num: 30238755902988\n"
     ]
    },
    {
     "name": "stderr",
     "output_type": "stream",
     "text": [
      "Gen. (0.82) | Discrim. (-0.03): 100%|██████████| 100/100 [00:02<00:00, 38.33it/s]\n"
     ]
    },
    {
     "name": "stdout",
     "output_type": "stream",
     "text": [
      "> Generated 3049 records for cc_num: 30238755902988\n",
      "\n",
      "[785/931] Generating data for cc_num: 4335531783520911\n"
     ]
    },
    {
     "name": "stderr",
     "output_type": "stream",
     "text": [
      "Gen. (0.01) | Discrim. (0.06): 100%|██████████| 100/100 [00:02<00:00, 38.11it/s]\n"
     ]
    },
    {
     "name": "stdout",
     "output_type": "stream",
     "text": [
      "> Generated 509 records for cc_num: 4335531783520911\n",
      "\n",
      "[786/931] Generating data for cc_num: 343746486082492\n"
     ]
    },
    {
     "name": "stderr",
     "output_type": "stream",
     "text": [
      "Gen. (0.08) | Discrim. (0.05): 100%|██████████| 100/100 [00:02<00:00, 36.47it/s] \n"
     ]
    },
    {
     "name": "stdout",
     "output_type": "stream",
     "text": [
      "> Generated 1531 records for cc_num: 343746486082492\n",
      "\n",
      "[787/931] Generating data for cc_num: 2284059275940012\n"
     ]
    },
    {
     "name": "stderr",
     "output_type": "stream",
     "text": [
      "Gen. (-0.58) | Discrim. (0.14): 100%|██████████| 100/100 [00:02<00:00, 40.38it/s]\n"
     ]
    },
    {
     "name": "stdout",
     "output_type": "stream",
     "text": [
      "> Generated 510 records for cc_num: 2284059275940012\n",
      "\n",
      "[788/931] Generating data for cc_num: 374497717543058\n"
     ]
    },
    {
     "name": "stderr",
     "output_type": "stream",
     "text": [
      "Gen. (0.59) | Discrim. (0.16): 100%|██████████| 100/100 [00:02<00:00, 34.92it/s]\n"
     ]
    },
    {
     "name": "stdout",
     "output_type": "stream",
     "text": [
      "> Generated 2038 records for cc_num: 374497717543058\n",
      "\n",
      "[789/931] Generating data for cc_num: 3583793405872580\n"
     ]
    },
    {
     "name": "stderr",
     "output_type": "stream",
     "text": [
      "Gen. (0.70) | Discrim. (-0.01): 100%|██████████| 100/100 [00:02<00:00, 38.94it/s]\n"
     ]
    },
    {
     "name": "stdout",
     "output_type": "stream",
     "text": [
      "> Generated 2036 records for cc_num: 3583793405872580\n",
      "\n",
      "[790/931] Generating data for cc_num: 2235613922823698\n"
     ]
    },
    {
     "name": "stderr",
     "output_type": "stream",
     "text": [
      "Gen. (-0.31) | Discrim. (0.32): 100%|██████████| 100/100 [00:02<00:00, 42.38it/s]\n"
     ]
    },
    {
     "name": "stdout",
     "output_type": "stream",
     "text": [
      "> Generated 2041 records for cc_num: 2235613922823698\n",
      "\n",
      "[791/931] Generating data for cc_num: 4634955908138648\n"
     ]
    },
    {
     "name": "stderr",
     "output_type": "stream",
     "text": [
      "Gen. (0.82) | Discrim. (-0.09): 100%|██████████| 100/100 [00:02<00:00, 40.61it/s]\n"
     ]
    },
    {
     "name": "stdout",
     "output_type": "stream",
     "text": [
      "> Generated 2037 records for cc_num: 4634955908138648\n",
      "\n",
      "[792/931] Generating data for cc_num: 213112402583773\n"
     ]
    },
    {
     "name": "stderr",
     "output_type": "stream",
     "text": [
      "Gen. (0.95) | Discrim. (-0.10): 100%|██████████| 100/100 [00:02<00:00, 37.75it/s]\n"
     ]
    },
    {
     "name": "stdout",
     "output_type": "stream",
     "text": [
      "> Generated 3054 records for cc_num: 213112402583773\n",
      "\n",
      "[793/931] Generating data for cc_num: 372382441451095\n"
     ]
    },
    {
     "name": "stderr",
     "output_type": "stream",
     "text": [
      "Gen. (0.04) | Discrim. (0.06): 100%|██████████| 100/100 [00:03<00:00, 32.79it/s] \n"
     ]
    },
    {
     "name": "stdout",
     "output_type": "stream",
     "text": [
      "> Generated 1529 records for cc_num: 372382441451095\n",
      "\n",
      "[794/931] Generating data for cc_num: 375974680629816\n"
     ]
    },
    {
     "name": "stderr",
     "output_type": "stream",
     "text": [
      "Gen. (0.16) | Discrim. (0.17): 100%|██████████| 100/100 [00:02<00:00, 37.37it/s]\n"
     ]
    },
    {
     "name": "stdout",
     "output_type": "stream",
     "text": [
      "> Generated 2038 records for cc_num: 375974680629816\n",
      "\n",
      "[795/931] Generating data for cc_num: 577588686219\n"
     ]
    },
    {
     "name": "stderr",
     "output_type": "stream",
     "text": [
      "Gen. (0.37) | Discrim. (-0.07): 100%|██████████| 100/100 [00:02<00:00, 34.02it/s]\n"
     ]
    },
    {
     "name": "stdout",
     "output_type": "stream",
     "text": [
      "> Generated 1529 records for cc_num: 577588686219\n",
      "\n",
      "[796/931] Generating data for cc_num: 30560609640617\n"
     ]
    },
    {
     "name": "stderr",
     "output_type": "stream",
     "text": [
      "Gen. (0.07) | Discrim. (0.19): 100%|██████████| 100/100 [00:02<00:00, 34.54it/s] \n"
     ]
    },
    {
     "name": "stdout",
     "output_type": "stream",
     "text": [
      "> Generated 1528 records for cc_num: 30560609640617\n",
      "\n",
      "[797/931] Generating data for cc_num: 4658490815480264\n"
     ]
    },
    {
     "name": "stderr",
     "output_type": "stream",
     "text": [
      "Gen. (0.47) | Discrim. (0.08): 100%|██████████| 100/100 [00:02<00:00, 34.63it/s]\n"
     ]
    },
    {
     "name": "stdout",
     "output_type": "stream",
     "text": [
      "> Generated 2033 records for cc_num: 4658490815480264\n",
      "\n",
      "[798/931] Generating data for cc_num: 3501365119557234\n"
     ]
    },
    {
     "name": "stderr",
     "output_type": "stream",
     "text": [
      "Gen. (-0.20) | Discrim. (-0.12): 100%|██████████| 100/100 [00:03<00:00, 32.70it/s]\n"
     ]
    },
    {
     "name": "stdout",
     "output_type": "stream",
     "text": [
      "> Generated 508 records for cc_num: 3501365119557234\n",
      "\n",
      "[799/931] Generating data for cc_num: 4471568287204\n"
     ]
    },
    {
     "name": "stderr",
     "output_type": "stream",
     "text": [
      "Gen. (0.90) | Discrim. (-0.11): 100%|██████████| 100/100 [00:02<00:00, 35.59it/s]\n"
     ]
    },
    {
     "name": "stdout",
     "output_type": "stream",
     "text": [
      "> Generated 1016 records for cc_num: 4471568287204\n",
      "\n",
      "[800/931] Generating data for cc_num: 4512828414983801773\n"
     ]
    },
    {
     "name": "stderr",
     "output_type": "stream",
     "text": [
      "Gen. (0.05) | Discrim. (0.23): 100%|██████████| 100/100 [00:02<00:00, 34.10it/s] \n"
     ]
    },
    {
     "name": "stdout",
     "output_type": "stream",
     "text": [
      "> Generated 3059 records for cc_num: 4512828414983801773\n",
      "\n",
      "[801/931] Generating data for cc_num: 4119762878330989\n"
     ]
    },
    {
     "name": "stderr",
     "output_type": "stream",
     "text": [
      "Gen. (-0.85) | Discrim. (-0.05): 100%|██████████| 100/100 [00:02<00:00, 35.88it/s]\n"
     ]
    },
    {
     "name": "stdout",
     "output_type": "stream",
     "text": [
      "> Generated 1529 records for cc_num: 4119762878330989\n",
      "\n",
      "[802/931] Generating data for cc_num: 3563837241599446\n"
     ]
    },
    {
     "name": "stderr",
     "output_type": "stream",
     "text": [
      "Gen. (0.38) | Discrim. (0.24): 100%|██████████| 100/100 [00:02<00:00, 37.60it/s]\n"
     ]
    },
    {
     "name": "stdout",
     "output_type": "stream",
     "text": [
      "> Generated 1020 records for cc_num: 3563837241599446\n",
      "\n",
      "[803/931] Generating data for cc_num: 583699482621\n"
     ]
    },
    {
     "name": "stderr",
     "output_type": "stream",
     "text": [
      "Gen. (-0.17) | Discrim. (0.04): 100%|██████████| 100/100 [00:02<00:00, 36.06it/s]\n"
     ]
    },
    {
     "name": "stdout",
     "output_type": "stream",
     "text": [
      "> Generated 1530 records for cc_num: 583699482621\n",
      "\n",
      "[804/931] Generating data for cc_num: 6011975266774121\n"
     ]
    },
    {
     "name": "stderr",
     "output_type": "stream",
     "text": [
      "Gen. (0.32) | Discrim. (-0.11): 100%|██████████| 100/100 [00:02<00:00, 37.89it/s]\n"
     ]
    },
    {
     "name": "stdout",
     "output_type": "stream",
     "text": [
      "> Generated 510 records for cc_num: 6011975266774121\n",
      "\n",
      "[805/931] Generating data for cc_num: 6011104316292105\n"
     ]
    },
    {
     "name": "stderr",
     "output_type": "stream",
     "text": [
      "Gen. (-0.37) | Discrim. (0.04): 100%|██████████| 100/100 [00:02<00:00, 38.09it/s]\n"
     ]
    },
    {
     "name": "stdout",
     "output_type": "stream",
     "text": [
      "> Generated 2544 records for cc_num: 6011104316292105\n",
      "\n",
      "[806/931] Generating data for cc_num: 6596735789587928\n"
     ]
    },
    {
     "name": "stderr",
     "output_type": "stream",
     "text": [
      "Gen. (0.64) | Discrim. (-0.00): 100%|██████████| 100/100 [00:02<00:00, 35.96it/s]\n"
     ]
    },
    {
     "name": "stdout",
     "output_type": "stream",
     "text": [
      "> Generated 1016 records for cc_num: 6596735789587928\n",
      "\n",
      "[807/931] Generating data for cc_num: 4003989662068504\n"
     ]
    },
    {
     "name": "stderr",
     "output_type": "stream",
     "text": [
      "Gen. (-0.30) | Discrim. (0.14): 100%|██████████| 100/100 [00:02<00:00, 43.44it/s]\n"
     ]
    },
    {
     "name": "stdout",
     "output_type": "stream",
     "text": [
      "> Generated 2549 records for cc_num: 4003989662068504\n",
      "\n",
      "[808/931] Generating data for cc_num: 180052752563109\n"
     ]
    },
    {
     "name": "stderr",
     "output_type": "stream",
     "text": [
      "Gen. (0.02) | Discrim. (0.29): 100%|██████████| 100/100 [00:02<00:00, 42.33it/s] \n"
     ]
    },
    {
     "name": "stdout",
     "output_type": "stream",
     "text": [
      "> Generated 0 records for cc_num: 180052752563109\n",
      "\n",
      "[809/931] Generating data for cc_num: 4509142395811241\n"
     ]
    },
    {
     "name": "stderr",
     "output_type": "stream",
     "text": [
      "Gen. (0.10) | Discrim. (-0.11): 100%|██████████| 100/100 [00:02<00:00, 43.14it/s]\n"
     ]
    },
    {
     "name": "stdout",
     "output_type": "stream",
     "text": [
      "> Generated 2040 records for cc_num: 4509142395811241\n",
      "\n",
      "[810/931] Generating data for cc_num: 4417677808209716\n"
     ]
    },
    {
     "name": "stderr",
     "output_type": "stream",
     "text": [
      "Gen. (0.16) | Discrim. (-0.02): 100%|██████████| 100/100 [00:02<00:00, 37.05it/s]\n"
     ]
    },
    {
     "name": "stdout",
     "output_type": "stream",
     "text": [
      "> Generated 0 records for cc_num: 4417677808209716\n",
      "\n",
      "[811/931] Generating data for cc_num: 341283058448499\n"
     ]
    },
    {
     "name": "stderr",
     "output_type": "stream",
     "text": [
      "Gen. (-0.08) | Discrim. (-0.09): 100%|██████████| 100/100 [00:02<00:00, 35.75it/s]\n"
     ]
    },
    {
     "name": "stdout",
     "output_type": "stream",
     "text": [
      "> Generated 1018 records for cc_num: 341283058448499\n",
      "\n",
      "[812/931] Generating data for cc_num: 3550412175018089\n"
     ]
    },
    {
     "name": "stderr",
     "output_type": "stream",
     "text": [
      "Gen. (0.47) | Discrim. (0.19): 100%|██████████| 100/100 [00:02<00:00, 38.30it/s]\n"
     ]
    },
    {
     "name": "stdout",
     "output_type": "stream",
     "text": [
      "> Generated 0 records for cc_num: 3550412175018089\n",
      "\n",
      "[813/931] Generating data for cc_num: 2712209726293386\n"
     ]
    },
    {
     "name": "stderr",
     "output_type": "stream",
     "text": [
      "Gen. (0.95) | Discrim. (-0.13): 100%|██████████| 100/100 [00:02<00:00, 38.90it/s]\n"
     ]
    },
    {
     "name": "stdout",
     "output_type": "stream",
     "text": [
      "> Generated 3056 records for cc_num: 2712209726293386\n",
      "\n",
      "[814/931] Generating data for cc_num: 4904681492230012\n"
     ]
    },
    {
     "name": "stderr",
     "output_type": "stream",
     "text": [
      "Gen. (0.50) | Discrim. (0.12): 100%|██████████| 100/100 [00:02<00:00, 38.72it/s]\n"
     ]
    },
    {
     "name": "stdout",
     "output_type": "stream",
     "text": [
      "> Generated 3058 records for cc_num: 4904681492230012\n",
      "\n",
      "[815/931] Generating data for cc_num: 36913587729122\n"
     ]
    },
    {
     "name": "stderr",
     "output_type": "stream",
     "text": [
      "Gen. (0.66) | Discrim. (0.22): 100%|██████████| 100/100 [00:02<00:00, 42.10it/s]\n"
     ]
    },
    {
     "name": "stdout",
     "output_type": "stream",
     "text": [
      "> Generated 2545 records for cc_num: 36913587729122\n",
      "\n",
      "[816/931] Generating data for cc_num: 3597926034019603\n"
     ]
    },
    {
     "name": "stderr",
     "output_type": "stream",
     "text": [
      "Gen. (0.62) | Discrim. (0.05): 100%|██████████| 100/100 [00:02<00:00, 38.41it/s] \n"
     ]
    },
    {
     "name": "stdout",
     "output_type": "stream",
     "text": [
      "> Generated 1018 records for cc_num: 3597926034019603\n",
      "\n",
      "[817/931] Generating data for cc_num: 4623560839669\n"
     ]
    },
    {
     "name": "stderr",
     "output_type": "stream",
     "text": [
      "Gen. (0.28) | Discrim. (-0.32): 100%|██████████| 100/100 [00:02<00:00, 39.14it/s]\n"
     ]
    },
    {
     "name": "stdout",
     "output_type": "stream",
     "text": [
      "> Generated 2036 records for cc_num: 4623560839669\n",
      "\n",
      "[818/931] Generating data for cc_num: 570273151375\n"
     ]
    },
    {
     "name": "stderr",
     "output_type": "stream",
     "text": [
      "Gen. (0.26) | Discrim. (0.03): 100%|██████████| 100/100 [00:02<00:00, 38.05it/s] \n"
     ]
    },
    {
     "name": "stdout",
     "output_type": "stream",
     "text": [
      "> Generated 510 records for cc_num: 570273151375\n",
      "\n",
      "[819/931] Generating data for cc_num: 4173950183554608\n"
     ]
    },
    {
     "name": "stderr",
     "output_type": "stream",
     "text": [
      "Gen. (-0.49) | Discrim. (-0.27): 100%|██████████| 100/100 [00:02<00:00, 37.26it/s]\n"
     ]
    },
    {
     "name": "stdout",
     "output_type": "stream",
     "text": [
      "> Generated 2040 records for cc_num: 4173950183554608\n",
      "\n",
      "[820/931] Generating data for cc_num: 376656886990758\n"
     ]
    },
    {
     "name": "stderr",
     "output_type": "stream",
     "text": [
      "Gen. (0.82) | Discrim. (0.00): 100%|██████████| 100/100 [00:02<00:00, 36.15it/s]\n"
     ]
    },
    {
     "name": "stdout",
     "output_type": "stream",
     "text": [
      "> Generated 1530 records for cc_num: 376656886990758\n",
      "\n",
      "[821/931] Generating data for cc_num: 213161293389774\n"
     ]
    },
    {
     "name": "stderr",
     "output_type": "stream",
     "text": [
      "Gen. (0.04) | Discrim. (0.09): 100%|██████████| 100/100 [00:02<00:00, 33.98it/s] \n"
     ]
    },
    {
     "name": "stdout",
     "output_type": "stream",
     "text": [
      "> Generated 1528 records for cc_num: 213161293389774\n",
      "\n",
      "[822/931] Generating data for cc_num: 4586260469584\n"
     ]
    },
    {
     "name": "stderr",
     "output_type": "stream",
     "text": [
      "Gen. (0.99) | Discrim. (0.17): 100%|██████████| 100/100 [00:02<00:00, 34.10it/s]\n"
     ]
    },
    {
     "name": "stdout",
     "output_type": "stream",
     "text": [
      "> Generated 2036 records for cc_num: 4586260469584\n",
      "\n",
      "[823/931] Generating data for cc_num: 4229733778084049\n"
     ]
    },
    {
     "name": "stderr",
     "output_type": "stream",
     "text": [
      "Gen. (0.78) | Discrim. (-0.28): 100%|██████████| 100/100 [00:02<00:00, 36.14it/s]\n"
     ]
    },
    {
     "name": "stdout",
     "output_type": "stream",
     "text": [
      "> Generated 1528 records for cc_num: 4229733778084049\n",
      "\n",
      "[824/931] Generating data for cc_num: 3530503964418806\n"
     ]
    },
    {
     "name": "stderr",
     "output_type": "stream",
     "text": [
      "Gen. (0.26) | Discrim. (-0.01): 100%|██████████| 100/100 [00:02<00:00, 36.11it/s]\n"
     ]
    },
    {
     "name": "stdout",
     "output_type": "stream",
     "text": [
      "> Generated 510 records for cc_num: 3530503964418806\n",
      "\n",
      "[825/931] Generating data for cc_num: 342952484382519\n"
     ]
    },
    {
     "name": "stderr",
     "output_type": "stream",
     "text": [
      "Gen. (0.51) | Discrim. (-0.01): 100%|██████████| 100/100 [00:02<00:00, 34.68it/s]\n"
     ]
    },
    {
     "name": "stdout",
     "output_type": "stream",
     "text": [
      "> Generated 3059 records for cc_num: 342952484382519\n",
      "\n",
      "[826/931] Generating data for cc_num: 30029052116970\n"
     ]
    },
    {
     "name": "stderr",
     "output_type": "stream",
     "text": [
      "Gen. (-0.12) | Discrim. (0.16): 100%|██████████| 100/100 [00:02<00:00, 34.83it/s]\n"
     ]
    },
    {
     "name": "stdout",
     "output_type": "stream",
     "text": [
      "> Generated 2040 records for cc_num: 30029052116970\n",
      "\n",
      "[827/931] Generating data for cc_num: 4170689372027579\n"
     ]
    },
    {
     "name": "stderr",
     "output_type": "stream",
     "text": [
      "Gen. (0.90) | Discrim. (0.32): 100%|██████████| 100/100 [00:02<00:00, 34.06it/s]\n"
     ]
    },
    {
     "name": "stdout",
     "output_type": "stream",
     "text": [
      "> Generated 2548 records for cc_num: 4170689372027579\n",
      "\n",
      "[828/931] Generating data for cc_num: 60487002085\n"
     ]
    },
    {
     "name": "stderr",
     "output_type": "stream",
     "text": [
      "Gen. (0.20) | Discrim. (-0.20): 100%|██████████| 100/100 [00:02<00:00, 36.91it/s]\n"
     ]
    },
    {
     "name": "stdout",
     "output_type": "stream",
     "text": [
      "> Generated 508 records for cc_num: 60487002085\n",
      "\n",
      "[829/931] Generating data for cc_num: 30270432095985\n"
     ]
    },
    {
     "name": "stderr",
     "output_type": "stream",
     "text": [
      "Gen. (0.58) | Discrim. (-0.13): 100%|██████████| 100/100 [00:02<00:00, 37.98it/s]\n"
     ]
    },
    {
     "name": "stdout",
     "output_type": "stream",
     "text": [
      "> Generated 3063 records for cc_num: 30270432095985\n",
      "\n",
      "[830/931] Generating data for cc_num: 676369110710\n"
     ]
    },
    {
     "name": "stderr",
     "output_type": "stream",
     "text": [
      "Gen. (0.07) | Discrim. (0.31): 100%|██████████| 100/100 [00:02<00:00, 34.27it/s] \n"
     ]
    },
    {
     "name": "stdout",
     "output_type": "stream",
     "text": [
      "> Generated 2039 records for cc_num: 676369110710\n",
      "\n",
      "[831/931] Generating data for cc_num: 586100864972\n"
     ]
    },
    {
     "name": "stderr",
     "output_type": "stream",
     "text": [
      "Gen. (-0.72) | Discrim. (-0.12): 100%|██████████| 100/100 [00:02<00:00, 33.34it/s]\n"
     ]
    },
    {
     "name": "stdout",
     "output_type": "stream",
     "text": [
      "> Generated 0 records for cc_num: 586100864972\n",
      "\n",
      "[832/931] Generating data for cc_num: 4427805710168\n"
     ]
    },
    {
     "name": "stderr",
     "output_type": "stream",
     "text": [
      "Gen. (-0.42) | Discrim. (0.11): 100%|██████████| 100/100 [00:02<00:00, 37.67it/s]\n"
     ]
    },
    {
     "name": "stdout",
     "output_type": "stream",
     "text": [
      "> Generated 1531 records for cc_num: 4427805710168\n",
      "\n",
      "[833/931] Generating data for cc_num: 4646845581490336108\n"
     ]
    },
    {
     "name": "stderr",
     "output_type": "stream",
     "text": [
      "Gen. (-0.21) | Discrim. (-0.22): 100%|██████████| 100/100 [00:02<00:00, 37.57it/s]\n"
     ]
    },
    {
     "name": "stdout",
     "output_type": "stream",
     "text": [
      "> Generated 2552 records for cc_num: 4646845581490336108\n",
      "\n",
      "[834/931] Generating data for cc_num: 2286236465059468\n"
     ]
    },
    {
     "name": "stderr",
     "output_type": "stream",
     "text": [
      "Gen. (-0.84) | Discrim. (0.43): 100%|██████████| 100/100 [00:02<00:00, 35.34it/s]\n"
     ]
    },
    {
     "name": "stdout",
     "output_type": "stream",
     "text": [
      "> Generated 1533 records for cc_num: 2286236465059468\n",
      "\n",
      "[835/931] Generating data for cc_num: 6593939509150446\n"
     ]
    },
    {
     "name": "stderr",
     "output_type": "stream",
     "text": [
      "Gen. (0.10) | Discrim. (0.03): 100%|██████████| 100/100 [00:02<00:00, 37.20it/s] \n"
     ]
    },
    {
     "name": "stdout",
     "output_type": "stream",
     "text": [
      "> Generated 509 records for cc_num: 6593939509150446\n",
      "\n",
      "[836/931] Generating data for cc_num: 372965408103277\n"
     ]
    },
    {
     "name": "stderr",
     "output_type": "stream",
     "text": [
      "Gen. (-0.05) | Discrim. (-0.09): 100%|██████████| 100/100 [00:02<00:00, 35.85it/s]\n"
     ]
    },
    {
     "name": "stdout",
     "output_type": "stream",
     "text": [
      "> Generated 0 records for cc_num: 372965408103277\n",
      "\n",
      "[837/931] Generating data for cc_num: 60495593109\n"
     ]
    },
    {
     "name": "stderr",
     "output_type": "stream",
     "text": [
      "Gen. (0.29) | Discrim. (0.05): 100%|██████████| 100/100 [00:02<00:00, 38.22it/s] \n"
     ]
    },
    {
     "name": "stdout",
     "output_type": "stream",
     "text": [
      "> Generated 510 records for cc_num: 60495593109\n",
      "\n",
      "[838/931] Generating data for cc_num: 6011477612335392\n"
     ]
    },
    {
     "name": "stderr",
     "output_type": "stream",
     "text": [
      "Gen. (0.17) | Discrim. (-0.14): 100%|██████████| 100/100 [00:02<00:00, 37.97it/s]\n"
     ]
    },
    {
     "name": "stdout",
     "output_type": "stream",
     "text": [
      "> Generated 510 records for cc_num: 6011477612335392\n",
      "\n",
      "[839/931] Generating data for cc_num: 180020605265701\n"
     ]
    },
    {
     "name": "stderr",
     "output_type": "stream",
     "text": [
      "Gen. (0.37) | Discrim. (-0.13): 100%|██████████| 100/100 [00:02<00:00, 38.73it/s]\n"
     ]
    },
    {
     "name": "stdout",
     "output_type": "stream",
     "text": [
      "> Generated 0 records for cc_num: 180020605265701\n",
      "\n",
      "[840/931] Generating data for cc_num: 4710826438164847414\n"
     ]
    },
    {
     "name": "stderr",
     "output_type": "stream",
     "text": [
      "Gen. (0.90) | Discrim. (0.08): 100%|██████████| 100/100 [00:02<00:00, 40.36it/s]\n"
     ]
    },
    {
     "name": "stdout",
     "output_type": "stream",
     "text": [
      "> Generated 1530 records for cc_num: 4710826438164847414\n",
      "\n",
      "[841/931] Generating data for cc_num: 347399333635231\n"
     ]
    },
    {
     "name": "stderr",
     "output_type": "stream",
     "text": [
      "Gen. (-0.09) | Discrim. (-0.03): 100%|██████████| 100/100 [00:02<00:00, 41.44it/s]\n"
     ]
    },
    {
     "name": "stdout",
     "output_type": "stream",
     "text": [
      "> Generated 0 records for cc_num: 347399333635231\n",
      "\n",
      "[842/931] Generating data for cc_num: 3585052663373890\n"
     ]
    },
    {
     "name": "stderr",
     "output_type": "stream",
     "text": [
      "Gen. (0.41) | Discrim. (-0.04): 100%|██████████| 100/100 [00:02<00:00, 40.51it/s]\n"
     ]
    },
    {
     "name": "stdout",
     "output_type": "stream",
     "text": [
      "> Generated 1016 records for cc_num: 3585052663373890\n",
      "\n",
      "[843/931] Generating data for cc_num: 30011465039817\n"
     ]
    },
    {
     "name": "stderr",
     "output_type": "stream",
     "text": [
      "Gen. (0.50) | Discrim. (-0.05): 100%|██████████| 100/100 [00:02<00:00, 33.63it/s]\n"
     ]
    },
    {
     "name": "stdout",
     "output_type": "stream",
     "text": [
      "> Generated 508 records for cc_num: 30011465039817\n",
      "\n",
      "[844/931] Generating data for cc_num: 4861310130652566408\n"
     ]
    },
    {
     "name": "stderr",
     "output_type": "stream",
     "text": [
      "Gen. (0.76) | Discrim. (0.10): 100%|██████████| 100/100 [00:02<00:00, 35.42it/s]\n"
     ]
    },
    {
     "name": "stdout",
     "output_type": "stream",
     "text": [
      "> Generated 2543 records for cc_num: 4861310130652566408\n",
      "\n",
      "[845/931] Generating data for cc_num: 30510856607165\n"
     ]
    },
    {
     "name": "stderr",
     "output_type": "stream",
     "text": [
      "Gen. (0.72) | Discrim. (-0.06): 100%|██████████| 100/100 [00:02<00:00, 33.35it/s]\n"
     ]
    },
    {
     "name": "stdout",
     "output_type": "stream",
     "text": [
      "> Generated 508 records for cc_num: 30510856607165\n",
      "\n",
      "[846/931] Generating data for cc_num: 2297447006766555\n"
     ]
    },
    {
     "name": "stderr",
     "output_type": "stream",
     "text": [
      "Gen. (0.10) | Discrim. (-0.05): 100%|██████████| 100/100 [00:02<00:00, 34.64it/s]\n"
     ]
    },
    {
     "name": "stdout",
     "output_type": "stream",
     "text": [
      "> Generated 2039 records for cc_num: 2297447006766555\n",
      "\n",
      "[847/931] Generating data for cc_num: 581508178315\n"
     ]
    },
    {
     "name": "stderr",
     "output_type": "stream",
     "text": [
      "Gen. (0.19) | Discrim. (0.00): 100%|██████████| 100/100 [00:02<00:00, 35.06it/s] \n"
     ]
    },
    {
     "name": "stdout",
     "output_type": "stream",
     "text": [
      "> Generated 506 records for cc_num: 581508178315\n",
      "\n",
      "[848/931] Generating data for cc_num: 4755696071492\n"
     ]
    },
    {
     "name": "stderr",
     "output_type": "stream",
     "text": [
      "Gen. (0.40) | Discrim. (-0.19): 100%|██████████| 100/100 [00:02<00:00, 37.33it/s]\n"
     ]
    },
    {
     "name": "stdout",
     "output_type": "stream",
     "text": [
      "> Generated 2550 records for cc_num: 4755696071492\n",
      "\n",
      "[849/931] Generating data for cc_num: 3586955669388457\n"
     ]
    },
    {
     "name": "stderr",
     "output_type": "stream",
     "text": [
      "Gen. (0.96) | Discrim. (-0.32): 100%|██████████| 100/100 [00:02<00:00, 41.84it/s]\n"
     ]
    },
    {
     "name": "stdout",
     "output_type": "stream",
     "text": [
      "> Generated 1021 records for cc_num: 3586955669388457\n",
      "\n",
      "[850/931] Generating data for cc_num: 6597248210463122\n"
     ]
    },
    {
     "name": "stderr",
     "output_type": "stream",
     "text": [
      "Gen. (0.62) | Discrim. (0.01): 100%|██████████| 100/100 [00:03<00:00, 33.25it/s]\n"
     ]
    },
    {
     "name": "stdout",
     "output_type": "stream",
     "text": [
      "> Generated 509 records for cc_num: 6597248210463122\n",
      "\n",
      "[851/931] Generating data for cc_num: 344342339068828\n"
     ]
    },
    {
     "name": "stderr",
     "output_type": "stream",
     "text": [
      "Gen. (0.65) | Discrim. (-0.14): 100%|██████████| 100/100 [00:02<00:00, 35.16it/s]\n"
     ]
    },
    {
     "name": "stdout",
     "output_type": "stream",
     "text": [
      "> Generated 1528 records for cc_num: 344342339068828\n",
      "\n",
      "[852/931] Generating data for cc_num: 213199865312311\n"
     ]
    },
    {
     "name": "stderr",
     "output_type": "stream",
     "text": [
      "Gen. (0.85) | Discrim. (0.09): 100%|██████████| 100/100 [00:02<00:00, 34.83it/s]\n"
     ]
    },
    {
     "name": "stdout",
     "output_type": "stream",
     "text": [
      "> Generated 1529 records for cc_num: 213199865312311\n",
      "\n",
      "[853/931] Generating data for cc_num: 4104312520615374\n"
     ]
    },
    {
     "name": "stderr",
     "output_type": "stream",
     "text": [
      "Gen. (0.43) | Discrim. (0.25): 100%|██████████| 100/100 [00:02<00:00, 34.23it/s]\n"
     ]
    },
    {
     "name": "stdout",
     "output_type": "stream",
     "text": [
      "> Generated 1020 records for cc_num: 4104312520615374\n",
      "\n",
      "[854/931] Generating data for cc_num: 5456712664803820\n"
     ]
    },
    {
     "name": "stderr",
     "output_type": "stream",
     "text": [
      "Gen. (0.69) | Discrim. (0.08): 100%|██████████| 100/100 [00:02<00:00, 33.58it/s]\n"
     ]
    },
    {
     "name": "stdout",
     "output_type": "stream",
     "text": [
      "> Generated 1020 records for cc_num: 5456712664803820\n",
      "\n",
      "[855/931] Generating data for cc_num: 38530489946071\n"
     ]
    },
    {
     "name": "stderr",
     "output_type": "stream",
     "text": [
      "Gen. (0.64) | Discrim. (0.15): 100%|██████████| 100/100 [00:02<00:00, 40.25it/s]\n"
     ]
    },
    {
     "name": "stdout",
     "output_type": "stream",
     "text": [
      "> Generated 2034 records for cc_num: 38530489946071\n",
      "\n",
      "[856/931] Generating data for cc_num: 4129767952109660\n"
     ]
    },
    {
     "name": "stderr",
     "output_type": "stream",
     "text": [
      "Gen. (0.05) | Discrim. (0.15): 100%|██████████| 100/100 [00:02<00:00, 40.54it/s] \n"
     ]
    },
    {
     "name": "stdout",
     "output_type": "stream",
     "text": [
      "> Generated 1019 records for cc_num: 4129767952109660\n",
      "\n",
      "[857/931] Generating data for cc_num: 341542810616333\n"
     ]
    },
    {
     "name": "stderr",
     "output_type": "stream",
     "text": [
      "Gen. (0.09) | Discrim. (0.05): 100%|██████████| 100/100 [00:02<00:00, 39.81it/s] \n"
     ]
    },
    {
     "name": "stdout",
     "output_type": "stream",
     "text": [
      "> Generated 1020 records for cc_num: 341542810616333\n",
      "\n",
      "[858/931] Generating data for cc_num: 3501942333500073\n"
     ]
    },
    {
     "name": "stderr",
     "output_type": "stream",
     "text": [
      "Gen. (0.12) | Discrim. (0.02): 100%|██████████| 100/100 [00:02<00:00, 35.78it/s] \n"
     ]
    },
    {
     "name": "stdout",
     "output_type": "stream",
     "text": [
      "> Generated 2041 records for cc_num: 3501942333500073\n",
      "\n",
      "[859/931] Generating data for cc_num: 3527063666782582\n"
     ]
    },
    {
     "name": "stderr",
     "output_type": "stream",
     "text": [
      "Gen. (-0.21) | Discrim. (-0.26): 100%|██████████| 100/100 [00:02<00:00, 34.72it/s]\n"
     ]
    },
    {
     "name": "stdout",
     "output_type": "stream",
     "text": [
      "> Generated 508 records for cc_num: 3527063666782582\n",
      "\n",
      "[860/931] Generating data for cc_num: 30042378430132\n"
     ]
    },
    {
     "name": "stderr",
     "output_type": "stream",
     "text": [
      "Gen. (0.81) | Discrim. (-0.17): 100%|██████████| 100/100 [00:02<00:00, 33.55it/s]\n"
     ]
    },
    {
     "name": "stdout",
     "output_type": "stream",
     "text": [
      "> Generated 510 records for cc_num: 30042378430132\n",
      "\n",
      "[861/931] Generating data for cc_num: 30570197515105\n"
     ]
    },
    {
     "name": "stderr",
     "output_type": "stream",
     "text": [
      "Gen. (0.11) | Discrim. (0.26): 100%|██████████| 100/100 [00:02<00:00, 37.95it/s]\n"
     ]
    },
    {
     "name": "stdout",
     "output_type": "stream",
     "text": [
      "> Generated 508 records for cc_num: 30570197515105\n",
      "\n",
      "[862/931] Generating data for cc_num: 4306586894261180\n"
     ]
    },
    {
     "name": "stderr",
     "output_type": "stream",
     "text": [
      "Gen. (0.52) | Discrim. (0.08): 100%|██████████| 100/100 [00:02<00:00, 34.76it/s]\n"
     ]
    },
    {
     "name": "stdout",
     "output_type": "stream",
     "text": [
      "> Generated 1017 records for cc_num: 4306586894261180\n",
      "\n",
      "[863/931] Generating data for cc_num: 4958589671582726883\n"
     ]
    },
    {
     "name": "stderr",
     "output_type": "stream",
     "text": [
      "Gen. (0.95) | Discrim. (0.22): 100%|██████████| 100/100 [00:02<00:00, 35.57it/s]\n"
     ]
    },
    {
     "name": "stdout",
     "output_type": "stream",
     "text": [
      "> Generated 1528 records for cc_num: 4958589671582726883\n",
      "\n",
      "[864/931] Generating data for cc_num: 378904938837132\n"
     ]
    },
    {
     "name": "stderr",
     "output_type": "stream",
     "text": [
      "Gen. (0.44) | Discrim. (-0.08): 100%|██████████| 100/100 [00:02<00:00, 37.70it/s]\n"
     ]
    },
    {
     "name": "stdout",
     "output_type": "stream",
     "text": [
      "> Generated 1530 records for cc_num: 378904938837132\n",
      "\n",
      "[865/931] Generating data for cc_num: 378858024506425\n"
     ]
    },
    {
     "name": "stderr",
     "output_type": "stream",
     "text": [
      "Gen. (0.10) | Discrim. (-0.11): 100%|██████████| 100/100 [00:02<00:00, 40.15it/s]\n"
     ]
    },
    {
     "name": "stdout",
     "output_type": "stream",
     "text": [
      "> Generated 1019 records for cc_num: 378858024506425\n",
      "\n",
      "[866/931] Generating data for cc_num: 4481131401752\n"
     ]
    },
    {
     "name": "stderr",
     "output_type": "stream",
     "text": [
      "Gen. (0.55) | Discrim. (-0.23): 100%|██████████| 100/100 [00:02<00:00, 36.45it/s]\n"
     ]
    },
    {
     "name": "stdout",
     "output_type": "stream",
     "text": [
      "> Generated 1021 records for cc_num: 4481131401752\n",
      "\n",
      "[867/931] Generating data for cc_num: 4740713119940984\n"
     ]
    },
    {
     "name": "stderr",
     "output_type": "stream",
     "text": [
      "Gen. (-0.56) | Discrim. (0.04): 100%|██████████| 100/100 [00:02<00:00, 37.73it/s]\n"
     ]
    },
    {
     "name": "stdout",
     "output_type": "stream",
     "text": [
      "> Generated 1019 records for cc_num: 4740713119940984\n",
      "\n",
      "[868/931] Generating data for cc_num: 180046617132290\n"
     ]
    },
    {
     "name": "stderr",
     "output_type": "stream",
     "text": [
      "Gen. (-0.64) | Discrim. (-0.04): 100%|██████████| 100/100 [00:02<00:00, 35.51it/s]\n"
     ]
    },
    {
     "name": "stdout",
     "output_type": "stream",
     "text": [
      "> Generated 1019 records for cc_num: 180046617132290\n",
      "\n",
      "[869/931] Generating data for cc_num: 4599285557366057\n"
     ]
    },
    {
     "name": "stderr",
     "output_type": "stream",
     "text": [
      "Gen. (-0.53) | Discrim. (0.03): 100%|██████████| 100/100 [00:02<00:00, 33.51it/s]\n"
     ]
    },
    {
     "name": "stdout",
     "output_type": "stream",
     "text": [
      "> Generated 1019 records for cc_num: 4599285557366057\n",
      "\n",
      "[870/931] Generating data for cc_num: 4883407061576\n"
     ]
    },
    {
     "name": "stderr",
     "output_type": "stream",
     "text": [
      "Gen. (0.07) | Discrim. (0.25): 100%|██████████| 100/100 [00:02<00:00, 39.87it/s] \n"
     ]
    },
    {
     "name": "stdout",
     "output_type": "stream",
     "text": [
      "> Generated 0 records for cc_num: 4883407061576\n",
      "\n",
      "[871/931] Generating data for cc_num: 4295296907373\n"
     ]
    },
    {
     "name": "stderr",
     "output_type": "stream",
     "text": [
      "Gen. (0.44) | Discrim. (0.23): 100%|██████████| 100/100 [00:02<00:00, 34.79it/s]\n"
     ]
    },
    {
     "name": "stdout",
     "output_type": "stream",
     "text": [
      "> Generated 0 records for cc_num: 4295296907373\n",
      "\n",
      "[872/931] Generating data for cc_num: 573283817795\n"
     ]
    },
    {
     "name": "stderr",
     "output_type": "stream",
     "text": [
      "Gen. (-0.45) | Discrim. (-0.14): 100%|██████████| 100/100 [00:02<00:00, 39.80it/s]\n"
     ]
    },
    {
     "name": "stdout",
     "output_type": "stream",
     "text": [
      "> Generated 508 records for cc_num: 573283817795\n",
      "\n",
      "[873/931] Generating data for cc_num: 676281772837\n"
     ]
    },
    {
     "name": "stderr",
     "output_type": "stream",
     "text": [
      "Gen. (0.68) | Discrim. (0.22): 100%|██████████| 100/100 [00:02<00:00, 42.01it/s]\n"
     ]
    },
    {
     "name": "stdout",
     "output_type": "stream",
     "text": [
      "> Generated 1530 records for cc_num: 676281772837\n",
      "\n",
      "[874/931] Generating data for cc_num: 3577578023716568\n"
     ]
    },
    {
     "name": "stderr",
     "output_type": "stream",
     "text": [
      "Gen. (0.16) | Discrim. (0.19): 100%|██████████| 100/100 [00:02<00:00, 35.98it/s] \n"
     ]
    },
    {
     "name": "stdout",
     "output_type": "stream",
     "text": [
      "> Generated 2041 records for cc_num: 3577578023716568\n",
      "\n",
      "[875/931] Generating data for cc_num: 376012912828093\n"
     ]
    },
    {
     "name": "stderr",
     "output_type": "stream",
     "text": [
      "Gen. (-0.10) | Discrim. (0.01): 100%|██████████| 100/100 [00:02<00:00, 40.39it/s]\n"
     ]
    },
    {
     "name": "stdout",
     "output_type": "stream",
     "text": [
      "> Generated 1019 records for cc_num: 376012912828093\n",
      "\n",
      "[876/931] Generating data for cc_num: 4026222041577\n"
     ]
    },
    {
     "name": "stderr",
     "output_type": "stream",
     "text": [
      "Gen. (0.13) | Discrim. (0.12): 100%|██████████| 100/100 [00:02<00:00, 40.89it/s]\n"
     ]
    },
    {
     "name": "stdout",
     "output_type": "stream",
     "text": [
      "> Generated 509 records for cc_num: 4026222041577\n",
      "\n",
      "[877/931] Generating data for cc_num: 4087542780207162\n"
     ]
    },
    {
     "name": "stderr",
     "output_type": "stream",
     "text": [
      "Gen. (-0.18) | Discrim. (-0.07): 100%|██████████| 100/100 [00:02<00:00, 40.14it/s]\n"
     ]
    },
    {
     "name": "stdout",
     "output_type": "stream",
     "text": [
      "> Generated 0 records for cc_num: 4087542780207162\n",
      "\n",
      "[878/931] Generating data for cc_num: 4244953610136705533\n"
     ]
    },
    {
     "name": "stderr",
     "output_type": "stream",
     "text": [
      "Gen. (0.92) | Discrim. (0.01): 100%|██████████| 100/100 [00:02<00:00, 42.82it/s]\n"
     ]
    },
    {
     "name": "stdout",
     "output_type": "stream",
     "text": [
      "> Generated 508 records for cc_num: 4244953610136705533\n",
      "\n",
      "[879/931] Generating data for cc_num: 371985236239474\n"
     ]
    },
    {
     "name": "stderr",
     "output_type": "stream",
     "text": [
      "Gen. (1.09) | Discrim. (0.17): 100%|██████████| 100/100 [00:02<00:00, 41.66it/s]\n"
     ]
    },
    {
     "name": "stdout",
     "output_type": "stream",
     "text": [
      "> Generated 1017 records for cc_num: 371985236239474\n",
      "\n",
      "[880/931] Generating data for cc_num: 370612217861404\n"
     ]
    },
    {
     "name": "stderr",
     "output_type": "stream",
     "text": [
      "Gen. (0.91) | Discrim. (0.24): 100%|██████████| 100/100 [00:02<00:00, 34.09it/s]\n"
     ]
    },
    {
     "name": "stdout",
     "output_type": "stream",
     "text": [
      "> Generated 1529 records for cc_num: 370612217861404\n",
      "\n",
      "[881/931] Generating data for cc_num: 2229378226512508\n"
     ]
    },
    {
     "name": "stderr",
     "output_type": "stream",
     "text": [
      "Gen. (0.52) | Discrim. (-0.17): 100%|██████████| 100/100 [00:02<00:00, 42.32it/s]\n"
     ]
    },
    {
     "name": "stdout",
     "output_type": "stream",
     "text": [
      "> Generated 1529 records for cc_num: 2229378226512508\n",
      "\n",
      "[882/931] Generating data for cc_num: 38859492057661\n"
     ]
    },
    {
     "name": "stderr",
     "output_type": "stream",
     "text": [
      "Gen. (-0.53) | Discrim. (0.15): 100%|██████████| 100/100 [00:02<00:00, 38.00it/s]\n"
     ]
    },
    {
     "name": "stdout",
     "output_type": "stream",
     "text": [
      "> Generated 508 records for cc_num: 38859492057661\n",
      "\n",
      "[883/931] Generating data for cc_num: 30491348102802\n"
     ]
    },
    {
     "name": "stderr",
     "output_type": "stream",
     "text": [
      "Gen. (0.24) | Discrim. (0.08): 100%|██████████| 100/100 [00:02<00:00, 38.11it/s] \n"
     ]
    },
    {
     "name": "stdout",
     "output_type": "stream",
     "text": [
      "> Generated 510 records for cc_num: 30491348102802\n",
      "\n",
      "[884/931] Generating data for cc_num: 630469040731\n"
     ]
    },
    {
     "name": "stderr",
     "output_type": "stream",
     "text": [
      "Gen. (-0.03) | Discrim. (-0.24): 100%|██████████| 100/100 [00:02<00:00, 35.14it/s]\n"
     ]
    },
    {
     "name": "stdout",
     "output_type": "stream",
     "text": [
      "> Generated 2036 records for cc_num: 630469040731\n",
      "\n",
      "[885/931] Generating data for cc_num: 2475085306462014\n"
     ]
    },
    {
     "name": "stderr",
     "output_type": "stream",
     "text": [
      "Gen. (0.09) | Discrim. (0.08): 100%|██████████| 100/100 [00:02<00:00, 38.59it/s]\n"
     ]
    },
    {
     "name": "stdout",
     "output_type": "stream",
     "text": [
      "> Generated 1530 records for cc_num: 2475085306462014\n",
      "\n",
      "[886/931] Generating data for cc_num: 3560336828629935\n"
     ]
    },
    {
     "name": "stderr",
     "output_type": "stream",
     "text": [
      "Gen. (-0.19) | Discrim. (0.10): 100%|██████████| 100/100 [00:02<00:00, 38.47it/s]\n"
     ]
    },
    {
     "name": "stdout",
     "output_type": "stream",
     "text": [
      "> Generated 510 records for cc_num: 3560336828629935\n",
      "\n",
      "[887/931] Generating data for cc_num: 4103158249977\n"
     ]
    },
    {
     "name": "stderr",
     "output_type": "stream",
     "text": [
      "Gen. (0.67) | Discrim. (0.13): 100%|██████████| 100/100 [00:02<00:00, 38.47it/s]\n"
     ]
    },
    {
     "name": "stdout",
     "output_type": "stream",
     "text": [
      "> Generated 509 records for cc_num: 4103158249977\n",
      "\n",
      "[888/931] Generating data for cc_num: 3535808924394848\n"
     ]
    },
    {
     "name": "stderr",
     "output_type": "stream",
     "text": [
      "Gen. (-0.53) | Discrim. (0.18): 100%|██████████| 100/100 [00:02<00:00, 40.59it/s]\n"
     ]
    },
    {
     "name": "stdout",
     "output_type": "stream",
     "text": [
      "> Generated 1530 records for cc_num: 3535808924394848\n",
      "\n",
      "[889/931] Generating data for cc_num: 30242921189660\n"
     ]
    },
    {
     "name": "stderr",
     "output_type": "stream",
     "text": [
      "Gen. (0.61) | Discrim. (-0.05): 100%|██████████| 100/100 [00:02<00:00, 35.92it/s]\n"
     ]
    },
    {
     "name": "stdout",
     "output_type": "stream",
     "text": [
      "> Generated 1019 records for cc_num: 30242921189660\n",
      "\n",
      "[890/931] Generating data for cc_num: 30487648872433\n"
     ]
    },
    {
     "name": "stderr",
     "output_type": "stream",
     "text": [
      "Gen. (0.93) | Discrim. (-0.10): 100%|██████████| 100/100 [00:02<00:00, 33.39it/s]\n"
     ]
    },
    {
     "name": "stdout",
     "output_type": "stream",
     "text": [
      "> Generated 1020 records for cc_num: 30487648872433\n",
      "\n",
      "[891/931] Generating data for cc_num: 378006354724784\n"
     ]
    },
    {
     "name": "stderr",
     "output_type": "stream",
     "text": [
      "Gen. (0.62) | Discrim. (0.16): 100%|██████████| 100/100 [00:02<00:00, 37.89it/s]\n"
     ]
    },
    {
     "name": "stdout",
     "output_type": "stream",
     "text": [
      "> Generated 509 records for cc_num: 378006354724784\n",
      "\n",
      "[892/931] Generating data for cc_num: 4066595222529\n"
     ]
    },
    {
     "name": "stderr",
     "output_type": "stream",
     "text": [
      "Gen. (0.62) | Discrim. (-0.03): 100%|██████████| 100/100 [00:02<00:00, 38.33it/s]\n"
     ]
    },
    {
     "name": "stdout",
     "output_type": "stream",
     "text": [
      "> Generated 1529 records for cc_num: 4066595222529\n",
      "\n",
      "[893/931] Generating data for cc_num: 4710792708725663\n"
     ]
    },
    {
     "name": "stderr",
     "output_type": "stream",
     "text": [
      "Gen. (0.89) | Discrim. (0.00): 100%|██████████| 100/100 [00:02<00:00, 34.33it/s]\n"
     ]
    },
    {
     "name": "stdout",
     "output_type": "stream",
     "text": [
      "> Generated 1020 records for cc_num: 4710792708725663\n",
      "\n",
      "[894/931] Generating data for cc_num: 6538441737335434\n"
     ]
    },
    {
     "name": "stderr",
     "output_type": "stream",
     "text": [
      "Gen. (-0.04) | Discrim. (0.07): 100%|██████████| 100/100 [00:02<00:00, 37.21it/s]\n"
     ]
    },
    {
     "name": "stdout",
     "output_type": "stream",
     "text": [
      "> Generated 3061 records for cc_num: 6538441737335434\n",
      "\n",
      "[895/931] Generating data for cc_num: 30235268718158\n"
     ]
    },
    {
     "name": "stderr",
     "output_type": "stream",
     "text": [
      "Gen. (-0.34) | Discrim. (0.18): 100%|██████████| 100/100 [00:02<00:00, 40.32it/s]\n"
     ]
    },
    {
     "name": "stdout",
     "output_type": "stream",
     "text": [
      "> Generated 1530 records for cc_num: 30235268718158\n",
      "\n",
      "[896/931] Generating data for cc_num: 3582402971899057\n"
     ]
    },
    {
     "name": "stderr",
     "output_type": "stream",
     "text": [
      "Gen. (-1.24) | Discrim. (-0.03): 100%|██████████| 100/100 [00:02<00:00, 35.11it/s]\n"
     ]
    },
    {
     "name": "stdout",
     "output_type": "stream",
     "text": [
      "> Generated 510 records for cc_num: 3582402971899057\n",
      "\n",
      "[897/931] Generating data for cc_num: 3500165543009955\n"
     ]
    },
    {
     "name": "stderr",
     "output_type": "stream",
     "text": [
      "Gen. (0.05) | Discrim. (-0.01): 100%|██████████| 100/100 [00:02<00:00, 36.64it/s]\n"
     ]
    },
    {
     "name": "stdout",
     "output_type": "stream",
     "text": [
      "> Generated 509 records for cc_num: 3500165543009955\n",
      "\n",
      "[898/931] Generating data for cc_num: 4972228199573984\n"
     ]
    },
    {
     "name": "stderr",
     "output_type": "stream",
     "text": [
      "Gen. (0.11) | Discrim. (0.02): 100%|██████████| 100/100 [00:02<00:00, 34.39it/s] \n"
     ]
    },
    {
     "name": "stdout",
     "output_type": "stream",
     "text": [
      "> Generated 509 records for cc_num: 4972228199573984\n",
      "\n",
      "[899/931] Generating data for cc_num: 30546453310167\n"
     ]
    },
    {
     "name": "stderr",
     "output_type": "stream",
     "text": [
      "Gen. (0.33) | Discrim. (-0.06): 100%|██████████| 100/100 [00:02<00:00, 34.87it/s]\n"
     ]
    },
    {
     "name": "stdout",
     "output_type": "stream",
     "text": [
      "> Generated 1020 records for cc_num: 30546453310167\n",
      "\n",
      "[900/931] Generating data for cc_num: 4505383113689\n"
     ]
    },
    {
     "name": "stderr",
     "output_type": "stream",
     "text": [
      "Gen. (0.19) | Discrim. (0.06): 100%|██████████| 100/100 [00:02<00:00, 34.26it/s] \n"
     ]
    },
    {
     "name": "stdout",
     "output_type": "stream",
     "text": [
      "> Generated 1020 records for cc_num: 4505383113689\n",
      "\n",
      "[901/931] Generating data for cc_num: 180046165512893\n"
     ]
    },
    {
     "name": "stderr",
     "output_type": "stream",
     "text": [
      "Gen. (0.65) | Discrim. (0.24): 100%|██████████| 100/100 [00:02<00:00, 37.29it/s]\n"
     ]
    },
    {
     "name": "stdout",
     "output_type": "stream",
     "text": [
      "> Generated 1021 records for cc_num: 180046165512893\n",
      "\n",
      "[902/931] Generating data for cc_num: 5410056176712193\n"
     ]
    },
    {
     "name": "stderr",
     "output_type": "stream",
     "text": [
      "Gen. (-0.24) | Discrim. (0.07): 100%|██████████| 100/100 [00:02<00:00, 37.23it/s]\n"
     ]
    },
    {
     "name": "stdout",
     "output_type": "stream",
     "text": [
      "> Generated 509 records for cc_num: 5410056176712193\n",
      "\n",
      "[903/931] Generating data for cc_num: 3587044315915002\n"
     ]
    },
    {
     "name": "stderr",
     "output_type": "stream",
     "text": [
      "Gen. (0.58) | Discrim. (-0.04): 100%|██████████| 100/100 [00:02<00:00, 34.30it/s]\n"
     ]
    },
    {
     "name": "stdout",
     "output_type": "stream",
     "text": [
      "> Generated 1528 records for cc_num: 3587044315915002\n",
      "\n",
      "[904/931] Generating data for cc_num: 3513506355699497\n"
     ]
    },
    {
     "name": "stderr",
     "output_type": "stream",
     "text": [
      "Gen. (-0.21) | Discrim. (-0.18): 100%|██████████| 100/100 [00:02<00:00, 34.05it/s]\n"
     ]
    },
    {
     "name": "stdout",
     "output_type": "stream",
     "text": [
      "> Generated 1019 records for cc_num: 3513506355699497\n",
      "\n",
      "[905/931] Generating data for cc_num: 676275912597\n"
     ]
    },
    {
     "name": "stderr",
     "output_type": "stream",
     "text": [
      "Gen. (0.02) | Discrim. (-0.13): 100%|██████████| 100/100 [00:03<00:00, 33.24it/s]\n"
     ]
    },
    {
     "name": "stdout",
     "output_type": "stream",
     "text": [
      "> Generated 510 records for cc_num: 676275912597\n",
      "\n",
      "[906/931] Generating data for cc_num: 377834944388609\n"
     ]
    },
    {
     "name": "stderr",
     "output_type": "stream",
     "text": [
      "Gen. (0.17) | Discrim. (-0.13): 100%|██████████| 100/100 [00:02<00:00, 36.53it/s]\n"
     ]
    },
    {
     "name": "stdout",
     "output_type": "stream",
     "text": [
      "> Generated 508 records for cc_num: 377834944388609\n",
      "\n",
      "[907/931] Generating data for cc_num: 30266994494236\n"
     ]
    },
    {
     "name": "stderr",
     "output_type": "stream",
     "text": [
      "Gen. (-0.83) | Discrim. (0.03): 100%|██████████| 100/100 [00:02<00:00, 39.64it/s]\n"
     ]
    },
    {
     "name": "stdout",
     "output_type": "stream",
     "text": [
      "> Generated 1527 records for cc_num: 30266994494236\n",
      "\n",
      "[908/931] Generating data for cc_num: 3588001568691267\n"
     ]
    },
    {
     "name": "stderr",
     "output_type": "stream",
     "text": [
      "Gen. (0.94) | Discrim. (0.15): 100%|██████████| 100/100 [00:02<00:00, 38.06it/s]\n"
     ]
    },
    {
     "name": "stdout",
     "output_type": "stream",
     "text": [
      "> Generated 0 records for cc_num: 3588001568691267\n",
      "\n",
      "[909/931] Generating data for cc_num: 213156747557083\n"
     ]
    },
    {
     "name": "stderr",
     "output_type": "stream",
     "text": [
      "Gen. (0.53) | Discrim. (0.18): 100%|██████████| 100/100 [00:02<00:00, 34.91it/s]\n"
     ]
    },
    {
     "name": "stdout",
     "output_type": "stream",
     "text": [
      "> Generated 2547 records for cc_num: 213156747557083\n",
      "\n",
      "[910/931] Generating data for cc_num: 630423337322\n"
     ]
    },
    {
     "name": "stderr",
     "output_type": "stream",
     "text": [
      "Gen. (0.82) | Discrim. (0.05): 100%|██████████| 100/100 [00:02<00:00, 38.03it/s]\n"
     ]
    },
    {
     "name": "stdout",
     "output_type": "stream",
     "text": [
      "> Generated 3048 records for cc_num: 630423337322\n",
      "\n",
      "[911/931] Generating data for cc_num: 3564182536169293\n"
     ]
    },
    {
     "name": "stderr",
     "output_type": "stream",
     "text": [
      "Gen. (-0.10) | Discrim. (-0.26): 100%|██████████| 100/100 [00:02<00:00, 37.61it/s]\n"
     ]
    },
    {
     "name": "stdout",
     "output_type": "stream",
     "text": [
      "> Generated 1016 records for cc_num: 3564182536169293\n",
      "\n",
      "[912/931] Generating data for cc_num: 4292743669224718067\n"
     ]
    },
    {
     "name": "stderr",
     "output_type": "stream",
     "text": [
      "Gen. (0.34) | Discrim. (-0.06): 100%|██████████| 100/100 [00:02<00:00, 34.06it/s]\n"
     ]
    },
    {
     "name": "stdout",
     "output_type": "stream",
     "text": [
      "> Generated 1526 records for cc_num: 4292743669224718067\n",
      "\n",
      "[913/931] Generating data for cc_num: 4412720572684931\n"
     ]
    },
    {
     "name": "stderr",
     "output_type": "stream",
     "text": [
      "Gen. (0.81) | Discrim. (0.23): 100%|██████████| 100/100 [00:02<00:00, 35.62it/s]\n"
     ]
    },
    {
     "name": "stdout",
     "output_type": "stream",
     "text": [
      "> Generated 506 records for cc_num: 4412720572684931\n",
      "\n",
      "[914/931] Generating data for cc_num: 30518196150127\n"
     ]
    },
    {
     "name": "stderr",
     "output_type": "stream",
     "text": [
      "Gen. (0.47) | Discrim. (-0.27): 100%|██████████| 100/100 [00:02<00:00, 34.99it/s]\n"
     ]
    },
    {
     "name": "stdout",
     "output_type": "stream",
     "text": [
      "> Generated 508 records for cc_num: 30518196150127\n",
      "\n",
      "[915/931] Generating data for cc_num: 213180742685905\n"
     ]
    },
    {
     "name": "stderr",
     "output_type": "stream",
     "text": [
      "Gen. (-0.02) | Discrim. (0.12): 100%|██████████| 100/100 [00:03<00:00, 32.93it/s]\n"
     ]
    },
    {
     "name": "stdout",
     "output_type": "stream",
     "text": [
      "> Generated 2034 records for cc_num: 213180742685905\n",
      "\n",
      "[916/931] Generating data for cc_num: 30092964733035\n"
     ]
    },
    {
     "name": "stderr",
     "output_type": "stream",
     "text": [
      "Gen. (0.03) | Discrim. (-0.13): 100%|██████████| 100/100 [00:02<00:00, 39.02it/s]\n"
     ]
    },
    {
     "name": "stdout",
     "output_type": "stream",
     "text": [
      "> Generated 1018 records for cc_num: 30092964733035\n",
      "\n",
      "[917/931] Generating data for cc_num: 3545109339866548\n"
     ]
    },
    {
     "name": "stderr",
     "output_type": "stream",
     "text": [
      "Gen. (0.49) | Discrim. (-0.04): 100%|██████████| 100/100 [00:02<00:00, 42.02it/s]\n"
     ]
    },
    {
     "name": "stdout",
     "output_type": "stream",
     "text": [
      "> Generated 3045 records for cc_num: 3545109339866548\n",
      "\n",
      "[918/931] Generating data for cc_num: 3591919803438423\n"
     ]
    },
    {
     "name": "stderr",
     "output_type": "stream",
     "text": [
      "Gen. (-0.16) | Discrim. (-0.01): 100%|██████████| 100/100 [00:02<00:00, 39.52it/s]\n"
     ]
    },
    {
     "name": "stdout",
     "output_type": "stream",
     "text": [
      "> Generated 1525 records for cc_num: 3591919803438423\n",
      "\n",
      "[919/931] Generating data for cc_num: 4560395181594436016\n"
     ]
    },
    {
     "name": "stderr",
     "output_type": "stream",
     "text": [
      "Gen. (0.13) | Discrim. (-0.13): 100%|██████████| 100/100 [00:02<00:00, 40.48it/s]\n"
     ]
    },
    {
     "name": "stdout",
     "output_type": "stream",
     "text": [
      "> Generated 2038 records for cc_num: 4560395181594436016\n",
      "\n",
      "[920/931] Generating data for cc_num: 3596217206093829\n"
     ]
    },
    {
     "name": "stderr",
     "output_type": "stream",
     "text": [
      "Gen. (0.45) | Discrim. (0.15): 100%|██████████| 100/100 [00:02<00:00, 34.64it/s]\n"
     ]
    },
    {
     "name": "stdout",
     "output_type": "stream",
     "text": [
      "> Generated 3052 records for cc_num: 3596217206093829\n",
      "\n",
      "[921/931] Generating data for cc_num: 3596357274378601\n"
     ]
    },
    {
     "name": "stderr",
     "output_type": "stream",
     "text": [
      "Gen. (0.30) | Discrim. (-0.07): 100%|██████████| 100/100 [00:02<00:00, 34.95it/s]\n"
     ]
    },
    {
     "name": "stdout",
     "output_type": "stream",
     "text": [
      "> Generated 2031 records for cc_num: 3596357274378601\n",
      "\n",
      "[922/931] Generating data for cc_num: 4607072969078276\n"
     ]
    },
    {
     "name": "stderr",
     "output_type": "stream",
     "text": [
      "Gen. (0.22) | Discrim. (0.22): 100%|██████████| 100/100 [00:03<00:00, 33.02it/s]\n"
     ]
    },
    {
     "name": "stdout",
     "output_type": "stream",
     "text": [
      "> Generated 1526 records for cc_num: 4607072969078276\n",
      "\n",
      "[923/931] Generating data for cc_num: 4423489490781412\n"
     ]
    },
    {
     "name": "stderr",
     "output_type": "stream",
     "text": [
      "Gen. (0.29) | Discrim. (-0.54): 100%|██████████| 100/100 [00:02<00:00, 35.50it/s]\n"
     ]
    },
    {
     "name": "stdout",
     "output_type": "stream",
     "text": [
      "> Generated 1521 records for cc_num: 4423489490781412\n",
      "\n",
      "[924/931] Generating data for cc_num: 377550167323848\n"
     ]
    },
    {
     "name": "stderr",
     "output_type": "stream",
     "text": [
      "Gen. (0.23) | Discrim. (0.18): 100%|██████████| 100/100 [00:02<00:00, 35.91it/s] \n"
     ]
    },
    {
     "name": "stdout",
     "output_type": "stream",
     "text": [
      "> Generated 1013 records for cc_num: 377550167323848\n",
      "\n",
      "[925/931] Generating data for cc_num: 6011492816282597\n"
     ]
    },
    {
     "name": "stderr",
     "output_type": "stream",
     "text": [
      "Gen. (-0.08) | Discrim. (0.29): 100%|██████████| 100/100 [00:02<00:00, 35.65it/s]\n"
     ]
    },
    {
     "name": "stdout",
     "output_type": "stream",
     "text": [
      "> Generated 1523 records for cc_num: 6011492816282597\n",
      "\n",
      "[926/931] Generating data for cc_num: 180040027502291\n"
     ]
    },
    {
     "name": "stderr",
     "output_type": "stream",
     "text": [
      "Gen. (0.17) | Discrim. (-0.21): 100%|██████████| 100/100 [00:02<00:00, 38.36it/s]\n"
     ]
    },
    {
     "name": "stdout",
     "output_type": "stream",
     "text": [
      "> Generated 508 records for cc_num: 180040027502291\n",
      "\n",
      "[927/931] Generating data for cc_num: 2714019737356678\n"
     ]
    },
    {
     "name": "stderr",
     "output_type": "stream",
     "text": [
      "Gen. (1.14) | Discrim. (0.02): 100%|██████████| 100/100 [00:02<00:00, 38.01it/s]\n"
     ]
    },
    {
     "name": "stdout",
     "output_type": "stream",
     "text": [
      "> Generated 510 records for cc_num: 2714019737356678\n",
      "\n",
      "[928/931] Generating data for cc_num: 639046421587\n"
     ]
    },
    {
     "name": "stderr",
     "output_type": "stream",
     "text": [
      "Gen. (1.04) | Discrim. (-0.23): 100%|██████████| 100/100 [00:02<00:00, 35.03it/s]\n"
     ]
    },
    {
     "name": "stdout",
     "output_type": "stream",
     "text": [
      "> Generated 1020 records for cc_num: 639046421587\n",
      "\n",
      "[929/931] Generating data for cc_num: 374125201044065\n"
     ]
    },
    {
     "name": "stderr",
     "output_type": "stream",
     "text": [
      "Gen. (0.83) | Discrim. (-0.21): 100%|██████████| 100/100 [00:02<00:00, 35.22it/s]\n"
     ]
    },
    {
     "name": "stdout",
     "output_type": "stream",
     "text": [
      "> Generated 1527 records for cc_num: 374125201044065\n",
      "\n",
      "[930/931] Generating data for cc_num: 4716561796955522\n"
     ]
    },
    {
     "name": "stderr",
     "output_type": "stream",
     "text": [
      "Gen. (0.03) | Discrim. (-0.15): 100%|██████████| 100/100 [00:02<00:00, 34.50it/s]\n"
     ]
    },
    {
     "name": "stdout",
     "output_type": "stream",
     "text": [
      "> Generated 3047 records for cc_num: 4716561796955522\n",
      "\n",
      "[931/931] Generating data for cc_num: 2242176657877538\n"
     ]
    },
    {
     "name": "stderr",
     "output_type": "stream",
     "text": [
      "Gen. (-0.34) | Discrim. (-0.10): 100%|██████████| 100/100 [00:02<00:00, 40.00it/s]"
     ]
    },
    {
     "name": "stdout",
     "output_type": "stream",
     "text": [
      "> Generated 0 records for cc_num: 2242176657877538\n",
      "\n"
     ]
    },
    {
     "name": "stderr",
     "output_type": "stream",
     "text": [
      "\n"
     ]
    }
   ],
   "source": [
    "# Get the unique credit card numbers\n",
    "unique_cc_nums = df_fraud['cc_num'].unique()\n",
    "\n",
    "# Initialize a list to store generated dataframes\n",
    "generated_dataframes = []\n",
    "\n",
    "# Count how many cards will be processed (with >= 5 fraud samples)\n",
    "eligible_cards = [cc_num for cc_num in unique_cc_nums if len(df_fraud[df_fraud['cc_num'] == cc_num]) >= 5]\n",
    "total_operations = len(eligible_cards)\n",
    "\n",
    "print(f\"Total operations to run: {total_operations}\\n\")\n",
    "\n",
    "# Iterate with index\n",
    "for i, cc_num in enumerate(eligible_cards, start=1):\n",
    "    print(f\"[{i}/{total_operations}] Generating data for cc_num: {cc_num}\")\n",
    "\n",
    "    # Filter the fraud and non-fraud data for the current credit card number\n",
    "    cc_df = df_fraud[df_fraud['cc_num'] == cc_num].copy()\n",
    "    cc_df_non_fraud = df_non_fraud[df_non_fraud['cc_num'] == cc_num].copy()\n",
    "\n",
    "    # Define metadata for the current credit card dataframe\n",
    "    metadata = SingleTableMetadata()\n",
    "    metadata.detect_from_dataframe(data=cc_df)\n",
    "    metadata.set_primary_key(None)\n",
    "    metadata.update_column('merchant', sdtype='categorical')\n",
    "    metadata.update_column('city', sdtype='categorical')\n",
    "    metadata.update_column('state', sdtype='categorical')\n",
    "    metadata.update_column('city_pop', sdtype='numerical')\n",
    "\n",
    "    # Initialize CTGAN synthesizer\n",
    "    synthesizer = CTGANSynthesizer(\n",
    "        metadata=metadata,\n",
    "        embedding_dim=128,\n",
    "        generator_lr=2e-4,\n",
    "        discriminator_lr=2e-4,\n",
    "        batch_size=100,\n",
    "        epochs=100,\n",
    "        cuda=True,\n",
    "        verbose=True\n",
    "    )\n",
    "\n",
    "    try:\n",
    "        synthesizer.fit(cc_df)\n",
    "\n",
    "        num_samples_to_generate = int(len(cc_df_non_fraud) * 0.7)  # Tune as needed\n",
    "\n",
    "        synthetic_data = synthesizer.sample(num_rows=num_samples_to_generate)\n",
    "\n",
    "        generated_dataframes.append(synthetic_data)\n",
    "\n",
    "        print(f\"> Generated {len(synthetic_data)} records for cc_num: {cc_num}\\n\")\n",
    "\n",
    "    except Exception as e:\n",
    "        print(f\"> Error on cc_num {cc_num}: {e}\\n\")\n",
    "        continue\n"
   ]
  },
  {
   "cell_type": "code",
   "execution_count": 12,
   "metadata": {},
   "outputs": [
    {
     "name": "stdout",
     "output_type": "stream",
     "text": [
      "\n",
      "✅ Exported 1171605 synthetic rows to 'synthetic_fraud_data.csv'\n"
     ]
    }
   ],
   "source": [
    "if generated_dataframes:\n",
    "    final_synthetic_df = pd.concat(generated_dataframes, ignore_index=True)\n",
    "    final_synthetic_df.to_csv(\"synthetic_fraud_data.csv\", index=False)\n",
    "    print(f\"\\n✅ Exported {len(final_synthetic_df)} synthetic rows to 'synthetic_fraud_data.csv'\")\n",
    "else:\n",
    "    print(\"\\n⚠️ No synthetic data was generated.\")"
   ]
  },
  {
   "cell_type": "code",
   "execution_count": 13,
   "metadata": {},
   "outputs": [
    {
     "name": "stdout",
     "output_type": "stream",
     "text": [
      "\n",
      "✅ Exported 3004277 total rows to 'combined_creditcard_data.csv'\n",
      " - Original fraud rows: 9591\n",
      " - Original non-fraud rows: 1823081\n",
      " - Synthetic fraud rows: 1171605\n"
     ]
    }
   ],
   "source": [
    "if generated_dataframes:\n",
    "    final_synthetic_df = pd.concat(generated_dataframes, ignore_index=True)\n",
    "\n",
    "    # Combine with original data\n",
    "    all_data = pd.concat([df_fraud, df_non_fraud, final_synthetic_df], ignore_index=True)\n",
    "\n",
    "    # Export\n",
    "    all_data.to_csv(\"combined_creditcard_data.csv\", index=False)\n",
    "\n",
    "    print(f\"\\n✅ Exported {len(all_data)} total rows to 'combined_creditcard_data.csv'\")\n",
    "    print(f\" - Original fraud rows: {len(df_fraud)}\")\n",
    "    print(f\" - Original non-fraud rows: {len(df_non_fraud)}\")\n",
    "    print(f\" - Synthetic fraud rows: {len(final_synthetic_df)}\")\n",
    "else:\n",
    "    print(\"\\n⚠️ No synthetic data was generated.\")\n"
   ]
  },
  {
   "cell_type": "code",
   "execution_count": 14,
   "metadata": {},
   "outputs": [
    {
     "name": "stdout",
     "output_type": "stream",
     "text": [
      "<class 'pandas.core.frame.DataFrame'>\n",
      "RangeIndex: 3004277 entries, 0 to 3004276\n",
      "Data columns (total 13 columns):\n",
      " #   Column                 Dtype  \n",
      "---  ------                 -----  \n",
      " 0   trans_date_trans_time  object \n",
      " 1   cc_num                 int64  \n",
      " 2   merchant               object \n",
      " 3   category               object \n",
      " 4   amt                    float64\n",
      " 5   gender                 int64  \n",
      " 6   city                   object \n",
      " 7   state                  object \n",
      " 8   city_pop               int64  \n",
      " 9   is_fraud               int64  \n",
      " 10  age                    int64  \n",
      " 11  Region                 object \n",
      " 12  job_category           object \n",
      "dtypes: float64(1), int64(5), object(7)\n",
      "memory usage: 298.0+ MB\n"
     ]
    }
   ],
   "source": [
    "all_data.info()"
   ]
  },
  {
   "cell_type": "code",
   "execution_count": 15,
   "metadata": {},
   "outputs": [
    {
     "name": "stdout",
     "output_type": "stream",
     "text": [
      "Class distribution in combined data:\n",
      "is_fraud\n",
      "0    1823081\n",
      "1    1181196\n",
      "Name: count, dtype: int64\n",
      "\n",
      "Percentage distribution:\n",
      "is_fraud\n",
      "0    60.682853\n",
      "1    39.317147\n",
      "Name: proportion, dtype: float64\n"
     ]
    }
   ],
   "source": [
    "# Check fraud label balance\n",
    "print(\"Class distribution in combined data:\")\n",
    "print(all_data['is_fraud'].value_counts())\n",
    "\n",
    "# Optional: as percentages\n",
    "print(\"\\nPercentage distribution:\")\n",
    "print(all_data['is_fraud'].value_counts(normalize=True) * 100)\n"
   ]
  },
  {
   "cell_type": "code",
   "execution_count": 16,
   "metadata": {},
   "outputs": [
    {
     "name": "stdout",
     "output_type": "stream",
     "text": [
      "> Saved model to ctgan.pkl\n"
     ]
    }
   ],
   "source": [
    "# Save trained model\n",
    "model_path = f\"ctgan.pkl\"\n",
    "synthesizer.save(model_path)\n",
    "print(f\"> Saved model to {model_path}\")"
   ]
  },
  {
   "cell_type": "code",
   "execution_count": 17,
   "metadata": {},
   "outputs": [
    {
     "name": "stdout",
     "output_type": "stream",
     "text": [
      "\n",
      "Number of transactions per credit card number:\n"
     ]
    },
    {
     "data": {
      "text/plain": [
       "cc_num\n",
       "30270432095985         7455\n",
       "6538441737335434       7453\n",
       "4642255475285942       7447\n",
       "36722699017270         7446\n",
       "4745996322265          7445\n",
       "                       ... \n",
       "4225628813173670          7\n",
       "4352307151555405069       7\n",
       "4714017207228610634       7\n",
       "340187018810220           7\n",
       "4295296907373             6\n",
       "Name: count, Length: 992, dtype: int64"
      ]
     },
     "execution_count": 17,
     "metadata": {},
     "output_type": "execute_result"
    }
   ],
   "source": [
    "# Group by 'cc_num' and count the transactions\n",
    "transaction_counts = all_data['cc_num'].value_counts()\n",
    "\n",
    "print(\"\\nNumber of transactions per credit card number:\")\n",
    "transaction_counts"
   ]
  },
  {
   "cell_type": "code",
   "execution_count": 18,
   "metadata": {},
   "outputs": [
    {
     "name": "stdout",
     "output_type": "stream",
     "text": [
      "Generating report ...\n",
      "\n",
      "(1/2) Evaluating Column Shapes: |██████████| 13/13 [00:02<00:00,  6.08it/s]|\n",
      "Column Shapes Score: 92.02%\n",
      "\n",
      "(2/2) Evaluating Column Pair Trends: |██████████| 78/78 [00:05<00:00, 13.41it/s]|\n",
      "Column Pair Trends Score: 80.24%\n",
      "\n",
      "Overall Score (Average): 86.13%\n",
      "\n",
      "\n",
      "=== Synthetic Data Quality Report ===\n",
      "Overall Quality Score: 0.861\n"
     ]
    },
    {
     "ename": "TypeError",
     "evalue": "BaseReport.get_details() missing 1 required positional argument: 'property_name'",
     "output_type": "error",
     "traceback": [
      "\u001b[0;31m---------------------------------------------------------------------------\u001b[0m",
      "\u001b[0;31mTypeError\u001b[0m                                 Traceback (most recent call last)",
      "Cell \u001b[0;32mIn[18], line 16\u001b[0m\n\u001b[1;32m     14\u001b[0m \u001b[38;5;28mprint\u001b[39m(\u001b[38;5;124m\"\u001b[39m\u001b[38;5;130;01m\\n\u001b[39;00m\u001b[38;5;124m=== Synthetic Data Quality Report ===\u001b[39m\u001b[38;5;124m\"\u001b[39m)\n\u001b[1;32m     15\u001b[0m \u001b[38;5;28mprint\u001b[39m(\u001b[38;5;124mf\u001b[39m\u001b[38;5;124m\"\u001b[39m\u001b[38;5;124mOverall Quality Score: \u001b[39m\u001b[38;5;132;01m{\u001b[39;00mquality_report\u001b[38;5;241m.\u001b[39mget_score()\u001b[38;5;132;01m:\u001b[39;00m\u001b[38;5;124m.3f\u001b[39m\u001b[38;5;132;01m}\u001b[39;00m\u001b[38;5;124m\"\u001b[39m)\n\u001b[0;32m---> 16\u001b[0m \u001b[38;5;28mprint\u001b[39m(\u001b[43mquality_report\u001b[49m\u001b[38;5;241;43m.\u001b[39;49m\u001b[43mget_details\u001b[49m\u001b[43m(\u001b[49m\u001b[43m)\u001b[49m)\n",
      "\u001b[0;31mTypeError\u001b[0m: BaseReport.get_details() missing 1 required positional argument: 'property_name'"
     ]
    }
   ],
   "source": [
    "from sdv.evaluation.single_table import evaluate_quality\n",
    "\n",
    "# Use only the fraud data as base (real vs synthetic fraud)\n",
    "synthetic_data = final_synthetic_df.copy()\n",
    "\n",
    "# Evaluate\n",
    "quality_report = evaluate_quality(\n",
    "    real_data=df_fraud,\n",
    "    synthetic_data=synthetic_data,\n",
    "    metadata=metadata  # Use the last valid metadata or recreate it with all fraud columns\n",
    ")\n",
    "\n",
    "# Print score summary\n",
    "print(\"\\n=== Synthetic Data Quality Report ===\")\n",
    "print(f\"Overall Quality Score: {quality_report.get_score():.3f}\")\n",
    "print(quality_report.get_details())\n"
   ]
  }
 ],
 "metadata": {
  "language_info": {
   "name": "python"
  }
 },
 "nbformat": 4,
 "nbformat_minor": 2
}
